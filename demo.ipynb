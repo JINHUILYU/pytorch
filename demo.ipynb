{
 "cells": [
  {
   "cell_type": "code",
   "outputs": [],
   "source": [
    "# Cuda测试\n",
    "import torch\n",
    "\n",
    "print(torch.__version__)\n",
    "print(torch.cuda.is_available())\n",
    "print(torch.cuda.device(0))\n",
    "print(torch.cuda.device_count())\n",
    "print(torch.cuda.get_device_name(0))"
   ],
   "metadata": {
    "collapsed": false
   },
   "id": "cf0bddd01db5c3fd",
   "execution_count": null
  },
  {
   "cell_type": "code",
   "outputs": [],
   "source": [
    "import torch\n",
    "import torchvision\n",
    "from tqdm import tqdm\n",
    "import matplotlib.pyplot\n",
    "\n",
    "#如果网络能在GPU中训练，就使用GPU；否则使用CPU进行训练\n",
    "device = \"cuda:0\" if torch.cuda.is_available() else \"cpu\"\n",
    "\n",
    "#这个函数包括了两个操作：将图片转换为张量，以及将图片进行归一化处理\n",
    "transform = torchvision.transforms.Compose([torchvision.transforms.ToTensor(),\n",
    "                                            torchvision.transforms.Normalize(mean=[0.5], std=[0.5])])\n",
    "\n",
    "# 构建数据集\n",
    "path = './data/'  #数据集下载后保存的目录\n",
    "\n",
    "#下载训练集和测试集\n",
    "trainData = torchvision.datasets.MNIST(path, train=True, transform=transform, download=True)\n",
    "testData = torchvision.datasets.MNIST(path, train=False, transform=transform, download=True)\n",
    "\n",
    "#设定每一个Batch的大小\n",
    "BATCH_SIZE = 256\n",
    "\n",
    "#构建数据集和测试集的DataLoader\n",
    "trainDataLoader = torch.utils.data.DataLoader(dataset=trainData, batch_size=BATCH_SIZE, shuffle=True)\n",
    "testDataLoader = torch.utils.data.DataLoader(dataset=testData, batch_size=BATCH_SIZE)"
   ],
   "metadata": {
    "collapsed": false
   },
   "id": "1df2b63b79145e9e",
   "execution_count": null
  },
  {
   "cell_type": "code",
   "outputs": [],
   "source": [
    "# 构建模型\n",
    "class Net(torch.nn.Module):\n",
    "    def __init__(self):\n",
    "        super(Net, self).__init__()\n",
    "        self.model = torch.nn.Sequential(\n",
    "            #The size of the picture is 28x28\n",
    "            torch.nn.Conv2d(in_channels=1, out_channels=16, kernel_size=3, stride=1, padding=1),\n",
    "            torch.nn.ReLU(),\n",
    "            torch.nn.MaxPool2d(kernel_size=2, stride=2),\n",
    "\n",
    "            #The size of the picture is 14x14\n",
    "            torch.nn.Conv2d(in_channels=16, out_channels=32, kernel_size=3, stride=1, padding=1),\n",
    "            torch.nn.ReLU(),\n",
    "            torch.nn.MaxPool2d(kernel_size=2, stride=2),\n",
    "\n",
    "            #The size of the picture is 7x7\n",
    "            torch.nn.Conv2d(in_channels=32, out_channels=64, kernel_size=3, stride=1, padding=1),\n",
    "            torch.nn.ReLU(),\n",
    "\n",
    "            torch.nn.Flatten(),\n",
    "            torch.nn.Linear(in_features=7 * 7 * 64, out_features=128),\n",
    "            torch.nn.ReLU(),\n",
    "            torch.nn.Linear(in_features=128, out_features=10),\n",
    "            torch.nn.Softmax(dim=1)\n",
    "        )\n",
    "\n",
    "    def forward(self, input):\n",
    "        output = self.model(input)\n",
    "        return output"
   ],
   "metadata": {
    "collapsed": false
   },
   "id": "bdb1fededfe37173",
   "execution_count": null
  },
  {
   "cell_type": "code",
   "outputs": [],
   "source": [
    "# 创建模型实例\n",
    "net = Net()\n",
    "print(net.to(device))"
   ],
   "metadata": {
    "collapsed": false
   },
   "id": "43160666507125d1",
   "execution_count": null
  },
  {
   "cell_type": "code",
   "outputs": [],
   "source": [
    "# 创建损失函数和优化器\n",
    "lossF = torch.nn.CrossEntropyLoss()\n",
    "optimizer = torch.optim.Adam(net.parameters())"
   ],
   "metadata": {
    "collapsed": false
   },
   "id": "f61e570f53f79a3f",
   "execution_count": null
  },
  {
   "cell_type": "code",
   "outputs": [],
   "source": [
    "# 训练模型\n",
    "EPOCHS = 10\n",
    "history = {'Test Loss': [], 'Test Accuracy': []}\n",
    "for epoch in range(1, EPOCHS + 1):\n",
    "    # 创建tqdm进度条\n",
    "    processBar = tqdm(trainDataLoader, unit='step')\n",
    "    # 设置模型为训练模式\n",
    "    net.train(True)\n",
    "    # 开始对训练集的DataLoader进行迭代\n",
    "    for step, (trainImgs, labels) in enumerate(processBar):\n",
    "        # 将图像和标签传输进device中\n",
    "        trainImgs = trainImgs.to(device)\n",
    "        labels = labels.to(device)\n",
    "        # 梯度清零\n",
    "        net.zero_grad()\n",
    "        # 前向传播\n",
    "        outputs = net(trainImgs)\n",
    "        # 计算损失\n",
    "        loss = lossF(outputs, labels)\n",
    "        # 计算准确率\n",
    "        predictions = torch.argmax(outputs, dim=1)\n",
    "        accuracy = torch.sum(predictions == labels) / labels.shape[0]\n",
    "        # 反向传播\n",
    "        loss.backward()\n",
    "        # 更新参数\n",
    "        optimizer.step()\n",
    "        # 更新进度条\n",
    "        processBar.set_description(\"[%d/%d] Loss: %.4f, Acc: %.4f\" %\n",
    "                                   (epoch, EPOCHS, loss.item(), accuracy.item()))\n",
    "\n",
    "        if step == len(processBar) - 1:\n",
    "            correct, totalLoss = 0, 0\n",
    "            # 设置模型为评估模式\n",
    "            net.train(False)\n",
    "\n",
    "            with torch.no_grad():\n",
    "                for testImgs, labels in testDataLoader:\n",
    "                    testImgs = testImgs.to(device)\n",
    "                    labels = labels.to(device)\n",
    "                    outputs = net(testImgs)\n",
    "                    loss = lossF(outputs, labels)\n",
    "                    predictions = torch.argmax(outputs, dim=1)\n",
    "\n",
    "                    totalLoss += loss\n",
    "                    correct += torch.sum(predictions == labels)\n",
    "\n",
    "                    testAccuracy = correct / (BATCH_SIZE * len(testDataLoader))\n",
    "                    testLoss = totalLoss / len(testDataLoader)\n",
    "                    history['Test Loss'].append(testLoss.item())\n",
    "                    history['Test Accuracy'].append(testAccuracy.item())\n",
    "\n",
    "            processBar.set_description(\"[%d/%d] Loss: %.4f, Acc: %.4f, Test Loss: %.4f, Test Acc: %.4f\" %\n",
    "                                   (epoch, EPOCHS, loss.item(), accuracy.item(), testLoss.item(), testAccuracy.item()))\n",
    "    processBar.close()"
   ],
   "metadata": {
    "collapsed": false
   },
   "id": "ace2fad7655cab3b",
   "execution_count": null
  },
  {
   "cell_type": "code",
   "outputs": [],
   "source": [
    "# 绘制训练过程中的损失和准确率\n",
    "# 对loss和accuracy进行可视化\n",
    "import matplotlib.pyplot\n",
    "matplotlib.pyplot.plot(history['Test Loss'], label='Test Loss')\n",
    "matplotlib.pyplot.legend(loc='best')\n",
    "matplotlib.pyplot.grid(True)\n",
    "matplotlib.pyplot.xlabel('Epoch')\n",
    "matplotlib.pyplot.ylabel('Loss')\n",
    "matplotlib.pyplot.show()\n",
    "\n",
    "matplotlib.pyplot.plot(history['Test Accuracy'], color='red', label='Test Accuracy')\n",
    "matplotlib.pyplot.legend(loc='best')\n",
    "matplotlib.pyplot.grid(True)\n",
    "matplotlib.pyplot.xlabel('Epoch')\n",
    "matplotlib.pyplot.ylabel('Accuracy')\n",
    "matplotlib.pyplot.show()"
   ],
   "metadata": {
    "collapsed": false
   },
   "id": "9d839f33d4b900d5",
   "execution_count": null
  },
  {
   "cell_type": "code",
   "outputs": [],
   "source": [
    "# 读取手写数字图片并进行预测\n",
    "from PIL import Image\n",
    "image = Image.open('img.png')  # 替换为你的手写数字图片路径\n",
    "image = transform(image).unsqueeze(0)  # 添加批次维度\n",
    "output = net(image)\n",
    "print(output)"
   ],
   "metadata": {
    "collapsed": false
   },
   "id": "20ecc8c5a365dccb",
   "execution_count": null
  },
  {
   "cell_type": "code",
   "outputs": [],
   "source": [
    "torch.save(net, './model.pth')  # 保存模型"
   ],
   "metadata": {
    "collapsed": false
   },
   "id": "7ce4adfbd0fcc350"
  },
  {
   "cell_type": "code",
   "outputs": [],
   "source": [],
   "metadata": {
    "collapsed": false,
    "ExecuteTime": {
     "end_time": "2024-04-09T13:12:02.798901Z",
     "start_time": "2024-04-09T13:12:02.781548Z"
    }
   },
   "id": "a772cf57b56b4b19",
   "execution_count": 1
  }
 ],
 "metadata": {
  "kernelspec": {
   "display_name": "Python 3",
   "language": "python",
   "name": "python3"
  },
  "language_info": {
   "codemirror_mode": {
    "name": "ipython",
    "version": 2
   },
   "file_extension": ".py",
   "mimetype": "text/x-python",
   "name": "python",
   "nbconvert_exporter": "python",
   "pygments_lexer": "ipython2",
   "version": "2.7.6"
  }
 },
 "nbformat": 4,
 "nbformat_minor": 5
}
