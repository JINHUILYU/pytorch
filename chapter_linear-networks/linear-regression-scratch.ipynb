{
 "cells": [
  {
   "cell_type": "markdown",
   "id": "3b3e0a72",
   "metadata": {
    "origin_pos": 0
   },
   "source": [
    "# 线性回归的从零开始实现\n",
    ":label:`sec_linear_scratch`\n",
    "\n",
    "在了解线性回归的关键思想之后，我们可以开始通过代码来动手实现线性回归了。\n",
    "在这一节中，(**我们将从零开始实现整个方法，\n",
    "包括数据流水线、模型、损失函数和小批量随机梯度下降优化器**)。\n",
    "虽然现代的深度学习框架几乎可以自动化地进行所有这些工作，但从零开始实现可以确保我们真正知道自己在做什么。\n",
    "同时，了解更细致的工作原理将方便我们自定义模型、自定义层或自定义损失函数。\n",
    "在这一节中，我们将只使用张量和自动求导。\n",
    "在之后的章节中，我们会充分利用深度学习框架的优势，介绍更简洁的实现方式。\n"
   ]
  },
  {
   "cell_type": "code",
   "execution_count": 1,
   "id": "c6f4cd71",
   "metadata": {
    "execution": {
     "iopub.execute_input": "2023-08-18T07:02:01.462670Z",
     "iopub.status.busy": "2023-08-18T07:02:01.461918Z",
     "iopub.status.idle": "2023-08-18T07:02:04.547486Z",
     "shell.execute_reply": "2023-08-18T07:02:04.546281Z"
    },
    "origin_pos": 2,
    "tab": [
     "pytorch"
    ],
    "ExecuteTime": {
     "end_time": "2024-04-07T05:54:20.584142Z",
     "start_time": "2024-04-07T05:54:19.429904Z"
    }
   },
   "outputs": [],
   "source": [
    "%matplotlib inline\n",
    "import random\n",
    "import torch\n",
    "from d2l import torch as d2l"
   ]
  },
  {
   "cell_type": "markdown",
   "id": "18283191",
   "metadata": {
    "origin_pos": 5
   },
   "source": [
    "## 生成数据集\n",
    "\n",
    "为了简单起见，我们将[**根据带有噪声的线性模型构造一个人造数据集。**]\n",
    "我们的任务是使用这个有限样本的数据集来恢复这个模型的参数。\n",
    "我们将使用低维数据，这样可以很容易地将其可视化。\n",
    "在下面的代码中，我们生成一个包含1000个样本的数据集，\n",
    "每个样本包含从标准正态分布中采样的2个特征。\n",
    "我们的合成数据集是一个矩阵$\\mathbf{X}\\in \\mathbb{R}^{1000 \\times 2}$。\n",
    "\n",
    "(**我们使用线性模型参数$\\mathbf{w} = [2, -3.4]^\\top$、$b = 4.2$\n",
    "和噪声项$\\epsilon$生成数据集及其标签：\n",
    "\n",
    "$$\\mathbf{y}= \\mathbf{X} \\mathbf{w} + b + \\mathbf\\epsilon.$$\n",
    "**)\n",
    "\n",
    "$\\epsilon$可以视为模型预测和标签时的潜在观测误差。\n",
    "在这里我们认为标准假设成立，即$\\epsilon$服从均值为0的正态分布。\n",
    "为了简化问题，我们将标准差设为0.01。\n",
    "下面的代码生成合成数据集。\n"
   ]
  },
  {
   "cell_type": "code",
   "execution_count": 2,
   "id": "54efeafe",
   "metadata": {
    "execution": {
     "iopub.execute_input": "2023-08-18T07:02:04.553500Z",
     "iopub.status.busy": "2023-08-18T07:02:04.552544Z",
     "iopub.status.idle": "2023-08-18T07:02:04.560226Z",
     "shell.execute_reply": "2023-08-18T07:02:04.559125Z"
    },
    "origin_pos": 6,
    "tab": [
     "pytorch"
    ],
    "ExecuteTime": {
     "end_time": "2024-04-07T05:54:58.484126Z",
     "start_time": "2024-04-07T05:54:58.471057Z"
    }
   },
   "outputs": [],
   "source": [
    "# 构造数据集\n",
    "def synthetic_data(w, b, num_examples):  #@save\n",
    "    \"\"\"生成y=Xw+b+噪声\"\"\"\n",
    "    X = torch.normal(0, 1, (num_examples, len(w))) # X的形状为(num_examples, len(w))\n",
    "    y = torch.matmul(X, w) + b\n",
    "    y += torch.normal(0, 0.01, y.shape) # 噪声项\n",
    "    return X, y.reshape((-1, 1))  # y的形状转换为(num_examples, 1)，new shape等于-1，列数等于1，行数未知，reshape后的shape等于(num_examples, 1)"
   ]
  },
  {
   "cell_type": "code",
   "execution_count": 3,
   "id": "1e60261c",
   "metadata": {
    "execution": {
     "iopub.execute_input": "2023-08-18T07:02:04.564932Z",
     "iopub.status.busy": "2023-08-18T07:02:04.564190Z",
     "iopub.status.idle": "2023-08-18T07:02:04.575309Z",
     "shell.execute_reply": "2023-08-18T07:02:04.574216Z"
    },
    "origin_pos": 8,
    "tab": [
     "pytorch"
    ],
    "ExecuteTime": {
     "end_time": "2024-04-07T05:55:26.559882Z",
     "start_time": "2024-04-07T05:55:26.547850Z"
    }
   },
   "outputs": [],
   "source": [
    "true_w = torch.tensor([2, -3.4]) # 真实权重\n",
    "true_b = 4.2 # 真实偏置\n",
    "features, labels = synthetic_data(true_w, true_b, 1000) # 生成1000个样本"
   ]
  },
  {
   "cell_type": "markdown",
   "id": "772256cb",
   "metadata": {
    "origin_pos": 9
   },
   "source": [
    "注意，[**`features`中的每一行都包含一个二维数据样本，\n",
    "`labels`中的每一行都包含一维标签值（一个标量）**]。\n"
   ]
  },
  {
   "cell_type": "code",
   "execution_count": 4,
   "id": "ec13e4f8",
   "metadata": {
    "execution": {
     "iopub.execute_input": "2023-08-18T07:02:04.580067Z",
     "iopub.status.busy": "2023-08-18T07:02:04.579449Z",
     "iopub.status.idle": "2023-08-18T07:02:04.587391Z",
     "shell.execute_reply": "2023-08-18T07:02:04.586306Z"
    },
    "origin_pos": 10,
    "tab": [
     "pytorch"
    ],
    "ExecuteTime": {
     "end_time": "2024-04-07T05:55:54.509290Z",
     "start_time": "2024-04-07T05:55:54.503826Z"
    }
   },
   "outputs": [
    {
     "name": "stdout",
     "output_type": "stream",
     "text": [
      "features: tensor([ 1.5680, -1.7310]) \n",
      "label: tensor([13.2093])\n"
     ]
    }
   ],
   "source": [
    "print('features:', features[0],'\\nlabel:', labels[0])"
   ]
  },
  {
   "cell_type": "markdown",
   "id": "6b8c624b",
   "metadata": {
    "origin_pos": 11
   },
   "source": [
    "通过生成第二个特征`features[:, 1]`和`labels`的散点图，\n",
    "可以直观观察到两者之间的线性关系。\n"
   ]
  },
  {
   "cell_type": "code",
   "execution_count": 5,
   "id": "53ef493c",
   "metadata": {
    "execution": {
     "iopub.execute_input": "2023-08-18T07:02:04.592131Z",
     "iopub.status.busy": "2023-08-18T07:02:04.591402Z",
     "iopub.status.idle": "2023-08-18T07:02:04.829190Z",
     "shell.execute_reply": "2023-08-18T07:02:04.827927Z"
    },
    "origin_pos": 12,
    "tab": [
     "pytorch"
    ],
    "ExecuteTime": {
     "end_time": "2024-04-07T05:56:43.105242Z",
     "start_time": "2024-04-07T05:56:43.029728Z"
    }
   },
   "outputs": [
    {
     "data": {
      "text/plain": "<Figure size 350x250 with 1 Axes>",
      "image/svg+xml": "<?xml version=\"1.0\" encoding=\"utf-8\" standalone=\"no\"?>\n<!DOCTYPE svg PUBLIC \"-//W3C//DTD SVG 1.1//EN\"\n  \"http://www.w3.org/Graphics/SVG/1.1/DTD/svg11.dtd\">\n<svg xmlns:xlink=\"http://www.w3.org/1999/xlink\" width=\"231.442187pt\" height=\"169.678125pt\" viewBox=\"0 0 231.442187 169.678125\" xmlns=\"http://www.w3.org/2000/svg\" version=\"1.1\">\n <metadata>\n  <rdf:RDF xmlns:dc=\"http://purl.org/dc/elements/1.1/\" xmlns:cc=\"http://creativecommons.org/ns#\" xmlns:rdf=\"http://www.w3.org/1999/02/22-rdf-syntax-ns#\">\n   <cc:Work>\n    <dc:type rdf:resource=\"http://purl.org/dc/dcmitype/StillImage\"/>\n    <dc:date>2024-04-07T13:56:43.073375</dc:date>\n    <dc:format>image/svg+xml</dc:format>\n    <dc:creator>\n     <cc:Agent>\n      <dc:title>Matplotlib v3.5.1, https://matplotlib.org/</dc:title>\n     </cc:Agent>\n    </dc:creator>\n   </cc:Work>\n  </rdf:RDF>\n </metadata>\n <defs>\n  <style type=\"text/css\">*{stroke-linejoin: round; stroke-linecap: butt}</style>\n </defs>\n <g id=\"figure_1\">\n  <g id=\"patch_1\">\n   <path d=\"M 0 169.678125 \nL 231.442187 169.678125 \nL 231.442187 0 \nL 0 0 \nz\n\" style=\"fill: #ffffff\"/>\n  </g>\n  <g id=\"axes_1\">\n   <g id=\"patch_2\">\n    <path d=\"M 28.942188 145.8 \nL 224.242188 145.8 \nL 224.242188 7.2 \nL 28.942188 7.2 \nz\n\" style=\"fill: #ffffff\"/>\n   </g>\n   <g id=\"PathCollection_1\">\n    <defs>\n     <path id=\"ma77fd3e861\" d=\"M 0 0.5 \nC 0.132602 0.5 0.25979 0.447317 0.353553 0.353553 \nC 0.447317 0.25979 0.5 0.132602 0.5 0 \nC 0.5 -0.132602 0.447317 -0.25979 0.353553 -0.353553 \nC 0.25979 -0.447317 0.132602 -0.5 0 -0.5 \nC -0.132602 -0.5 -0.25979 -0.447317 -0.353553 -0.353553 \nC -0.447317 -0.25979 -0.5 -0.132602 -0.5 0 \nC -0.5 0.132602 -0.447317 0.25979 -0.353553 0.353553 \nC -0.25979 0.447317 -0.132602 0.5 0 0.5 \nz\n\" style=\"stroke: #1f77b4\"/>\n    </defs>\n    <g clip-path=\"url(#p6c1405f952)\">\n     <use xlink:href=\"#ma77fd3e861\" x=\"73.49143\" y=\"27.259459\" style=\"fill: #1f77b4; stroke: #1f77b4\"/>\n     <use xlink:href=\"#ma77fd3e861\" x=\"101.562768\" y=\"54.082752\" style=\"fill: #1f77b4; stroke: #1f77b4\"/>\n     <use xlink:href=\"#ma77fd3e861\" x=\"123.709805\" y=\"56.797224\" style=\"fill: #1f77b4; stroke: #1f77b4\"/>\n     <use xlink:href=\"#ma77fd3e861\" x=\"151.034795\" y=\"85.761383\" style=\"fill: #1f77b4; stroke: #1f77b4\"/>\n     <use xlink:href=\"#ma77fd3e861\" x=\"129.955151\" y=\"68.600972\" style=\"fill: #1f77b4; stroke: #1f77b4\"/>\n     <use xlink:href=\"#ma77fd3e861\" x=\"88.056903\" y=\"47.986734\" style=\"fill: #1f77b4; stroke: #1f77b4\"/>\n     <use xlink:href=\"#ma77fd3e861\" x=\"170.463209\" y=\"105.760692\" style=\"fill: #1f77b4; stroke: #1f77b4\"/>\n     <use xlink:href=\"#ma77fd3e861\" x=\"79.378005\" y=\"58.407202\" style=\"fill: #1f77b4; stroke: #1f77b4\"/>\n     <use xlink:href=\"#ma77fd3e861\" x=\"120.891343\" y=\"73.277453\" style=\"fill: #1f77b4; stroke: #1f77b4\"/>\n     <use xlink:href=\"#ma77fd3e861\" x=\"175.385581\" y=\"101.30679\" style=\"fill: #1f77b4; stroke: #1f77b4\"/>\n     <use xlink:href=\"#ma77fd3e861\" x=\"132.900689\" y=\"72.56691\" style=\"fill: #1f77b4; stroke: #1f77b4\"/>\n     <use xlink:href=\"#ma77fd3e861\" x=\"155.631366\" y=\"77.420395\" style=\"fill: #1f77b4; stroke: #1f77b4\"/>\n     <use xlink:href=\"#ma77fd3e861\" x=\"95.596538\" y=\"51.858096\" style=\"fill: #1f77b4; stroke: #1f77b4\"/>\n     <use xlink:href=\"#ma77fd3e861\" x=\"124.366357\" y=\"67.510802\" style=\"fill: #1f77b4; stroke: #1f77b4\"/>\n     <use xlink:href=\"#ma77fd3e861\" x=\"148.360802\" y=\"81.271767\" style=\"fill: #1f77b4; stroke: #1f77b4\"/>\n     <use xlink:href=\"#ma77fd3e861\" x=\"170.980928\" y=\"115.014216\" style=\"fill: #1f77b4; stroke: #1f77b4\"/>\n     <use xlink:href=\"#ma77fd3e861\" x=\"117.531839\" y=\"57.24361\" style=\"fill: #1f77b4; stroke: #1f77b4\"/>\n     <use xlink:href=\"#ma77fd3e861\" x=\"114.76834\" y=\"61.576714\" style=\"fill: #1f77b4; stroke: #1f77b4\"/>\n     <use xlink:href=\"#ma77fd3e861\" x=\"137.823323\" y=\"98.406094\" style=\"fill: #1f77b4; stroke: #1f77b4\"/>\n     <use xlink:href=\"#ma77fd3e861\" x=\"101.575448\" y=\"55.89728\" style=\"fill: #1f77b4; stroke: #1f77b4\"/>\n     <use xlink:href=\"#ma77fd3e861\" x=\"173.821198\" y=\"111.555283\" style=\"fill: #1f77b4; stroke: #1f77b4\"/>\n     <use xlink:href=\"#ma77fd3e861\" x=\"157.073813\" y=\"90.203611\" style=\"fill: #1f77b4; stroke: #1f77b4\"/>\n     <use xlink:href=\"#ma77fd3e861\" x=\"169.801406\" y=\"105.793873\" style=\"fill: #1f77b4; stroke: #1f77b4\"/>\n     <use xlink:href=\"#ma77fd3e861\" x=\"91.53568\" y=\"68.829468\" style=\"fill: #1f77b4; stroke: #1f77b4\"/>\n     <use xlink:href=\"#ma77fd3e861\" x=\"117.32709\" y=\"59.67448\" style=\"fill: #1f77b4; stroke: #1f77b4\"/>\n     <use xlink:href=\"#ma77fd3e861\" x=\"98.523386\" y=\"48.363658\" style=\"fill: #1f77b4; stroke: #1f77b4\"/>\n     <use xlink:href=\"#ma77fd3e861\" x=\"170.935285\" y=\"110.882431\" style=\"fill: #1f77b4; stroke: #1f77b4\"/>\n     <use xlink:href=\"#ma77fd3e861\" x=\"143.907956\" y=\"79.157727\" style=\"fill: #1f77b4; stroke: #1f77b4\"/>\n     <use xlink:href=\"#ma77fd3e861\" x=\"158.501472\" y=\"71.817632\" style=\"fill: #1f77b4; stroke: #1f77b4\"/>\n     <use xlink:href=\"#ma77fd3e861\" x=\"147.00457\" y=\"87.85864\" style=\"fill: #1f77b4; stroke: #1f77b4\"/>\n     <use xlink:href=\"#ma77fd3e861\" x=\"96.733277\" y=\"39.697455\" style=\"fill: #1f77b4; stroke: #1f77b4\"/>\n     <use xlink:href=\"#ma77fd3e861\" x=\"100.507764\" y=\"78.89316\" style=\"fill: #1f77b4; stroke: #1f77b4\"/>\n     <use xlink:href=\"#ma77fd3e861\" x=\"78.582162\" y=\"42.468423\" style=\"fill: #1f77b4; stroke: #1f77b4\"/>\n     <use xlink:href=\"#ma77fd3e861\" x=\"135.485745\" y=\"80.082655\" style=\"fill: #1f77b4; stroke: #1f77b4\"/>\n     <use xlink:href=\"#ma77fd3e861\" x=\"107.718762\" y=\"54.709631\" style=\"fill: #1f77b4; stroke: #1f77b4\"/>\n     <use xlink:href=\"#ma77fd3e861\" x=\"132.329641\" y=\"65.250918\" style=\"fill: #1f77b4; stroke: #1f77b4\"/>\n     <use xlink:href=\"#ma77fd3e861\" x=\"111.475174\" y=\"77.100696\" style=\"fill: #1f77b4; stroke: #1f77b4\"/>\n     <use xlink:href=\"#ma77fd3e861\" x=\"177.512221\" y=\"112.091771\" style=\"fill: #1f77b4; stroke: #1f77b4\"/>\n     <use xlink:href=\"#ma77fd3e861\" x=\"145.862556\" y=\"108.167128\" style=\"fill: #1f77b4; stroke: #1f77b4\"/>\n     <use xlink:href=\"#ma77fd3e861\" x=\"117.869661\" y=\"75.956811\" style=\"fill: #1f77b4; stroke: #1f77b4\"/>\n     <use xlink:href=\"#ma77fd3e861\" x=\"88.867847\" y=\"59.822002\" style=\"fill: #1f77b4; stroke: #1f77b4\"/>\n     <use xlink:href=\"#ma77fd3e861\" x=\"104.073195\" y=\"36.900213\" style=\"fill: #1f77b4; stroke: #1f77b4\"/>\n     <use xlink:href=\"#ma77fd3e861\" x=\"148.370296\" y=\"83.087244\" style=\"fill: #1f77b4; stroke: #1f77b4\"/>\n     <use xlink:href=\"#ma77fd3e861\" x=\"96.90617\" y=\"59.203753\" style=\"fill: #1f77b4; stroke: #1f77b4\"/>\n     <use xlink:href=\"#ma77fd3e861\" x=\"174.920336\" y=\"127.282699\" style=\"fill: #1f77b4; stroke: #1f77b4\"/>\n     <use xlink:href=\"#ma77fd3e861\" x=\"132.412517\" y=\"88.739658\" style=\"fill: #1f77b4; stroke: #1f77b4\"/>\n     <use xlink:href=\"#ma77fd3e861\" x=\"81.977808\" y=\"68.110436\" style=\"fill: #1f77b4; stroke: #1f77b4\"/>\n     <use xlink:href=\"#ma77fd3e861\" x=\"140.744275\" y=\"106.889575\" style=\"fill: #1f77b4; stroke: #1f77b4\"/>\n     <use xlink:href=\"#ma77fd3e861\" x=\"202.231524\" y=\"125.050596\" style=\"fill: #1f77b4; stroke: #1f77b4\"/>\n     <use xlink:href=\"#ma77fd3e861\" x=\"98.254706\" y=\"72.110377\" style=\"fill: #1f77b4; stroke: #1f77b4\"/>\n     <use xlink:href=\"#ma77fd3e861\" x=\"72.094252\" y=\"32.68166\" style=\"fill: #1f77b4; stroke: #1f77b4\"/>\n     <use xlink:href=\"#ma77fd3e861\" x=\"66.414502\" y=\"46.820188\" style=\"fill: #1f77b4; stroke: #1f77b4\"/>\n     <use xlink:href=\"#ma77fd3e861\" x=\"162.934216\" y=\"90.942771\" style=\"fill: #1f77b4; stroke: #1f77b4\"/>\n     <use xlink:href=\"#ma77fd3e861\" x=\"198.767287\" y=\"113.807051\" style=\"fill: #1f77b4; stroke: #1f77b4\"/>\n     <use xlink:href=\"#ma77fd3e861\" x=\"95.259541\" y=\"53.223425\" style=\"fill: #1f77b4; stroke: #1f77b4\"/>\n     <use xlink:href=\"#ma77fd3e861\" x=\"127.080318\" y=\"63.222248\" style=\"fill: #1f77b4; stroke: #1f77b4\"/>\n     <use xlink:href=\"#ma77fd3e861\" x=\"109.927972\" y=\"63.410539\" style=\"fill: #1f77b4; stroke: #1f77b4\"/>\n     <use xlink:href=\"#ma77fd3e861\" x=\"153.63043\" y=\"109.698222\" style=\"fill: #1f77b4; stroke: #1f77b4\"/>\n     <use xlink:href=\"#ma77fd3e861\" x=\"136.115842\" y=\"93.835812\" style=\"fill: #1f77b4; stroke: #1f77b4\"/>\n     <use xlink:href=\"#ma77fd3e861\" x=\"117.569019\" y=\"66.424196\" style=\"fill: #1f77b4; stroke: #1f77b4\"/>\n     <use xlink:href=\"#ma77fd3e861\" x=\"99.985925\" y=\"68.422389\" style=\"fill: #1f77b4; stroke: #1f77b4\"/>\n     <use xlink:href=\"#ma77fd3e861\" x=\"143.939684\" y=\"81.574646\" style=\"fill: #1f77b4; stroke: #1f77b4\"/>\n     <use xlink:href=\"#ma77fd3e861\" x=\"113.009186\" y=\"64.885822\" style=\"fill: #1f77b4; stroke: #1f77b4\"/>\n     <use xlink:href=\"#ma77fd3e861\" x=\"147.182335\" y=\"66.080825\" style=\"fill: #1f77b4; stroke: #1f77b4\"/>\n     <use xlink:href=\"#ma77fd3e861\" x=\"181.873639\" y=\"110.60637\" style=\"fill: #1f77b4; stroke: #1f77b4\"/>\n     <use xlink:href=\"#ma77fd3e861\" x=\"138.557003\" y=\"71.538153\" style=\"fill: #1f77b4; stroke: #1f77b4\"/>\n     <use xlink:href=\"#ma77fd3e861\" x=\"111.650763\" y=\"59.338939\" style=\"fill: #1f77b4; stroke: #1f77b4\"/>\n     <use xlink:href=\"#ma77fd3e861\" x=\"177.968456\" y=\"121.558773\" style=\"fill: #1f77b4; stroke: #1f77b4\"/>\n     <use xlink:href=\"#ma77fd3e861\" x=\"175.896306\" y=\"108.73512\" style=\"fill: #1f77b4; stroke: #1f77b4\"/>\n     <use xlink:href=\"#ma77fd3e861\" x=\"123.199869\" y=\"77.615483\" style=\"fill: #1f77b4; stroke: #1f77b4\"/>\n     <use xlink:href=\"#ma77fd3e861\" x=\"170.391141\" y=\"105.263847\" style=\"fill: #1f77b4; stroke: #1f77b4\"/>\n     <use xlink:href=\"#ma77fd3e861\" x=\"90.821308\" y=\"59.630695\" style=\"fill: #1f77b4; stroke: #1f77b4\"/>\n     <use xlink:href=\"#ma77fd3e861\" x=\"163.503409\" y=\"102.382501\" style=\"fill: #1f77b4; stroke: #1f77b4\"/>\n     <use xlink:href=\"#ma77fd3e861\" x=\"124.377998\" y=\"86.441567\" style=\"fill: #1f77b4; stroke: #1f77b4\"/>\n     <use xlink:href=\"#ma77fd3e861\" x=\"128.926902\" y=\"73.35777\" style=\"fill: #1f77b4; stroke: #1f77b4\"/>\n     <use xlink:href=\"#ma77fd3e861\" x=\"155.06849\" y=\"108.712585\" style=\"fill: #1f77b4; stroke: #1f77b4\"/>\n     <use xlink:href=\"#ma77fd3e861\" x=\"113.31784\" y=\"72.736783\" style=\"fill: #1f77b4; stroke: #1f77b4\"/>\n     <use xlink:href=\"#ma77fd3e861\" x=\"111.1195\" y=\"68.562965\" style=\"fill: #1f77b4; stroke: #1f77b4\"/>\n     <use xlink:href=\"#ma77fd3e861\" x=\"79.481124\" y=\"39.047247\" style=\"fill: #1f77b4; stroke: #1f77b4\"/>\n     <use xlink:href=\"#ma77fd3e861\" x=\"85.301681\" y=\"34.249382\" style=\"fill: #1f77b4; stroke: #1f77b4\"/>\n     <use xlink:href=\"#ma77fd3e861\" x=\"160.42362\" y=\"96.454881\" style=\"fill: #1f77b4; stroke: #1f77b4\"/>\n     <use xlink:href=\"#ma77fd3e861\" x=\"95.187651\" y=\"60.886023\" style=\"fill: #1f77b4; stroke: #1f77b4\"/>\n     <use xlink:href=\"#ma77fd3e861\" x=\"121.502646\" y=\"69.420971\" style=\"fill: #1f77b4; stroke: #1f77b4\"/>\n     <use xlink:href=\"#ma77fd3e861\" x=\"109.978908\" y=\"39.468385\" style=\"fill: #1f77b4; stroke: #1f77b4\"/>\n     <use xlink:href=\"#ma77fd3e861\" x=\"142.577291\" y=\"83.386139\" style=\"fill: #1f77b4; stroke: #1f77b4\"/>\n     <use xlink:href=\"#ma77fd3e861\" x=\"149.385696\" y=\"104.223597\" style=\"fill: #1f77b4; stroke: #1f77b4\"/>\n     <use xlink:href=\"#ma77fd3e861\" x=\"135.053954\" y=\"80.209792\" style=\"fill: #1f77b4; stroke: #1f77b4\"/>\n     <use xlink:href=\"#ma77fd3e861\" x=\"169.927282\" y=\"104.843315\" style=\"fill: #1f77b4; stroke: #1f77b4\"/>\n     <use xlink:href=\"#ma77fd3e861\" x=\"141.740996\" y=\"93.761271\" style=\"fill: #1f77b4; stroke: #1f77b4\"/>\n     <use xlink:href=\"#ma77fd3e861\" x=\"131.391365\" y=\"87.65159\" style=\"fill: #1f77b4; stroke: #1f77b4\"/>\n     <use xlink:href=\"#ma77fd3e861\" x=\"168.776647\" y=\"103.895129\" style=\"fill: #1f77b4; stroke: #1f77b4\"/>\n     <use xlink:href=\"#ma77fd3e861\" x=\"78.544914\" y=\"49.128506\" style=\"fill: #1f77b4; stroke: #1f77b4\"/>\n     <use xlink:href=\"#ma77fd3e861\" x=\"152.372503\" y=\"81.751501\" style=\"fill: #1f77b4; stroke: #1f77b4\"/>\n     <use xlink:href=\"#ma77fd3e861\" x=\"164.538666\" y=\"115.164425\" style=\"fill: #1f77b4; stroke: #1f77b4\"/>\n     <use xlink:href=\"#ma77fd3e861\" x=\"62.553542\" y=\"45.164386\" style=\"fill: #1f77b4; stroke: #1f77b4\"/>\n     <use xlink:href=\"#ma77fd3e861\" x=\"120.942871\" y=\"86.322303\" style=\"fill: #1f77b4; stroke: #1f77b4\"/>\n     <use xlink:href=\"#ma77fd3e861\" x=\"152.493506\" y=\"98.308907\" style=\"fill: #1f77b4; stroke: #1f77b4\"/>\n     <use xlink:href=\"#ma77fd3e861\" x=\"115.319445\" y=\"70.397088\" style=\"fill: #1f77b4; stroke: #1f77b4\"/>\n     <use xlink:href=\"#ma77fd3e861\" x=\"89.138534\" y=\"78.774225\" style=\"fill: #1f77b4; stroke: #1f77b4\"/>\n     <use xlink:href=\"#ma77fd3e861\" x=\"161.077702\" y=\"87.551854\" style=\"fill: #1f77b4; stroke: #1f77b4\"/>\n     <use xlink:href=\"#ma77fd3e861\" x=\"136.872061\" y=\"82.546725\" style=\"fill: #1f77b4; stroke: #1f77b4\"/>\n     <use xlink:href=\"#ma77fd3e861\" x=\"91.983926\" y=\"46.078241\" style=\"fill: #1f77b4; stroke: #1f77b4\"/>\n     <use xlink:href=\"#ma77fd3e861\" x=\"187.802209\" y=\"121.159887\" style=\"fill: #1f77b4; stroke: #1f77b4\"/>\n     <use xlink:href=\"#ma77fd3e861\" x=\"134.120405\" y=\"97.609866\" style=\"fill: #1f77b4; stroke: #1f77b4\"/>\n     <use xlink:href=\"#ma77fd3e861\" x=\"197.791464\" y=\"105.622893\" style=\"fill: #1f77b4; stroke: #1f77b4\"/>\n     <use xlink:href=\"#ma77fd3e861\" x=\"111.34277\" y=\"59.001615\" style=\"fill: #1f77b4; stroke: #1f77b4\"/>\n     <use xlink:href=\"#ma77fd3e861\" x=\"152.978133\" y=\"95.356947\" style=\"fill: #1f77b4; stroke: #1f77b4\"/>\n     <use xlink:href=\"#ma77fd3e861\" x=\"98.723518\" y=\"62.933939\" style=\"fill: #1f77b4; stroke: #1f77b4\"/>\n     <use xlink:href=\"#ma77fd3e861\" x=\"175.850201\" y=\"117.413602\" style=\"fill: #1f77b4; stroke: #1f77b4\"/>\n     <use xlink:href=\"#ma77fd3e861\" x=\"140.247063\" y=\"95.038813\" style=\"fill: #1f77b4; stroke: #1f77b4\"/>\n     <use xlink:href=\"#ma77fd3e861\" x=\"111.953804\" y=\"70.696095\" style=\"fill: #1f77b4; stroke: #1f77b4\"/>\n     <use xlink:href=\"#ma77fd3e861\" x=\"126.725909\" y=\"63.294481\" style=\"fill: #1f77b4; stroke: #1f77b4\"/>\n     <use xlink:href=\"#ma77fd3e861\" x=\"76.445343\" y=\"62.795331\" style=\"fill: #1f77b4; stroke: #1f77b4\"/>\n     <use xlink:href=\"#ma77fd3e861\" x=\"122.94565\" y=\"73.525434\" style=\"fill: #1f77b4; stroke: #1f77b4\"/>\n     <use xlink:href=\"#ma77fd3e861\" x=\"165.725591\" y=\"93.284849\" style=\"fill: #1f77b4; stroke: #1f77b4\"/>\n     <use xlink:href=\"#ma77fd3e861\" x=\"79.772815\" y=\"27.348854\" style=\"fill: #1f77b4; stroke: #1f77b4\"/>\n     <use xlink:href=\"#ma77fd3e861\" x=\"155.212195\" y=\"89.318618\" style=\"fill: #1f77b4; stroke: #1f77b4\"/>\n     <use xlink:href=\"#ma77fd3e861\" x=\"87.176311\" y=\"42.414083\" style=\"fill: #1f77b4; stroke: #1f77b4\"/>\n     <use xlink:href=\"#ma77fd3e861\" x=\"118.807905\" y=\"62.78381\" style=\"fill: #1f77b4; stroke: #1f77b4\"/>\n     <use xlink:href=\"#ma77fd3e861\" x=\"143.344116\" y=\"100.729425\" style=\"fill: #1f77b4; stroke: #1f77b4\"/>\n     <use xlink:href=\"#ma77fd3e861\" x=\"110.462652\" y=\"55.3129\" style=\"fill: #1f77b4; stroke: #1f77b4\"/>\n     <use xlink:href=\"#ma77fd3e861\" x=\"140.884007\" y=\"89.398438\" style=\"fill: #1f77b4; stroke: #1f77b4\"/>\n     <use xlink:href=\"#ma77fd3e861\" x=\"139.912688\" y=\"72.797018\" style=\"fill: #1f77b4; stroke: #1f77b4\"/>\n     <use xlink:href=\"#ma77fd3e861\" x=\"113.799918\" y=\"56.320334\" style=\"fill: #1f77b4; stroke: #1f77b4\"/>\n     <use xlink:href=\"#ma77fd3e861\" x=\"146.681844\" y=\"106.310914\" style=\"fill: #1f77b4; stroke: #1f77b4\"/>\n     <use xlink:href=\"#ma77fd3e861\" x=\"158.294395\" y=\"115.835199\" style=\"fill: #1f77b4; stroke: #1f77b4\"/>\n     <use xlink:href=\"#ma77fd3e861\" x=\"142.88601\" y=\"84.396523\" style=\"fill: #1f77b4; stroke: #1f77b4\"/>\n     <use xlink:href=\"#ma77fd3e861\" x=\"205.425937\" y=\"127.924117\" style=\"fill: #1f77b4; stroke: #1f77b4\"/>\n     <use xlink:href=\"#ma77fd3e861\" x=\"93.160402\" y=\"61.440417\" style=\"fill: #1f77b4; stroke: #1f77b4\"/>\n     <use xlink:href=\"#ma77fd3e861\" x=\"166.520089\" y=\"98.281547\" style=\"fill: #1f77b4; stroke: #1f77b4\"/>\n     <use xlink:href=\"#ma77fd3e861\" x=\"171.185037\" y=\"84.321505\" style=\"fill: #1f77b4; stroke: #1f77b4\"/>\n     <use xlink:href=\"#ma77fd3e861\" x=\"157.265321\" y=\"105.574056\" style=\"fill: #1f77b4; stroke: #1f77b4\"/>\n     <use xlink:href=\"#ma77fd3e861\" x=\"123.852286\" y=\"88.618791\" style=\"fill: #1f77b4; stroke: #1f77b4\"/>\n     <use xlink:href=\"#ma77fd3e861\" x=\"159.507263\" y=\"105.594229\" style=\"fill: #1f77b4; stroke: #1f77b4\"/>\n     <use xlink:href=\"#ma77fd3e861\" x=\"169.424482\" y=\"106.207626\" style=\"fill: #1f77b4; stroke: #1f77b4\"/>\n     <use xlink:href=\"#ma77fd3e861\" x=\"167.71697\" y=\"95.951009\" style=\"fill: #1f77b4; stroke: #1f77b4\"/>\n     <use xlink:href=\"#ma77fd3e861\" x=\"117.072331\" y=\"67.298302\" style=\"fill: #1f77b4; stroke: #1f77b4\"/>\n     <use xlink:href=\"#ma77fd3e861\" x=\"119.26747\" y=\"71.183003\" style=\"fill: #1f77b4; stroke: #1f77b4\"/>\n     <use xlink:href=\"#ma77fd3e861\" x=\"146.244444\" y=\"102.554327\" style=\"fill: #1f77b4; stroke: #1f77b4\"/>\n     <use xlink:href=\"#ma77fd3e861\" x=\"124.394255\" y=\"71.621497\" style=\"fill: #1f77b4; stroke: #1f77b4\"/>\n     <use xlink:href=\"#ma77fd3e861\" x=\"152.29737\" y=\"78.558212\" style=\"fill: #1f77b4; stroke: #1f77b4\"/>\n     <use xlink:href=\"#ma77fd3e861\" x=\"184.809988\" y=\"89.706007\" style=\"fill: #1f77b4; stroke: #1f77b4\"/>\n     <use xlink:href=\"#ma77fd3e861\" x=\"138.829084\" y=\"98.345883\" style=\"fill: #1f77b4; stroke: #1f77b4\"/>\n     <use xlink:href=\"#ma77fd3e861\" x=\"142.477622\" y=\"82.808162\" style=\"fill: #1f77b4; stroke: #1f77b4\"/>\n     <use xlink:href=\"#ma77fd3e861\" x=\"105.637851\" y=\"61.660174\" style=\"fill: #1f77b4; stroke: #1f77b4\"/>\n     <use xlink:href=\"#ma77fd3e861\" x=\"166.360707\" y=\"93.894959\" style=\"fill: #1f77b4; stroke: #1f77b4\"/>\n     <use xlink:href=\"#ma77fd3e861\" x=\"113.723864\" y=\"85.630059\" style=\"fill: #1f77b4; stroke: #1f77b4\"/>\n     <use xlink:href=\"#ma77fd3e861\" x=\"98.916396\" y=\"56.278313\" style=\"fill: #1f77b4; stroke: #1f77b4\"/>\n     <use xlink:href=\"#ma77fd3e861\" x=\"123.830975\" y=\"60.441179\" style=\"fill: #1f77b4; stroke: #1f77b4\"/>\n     <use xlink:href=\"#ma77fd3e861\" x=\"138.466708\" y=\"80.185637\" style=\"fill: #1f77b4; stroke: #1f77b4\"/>\n     <use xlink:href=\"#ma77fd3e861\" x=\"139.508242\" y=\"103.397389\" style=\"fill: #1f77b4; stroke: #1f77b4\"/>\n     <use xlink:href=\"#ma77fd3e861\" x=\"147.915293\" y=\"101.849284\" style=\"fill: #1f77b4; stroke: #1f77b4\"/>\n     <use xlink:href=\"#ma77fd3e861\" x=\"131.458529\" y=\"85.59041\" style=\"fill: #1f77b4; stroke: #1f77b4\"/>\n     <use xlink:href=\"#ma77fd3e861\" x=\"132.508469\" y=\"59.226893\" style=\"fill: #1f77b4; stroke: #1f77b4\"/>\n     <use xlink:href=\"#ma77fd3e861\" x=\"128.025877\" y=\"79.647677\" style=\"fill: #1f77b4; stroke: #1f77b4\"/>\n     <use xlink:href=\"#ma77fd3e861\" x=\"92.726654\" y=\"55.64458\" style=\"fill: #1f77b4; stroke: #1f77b4\"/>\n     <use xlink:href=\"#ma77fd3e861\" x=\"104.671857\" y=\"52.149192\" style=\"fill: #1f77b4; stroke: #1f77b4\"/>\n     <use xlink:href=\"#ma77fd3e861\" x=\"145.205443\" y=\"83.049655\" style=\"fill: #1f77b4; stroke: #1f77b4\"/>\n     <use xlink:href=\"#ma77fd3e861\" x=\"87.2235\" y=\"32.988502\" style=\"fill: #1f77b4; stroke: #1f77b4\"/>\n     <use xlink:href=\"#ma77fd3e861\" x=\"118.441987\" y=\"93.978039\" style=\"fill: #1f77b4; stroke: #1f77b4\"/>\n     <use xlink:href=\"#ma77fd3e861\" x=\"103.032572\" y=\"66.852348\" style=\"fill: #1f77b4; stroke: #1f77b4\"/>\n     <use xlink:href=\"#ma77fd3e861\" x=\"142.209349\" y=\"63.967156\" style=\"fill: #1f77b4; stroke: #1f77b4\"/>\n     <use xlink:href=\"#ma77fd3e861\" x=\"137.217392\" y=\"67.685811\" style=\"fill: #1f77b4; stroke: #1f77b4\"/>\n     <use xlink:href=\"#ma77fd3e861\" x=\"186.825231\" y=\"100.539518\" style=\"fill: #1f77b4; stroke: #1f77b4\"/>\n     <use xlink:href=\"#ma77fd3e861\" x=\"89.128449\" y=\"52.182058\" style=\"fill: #1f77b4; stroke: #1f77b4\"/>\n     <use xlink:href=\"#ma77fd3e861\" x=\"83.053522\" y=\"44.361045\" style=\"fill: #1f77b4; stroke: #1f77b4\"/>\n     <use xlink:href=\"#ma77fd3e861\" x=\"106.018274\" y=\"57.097391\" style=\"fill: #1f77b4; stroke: #1f77b4\"/>\n     <use xlink:href=\"#ma77fd3e861\" x=\"119.530397\" y=\"60.076496\" style=\"fill: #1f77b4; stroke: #1f77b4\"/>\n     <use xlink:href=\"#ma77fd3e861\" x=\"160.11942\" y=\"97.200975\" style=\"fill: #1f77b4; stroke: #1f77b4\"/>\n     <use xlink:href=\"#ma77fd3e861\" x=\"121.60707\" y=\"83.694699\" style=\"fill: #1f77b4; stroke: #1f77b4\"/>\n     <use xlink:href=\"#ma77fd3e861\" x=\"175.926584\" y=\"100.977763\" style=\"fill: #1f77b4; stroke: #1f77b4\"/>\n     <use xlink:href=\"#ma77fd3e861\" x=\"131.464767\" y=\"66.539641\" style=\"fill: #1f77b4; stroke: #1f77b4\"/>\n     <use xlink:href=\"#ma77fd3e861\" x=\"121.916584\" y=\"68.939576\" style=\"fill: #1f77b4; stroke: #1f77b4\"/>\n     <use xlink:href=\"#ma77fd3e861\" x=\"149.133182\" y=\"94.393824\" style=\"fill: #1f77b4; stroke: #1f77b4\"/>\n     <use xlink:href=\"#ma77fd3e861\" x=\"122.231781\" y=\"77.155184\" style=\"fill: #1f77b4; stroke: #1f77b4\"/>\n     <use xlink:href=\"#ma77fd3e861\" x=\"85.782069\" y=\"52.837614\" style=\"fill: #1f77b4; stroke: #1f77b4\"/>\n     <use xlink:href=\"#ma77fd3e861\" x=\"118.342583\" y=\"92.029734\" style=\"fill: #1f77b4; stroke: #1f77b4\"/>\n     <use xlink:href=\"#ma77fd3e861\" x=\"69.065017\" y=\"19.139531\" style=\"fill: #1f77b4; stroke: #1f77b4\"/>\n     <use xlink:href=\"#ma77fd3e861\" x=\"153.02618\" y=\"98.462927\" style=\"fill: #1f77b4; stroke: #1f77b4\"/>\n     <use xlink:href=\"#ma77fd3e861\" x=\"167.346339\" y=\"105.940799\" style=\"fill: #1f77b4; stroke: #1f77b4\"/>\n     <use xlink:href=\"#ma77fd3e861\" x=\"135.39809\" y=\"77.901669\" style=\"fill: #1f77b4; stroke: #1f77b4\"/>\n     <use xlink:href=\"#ma77fd3e861\" x=\"143.100158\" y=\"97.880937\" style=\"fill: #1f77b4; stroke: #1f77b4\"/>\n     <use xlink:href=\"#ma77fd3e861\" x=\"114.670123\" y=\"66.043542\" style=\"fill: #1f77b4; stroke: #1f77b4\"/>\n     <use xlink:href=\"#ma77fd3e861\" x=\"181.638196\" y=\"124.243826\" style=\"fill: #1f77b4; stroke: #1f77b4\"/>\n     <use xlink:href=\"#ma77fd3e861\" x=\"132.531158\" y=\"84.676271\" style=\"fill: #1f77b4; stroke: #1f77b4\"/>\n     <use xlink:href=\"#ma77fd3e861\" x=\"133.139213\" y=\"73.196806\" style=\"fill: #1f77b4; stroke: #1f77b4\"/>\n     <use xlink:href=\"#ma77fd3e861\" x=\"86.26124\" y=\"27.144852\" style=\"fill: #1f77b4; stroke: #1f77b4\"/>\n     <use xlink:href=\"#ma77fd3e861\" x=\"142.331766\" y=\"86.721331\" style=\"fill: #1f77b4; stroke: #1f77b4\"/>\n     <use xlink:href=\"#ma77fd3e861\" x=\"137.326123\" y=\"95.484027\" style=\"fill: #1f77b4; stroke: #1f77b4\"/>\n     <use xlink:href=\"#ma77fd3e861\" x=\"128.204191\" y=\"63.761977\" style=\"fill: #1f77b4; stroke: #1f77b4\"/>\n     <use xlink:href=\"#ma77fd3e861\" x=\"112.56976\" y=\"70.669499\" style=\"fill: #1f77b4; stroke: #1f77b4\"/>\n     <use xlink:href=\"#ma77fd3e861\" x=\"132.386541\" y=\"66.844501\" style=\"fill: #1f77b4; stroke: #1f77b4\"/>\n     <use xlink:href=\"#ma77fd3e861\" x=\"116.125149\" y=\"83.126855\" style=\"fill: #1f77b4; stroke: #1f77b4\"/>\n     <use xlink:href=\"#ma77fd3e861\" x=\"133.238224\" y=\"76.954998\" style=\"fill: #1f77b4; stroke: #1f77b4\"/>\n     <use xlink:href=\"#ma77fd3e861\" x=\"158.868036\" y=\"90.586595\" style=\"fill: #1f77b4; stroke: #1f77b4\"/>\n     <use xlink:href=\"#ma77fd3e861\" x=\"133.245179\" y=\"74.496368\" style=\"fill: #1f77b4; stroke: #1f77b4\"/>\n     <use xlink:href=\"#ma77fd3e861\" x=\"134.696009\" y=\"71.220602\" style=\"fill: #1f77b4; stroke: #1f77b4\"/>\n     <use xlink:href=\"#ma77fd3e861\" x=\"118.183011\" y=\"88.40751\" style=\"fill: #1f77b4; stroke: #1f77b4\"/>\n     <use xlink:href=\"#ma77fd3e861\" x=\"139.384317\" y=\"70.669332\" style=\"fill: #1f77b4; stroke: #1f77b4\"/>\n     <use xlink:href=\"#ma77fd3e861\" x=\"98.9934\" y=\"61.181933\" style=\"fill: #1f77b4; stroke: #1f77b4\"/>\n     <use xlink:href=\"#ma77fd3e861\" x=\"169.377179\" y=\"113.18319\" style=\"fill: #1f77b4; stroke: #1f77b4\"/>\n     <use xlink:href=\"#ma77fd3e861\" x=\"152.051198\" y=\"84.746741\" style=\"fill: #1f77b4; stroke: #1f77b4\"/>\n     <use xlink:href=\"#ma77fd3e861\" x=\"96.146437\" y=\"70.398094\" style=\"fill: #1f77b4; stroke: #1f77b4\"/>\n     <use xlink:href=\"#ma77fd3e861\" x=\"85.576108\" y=\"54.571393\" style=\"fill: #1f77b4; stroke: #1f77b4\"/>\n     <use xlink:href=\"#ma77fd3e861\" x=\"98.525102\" y=\"74.621388\" style=\"fill: #1f77b4; stroke: #1f77b4\"/>\n     <use xlink:href=\"#ma77fd3e861\" x=\"166.001264\" y=\"106.27447\" style=\"fill: #1f77b4; stroke: #1f77b4\"/>\n     <use xlink:href=\"#ma77fd3e861\" x=\"139.874004\" y=\"72.398944\" style=\"fill: #1f77b4; stroke: #1f77b4\"/>\n     <use xlink:href=\"#ma77fd3e861\" x=\"165.704474\" y=\"73.531939\" style=\"fill: #1f77b4; stroke: #1f77b4\"/>\n     <use xlink:href=\"#ma77fd3e861\" x=\"172.632409\" y=\"111.541451\" style=\"fill: #1f77b4; stroke: #1f77b4\"/>\n     <use xlink:href=\"#ma77fd3e861\" x=\"114.520616\" y=\"72.48157\" style=\"fill: #1f77b4; stroke: #1f77b4\"/>\n     <use xlink:href=\"#ma77fd3e861\" x=\"167.162817\" y=\"100.467234\" style=\"fill: #1f77b4; stroke: #1f77b4\"/>\n     <use xlink:href=\"#ma77fd3e861\" x=\"131.020883\" y=\"82.408463\" style=\"fill: #1f77b4; stroke: #1f77b4\"/>\n     <use xlink:href=\"#ma77fd3e861\" x=\"74.831573\" y=\"42.857109\" style=\"fill: #1f77b4; stroke: #1f77b4\"/>\n     <use xlink:href=\"#ma77fd3e861\" x=\"116.145973\" y=\"76.022412\" style=\"fill: #1f77b4; stroke: #1f77b4\"/>\n     <use xlink:href=\"#ma77fd3e861\" x=\"122.129101\" y=\"69.818988\" style=\"fill: #1f77b4; stroke: #1f77b4\"/>\n     <use xlink:href=\"#ma77fd3e861\" x=\"140.462503\" y=\"81.086038\" style=\"fill: #1f77b4; stroke: #1f77b4\"/>\n     <use xlink:href=\"#ma77fd3e861\" x=\"131.33438\" y=\"50.529854\" style=\"fill: #1f77b4; stroke: #1f77b4\"/>\n     <use xlink:href=\"#ma77fd3e861\" x=\"144.183064\" y=\"92.609141\" style=\"fill: #1f77b4; stroke: #1f77b4\"/>\n     <use xlink:href=\"#ma77fd3e861\" x=\"137.784449\" y=\"80.730188\" style=\"fill: #1f77b4; stroke: #1f77b4\"/>\n     <use xlink:href=\"#ma77fd3e861\" x=\"127.287418\" y=\"74.562043\" style=\"fill: #1f77b4; stroke: #1f77b4\"/>\n     <use xlink:href=\"#ma77fd3e861\" x=\"93.172283\" y=\"56.983304\" style=\"fill: #1f77b4; stroke: #1f77b4\"/>\n     <use xlink:href=\"#ma77fd3e861\" x=\"124.872261\" y=\"62.787817\" style=\"fill: #1f77b4; stroke: #1f77b4\"/>\n     <use xlink:href=\"#ma77fd3e861\" x=\"105.988093\" y=\"67.939721\" style=\"fill: #1f77b4; stroke: #1f77b4\"/>\n     <use xlink:href=\"#ma77fd3e861\" x=\"88.260883\" y=\"49.8411\" style=\"fill: #1f77b4; stroke: #1f77b4\"/>\n     <use xlink:href=\"#ma77fd3e861\" x=\"144.9351\" y=\"88.190572\" style=\"fill: #1f77b4; stroke: #1f77b4\"/>\n     <use xlink:href=\"#ma77fd3e861\" x=\"122.652329\" y=\"56.79591\" style=\"fill: #1f77b4; stroke: #1f77b4\"/>\n     <use xlink:href=\"#ma77fd3e861\" x=\"159.270538\" y=\"99.547308\" style=\"fill: #1f77b4; stroke: #1f77b4\"/>\n     <use xlink:href=\"#ma77fd3e861\" x=\"123.255838\" y=\"86.514441\" style=\"fill: #1f77b4; stroke: #1f77b4\"/>\n     <use xlink:href=\"#ma77fd3e861\" x=\"158.466661\" y=\"109.033439\" style=\"fill: #1f77b4; stroke: #1f77b4\"/>\n     <use xlink:href=\"#ma77fd3e861\" x=\"171.749294\" y=\"101.877665\" style=\"fill: #1f77b4; stroke: #1f77b4\"/>\n     <use xlink:href=\"#ma77fd3e861\" x=\"119.644332\" y=\"70.700957\" style=\"fill: #1f77b4; stroke: #1f77b4\"/>\n     <use xlink:href=\"#ma77fd3e861\" x=\"117.47354\" y=\"63.140491\" style=\"fill: #1f77b4; stroke: #1f77b4\"/>\n     <use xlink:href=\"#ma77fd3e861\" x=\"102.483609\" y=\"48.716324\" style=\"fill: #1f77b4; stroke: #1f77b4\"/>\n     <use xlink:href=\"#ma77fd3e861\" x=\"180.571229\" y=\"112.054095\" style=\"fill: #1f77b4; stroke: #1f77b4\"/>\n     <use xlink:href=\"#ma77fd3e861\" x=\"100.008071\" y=\"56.106587\" style=\"fill: #1f77b4; stroke: #1f77b4\"/>\n     <use xlink:href=\"#ma77fd3e861\" x=\"117.169441\" y=\"64.198712\" style=\"fill: #1f77b4; stroke: #1f77b4\"/>\n     <use xlink:href=\"#ma77fd3e861\" x=\"117.636806\" y=\"74.348631\" style=\"fill: #1f77b4; stroke: #1f77b4\"/>\n     <use xlink:href=\"#ma77fd3e861\" x=\"176.137894\" y=\"105.472766\" style=\"fill: #1f77b4; stroke: #1f77b4\"/>\n     <use xlink:href=\"#ma77fd3e861\" x=\"203.84576\" y=\"115.421476\" style=\"fill: #1f77b4; stroke: #1f77b4\"/>\n     <use xlink:href=\"#ma77fd3e861\" x=\"155.441283\" y=\"94.503169\" style=\"fill: #1f77b4; stroke: #1f77b4\"/>\n     <use xlink:href=\"#ma77fd3e861\" x=\"126.547721\" y=\"80.891637\" style=\"fill: #1f77b4; stroke: #1f77b4\"/>\n     <use xlink:href=\"#ma77fd3e861\" x=\"103.6413\" y=\"65.655422\" style=\"fill: #1f77b4; stroke: #1f77b4\"/>\n     <use xlink:href=\"#ma77fd3e861\" x=\"128.746691\" y=\"85.580212\" style=\"fill: #1f77b4; stroke: #1f77b4\"/>\n     <use xlink:href=\"#ma77fd3e861\" x=\"91.504572\" y=\"48.09062\" style=\"fill: #1f77b4; stroke: #1f77b4\"/>\n     <use xlink:href=\"#ma77fd3e861\" x=\"145.850056\" y=\"82.637879\" style=\"fill: #1f77b4; stroke: #1f77b4\"/>\n     <use xlink:href=\"#ma77fd3e861\" x=\"82.074737\" y=\"42.289022\" style=\"fill: #1f77b4; stroke: #1f77b4\"/>\n     <use xlink:href=\"#ma77fd3e861\" x=\"136.929521\" y=\"87.051066\" style=\"fill: #1f77b4; stroke: #1f77b4\"/>\n     <use xlink:href=\"#ma77fd3e861\" x=\"142.88086\" y=\"80.125196\" style=\"fill: #1f77b4; stroke: #1f77b4\"/>\n     <use xlink:href=\"#ma77fd3e861\" x=\"152.919921\" y=\"111.373382\" style=\"fill: #1f77b4; stroke: #1f77b4\"/>\n     <use xlink:href=\"#ma77fd3e861\" x=\"100.140893\" y=\"68.740808\" style=\"fill: #1f77b4; stroke: #1f77b4\"/>\n     <use xlink:href=\"#ma77fd3e861\" x=\"74.744078\" y=\"54.827982\" style=\"fill: #1f77b4; stroke: #1f77b4\"/>\n     <use xlink:href=\"#ma77fd3e861\" x=\"79.618097\" y=\"36.078632\" style=\"fill: #1f77b4; stroke: #1f77b4\"/>\n     <use xlink:href=\"#ma77fd3e861\" x=\"52.731106\" y=\"35.907394\" style=\"fill: #1f77b4; stroke: #1f77b4\"/>\n     <use xlink:href=\"#ma77fd3e861\" x=\"59.820218\" y=\"52.369203\" style=\"fill: #1f77b4; stroke: #1f77b4\"/>\n     <use xlink:href=\"#ma77fd3e861\" x=\"102.813552\" y=\"54.16326\" style=\"fill: #1f77b4; stroke: #1f77b4\"/>\n     <use xlink:href=\"#ma77fd3e861\" x=\"113.363857\" y=\"70.86382\" style=\"fill: #1f77b4; stroke: #1f77b4\"/>\n     <use xlink:href=\"#ma77fd3e861\" x=\"151.002167\" y=\"93.789796\" style=\"fill: #1f77b4; stroke: #1f77b4\"/>\n     <use xlink:href=\"#ma77fd3e861\" x=\"165.398701\" y=\"98.621612\" style=\"fill: #1f77b4; stroke: #1f77b4\"/>\n     <use xlink:href=\"#ma77fd3e861\" x=\"100.322395\" y=\"36.400154\" style=\"fill: #1f77b4; stroke: #1f77b4\"/>\n     <use xlink:href=\"#ma77fd3e861\" x=\"121.174709\" y=\"68.095349\" style=\"fill: #1f77b4; stroke: #1f77b4\"/>\n     <use xlink:href=\"#ma77fd3e861\" x=\"144.456452\" y=\"74.486907\" style=\"fill: #1f77b4; stroke: #1f77b4\"/>\n     <use xlink:href=\"#ma77fd3e861\" x=\"175.726454\" y=\"95.821469\" style=\"fill: #1f77b4; stroke: #1f77b4\"/>\n     <use xlink:href=\"#ma77fd3e861\" x=\"138.344075\" y=\"74.694223\" style=\"fill: #1f77b4; stroke: #1f77b4\"/>\n     <use xlink:href=\"#ma77fd3e861\" x=\"120.640576\" y=\"79.069552\" style=\"fill: #1f77b4; stroke: #1f77b4\"/>\n     <use xlink:href=\"#ma77fd3e861\" x=\"102.405079\" y=\"60.309093\" style=\"fill: #1f77b4; stroke: #1f77b4\"/>\n     <use xlink:href=\"#ma77fd3e861\" x=\"158.27744\" y=\"95.203789\" style=\"fill: #1f77b4; stroke: #1f77b4\"/>\n     <use xlink:href=\"#ma77fd3e861\" x=\"109.957003\" y=\"55.499836\" style=\"fill: #1f77b4; stroke: #1f77b4\"/>\n     <use xlink:href=\"#ma77fd3e861\" x=\"134.459305\" y=\"84.909128\" style=\"fill: #1f77b4; stroke: #1f77b4\"/>\n     <use xlink:href=\"#ma77fd3e861\" x=\"100.234942\" y=\"63.927538\" style=\"fill: #1f77b4; stroke: #1f77b4\"/>\n     <use xlink:href=\"#ma77fd3e861\" x=\"129.427777\" y=\"87.862864\" style=\"fill: #1f77b4; stroke: #1f77b4\"/>\n     <use xlink:href=\"#ma77fd3e861\" x=\"137.552487\" y=\"85.418143\" style=\"fill: #1f77b4; stroke: #1f77b4\"/>\n     <use xlink:href=\"#ma77fd3e861\" x=\"96.897947\" y=\"44.616835\" style=\"fill: #1f77b4; stroke: #1f77b4\"/>\n     <use xlink:href=\"#ma77fd3e861\" x=\"154.779273\" y=\"99.773071\" style=\"fill: #1f77b4; stroke: #1f77b4\"/>\n     <use xlink:href=\"#ma77fd3e861\" x=\"130.702959\" y=\"70.778367\" style=\"fill: #1f77b4; stroke: #1f77b4\"/>\n     <use xlink:href=\"#ma77fd3e861\" x=\"110.917812\" y=\"80.870613\" style=\"fill: #1f77b4; stroke: #1f77b4\"/>\n     <use xlink:href=\"#ma77fd3e861\" x=\"70.954778\" y=\"23.880599\" style=\"fill: #1f77b4; stroke: #1f77b4\"/>\n     <use xlink:href=\"#ma77fd3e861\" x=\"121.960895\" y=\"65.706585\" style=\"fill: #1f77b4; stroke: #1f77b4\"/>\n     <use xlink:href=\"#ma77fd3e861\" x=\"176.465443\" y=\"119.38303\" style=\"fill: #1f77b4; stroke: #1f77b4\"/>\n     <use xlink:href=\"#ma77fd3e861\" x=\"163.38686\" y=\"120.709305\" style=\"fill: #1f77b4; stroke: #1f77b4\"/>\n     <use xlink:href=\"#ma77fd3e861\" x=\"106.490084\" y=\"52.67035\" style=\"fill: #1f77b4; stroke: #1f77b4\"/>\n     <use xlink:href=\"#ma77fd3e861\" x=\"132.3867\" y=\"76.293004\" style=\"fill: #1f77b4; stroke: #1f77b4\"/>\n     <use xlink:href=\"#ma77fd3e861\" x=\"139.354471\" y=\"78.764598\" style=\"fill: #1f77b4; stroke: #1f77b4\"/>\n     <use xlink:href=\"#ma77fd3e861\" x=\"127.778634\" y=\"82.715356\" style=\"fill: #1f77b4; stroke: #1f77b4\"/>\n     <use xlink:href=\"#ma77fd3e861\" x=\"180.958769\" y=\"104.044547\" style=\"fill: #1f77b4; stroke: #1f77b4\"/>\n     <use xlink:href=\"#ma77fd3e861\" x=\"53.915826\" y=\"50.133928\" style=\"fill: #1f77b4; stroke: #1f77b4\"/>\n     <use xlink:href=\"#ma77fd3e861\" x=\"165.669146\" y=\"93.762658\" style=\"fill: #1f77b4; stroke: #1f77b4\"/>\n     <use xlink:href=\"#ma77fd3e861\" x=\"151.32088\" y=\"89.689058\" style=\"fill: #1f77b4; stroke: #1f77b4\"/>\n     <use xlink:href=\"#ma77fd3e861\" x=\"171.258473\" y=\"103.555803\" style=\"fill: #1f77b4; stroke: #1f77b4\"/>\n     <use xlink:href=\"#ma77fd3e861\" x=\"163.036224\" y=\"106.700093\" style=\"fill: #1f77b4; stroke: #1f77b4\"/>\n     <use xlink:href=\"#ma77fd3e861\" x=\"172.981465\" y=\"95.426415\" style=\"fill: #1f77b4; stroke: #1f77b4\"/>\n     <use xlink:href=\"#ma77fd3e861\" x=\"188.44449\" y=\"107.063964\" style=\"fill: #1f77b4; stroke: #1f77b4\"/>\n     <use xlink:href=\"#ma77fd3e861\" x=\"118.930559\" y=\"65.865158\" style=\"fill: #1f77b4; stroke: #1f77b4\"/>\n     <use xlink:href=\"#ma77fd3e861\" x=\"136.332384\" y=\"94.463262\" style=\"fill: #1f77b4; stroke: #1f77b4\"/>\n     <use xlink:href=\"#ma77fd3e861\" x=\"159.517761\" y=\"97.130422\" style=\"fill: #1f77b4; stroke: #1f77b4\"/>\n     <use xlink:href=\"#ma77fd3e861\" x=\"83.220178\" y=\"61.333512\" style=\"fill: #1f77b4; stroke: #1f77b4\"/>\n     <use xlink:href=\"#ma77fd3e861\" x=\"49.1678\" y=\"14.709242\" style=\"fill: #1f77b4; stroke: #1f77b4\"/>\n     <use xlink:href=\"#ma77fd3e861\" x=\"163.468328\" y=\"99.036684\" style=\"fill: #1f77b4; stroke: #1f77b4\"/>\n     <use xlink:href=\"#ma77fd3e861\" x=\"189.975269\" y=\"91.704215\" style=\"fill: #1f77b4; stroke: #1f77b4\"/>\n     <use xlink:href=\"#ma77fd3e861\" x=\"137.117859\" y=\"78.584333\" style=\"fill: #1f77b4; stroke: #1f77b4\"/>\n     <use xlink:href=\"#ma77fd3e861\" x=\"115.727999\" y=\"55.17654\" style=\"fill: #1f77b4; stroke: #1f77b4\"/>\n     <use xlink:href=\"#ma77fd3e861\" x=\"146.555769\" y=\"104.120541\" style=\"fill: #1f77b4; stroke: #1f77b4\"/>\n     <use xlink:href=\"#ma77fd3e861\" x=\"158.093709\" y=\"108.95561\" style=\"fill: #1f77b4; stroke: #1f77b4\"/>\n     <use xlink:href=\"#ma77fd3e861\" x=\"152.160971\" y=\"86.626803\" style=\"fill: #1f77b4; stroke: #1f77b4\"/>\n     <use xlink:href=\"#ma77fd3e861\" x=\"113.926768\" y=\"55.602264\" style=\"fill: #1f77b4; stroke: #1f77b4\"/>\n     <use xlink:href=\"#ma77fd3e861\" x=\"150.635682\" y=\"95.407826\" style=\"fill: #1f77b4; stroke: #1f77b4\"/>\n     <use xlink:href=\"#ma77fd3e861\" x=\"133.791594\" y=\"95.201891\" style=\"fill: #1f77b4; stroke: #1f77b4\"/>\n     <use xlink:href=\"#ma77fd3e861\" x=\"108.119858\" y=\"70.623407\" style=\"fill: #1f77b4; stroke: #1f77b4\"/>\n     <use xlink:href=\"#ma77fd3e861\" x=\"195.226303\" y=\"133.890919\" style=\"fill: #1f77b4; stroke: #1f77b4\"/>\n     <use xlink:href=\"#ma77fd3e861\" x=\"139.786173\" y=\"66.441209\" style=\"fill: #1f77b4; stroke: #1f77b4\"/>\n     <use xlink:href=\"#ma77fd3e861\" x=\"120.609569\" y=\"77.988929\" style=\"fill: #1f77b4; stroke: #1f77b4\"/>\n     <use xlink:href=\"#ma77fd3e861\" x=\"143.907679\" y=\"82.047751\" style=\"fill: #1f77b4; stroke: #1f77b4\"/>\n     <use xlink:href=\"#ma77fd3e861\" x=\"87.07373\" y=\"70.716199\" style=\"fill: #1f77b4; stroke: #1f77b4\"/>\n     <use xlink:href=\"#ma77fd3e861\" x=\"123.782128\" y=\"69.968773\" style=\"fill: #1f77b4; stroke: #1f77b4\"/>\n     <use xlink:href=\"#ma77fd3e861\" x=\"173.834779\" y=\"110.467266\" style=\"fill: #1f77b4; stroke: #1f77b4\"/>\n     <use xlink:href=\"#ma77fd3e861\" x=\"138.367674\" y=\"80.179673\" style=\"fill: #1f77b4; stroke: #1f77b4\"/>\n     <use xlink:href=\"#ma77fd3e861\" x=\"111.152346\" y=\"63.760829\" style=\"fill: #1f77b4; stroke: #1f77b4\"/>\n     <use xlink:href=\"#ma77fd3e861\" x=\"141.354464\" y=\"71.729379\" style=\"fill: #1f77b4; stroke: #1f77b4\"/>\n     <use xlink:href=\"#ma77fd3e861\" x=\"98.805022\" y=\"45.81578\" style=\"fill: #1f77b4; stroke: #1f77b4\"/>\n     <use xlink:href=\"#ma77fd3e861\" x=\"104.662587\" y=\"57.781169\" style=\"fill: #1f77b4; stroke: #1f77b4\"/>\n     <use xlink:href=\"#ma77fd3e861\" x=\"97.034704\" y=\"61.672233\" style=\"fill: #1f77b4; stroke: #1f77b4\"/>\n     <use xlink:href=\"#ma77fd3e861\" x=\"90.9436\" y=\"48.147052\" style=\"fill: #1f77b4; stroke: #1f77b4\"/>\n     <use xlink:href=\"#ma77fd3e861\" x=\"107.88074\" y=\"66.408077\" style=\"fill: #1f77b4; stroke: #1f77b4\"/>\n     <use xlink:href=\"#ma77fd3e861\" x=\"187.096051\" y=\"96.353755\" style=\"fill: #1f77b4; stroke: #1f77b4\"/>\n     <use xlink:href=\"#ma77fd3e861\" x=\"82.533094\" y=\"60.336713\" style=\"fill: #1f77b4; stroke: #1f77b4\"/>\n     <use xlink:href=\"#ma77fd3e861\" x=\"82.963095\" y=\"36.073998\" style=\"fill: #1f77b4; stroke: #1f77b4\"/>\n     <use xlink:href=\"#ma77fd3e861\" x=\"121.044575\" y=\"86.059966\" style=\"fill: #1f77b4; stroke: #1f77b4\"/>\n     <use xlink:href=\"#ma77fd3e861\" x=\"112.883094\" y=\"72.798801\" style=\"fill: #1f77b4; stroke: #1f77b4\"/>\n     <use xlink:href=\"#ma77fd3e861\" x=\"43.04629\" y=\"13.5\" style=\"fill: #1f77b4; stroke: #1f77b4\"/>\n     <use xlink:href=\"#ma77fd3e861\" x=\"113.597518\" y=\"80.180868\" style=\"fill: #1f77b4; stroke: #1f77b4\"/>\n     <use xlink:href=\"#ma77fd3e861\" x=\"125.901633\" y=\"78.600495\" style=\"fill: #1f77b4; stroke: #1f77b4\"/>\n     <use xlink:href=\"#ma77fd3e861\" x=\"72.588297\" y=\"24.899182\" style=\"fill: #1f77b4; stroke: #1f77b4\"/>\n     <use xlink:href=\"#ma77fd3e861\" x=\"111.779196\" y=\"60.340835\" style=\"fill: #1f77b4; stroke: #1f77b4\"/>\n     <use xlink:href=\"#ma77fd3e861\" x=\"141.732726\" y=\"92.544332\" style=\"fill: #1f77b4; stroke: #1f77b4\"/>\n     <use xlink:href=\"#ma77fd3e861\" x=\"111.9434\" y=\"56.036526\" style=\"fill: #1f77b4; stroke: #1f77b4\"/>\n     <use xlink:href=\"#ma77fd3e861\" x=\"174.155509\" y=\"123.366305\" style=\"fill: #1f77b4; stroke: #1f77b4\"/>\n     <use xlink:href=\"#ma77fd3e861\" x=\"179.849875\" y=\"107.102203\" style=\"fill: #1f77b4; stroke: #1f77b4\"/>\n     <use xlink:href=\"#ma77fd3e861\" x=\"145.404346\" y=\"93.355469\" style=\"fill: #1f77b4; stroke: #1f77b4\"/>\n     <use xlink:href=\"#ma77fd3e861\" x=\"127.994349\" y=\"62.679396\" style=\"fill: #1f77b4; stroke: #1f77b4\"/>\n     <use xlink:href=\"#ma77fd3e861\" x=\"139.257457\" y=\"82.712749\" style=\"fill: #1f77b4; stroke: #1f77b4\"/>\n     <use xlink:href=\"#ma77fd3e861\" x=\"94.359893\" y=\"57.569532\" style=\"fill: #1f77b4; stroke: #1f77b4\"/>\n     <use xlink:href=\"#ma77fd3e861\" x=\"190.842439\" y=\"117.286175\" style=\"fill: #1f77b4; stroke: #1f77b4\"/>\n     <use xlink:href=\"#ma77fd3e861\" x=\"100.741231\" y=\"69.301062\" style=\"fill: #1f77b4; stroke: #1f77b4\"/>\n     <use xlink:href=\"#ma77fd3e861\" x=\"137.53963\" y=\"74.948377\" style=\"fill: #1f77b4; stroke: #1f77b4\"/>\n     <use xlink:href=\"#ma77fd3e861\" x=\"68.271216\" y=\"47.974634\" style=\"fill: #1f77b4; stroke: #1f77b4\"/>\n     <use xlink:href=\"#ma77fd3e861\" x=\"101.84108\" y=\"47.607675\" style=\"fill: #1f77b4; stroke: #1f77b4\"/>\n     <use xlink:href=\"#ma77fd3e861\" x=\"191.48667\" y=\"137.050511\" style=\"fill: #1f77b4; stroke: #1f77b4\"/>\n     <use xlink:href=\"#ma77fd3e861\" x=\"147.854717\" y=\"87.824794\" style=\"fill: #1f77b4; stroke: #1f77b4\"/>\n     <use xlink:href=\"#ma77fd3e861\" x=\"156.925007\" y=\"107.501396\" style=\"fill: #1f77b4; stroke: #1f77b4\"/>\n     <use xlink:href=\"#ma77fd3e861\" x=\"171.513593\" y=\"92.751058\" style=\"fill: #1f77b4; stroke: #1f77b4\"/>\n     <use xlink:href=\"#ma77fd3e861\" x=\"172.663827\" y=\"96.78119\" style=\"fill: #1f77b4; stroke: #1f77b4\"/>\n     <use xlink:href=\"#ma77fd3e861\" x=\"134.66958\" y=\"69.219181\" style=\"fill: #1f77b4; stroke: #1f77b4\"/>\n     <use xlink:href=\"#ma77fd3e861\" x=\"121.508339\" y=\"80.070788\" style=\"fill: #1f77b4; stroke: #1f77b4\"/>\n     <use xlink:href=\"#ma77fd3e861\" x=\"173.916872\" y=\"93.384375\" style=\"fill: #1f77b4; stroke: #1f77b4\"/>\n     <use xlink:href=\"#ma77fd3e861\" x=\"162.185096\" y=\"103.509934\" style=\"fill: #1f77b4; stroke: #1f77b4\"/>\n     <use xlink:href=\"#ma77fd3e861\" x=\"141.12095\" y=\"85.354809\" style=\"fill: #1f77b4; stroke: #1f77b4\"/>\n     <use xlink:href=\"#ma77fd3e861\" x=\"98.321124\" y=\"56.809165\" style=\"fill: #1f77b4; stroke: #1f77b4\"/>\n     <use xlink:href=\"#ma77fd3e861\" x=\"111.463668\" y=\"77.538491\" style=\"fill: #1f77b4; stroke: #1f77b4\"/>\n     <use xlink:href=\"#ma77fd3e861\" x=\"120.343267\" y=\"71.75777\" style=\"fill: #1f77b4; stroke: #1f77b4\"/>\n     <use xlink:href=\"#ma77fd3e861\" x=\"120.107852\" y=\"71.739194\" style=\"fill: #1f77b4; stroke: #1f77b4\"/>\n     <use xlink:href=\"#ma77fd3e861\" x=\"173.7647\" y=\"109.718407\" style=\"fill: #1f77b4; stroke: #1f77b4\"/>\n     <use xlink:href=\"#ma77fd3e861\" x=\"128.701208\" y=\"64.607081\" style=\"fill: #1f77b4; stroke: #1f77b4\"/>\n     <use xlink:href=\"#ma77fd3e861\" x=\"101.266793\" y=\"48.997519\" style=\"fill: #1f77b4; stroke: #1f77b4\"/>\n     <use xlink:href=\"#ma77fd3e861\" x=\"164.970186\" y=\"110.52852\" style=\"fill: #1f77b4; stroke: #1f77b4\"/>\n     <use xlink:href=\"#ma77fd3e861\" x=\"141.2411\" y=\"86.76101\" style=\"fill: #1f77b4; stroke: #1f77b4\"/>\n     <use xlink:href=\"#ma77fd3e861\" x=\"75.343435\" y=\"49.937579\" style=\"fill: #1f77b4; stroke: #1f77b4\"/>\n     <use xlink:href=\"#ma77fd3e861\" x=\"139.371007\" y=\"92.018404\" style=\"fill: #1f77b4; stroke: #1f77b4\"/>\n     <use xlink:href=\"#ma77fd3e861\" x=\"105.245042\" y=\"43.507006\" style=\"fill: #1f77b4; stroke: #1f77b4\"/>\n     <use xlink:href=\"#ma77fd3e861\" x=\"57.059132\" y=\"38.934833\" style=\"fill: #1f77b4; stroke: #1f77b4\"/>\n     <use xlink:href=\"#ma77fd3e861\" x=\"127.537592\" y=\"78.957567\" style=\"fill: #1f77b4; stroke: #1f77b4\"/>\n     <use xlink:href=\"#ma77fd3e861\" x=\"159.539428\" y=\"96.889794\" style=\"fill: #1f77b4; stroke: #1f77b4\"/>\n     <use xlink:href=\"#ma77fd3e861\" x=\"105.686537\" y=\"70.584891\" style=\"fill: #1f77b4; stroke: #1f77b4\"/>\n     <use xlink:href=\"#ma77fd3e861\" x=\"179.56478\" y=\"102.222392\" style=\"fill: #1f77b4; stroke: #1f77b4\"/>\n     <use xlink:href=\"#ma77fd3e861\" x=\"128.652787\" y=\"64.279962\" style=\"fill: #1f77b4; stroke: #1f77b4\"/>\n     <use xlink:href=\"#ma77fd3e861\" x=\"141.505857\" y=\"91.133559\" style=\"fill: #1f77b4; stroke: #1f77b4\"/>\n     <use xlink:href=\"#ma77fd3e861\" x=\"161.668846\" y=\"86.464582\" style=\"fill: #1f77b4; stroke: #1f77b4\"/>\n     <use xlink:href=\"#ma77fd3e861\" x=\"165.461366\" y=\"93.937065\" style=\"fill: #1f77b4; stroke: #1f77b4\"/>\n     <use xlink:href=\"#ma77fd3e861\" x=\"147.74799\" y=\"101.33547\" style=\"fill: #1f77b4; stroke: #1f77b4\"/>\n     <use xlink:href=\"#ma77fd3e861\" x=\"188.335704\" y=\"129.652107\" style=\"fill: #1f77b4; stroke: #1f77b4\"/>\n     <use xlink:href=\"#ma77fd3e861\" x=\"131.335558\" y=\"82.891081\" style=\"fill: #1f77b4; stroke: #1f77b4\"/>\n     <use xlink:href=\"#ma77fd3e861\" x=\"123.915011\" y=\"80.658376\" style=\"fill: #1f77b4; stroke: #1f77b4\"/>\n     <use xlink:href=\"#ma77fd3e861\" x=\"93.370072\" y=\"50.905947\" style=\"fill: #1f77b4; stroke: #1f77b4\"/>\n     <use xlink:href=\"#ma77fd3e861\" x=\"155.065421\" y=\"106.003411\" style=\"fill: #1f77b4; stroke: #1f77b4\"/>\n     <use xlink:href=\"#ma77fd3e861\" x=\"121.897414\" y=\"70.473737\" style=\"fill: #1f77b4; stroke: #1f77b4\"/>\n     <use xlink:href=\"#ma77fd3e861\" x=\"94.601849\" y=\"55.715251\" style=\"fill: #1f77b4; stroke: #1f77b4\"/>\n     <use xlink:href=\"#ma77fd3e861\" x=\"145.257305\" y=\"111.153759\" style=\"fill: #1f77b4; stroke: #1f77b4\"/>\n     <use xlink:href=\"#ma77fd3e861\" x=\"105.952941\" y=\"37.185994\" style=\"fill: #1f77b4; stroke: #1f77b4\"/>\n     <use xlink:href=\"#ma77fd3e861\" x=\"160.070888\" y=\"104.348986\" style=\"fill: #1f77b4; stroke: #1f77b4\"/>\n     <use xlink:href=\"#ma77fd3e861\" x=\"141.028268\" y=\"83.227553\" style=\"fill: #1f77b4; stroke: #1f77b4\"/>\n     <use xlink:href=\"#ma77fd3e861\" x=\"162.304145\" y=\"98.748201\" style=\"fill: #1f77b4; stroke: #1f77b4\"/>\n     <use xlink:href=\"#ma77fd3e861\" x=\"117.117307\" y=\"69.246469\" style=\"fill: #1f77b4; stroke: #1f77b4\"/>\n     <use xlink:href=\"#ma77fd3e861\" x=\"63.472477\" y=\"38.384461\" style=\"fill: #1f77b4; stroke: #1f77b4\"/>\n     <use xlink:href=\"#ma77fd3e861\" x=\"159.623329\" y=\"108.949344\" style=\"fill: #1f77b4; stroke: #1f77b4\"/>\n     <use xlink:href=\"#ma77fd3e861\" x=\"160.226708\" y=\"105.588555\" style=\"fill: #1f77b4; stroke: #1f77b4\"/>\n     <use xlink:href=\"#ma77fd3e861\" x=\"116.501268\" y=\"69.883718\" style=\"fill: #1f77b4; stroke: #1f77b4\"/>\n     <use xlink:href=\"#ma77fd3e861\" x=\"86.802198\" y=\"73.822649\" style=\"fill: #1f77b4; stroke: #1f77b4\"/>\n     <use xlink:href=\"#ma77fd3e861\" x=\"166.725671\" y=\"105.281786\" style=\"fill: #1f77b4; stroke: #1f77b4\"/>\n     <use xlink:href=\"#ma77fd3e861\" x=\"146.056276\" y=\"82.799065\" style=\"fill: #1f77b4; stroke: #1f77b4\"/>\n     <use xlink:href=\"#ma77fd3e861\" x=\"187.818807\" y=\"112.618255\" style=\"fill: #1f77b4; stroke: #1f77b4\"/>\n     <use xlink:href=\"#ma77fd3e861\" x=\"70.986181\" y=\"36.456929\" style=\"fill: #1f77b4; stroke: #1f77b4\"/>\n     <use xlink:href=\"#ma77fd3e861\" x=\"160.705325\" y=\"103.24438\" style=\"fill: #1f77b4; stroke: #1f77b4\"/>\n     <use xlink:href=\"#ma77fd3e861\" x=\"150.080142\" y=\"91.081345\" style=\"fill: #1f77b4; stroke: #1f77b4\"/>\n     <use xlink:href=\"#ma77fd3e861\" x=\"162.96455\" y=\"110.176048\" style=\"fill: #1f77b4; stroke: #1f77b4\"/>\n     <use xlink:href=\"#ma77fd3e861\" x=\"144.536099\" y=\"71.924626\" style=\"fill: #1f77b4; stroke: #1f77b4\"/>\n     <use xlink:href=\"#ma77fd3e861\" x=\"129.552668\" y=\"75.953325\" style=\"fill: #1f77b4; stroke: #1f77b4\"/>\n     <use xlink:href=\"#ma77fd3e861\" x=\"136.734098\" y=\"67.032475\" style=\"fill: #1f77b4; stroke: #1f77b4\"/>\n     <use xlink:href=\"#ma77fd3e861\" x=\"101.394505\" y=\"57.014502\" style=\"fill: #1f77b4; stroke: #1f77b4\"/>\n     <use xlink:href=\"#ma77fd3e861\" x=\"122.29648\" y=\"70.304339\" style=\"fill: #1f77b4; stroke: #1f77b4\"/>\n     <use xlink:href=\"#ma77fd3e861\" x=\"94.020574\" y=\"61.830725\" style=\"fill: #1f77b4; stroke: #1f77b4\"/>\n     <use xlink:href=\"#ma77fd3e861\" x=\"151.483247\" y=\"95.694724\" style=\"fill: #1f77b4; stroke: #1f77b4\"/>\n     <use xlink:href=\"#ma77fd3e861\" x=\"108.075385\" y=\"57.850352\" style=\"fill: #1f77b4; stroke: #1f77b4\"/>\n     <use xlink:href=\"#ma77fd3e861\" x=\"89.641354\" y=\"51.654781\" style=\"fill: #1f77b4; stroke: #1f77b4\"/>\n     <use xlink:href=\"#ma77fd3e861\" x=\"118.136553\" y=\"73.343778\" style=\"fill: #1f77b4; stroke: #1f77b4\"/>\n     <use xlink:href=\"#ma77fd3e861\" x=\"112.511404\" y=\"54.585686\" style=\"fill: #1f77b4; stroke: #1f77b4\"/>\n     <use xlink:href=\"#ma77fd3e861\" x=\"66.229748\" y=\"41.401945\" style=\"fill: #1f77b4; stroke: #1f77b4\"/>\n     <use xlink:href=\"#ma77fd3e861\" x=\"136.508481\" y=\"80.984677\" style=\"fill: #1f77b4; stroke: #1f77b4\"/>\n     <use xlink:href=\"#ma77fd3e861\" x=\"163.254362\" y=\"113.419961\" style=\"fill: #1f77b4; stroke: #1f77b4\"/>\n     <use xlink:href=\"#ma77fd3e861\" x=\"135.009816\" y=\"66.442995\" style=\"fill: #1f77b4; stroke: #1f77b4\"/>\n     <use xlink:href=\"#ma77fd3e861\" x=\"189.832656\" y=\"119.716135\" style=\"fill: #1f77b4; stroke: #1f77b4\"/>\n     <use xlink:href=\"#ma77fd3e861\" x=\"155.173532\" y=\"129.469836\" style=\"fill: #1f77b4; stroke: #1f77b4\"/>\n     <use xlink:href=\"#ma77fd3e861\" x=\"161.119406\" y=\"119.237528\" style=\"fill: #1f77b4; stroke: #1f77b4\"/>\n     <use xlink:href=\"#ma77fd3e861\" x=\"146.292111\" y=\"108.488437\" style=\"fill: #1f77b4; stroke: #1f77b4\"/>\n     <use xlink:href=\"#ma77fd3e861\" x=\"147.185616\" y=\"88.875538\" style=\"fill: #1f77b4; stroke: #1f77b4\"/>\n     <use xlink:href=\"#ma77fd3e861\" x=\"129.428673\" y=\"79.979859\" style=\"fill: #1f77b4; stroke: #1f77b4\"/>\n     <use xlink:href=\"#ma77fd3e861\" x=\"116.84362\" y=\"83.833044\" style=\"fill: #1f77b4; stroke: #1f77b4\"/>\n     <use xlink:href=\"#ma77fd3e861\" x=\"55.203956\" y=\"16.534416\" style=\"fill: #1f77b4; stroke: #1f77b4\"/>\n     <use xlink:href=\"#ma77fd3e861\" x=\"113.462003\" y=\"70.064443\" style=\"fill: #1f77b4; stroke: #1f77b4\"/>\n     <use xlink:href=\"#ma77fd3e861\" x=\"105.524028\" y=\"58.469038\" style=\"fill: #1f77b4; stroke: #1f77b4\"/>\n     <use xlink:href=\"#ma77fd3e861\" x=\"124.40435\" y=\"93.880427\" style=\"fill: #1f77b4; stroke: #1f77b4\"/>\n     <use xlink:href=\"#ma77fd3e861\" x=\"103.765284\" y=\"67.080069\" style=\"fill: #1f77b4; stroke: #1f77b4\"/>\n     <use xlink:href=\"#ma77fd3e861\" x=\"72.449279\" y=\"19.772518\" style=\"fill: #1f77b4; stroke: #1f77b4\"/>\n     <use xlink:href=\"#ma77fd3e861\" x=\"143.704102\" y=\"82.536239\" style=\"fill: #1f77b4; stroke: #1f77b4\"/>\n     <use xlink:href=\"#ma77fd3e861\" x=\"177.566953\" y=\"97.744776\" style=\"fill: #1f77b4; stroke: #1f77b4\"/>\n     <use xlink:href=\"#ma77fd3e861\" x=\"91.632654\" y=\"31.757705\" style=\"fill: #1f77b4; stroke: #1f77b4\"/>\n     <use xlink:href=\"#ma77fd3e861\" x=\"128.502785\" y=\"82.01273\" style=\"fill: #1f77b4; stroke: #1f77b4\"/>\n     <use xlink:href=\"#ma77fd3e861\" x=\"108.892902\" y=\"67.758059\" style=\"fill: #1f77b4; stroke: #1f77b4\"/>\n     <use xlink:href=\"#ma77fd3e861\" x=\"109.339417\" y=\"81.194806\" style=\"fill: #1f77b4; stroke: #1f77b4\"/>\n     <use xlink:href=\"#ma77fd3e861\" x=\"129.805642\" y=\"71.923449\" style=\"fill: #1f77b4; stroke: #1f77b4\"/>\n     <use xlink:href=\"#ma77fd3e861\" x=\"184.504041\" y=\"105.21636\" style=\"fill: #1f77b4; stroke: #1f77b4\"/>\n     <use xlink:href=\"#ma77fd3e861\" x=\"97.586427\" y=\"66.874986\" style=\"fill: #1f77b4; stroke: #1f77b4\"/>\n     <use xlink:href=\"#ma77fd3e861\" x=\"113.232578\" y=\"63.248\" style=\"fill: #1f77b4; stroke: #1f77b4\"/>\n     <use xlink:href=\"#ma77fd3e861\" x=\"121.289844\" y=\"66.547744\" style=\"fill: #1f77b4; stroke: #1f77b4\"/>\n     <use xlink:href=\"#ma77fd3e861\" x=\"91.305817\" y=\"69.523873\" style=\"fill: #1f77b4; stroke: #1f77b4\"/>\n     <use xlink:href=\"#ma77fd3e861\" x=\"133.49311\" y=\"93.599279\" style=\"fill: #1f77b4; stroke: #1f77b4\"/>\n     <use xlink:href=\"#ma77fd3e861\" x=\"155.407433\" y=\"76.233469\" style=\"fill: #1f77b4; stroke: #1f77b4\"/>\n     <use xlink:href=\"#ma77fd3e861\" x=\"112.222043\" y=\"67.028649\" style=\"fill: #1f77b4; stroke: #1f77b4\"/>\n     <use xlink:href=\"#ma77fd3e861\" x=\"127.596049\" y=\"74.707361\" style=\"fill: #1f77b4; stroke: #1f77b4\"/>\n     <use xlink:href=\"#ma77fd3e861\" x=\"112.177417\" y=\"82.27792\" style=\"fill: #1f77b4; stroke: #1f77b4\"/>\n     <use xlink:href=\"#ma77fd3e861\" x=\"201.262232\" y=\"139.5\" style=\"fill: #1f77b4; stroke: #1f77b4\"/>\n     <use xlink:href=\"#ma77fd3e861\" x=\"116.301555\" y=\"63.69323\" style=\"fill: #1f77b4; stroke: #1f77b4\"/>\n     <use xlink:href=\"#ma77fd3e861\" x=\"104.708528\" y=\"63.360602\" style=\"fill: #1f77b4; stroke: #1f77b4\"/>\n     <use xlink:href=\"#ma77fd3e861\" x=\"98.985969\" y=\"64.320077\" style=\"fill: #1f77b4; stroke: #1f77b4\"/>\n     <use xlink:href=\"#ma77fd3e861\" x=\"186.089965\" y=\"112.060695\" style=\"fill: #1f77b4; stroke: #1f77b4\"/>\n     <use xlink:href=\"#ma77fd3e861\" x=\"132.349471\" y=\"96.234755\" style=\"fill: #1f77b4; stroke: #1f77b4\"/>\n     <use xlink:href=\"#ma77fd3e861\" x=\"91.687617\" y=\"37.978881\" style=\"fill: #1f77b4; stroke: #1f77b4\"/>\n     <use xlink:href=\"#ma77fd3e861\" x=\"143.647248\" y=\"93.217465\" style=\"fill: #1f77b4; stroke: #1f77b4\"/>\n     <use xlink:href=\"#ma77fd3e861\" x=\"126.27047\" y=\"84.299885\" style=\"fill: #1f77b4; stroke: #1f77b4\"/>\n     <use xlink:href=\"#ma77fd3e861\" x=\"160.002187\" y=\"82.227\" style=\"fill: #1f77b4; stroke: #1f77b4\"/>\n     <use xlink:href=\"#ma77fd3e861\" x=\"107.845386\" y=\"43.213722\" style=\"fill: #1f77b4; stroke: #1f77b4\"/>\n     <use xlink:href=\"#ma77fd3e861\" x=\"188.372785\" y=\"96.434352\" style=\"fill: #1f77b4; stroke: #1f77b4\"/>\n     <use xlink:href=\"#ma77fd3e861\" x=\"155.245157\" y=\"101.489349\" style=\"fill: #1f77b4; stroke: #1f77b4\"/>\n     <use xlink:href=\"#ma77fd3e861\" x=\"192.606346\" y=\"105.038199\" style=\"fill: #1f77b4; stroke: #1f77b4\"/>\n     <use xlink:href=\"#ma77fd3e861\" x=\"150.932847\" y=\"80.729997\" style=\"fill: #1f77b4; stroke: #1f77b4\"/>\n     <use xlink:href=\"#ma77fd3e861\" x=\"130.12358\" y=\"102.258705\" style=\"fill: #1f77b4; stroke: #1f77b4\"/>\n     <use xlink:href=\"#ma77fd3e861\" x=\"119.287504\" y=\"54.632357\" style=\"fill: #1f77b4; stroke: #1f77b4\"/>\n     <use xlink:href=\"#ma77fd3e861\" x=\"150.827072\" y=\"104.84526\" style=\"fill: #1f77b4; stroke: #1f77b4\"/>\n     <use xlink:href=\"#ma77fd3e861\" x=\"153.869838\" y=\"77.590048\" style=\"fill: #1f77b4; stroke: #1f77b4\"/>\n     <use xlink:href=\"#ma77fd3e861\" x=\"96.770132\" y=\"66.560718\" style=\"fill: #1f77b4; stroke: #1f77b4\"/>\n     <use xlink:href=\"#ma77fd3e861\" x=\"74.249946\" y=\"80.478858\" style=\"fill: #1f77b4; stroke: #1f77b4\"/>\n     <use xlink:href=\"#ma77fd3e861\" x=\"119.410532\" y=\"80.081262\" style=\"fill: #1f77b4; stroke: #1f77b4\"/>\n     <use xlink:href=\"#ma77fd3e861\" x=\"171.387774\" y=\"101.794939\" style=\"fill: #1f77b4; stroke: #1f77b4\"/>\n     <use xlink:href=\"#ma77fd3e861\" x=\"126.935523\" y=\"101.363321\" style=\"fill: #1f77b4; stroke: #1f77b4\"/>\n     <use xlink:href=\"#ma77fd3e861\" x=\"145.229596\" y=\"100.09149\" style=\"fill: #1f77b4; stroke: #1f77b4\"/>\n     <use xlink:href=\"#ma77fd3e861\" x=\"155.725495\" y=\"98.417615\" style=\"fill: #1f77b4; stroke: #1f77b4\"/>\n     <use xlink:href=\"#ma77fd3e861\" x=\"101.006283\" y=\"63.412966\" style=\"fill: #1f77b4; stroke: #1f77b4\"/>\n     <use xlink:href=\"#ma77fd3e861\" x=\"131.278529\" y=\"64.303813\" style=\"fill: #1f77b4; stroke: #1f77b4\"/>\n     <use xlink:href=\"#ma77fd3e861\" x=\"114.484232\" y=\"43.192725\" style=\"fill: #1f77b4; stroke: #1f77b4\"/>\n     <use xlink:href=\"#ma77fd3e861\" x=\"135.608353\" y=\"87.553291\" style=\"fill: #1f77b4; stroke: #1f77b4\"/>\n     <use xlink:href=\"#ma77fd3e861\" x=\"161.385384\" y=\"99.965253\" style=\"fill: #1f77b4; stroke: #1f77b4\"/>\n     <use xlink:href=\"#ma77fd3e861\" x=\"163.750642\" y=\"108.037608\" style=\"fill: #1f77b4; stroke: #1f77b4\"/>\n     <use xlink:href=\"#ma77fd3e861\" x=\"143.435335\" y=\"111.581941\" style=\"fill: #1f77b4; stroke: #1f77b4\"/>\n     <use xlink:href=\"#ma77fd3e861\" x=\"208.668259\" y=\"124.456908\" style=\"fill: #1f77b4; stroke: #1f77b4\"/>\n     <use xlink:href=\"#ma77fd3e861\" x=\"144.139869\" y=\"78.298705\" style=\"fill: #1f77b4; stroke: #1f77b4\"/>\n     <use xlink:href=\"#ma77fd3e861\" x=\"104.938311\" y=\"64.752816\" style=\"fill: #1f77b4; stroke: #1f77b4\"/>\n     <use xlink:href=\"#ma77fd3e861\" x=\"103.545726\" y=\"63.416827\" style=\"fill: #1f77b4; stroke: #1f77b4\"/>\n     <use xlink:href=\"#ma77fd3e861\" x=\"96.213546\" y=\"58.550675\" style=\"fill: #1f77b4; stroke: #1f77b4\"/>\n     <use xlink:href=\"#ma77fd3e861\" x=\"114.498877\" y=\"75.420622\" style=\"fill: #1f77b4; stroke: #1f77b4\"/>\n     <use xlink:href=\"#ma77fd3e861\" x=\"145.380319\" y=\"92.346222\" style=\"fill: #1f77b4; stroke: #1f77b4\"/>\n     <use xlink:href=\"#ma77fd3e861\" x=\"104.883652\" y=\"53.744722\" style=\"fill: #1f77b4; stroke: #1f77b4\"/>\n     <use xlink:href=\"#ma77fd3e861\" x=\"78.322996\" y=\"54.821632\" style=\"fill: #1f77b4; stroke: #1f77b4\"/>\n     <use xlink:href=\"#ma77fd3e861\" x=\"111.393583\" y=\"87.229962\" style=\"fill: #1f77b4; stroke: #1f77b4\"/>\n     <use xlink:href=\"#ma77fd3e861\" x=\"128.46283\" y=\"92.031312\" style=\"fill: #1f77b4; stroke: #1f77b4\"/>\n     <use xlink:href=\"#ma77fd3e861\" x=\"115.806269\" y=\"56.153558\" style=\"fill: #1f77b4; stroke: #1f77b4\"/>\n     <use xlink:href=\"#ma77fd3e861\" x=\"113.697889\" y=\"83.165768\" style=\"fill: #1f77b4; stroke: #1f77b4\"/>\n     <use xlink:href=\"#ma77fd3e861\" x=\"164.028709\" y=\"115.308172\" style=\"fill: #1f77b4; stroke: #1f77b4\"/>\n     <use xlink:href=\"#ma77fd3e861\" x=\"118.888933\" y=\"75.988747\" style=\"fill: #1f77b4; stroke: #1f77b4\"/>\n     <use xlink:href=\"#ma77fd3e861\" x=\"96.36476\" y=\"62.49804\" style=\"fill: #1f77b4; stroke: #1f77b4\"/>\n     <use xlink:href=\"#ma77fd3e861\" x=\"108.356521\" y=\"71.135903\" style=\"fill: #1f77b4; stroke: #1f77b4\"/>\n     <use xlink:href=\"#ma77fd3e861\" x=\"107.095355\" y=\"72.276139\" style=\"fill: #1f77b4; stroke: #1f77b4\"/>\n     <use xlink:href=\"#ma77fd3e861\" x=\"162.541778\" y=\"82.82374\" style=\"fill: #1f77b4; stroke: #1f77b4\"/>\n     <use xlink:href=\"#ma77fd3e861\" x=\"136.90671\" y=\"84.202567\" style=\"fill: #1f77b4; stroke: #1f77b4\"/>\n     <use xlink:href=\"#ma77fd3e861\" x=\"119.110954\" y=\"78.326068\" style=\"fill: #1f77b4; stroke: #1f77b4\"/>\n     <use xlink:href=\"#ma77fd3e861\" x=\"210.737643\" y=\"128.138084\" style=\"fill: #1f77b4; stroke: #1f77b4\"/>\n     <use xlink:href=\"#ma77fd3e861\" x=\"85.98548\" y=\"45.3369\" style=\"fill: #1f77b4; stroke: #1f77b4\"/>\n     <use xlink:href=\"#ma77fd3e861\" x=\"142.206472\" y=\"84.741882\" style=\"fill: #1f77b4; stroke: #1f77b4\"/>\n     <use xlink:href=\"#ma77fd3e861\" x=\"152.189326\" y=\"111.013292\" style=\"fill: #1f77b4; stroke: #1f77b4\"/>\n     <use xlink:href=\"#ma77fd3e861\" x=\"147.068453\" y=\"67.008874\" style=\"fill: #1f77b4; stroke: #1f77b4\"/>\n     <use xlink:href=\"#ma77fd3e861\" x=\"144.93019\" y=\"85.746871\" style=\"fill: #1f77b4; stroke: #1f77b4\"/>\n     <use xlink:href=\"#ma77fd3e861\" x=\"111.359023\" y=\"76.731761\" style=\"fill: #1f77b4; stroke: #1f77b4\"/>\n     <use xlink:href=\"#ma77fd3e861\" x=\"93.213717\" y=\"35.285273\" style=\"fill: #1f77b4; stroke: #1f77b4\"/>\n     <use xlink:href=\"#ma77fd3e861\" x=\"155.004753\" y=\"98.881351\" style=\"fill: #1f77b4; stroke: #1f77b4\"/>\n     <use xlink:href=\"#ma77fd3e861\" x=\"139.264559\" y=\"72.764522\" style=\"fill: #1f77b4; stroke: #1f77b4\"/>\n     <use xlink:href=\"#ma77fd3e861\" x=\"126.796623\" y=\"95.300634\" style=\"fill: #1f77b4; stroke: #1f77b4\"/>\n     <use xlink:href=\"#ma77fd3e861\" x=\"105.084546\" y=\"58.13432\" style=\"fill: #1f77b4; stroke: #1f77b4\"/>\n     <use xlink:href=\"#ma77fd3e861\" x=\"110.971771\" y=\"63.106828\" style=\"fill: #1f77b4; stroke: #1f77b4\"/>\n     <use xlink:href=\"#ma77fd3e861\" x=\"114.943912\" y=\"91.127689\" style=\"fill: #1f77b4; stroke: #1f77b4\"/>\n     <use xlink:href=\"#ma77fd3e861\" x=\"79.127052\" y=\"45.662777\" style=\"fill: #1f77b4; stroke: #1f77b4\"/>\n     <use xlink:href=\"#ma77fd3e861\" x=\"101.183814\" y=\"69.838409\" style=\"fill: #1f77b4; stroke: #1f77b4\"/>\n     <use xlink:href=\"#ma77fd3e861\" x=\"39.785593\" y=\"25.039592\" style=\"fill: #1f77b4; stroke: #1f77b4\"/>\n     <use xlink:href=\"#ma77fd3e861\" x=\"136.808989\" y=\"80.423371\" style=\"fill: #1f77b4; stroke: #1f77b4\"/>\n     <use xlink:href=\"#ma77fd3e861\" x=\"89.007468\" y=\"39.792841\" style=\"fill: #1f77b4; stroke: #1f77b4\"/>\n     <use xlink:href=\"#ma77fd3e861\" x=\"160.973239\" y=\"107.929873\" style=\"fill: #1f77b4; stroke: #1f77b4\"/>\n     <use xlink:href=\"#ma77fd3e861\" x=\"133.387504\" y=\"92.328732\" style=\"fill: #1f77b4; stroke: #1f77b4\"/>\n     <use xlink:href=\"#ma77fd3e861\" x=\"168.849481\" y=\"95.782519\" style=\"fill: #1f77b4; stroke: #1f77b4\"/>\n     <use xlink:href=\"#ma77fd3e861\" x=\"168.013078\" y=\"122.02205\" style=\"fill: #1f77b4; stroke: #1f77b4\"/>\n     <use xlink:href=\"#ma77fd3e861\" x=\"206.139362\" y=\"107.468936\" style=\"fill: #1f77b4; stroke: #1f77b4\"/>\n     <use xlink:href=\"#ma77fd3e861\" x=\"160.895749\" y=\"95.340314\" style=\"fill: #1f77b4; stroke: #1f77b4\"/>\n     <use xlink:href=\"#ma77fd3e861\" x=\"145.460412\" y=\"78.803111\" style=\"fill: #1f77b4; stroke: #1f77b4\"/>\n     <use xlink:href=\"#ma77fd3e861\" x=\"81.90563\" y=\"59.965686\" style=\"fill: #1f77b4; stroke: #1f77b4\"/>\n     <use xlink:href=\"#ma77fd3e861\" x=\"98.248944\" y=\"54.013979\" style=\"fill: #1f77b4; stroke: #1f77b4\"/>\n     <use xlink:href=\"#ma77fd3e861\" x=\"115.997416\" y=\"66.709876\" style=\"fill: #1f77b4; stroke: #1f77b4\"/>\n     <use xlink:href=\"#ma77fd3e861\" x=\"101.102401\" y=\"64.88582\" style=\"fill: #1f77b4; stroke: #1f77b4\"/>\n     <use xlink:href=\"#ma77fd3e861\" x=\"173.01938\" y=\"110.78453\" style=\"fill: #1f77b4; stroke: #1f77b4\"/>\n     <use xlink:href=\"#ma77fd3e861\" x=\"182.721308\" y=\"89.133016\" style=\"fill: #1f77b4; stroke: #1f77b4\"/>\n     <use xlink:href=\"#ma77fd3e861\" x=\"136.471995\" y=\"74.380725\" style=\"fill: #1f77b4; stroke: #1f77b4\"/>\n     <use xlink:href=\"#ma77fd3e861\" x=\"71.777447\" y=\"28.586119\" style=\"fill: #1f77b4; stroke: #1f77b4\"/>\n     <use xlink:href=\"#ma77fd3e861\" x=\"165.094781\" y=\"85.414687\" style=\"fill: #1f77b4; stroke: #1f77b4\"/>\n     <use xlink:href=\"#ma77fd3e861\" x=\"141.534076\" y=\"65.143953\" style=\"fill: #1f77b4; stroke: #1f77b4\"/>\n     <use xlink:href=\"#ma77fd3e861\" x=\"120.687242\" y=\"64.094587\" style=\"fill: #1f77b4; stroke: #1f77b4\"/>\n     <use xlink:href=\"#ma77fd3e861\" x=\"129.198742\" y=\"77.465875\" style=\"fill: #1f77b4; stroke: #1f77b4\"/>\n     <use xlink:href=\"#ma77fd3e861\" x=\"179.619081\" y=\"106.572436\" style=\"fill: #1f77b4; stroke: #1f77b4\"/>\n     <use xlink:href=\"#ma77fd3e861\" x=\"118.217663\" y=\"73.954309\" style=\"fill: #1f77b4; stroke: #1f77b4\"/>\n     <use xlink:href=\"#ma77fd3e861\" x=\"100.292451\" y=\"58.474589\" style=\"fill: #1f77b4; stroke: #1f77b4\"/>\n     <use xlink:href=\"#ma77fd3e861\" x=\"173.880082\" y=\"96.521281\" style=\"fill: #1f77b4; stroke: #1f77b4\"/>\n     <use xlink:href=\"#ma77fd3e861\" x=\"167.667182\" y=\"89.168274\" style=\"fill: #1f77b4; stroke: #1f77b4\"/>\n     <use xlink:href=\"#ma77fd3e861\" x=\"83.781805\" y=\"55.660841\" style=\"fill: #1f77b4; stroke: #1f77b4\"/>\n     <use xlink:href=\"#ma77fd3e861\" x=\"98.250084\" y=\"56.347981\" style=\"fill: #1f77b4; stroke: #1f77b4\"/>\n     <use xlink:href=\"#ma77fd3e861\" x=\"121.068017\" y=\"65.148179\" style=\"fill: #1f77b4; stroke: #1f77b4\"/>\n     <use xlink:href=\"#ma77fd3e861\" x=\"152.373481\" y=\"90.022281\" style=\"fill: #1f77b4; stroke: #1f77b4\"/>\n     <use xlink:href=\"#ma77fd3e861\" x=\"153.016646\" y=\"100.966974\" style=\"fill: #1f77b4; stroke: #1f77b4\"/>\n     <use xlink:href=\"#ma77fd3e861\" x=\"158.098237\" y=\"110.653734\" style=\"fill: #1f77b4; stroke: #1f77b4\"/>\n     <use xlink:href=\"#ma77fd3e861\" x=\"122.406491\" y=\"84.435694\" style=\"fill: #1f77b4; stroke: #1f77b4\"/>\n     <use xlink:href=\"#ma77fd3e861\" x=\"163.082565\" y=\"107.266194\" style=\"fill: #1f77b4; stroke: #1f77b4\"/>\n     <use xlink:href=\"#ma77fd3e861\" x=\"118.173321\" y=\"75.627161\" style=\"fill: #1f77b4; stroke: #1f77b4\"/>\n     <use xlink:href=\"#ma77fd3e861\" x=\"137.72283\" y=\"111.414183\" style=\"fill: #1f77b4; stroke: #1f77b4\"/>\n     <use xlink:href=\"#ma77fd3e861\" x=\"132.45284\" y=\"92.190103\" style=\"fill: #1f77b4; stroke: #1f77b4\"/>\n     <use xlink:href=\"#ma77fd3e861\" x=\"110.332137\" y=\"51.079502\" style=\"fill: #1f77b4; stroke: #1f77b4\"/>\n     <use xlink:href=\"#ma77fd3e861\" x=\"116.356786\" y=\"80.636271\" style=\"fill: #1f77b4; stroke: #1f77b4\"/>\n     <use xlink:href=\"#ma77fd3e861\" x=\"148.099223\" y=\"97.289316\" style=\"fill: #1f77b4; stroke: #1f77b4\"/>\n     <use xlink:href=\"#ma77fd3e861\" x=\"121.140481\" y=\"71.70673\" style=\"fill: #1f77b4; stroke: #1f77b4\"/>\n     <use xlink:href=\"#ma77fd3e861\" x=\"145.948319\" y=\"92.423671\" style=\"fill: #1f77b4; stroke: #1f77b4\"/>\n     <use xlink:href=\"#ma77fd3e861\" x=\"83.449282\" y=\"82.012388\" style=\"fill: #1f77b4; stroke: #1f77b4\"/>\n     <use xlink:href=\"#ma77fd3e861\" x=\"173.228838\" y=\"90.971485\" style=\"fill: #1f77b4; stroke: #1f77b4\"/>\n     <use xlink:href=\"#ma77fd3e861\" x=\"154.465685\" y=\"86.965012\" style=\"fill: #1f77b4; stroke: #1f77b4\"/>\n     <use xlink:href=\"#ma77fd3e861\" x=\"92.428095\" y=\"50.888854\" style=\"fill: #1f77b4; stroke: #1f77b4\"/>\n     <use xlink:href=\"#ma77fd3e861\" x=\"109.623864\" y=\"59.701323\" style=\"fill: #1f77b4; stroke: #1f77b4\"/>\n     <use xlink:href=\"#ma77fd3e861\" x=\"79.79952\" y=\"54.399286\" style=\"fill: #1f77b4; stroke: #1f77b4\"/>\n     <use xlink:href=\"#ma77fd3e861\" x=\"68.295356\" y=\"61.143736\" style=\"fill: #1f77b4; stroke: #1f77b4\"/>\n     <use xlink:href=\"#ma77fd3e861\" x=\"108.866822\" y=\"74.548565\" style=\"fill: #1f77b4; stroke: #1f77b4\"/>\n     <use xlink:href=\"#ma77fd3e861\" x=\"74.219429\" y=\"65.230154\" style=\"fill: #1f77b4; stroke: #1f77b4\"/>\n     <use xlink:href=\"#ma77fd3e861\" x=\"207.139484\" y=\"129.355744\" style=\"fill: #1f77b4; stroke: #1f77b4\"/>\n     <use xlink:href=\"#ma77fd3e861\" x=\"85.282697\" y=\"34.351707\" style=\"fill: #1f77b4; stroke: #1f77b4\"/>\n     <use xlink:href=\"#ma77fd3e861\" x=\"132.675745\" y=\"100.044198\" style=\"fill: #1f77b4; stroke: #1f77b4\"/>\n     <use xlink:href=\"#ma77fd3e861\" x=\"159.058801\" y=\"84.303995\" style=\"fill: #1f77b4; stroke: #1f77b4\"/>\n     <use xlink:href=\"#ma77fd3e861\" x=\"145.113837\" y=\"80.897624\" style=\"fill: #1f77b4; stroke: #1f77b4\"/>\n     <use xlink:href=\"#ma77fd3e861\" x=\"95.274282\" y=\"79.538567\" style=\"fill: #1f77b4; stroke: #1f77b4\"/>\n     <use xlink:href=\"#ma77fd3e861\" x=\"186.914639\" y=\"115.915458\" style=\"fill: #1f77b4; stroke: #1f77b4\"/>\n     <use xlink:href=\"#ma77fd3e861\" x=\"153.366494\" y=\"93.653133\" style=\"fill: #1f77b4; stroke: #1f77b4\"/>\n     <use xlink:href=\"#ma77fd3e861\" x=\"112.057614\" y=\"59.156122\" style=\"fill: #1f77b4; stroke: #1f77b4\"/>\n     <use xlink:href=\"#ma77fd3e861\" x=\"126.068029\" y=\"73.260939\" style=\"fill: #1f77b4; stroke: #1f77b4\"/>\n     <use xlink:href=\"#ma77fd3e861\" x=\"107.843151\" y=\"49.262362\" style=\"fill: #1f77b4; stroke: #1f77b4\"/>\n     <use xlink:href=\"#ma77fd3e861\" x=\"111.262879\" y=\"78.092922\" style=\"fill: #1f77b4; stroke: #1f77b4\"/>\n     <use xlink:href=\"#ma77fd3e861\" x=\"179.785016\" y=\"123.838742\" style=\"fill: #1f77b4; stroke: #1f77b4\"/>\n     <use xlink:href=\"#ma77fd3e861\" x=\"143.301598\" y=\"92.768278\" style=\"fill: #1f77b4; stroke: #1f77b4\"/>\n     <use xlink:href=\"#ma77fd3e861\" x=\"115.11054\" y=\"61.638721\" style=\"fill: #1f77b4; stroke: #1f77b4\"/>\n     <use xlink:href=\"#ma77fd3e861\" x=\"109.970637\" y=\"66.962597\" style=\"fill: #1f77b4; stroke: #1f77b4\"/>\n     <use xlink:href=\"#ma77fd3e861\" x=\"161.617493\" y=\"96.865245\" style=\"fill: #1f77b4; stroke: #1f77b4\"/>\n     <use xlink:href=\"#ma77fd3e861\" x=\"130.397278\" y=\"71.390306\" style=\"fill: #1f77b4; stroke: #1f77b4\"/>\n     <use xlink:href=\"#ma77fd3e861\" x=\"119.089674\" y=\"93.131352\" style=\"fill: #1f77b4; stroke: #1f77b4\"/>\n     <use xlink:href=\"#ma77fd3e861\" x=\"144.95419\" y=\"85.674396\" style=\"fill: #1f77b4; stroke: #1f77b4\"/>\n     <use xlink:href=\"#ma77fd3e861\" x=\"145.684686\" y=\"104.89674\" style=\"fill: #1f77b4; stroke: #1f77b4\"/>\n     <use xlink:href=\"#ma77fd3e861\" x=\"140.357145\" y=\"86.45814\" style=\"fill: #1f77b4; stroke: #1f77b4\"/>\n     <use xlink:href=\"#ma77fd3e861\" x=\"160.675384\" y=\"84.885589\" style=\"fill: #1f77b4; stroke: #1f77b4\"/>\n     <use xlink:href=\"#ma77fd3e861\" x=\"201.603847\" y=\"107.668102\" style=\"fill: #1f77b4; stroke: #1f77b4\"/>\n     <use xlink:href=\"#ma77fd3e861\" x=\"104.783373\" y=\"70.312491\" style=\"fill: #1f77b4; stroke: #1f77b4\"/>\n     <use xlink:href=\"#ma77fd3e861\" x=\"64.79628\" y=\"32.569959\" style=\"fill: #1f77b4; stroke: #1f77b4\"/>\n     <use xlink:href=\"#ma77fd3e861\" x=\"107.370717\" y=\"39.735411\" style=\"fill: #1f77b4; stroke: #1f77b4\"/>\n     <use xlink:href=\"#ma77fd3e861\" x=\"158.635343\" y=\"97.927091\" style=\"fill: #1f77b4; stroke: #1f77b4\"/>\n     <use xlink:href=\"#ma77fd3e861\" x=\"99.752092\" y=\"55.199934\" style=\"fill: #1f77b4; stroke: #1f77b4\"/>\n     <use xlink:href=\"#ma77fd3e861\" x=\"120.555697\" y=\"72.720173\" style=\"fill: #1f77b4; stroke: #1f77b4\"/>\n     <use xlink:href=\"#ma77fd3e861\" x=\"97.26398\" y=\"79.133593\" style=\"fill: #1f77b4; stroke: #1f77b4\"/>\n     <use xlink:href=\"#ma77fd3e861\" x=\"126.589746\" y=\"84.726762\" style=\"fill: #1f77b4; stroke: #1f77b4\"/>\n     <use xlink:href=\"#ma77fd3e861\" x=\"175.191826\" y=\"117.39681\" style=\"fill: #1f77b4; stroke: #1f77b4\"/>\n     <use xlink:href=\"#ma77fd3e861\" x=\"148.540397\" y=\"94.499465\" style=\"fill: #1f77b4; stroke: #1f77b4\"/>\n     <use xlink:href=\"#ma77fd3e861\" x=\"164.095534\" y=\"108.507303\" style=\"fill: #1f77b4; stroke: #1f77b4\"/>\n     <use xlink:href=\"#ma77fd3e861\" x=\"123.014526\" y=\"59.193305\" style=\"fill: #1f77b4; stroke: #1f77b4\"/>\n     <use xlink:href=\"#ma77fd3e861\" x=\"129.655678\" y=\"67.091479\" style=\"fill: #1f77b4; stroke: #1f77b4\"/>\n     <use xlink:href=\"#ma77fd3e861\" x=\"129.361225\" y=\"80.433843\" style=\"fill: #1f77b4; stroke: #1f77b4\"/>\n     <use xlink:href=\"#ma77fd3e861\" x=\"41.322415\" y=\"32.370758\" style=\"fill: #1f77b4; stroke: #1f77b4\"/>\n     <use xlink:href=\"#ma77fd3e861\" x=\"116.92436\" y=\"70.095773\" style=\"fill: #1f77b4; stroke: #1f77b4\"/>\n     <use xlink:href=\"#ma77fd3e861\" x=\"100.815702\" y=\"70.354137\" style=\"fill: #1f77b4; stroke: #1f77b4\"/>\n     <use xlink:href=\"#ma77fd3e861\" x=\"71.380744\" y=\"46.123158\" style=\"fill: #1f77b4; stroke: #1f77b4\"/>\n     <use xlink:href=\"#ma77fd3e861\" x=\"141.523223\" y=\"80.358028\" style=\"fill: #1f77b4; stroke: #1f77b4\"/>\n     <use xlink:href=\"#ma77fd3e861\" x=\"125.000398\" y=\"70.231423\" style=\"fill: #1f77b4; stroke: #1f77b4\"/>\n     <use xlink:href=\"#ma77fd3e861\" x=\"112.384473\" y=\"66.195137\" style=\"fill: #1f77b4; stroke: #1f77b4\"/>\n     <use xlink:href=\"#ma77fd3e861\" x=\"102.896971\" y=\"73.555149\" style=\"fill: #1f77b4; stroke: #1f77b4\"/>\n     <use xlink:href=\"#ma77fd3e861\" x=\"84.450909\" y=\"50.786094\" style=\"fill: #1f77b4; stroke: #1f77b4\"/>\n     <use xlink:href=\"#ma77fd3e861\" x=\"121.878014\" y=\"97.275967\" style=\"fill: #1f77b4; stroke: #1f77b4\"/>\n     <use xlink:href=\"#ma77fd3e861\" x=\"121.066009\" y=\"59.388879\" style=\"fill: #1f77b4; stroke: #1f77b4\"/>\n     <use xlink:href=\"#ma77fd3e861\" x=\"96.415291\" y=\"62.377485\" style=\"fill: #1f77b4; stroke: #1f77b4\"/>\n     <use xlink:href=\"#ma77fd3e861\" x=\"111.699492\" y=\"56.994851\" style=\"fill: #1f77b4; stroke: #1f77b4\"/>\n     <use xlink:href=\"#ma77fd3e861\" x=\"141.187363\" y=\"78.61142\" style=\"fill: #1f77b4; stroke: #1f77b4\"/>\n     <use xlink:href=\"#ma77fd3e861\" x=\"194.695931\" y=\"121.549069\" style=\"fill: #1f77b4; stroke: #1f77b4\"/>\n     <use xlink:href=\"#ma77fd3e861\" x=\"112.893537\" y=\"50.260104\" style=\"fill: #1f77b4; stroke: #1f77b4\"/>\n     <use xlink:href=\"#ma77fd3e861\" x=\"106.775476\" y=\"56.484712\" style=\"fill: #1f77b4; stroke: #1f77b4\"/>\n     <use xlink:href=\"#ma77fd3e861\" x=\"125.106561\" y=\"63.109741\" style=\"fill: #1f77b4; stroke: #1f77b4\"/>\n     <use xlink:href=\"#ma77fd3e861\" x=\"128.478984\" y=\"76.997188\" style=\"fill: #1f77b4; stroke: #1f77b4\"/>\n     <use xlink:href=\"#ma77fd3e861\" x=\"165.081021\" y=\"91.0378\" style=\"fill: #1f77b4; stroke: #1f77b4\"/>\n     <use xlink:href=\"#ma77fd3e861\" x=\"117.829081\" y=\"64.8158\" style=\"fill: #1f77b4; stroke: #1f77b4\"/>\n     <use xlink:href=\"#ma77fd3e861\" x=\"166.543055\" y=\"99.017389\" style=\"fill: #1f77b4; stroke: #1f77b4\"/>\n     <use xlink:href=\"#ma77fd3e861\" x=\"88.77945\" y=\"46.878712\" style=\"fill: #1f77b4; stroke: #1f77b4\"/>\n     <use xlink:href=\"#ma77fd3e861\" x=\"121.877812\" y=\"69.556808\" style=\"fill: #1f77b4; stroke: #1f77b4\"/>\n     <use xlink:href=\"#ma77fd3e861\" x=\"120.081939\" y=\"67.12198\" style=\"fill: #1f77b4; stroke: #1f77b4\"/>\n     <use xlink:href=\"#ma77fd3e861\" x=\"132.472758\" y=\"69.216397\" style=\"fill: #1f77b4; stroke: #1f77b4\"/>\n     <use xlink:href=\"#ma77fd3e861\" x=\"140.511964\" y=\"84.56272\" style=\"fill: #1f77b4; stroke: #1f77b4\"/>\n     <use xlink:href=\"#ma77fd3e861\" x=\"158.460296\" y=\"115.5153\" style=\"fill: #1f77b4; stroke: #1f77b4\"/>\n     <use xlink:href=\"#ma77fd3e861\" x=\"86.500813\" y=\"70.055929\" style=\"fill: #1f77b4; stroke: #1f77b4\"/>\n     <use xlink:href=\"#ma77fd3e861\" x=\"118.715869\" y=\"53.915488\" style=\"fill: #1f77b4; stroke: #1f77b4\"/>\n     <use xlink:href=\"#ma77fd3e861\" x=\"162.544903\" y=\"99.285761\" style=\"fill: #1f77b4; stroke: #1f77b4\"/>\n     <use xlink:href=\"#ma77fd3e861\" x=\"179.003243\" y=\"105.671303\" style=\"fill: #1f77b4; stroke: #1f77b4\"/>\n     <use xlink:href=\"#ma77fd3e861\" x=\"110.175672\" y=\"59.836617\" style=\"fill: #1f77b4; stroke: #1f77b4\"/>\n     <use xlink:href=\"#ma77fd3e861\" x=\"122.673694\" y=\"84.363739\" style=\"fill: #1f77b4; stroke: #1f77b4\"/>\n     <use xlink:href=\"#ma77fd3e861\" x=\"137.670606\" y=\"82.899254\" style=\"fill: #1f77b4; stroke: #1f77b4\"/>\n     <use xlink:href=\"#ma77fd3e861\" x=\"144.507598\" y=\"85.839631\" style=\"fill: #1f77b4; stroke: #1f77b4\"/>\n     <use xlink:href=\"#ma77fd3e861\" x=\"72.554629\" y=\"44.773045\" style=\"fill: #1f77b4; stroke: #1f77b4\"/>\n     <use xlink:href=\"#ma77fd3e861\" x=\"127.879633\" y=\"78.29815\" style=\"fill: #1f77b4; stroke: #1f77b4\"/>\n     <use xlink:href=\"#ma77fd3e861\" x=\"167.225312\" y=\"106.978633\" style=\"fill: #1f77b4; stroke: #1f77b4\"/>\n     <use xlink:href=\"#ma77fd3e861\" x=\"88.032327\" y=\"50.805531\" style=\"fill: #1f77b4; stroke: #1f77b4\"/>\n     <use xlink:href=\"#ma77fd3e861\" x=\"171.685916\" y=\"113.097382\" style=\"fill: #1f77b4; stroke: #1f77b4\"/>\n     <use xlink:href=\"#ma77fd3e861\" x=\"130.450549\" y=\"76.293243\" style=\"fill: #1f77b4; stroke: #1f77b4\"/>\n     <use xlink:href=\"#ma77fd3e861\" x=\"96.869119\" y=\"77.308407\" style=\"fill: #1f77b4; stroke: #1f77b4\"/>\n     <use xlink:href=\"#ma77fd3e861\" x=\"140.062176\" y=\"93.964866\" style=\"fill: #1f77b4; stroke: #1f77b4\"/>\n     <use xlink:href=\"#ma77fd3e861\" x=\"209.229591\" y=\"118.143911\" style=\"fill: #1f77b4; stroke: #1f77b4\"/>\n     <use xlink:href=\"#ma77fd3e861\" x=\"106.066777\" y=\"66.08537\" style=\"fill: #1f77b4; stroke: #1f77b4\"/>\n     <use xlink:href=\"#ma77fd3e861\" x=\"96.942498\" y=\"75.550604\" style=\"fill: #1f77b4; stroke: #1f77b4\"/>\n     <use xlink:href=\"#ma77fd3e861\" x=\"120.023535\" y=\"61.986925\" style=\"fill: #1f77b4; stroke: #1f77b4\"/>\n     <use xlink:href=\"#ma77fd3e861\" x=\"74.440696\" y=\"42.551489\" style=\"fill: #1f77b4; stroke: #1f77b4\"/>\n     <use xlink:href=\"#ma77fd3e861\" x=\"175.221831\" y=\"104.404165\" style=\"fill: #1f77b4; stroke: #1f77b4\"/>\n     <use xlink:href=\"#ma77fd3e861\" x=\"180.991672\" y=\"101.021311\" style=\"fill: #1f77b4; stroke: #1f77b4\"/>\n     <use xlink:href=\"#ma77fd3e861\" x=\"83.247424\" y=\"89.167598\" style=\"fill: #1f77b4; stroke: #1f77b4\"/>\n     <use xlink:href=\"#ma77fd3e861\" x=\"127.059802\" y=\"63.038766\" style=\"fill: #1f77b4; stroke: #1f77b4\"/>\n     <use xlink:href=\"#ma77fd3e861\" x=\"149.627297\" y=\"82.604456\" style=\"fill: #1f77b4; stroke: #1f77b4\"/>\n     <use xlink:href=\"#ma77fd3e861\" x=\"140.799387\" y=\"94.734511\" style=\"fill: #1f77b4; stroke: #1f77b4\"/>\n     <use xlink:href=\"#ma77fd3e861\" x=\"64.110413\" y=\"56.284561\" style=\"fill: #1f77b4; stroke: #1f77b4\"/>\n     <use xlink:href=\"#ma77fd3e861\" x=\"143.717925\" y=\"87.565109\" style=\"fill: #1f77b4; stroke: #1f77b4\"/>\n     <use xlink:href=\"#ma77fd3e861\" x=\"152.43984\" y=\"88.840515\" style=\"fill: #1f77b4; stroke: #1f77b4\"/>\n     <use xlink:href=\"#ma77fd3e861\" x=\"86.263548\" y=\"41.12046\" style=\"fill: #1f77b4; stroke: #1f77b4\"/>\n     <use xlink:href=\"#ma77fd3e861\" x=\"112.991209\" y=\"73.719846\" style=\"fill: #1f77b4; stroke: #1f77b4\"/>\n     <use xlink:href=\"#ma77fd3e861\" x=\"137.47898\" y=\"70.206652\" style=\"fill: #1f77b4; stroke: #1f77b4\"/>\n     <use xlink:href=\"#ma77fd3e861\" x=\"105.720514\" y=\"74.112745\" style=\"fill: #1f77b4; stroke: #1f77b4\"/>\n     <use xlink:href=\"#ma77fd3e861\" x=\"95.299188\" y=\"64.99408\" style=\"fill: #1f77b4; stroke: #1f77b4\"/>\n     <use xlink:href=\"#ma77fd3e861\" x=\"178.364406\" y=\"120.408401\" style=\"fill: #1f77b4; stroke: #1f77b4\"/>\n     <use xlink:href=\"#ma77fd3e861\" x=\"107.565425\" y=\"66.599275\" style=\"fill: #1f77b4; stroke: #1f77b4\"/>\n     <use xlink:href=\"#ma77fd3e861\" x=\"189.250767\" y=\"98.106098\" style=\"fill: #1f77b4; stroke: #1f77b4\"/>\n     <use xlink:href=\"#ma77fd3e861\" x=\"188.680505\" y=\"118.753878\" style=\"fill: #1f77b4; stroke: #1f77b4\"/>\n     <use xlink:href=\"#ma77fd3e861\" x=\"92.92405\" y=\"49.367197\" style=\"fill: #1f77b4; stroke: #1f77b4\"/>\n     <use xlink:href=\"#ma77fd3e861\" x=\"151.175952\" y=\"86.13977\" style=\"fill: #1f77b4; stroke: #1f77b4\"/>\n     <use xlink:href=\"#ma77fd3e861\" x=\"134.133408\" y=\"83.905181\" style=\"fill: #1f77b4; stroke: #1f77b4\"/>\n     <use xlink:href=\"#ma77fd3e861\" x=\"153.095543\" y=\"100.750015\" style=\"fill: #1f77b4; stroke: #1f77b4\"/>\n     <use xlink:href=\"#ma77fd3e861\" x=\"116.009657\" y=\"71.71296\" style=\"fill: #1f77b4; stroke: #1f77b4\"/>\n     <use xlink:href=\"#ma77fd3e861\" x=\"103.915899\" y=\"58.810626\" style=\"fill: #1f77b4; stroke: #1f77b4\"/>\n     <use xlink:href=\"#ma77fd3e861\" x=\"133.471067\" y=\"90.900949\" style=\"fill: #1f77b4; stroke: #1f77b4\"/>\n     <use xlink:href=\"#ma77fd3e861\" x=\"125.885992\" y=\"92.607704\" style=\"fill: #1f77b4; stroke: #1f77b4\"/>\n     <use xlink:href=\"#ma77fd3e861\" x=\"148.902493\" y=\"99.060356\" style=\"fill: #1f77b4; stroke: #1f77b4\"/>\n     <use xlink:href=\"#ma77fd3e861\" x=\"171.267391\" y=\"113.593414\" style=\"fill: #1f77b4; stroke: #1f77b4\"/>\n     <use xlink:href=\"#ma77fd3e861\" x=\"183.335702\" y=\"115.131121\" style=\"fill: #1f77b4; stroke: #1f77b4\"/>\n     <use xlink:href=\"#ma77fd3e861\" x=\"110.959828\" y=\"83.566171\" style=\"fill: #1f77b4; stroke: #1f77b4\"/>\n     <use xlink:href=\"#ma77fd3e861\" x=\"146.313073\" y=\"89.677724\" style=\"fill: #1f77b4; stroke: #1f77b4\"/>\n     <use xlink:href=\"#ma77fd3e861\" x=\"137.544282\" y=\"87.246799\" style=\"fill: #1f77b4; stroke: #1f77b4\"/>\n     <use xlink:href=\"#ma77fd3e861\" x=\"165.716494\" y=\"122.821295\" style=\"fill: #1f77b4; stroke: #1f77b4\"/>\n     <use xlink:href=\"#ma77fd3e861\" x=\"122.969202\" y=\"62.509327\" style=\"fill: #1f77b4; stroke: #1f77b4\"/>\n     <use xlink:href=\"#ma77fd3e861\" x=\"176.970914\" y=\"96.375662\" style=\"fill: #1f77b4; stroke: #1f77b4\"/>\n     <use xlink:href=\"#ma77fd3e861\" x=\"74.889484\" y=\"41.171846\" style=\"fill: #1f77b4; stroke: #1f77b4\"/>\n     <use xlink:href=\"#ma77fd3e861\" x=\"96.6456\" y=\"53.190495\" style=\"fill: #1f77b4; stroke: #1f77b4\"/>\n     <use xlink:href=\"#ma77fd3e861\" x=\"100.770505\" y=\"48.270863\" style=\"fill: #1f77b4; stroke: #1f77b4\"/>\n     <use xlink:href=\"#ma77fd3e861\" x=\"166.193181\" y=\"90.605867\" style=\"fill: #1f77b4; stroke: #1f77b4\"/>\n     <use xlink:href=\"#ma77fd3e861\" x=\"133.970093\" y=\"82.332552\" style=\"fill: #1f77b4; stroke: #1f77b4\"/>\n     <use xlink:href=\"#ma77fd3e861\" x=\"149.296488\" y=\"70.610586\" style=\"fill: #1f77b4; stroke: #1f77b4\"/>\n     <use xlink:href=\"#ma77fd3e861\" x=\"115.605914\" y=\"86.775956\" style=\"fill: #1f77b4; stroke: #1f77b4\"/>\n     <use xlink:href=\"#ma77fd3e861\" x=\"152.648188\" y=\"92.669375\" style=\"fill: #1f77b4; stroke: #1f77b4\"/>\n     <use xlink:href=\"#ma77fd3e861\" x=\"120.708304\" y=\"66.714332\" style=\"fill: #1f77b4; stroke: #1f77b4\"/>\n     <use xlink:href=\"#ma77fd3e861\" x=\"153.231393\" y=\"100.78178\" style=\"fill: #1f77b4; stroke: #1f77b4\"/>\n     <use xlink:href=\"#ma77fd3e861\" x=\"103.766097\" y=\"69.1425\" style=\"fill: #1f77b4; stroke: #1f77b4\"/>\n     <use xlink:href=\"#ma77fd3e861\" x=\"118.780959\" y=\"61.401898\" style=\"fill: #1f77b4; stroke: #1f77b4\"/>\n     <use xlink:href=\"#ma77fd3e861\" x=\"111.903294\" y=\"73.7539\" style=\"fill: #1f77b4; stroke: #1f77b4\"/>\n     <use xlink:href=\"#ma77fd3e861\" x=\"127.921415\" y=\"74.602026\" style=\"fill: #1f77b4; stroke: #1f77b4\"/>\n     <use xlink:href=\"#ma77fd3e861\" x=\"133.706963\" y=\"42.452939\" style=\"fill: #1f77b4; stroke: #1f77b4\"/>\n     <use xlink:href=\"#ma77fd3e861\" x=\"151.208847\" y=\"86.003135\" style=\"fill: #1f77b4; stroke: #1f77b4\"/>\n     <use xlink:href=\"#ma77fd3e861\" x=\"115.697188\" y=\"71.349578\" style=\"fill: #1f77b4; stroke: #1f77b4\"/>\n     <use xlink:href=\"#ma77fd3e861\" x=\"152.991593\" y=\"87.123393\" style=\"fill: #1f77b4; stroke: #1f77b4\"/>\n     <use xlink:href=\"#ma77fd3e861\" x=\"129.15787\" y=\"86.316636\" style=\"fill: #1f77b4; stroke: #1f77b4\"/>\n     <use xlink:href=\"#ma77fd3e861\" x=\"74.434036\" y=\"36.311285\" style=\"fill: #1f77b4; stroke: #1f77b4\"/>\n     <use xlink:href=\"#ma77fd3e861\" x=\"129.907356\" y=\"69.026249\" style=\"fill: #1f77b4; stroke: #1f77b4\"/>\n     <use xlink:href=\"#ma77fd3e861\" x=\"80.017941\" y=\"38.235073\" style=\"fill: #1f77b4; stroke: #1f77b4\"/>\n     <use xlink:href=\"#ma77fd3e861\" x=\"51.786121\" y=\"30.386128\" style=\"fill: #1f77b4; stroke: #1f77b4\"/>\n     <use xlink:href=\"#ma77fd3e861\" x=\"190.703185\" y=\"108.536809\" style=\"fill: #1f77b4; stroke: #1f77b4\"/>\n     <use xlink:href=\"#ma77fd3e861\" x=\"181.976045\" y=\"105.736621\" style=\"fill: #1f77b4; stroke: #1f77b4\"/>\n     <use xlink:href=\"#ma77fd3e861\" x=\"109.35449\" y=\"68.317988\" style=\"fill: #1f77b4; stroke: #1f77b4\"/>\n     <use xlink:href=\"#ma77fd3e861\" x=\"112.851507\" y=\"55.717965\" style=\"fill: #1f77b4; stroke: #1f77b4\"/>\n     <use xlink:href=\"#ma77fd3e861\" x=\"134.108951\" y=\"96.655183\" style=\"fill: #1f77b4; stroke: #1f77b4\"/>\n     <use xlink:href=\"#ma77fd3e861\" x=\"104.324826\" y=\"59.426832\" style=\"fill: #1f77b4; stroke: #1f77b4\"/>\n     <use xlink:href=\"#ma77fd3e861\" x=\"193.039521\" y=\"123.44504\" style=\"fill: #1f77b4; stroke: #1f77b4\"/>\n     <use xlink:href=\"#ma77fd3e861\" x=\"108.287474\" y=\"57.176861\" style=\"fill: #1f77b4; stroke: #1f77b4\"/>\n     <use xlink:href=\"#ma77fd3e861\" x=\"162.623537\" y=\"109.79945\" style=\"fill: #1f77b4; stroke: #1f77b4\"/>\n     <use xlink:href=\"#ma77fd3e861\" x=\"215.364915\" y=\"139.108735\" style=\"fill: #1f77b4; stroke: #1f77b4\"/>\n     <use xlink:href=\"#ma77fd3e861\" x=\"107.390963\" y=\"58.012606\" style=\"fill: #1f77b4; stroke: #1f77b4\"/>\n     <use xlink:href=\"#ma77fd3e861\" x=\"114.959882\" y=\"77.479366\" style=\"fill: #1f77b4; stroke: #1f77b4\"/>\n     <use xlink:href=\"#ma77fd3e861\" x=\"126.15176\" y=\"53.879195\" style=\"fill: #1f77b4; stroke: #1f77b4\"/>\n     <use xlink:href=\"#ma77fd3e861\" x=\"147.372631\" y=\"102.628315\" style=\"fill: #1f77b4; stroke: #1f77b4\"/>\n     <use xlink:href=\"#ma77fd3e861\" x=\"136.81212\" y=\"77.297978\" style=\"fill: #1f77b4; stroke: #1f77b4\"/>\n     <use xlink:href=\"#ma77fd3e861\" x=\"127.461756\" y=\"87.441111\" style=\"fill: #1f77b4; stroke: #1f77b4\"/>\n     <use xlink:href=\"#ma77fd3e861\" x=\"98.043934\" y=\"58.896996\" style=\"fill: #1f77b4; stroke: #1f77b4\"/>\n     <use xlink:href=\"#ma77fd3e861\" x=\"52.25906\" y=\"43.036182\" style=\"fill: #1f77b4; stroke: #1f77b4\"/>\n     <use xlink:href=\"#ma77fd3e861\" x=\"123.901262\" y=\"91.206494\" style=\"fill: #1f77b4; stroke: #1f77b4\"/>\n     <use xlink:href=\"#ma77fd3e861\" x=\"123.131729\" y=\"86.058295\" style=\"fill: #1f77b4; stroke: #1f77b4\"/>\n     <use xlink:href=\"#ma77fd3e861\" x=\"133.243908\" y=\"84.920773\" style=\"fill: #1f77b4; stroke: #1f77b4\"/>\n     <use xlink:href=\"#ma77fd3e861\" x=\"136.324138\" y=\"82.673545\" style=\"fill: #1f77b4; stroke: #1f77b4\"/>\n     <use xlink:href=\"#ma77fd3e861\" x=\"57.64415\" y=\"59.495045\" style=\"fill: #1f77b4; stroke: #1f77b4\"/>\n     <use xlink:href=\"#ma77fd3e861\" x=\"112.126666\" y=\"64.174674\" style=\"fill: #1f77b4; stroke: #1f77b4\"/>\n     <use xlink:href=\"#ma77fd3e861\" x=\"85.302197\" y=\"47.65404\" style=\"fill: #1f77b4; stroke: #1f77b4\"/>\n     <use xlink:href=\"#ma77fd3e861\" x=\"75.644343\" y=\"44.573623\" style=\"fill: #1f77b4; stroke: #1f77b4\"/>\n     <use xlink:href=\"#ma77fd3e861\" x=\"172.08853\" y=\"94.008542\" style=\"fill: #1f77b4; stroke: #1f77b4\"/>\n     <use xlink:href=\"#ma77fd3e861\" x=\"140.771215\" y=\"77.939651\" style=\"fill: #1f77b4; stroke: #1f77b4\"/>\n     <use xlink:href=\"#ma77fd3e861\" x=\"126.813684\" y=\"73.696218\" style=\"fill: #1f77b4; stroke: #1f77b4\"/>\n     <use xlink:href=\"#ma77fd3e861\" x=\"144.360397\" y=\"112.376049\" style=\"fill: #1f77b4; stroke: #1f77b4\"/>\n     <use xlink:href=\"#ma77fd3e861\" x=\"109.484389\" y=\"64.928693\" style=\"fill: #1f77b4; stroke: #1f77b4\"/>\n     <use xlink:href=\"#ma77fd3e861\" x=\"155.75904\" y=\"89.073796\" style=\"fill: #1f77b4; stroke: #1f77b4\"/>\n     <use xlink:href=\"#ma77fd3e861\" x=\"190.807012\" y=\"118.938262\" style=\"fill: #1f77b4; stroke: #1f77b4\"/>\n     <use xlink:href=\"#ma77fd3e861\" x=\"128.861419\" y=\"37.212553\" style=\"fill: #1f77b4; stroke: #1f77b4\"/>\n     <use xlink:href=\"#ma77fd3e861\" x=\"136.419753\" y=\"97.193312\" style=\"fill: #1f77b4; stroke: #1f77b4\"/>\n     <use xlink:href=\"#ma77fd3e861\" x=\"117.233697\" y=\"55.015084\" style=\"fill: #1f77b4; stroke: #1f77b4\"/>\n     <use xlink:href=\"#ma77fd3e861\" x=\"137.291537\" y=\"70.939163\" style=\"fill: #1f77b4; stroke: #1f77b4\"/>\n     <use xlink:href=\"#ma77fd3e861\" x=\"138.632915\" y=\"98.150632\" style=\"fill: #1f77b4; stroke: #1f77b4\"/>\n     <use xlink:href=\"#ma77fd3e861\" x=\"51.177569\" y=\"35.974896\" style=\"fill: #1f77b4; stroke: #1f77b4\"/>\n     <use xlink:href=\"#ma77fd3e861\" x=\"114.611848\" y=\"65.062415\" style=\"fill: #1f77b4; stroke: #1f77b4\"/>\n     <use xlink:href=\"#ma77fd3e861\" x=\"90.176485\" y=\"43.781996\" style=\"fill: #1f77b4; stroke: #1f77b4\"/>\n     <use xlink:href=\"#ma77fd3e861\" x=\"79.310919\" y=\"33.207607\" style=\"fill: #1f77b4; stroke: #1f77b4\"/>\n     <use xlink:href=\"#ma77fd3e861\" x=\"104.881044\" y=\"69.237901\" style=\"fill: #1f77b4; stroke: #1f77b4\"/>\n     <use xlink:href=\"#ma77fd3e861\" x=\"95.122819\" y=\"62.872486\" style=\"fill: #1f77b4; stroke: #1f77b4\"/>\n     <use xlink:href=\"#ma77fd3e861\" x=\"123.497995\" y=\"81.298489\" style=\"fill: #1f77b4; stroke: #1f77b4\"/>\n     <use xlink:href=\"#ma77fd3e861\" x=\"157.487531\" y=\"80.88469\" style=\"fill: #1f77b4; stroke: #1f77b4\"/>\n     <use xlink:href=\"#ma77fd3e861\" x=\"156.6372\" y=\"104.67576\" style=\"fill: #1f77b4; stroke: #1f77b4\"/>\n     <use xlink:href=\"#ma77fd3e861\" x=\"182.830834\" y=\"99.646562\" style=\"fill: #1f77b4; stroke: #1f77b4\"/>\n     <use xlink:href=\"#ma77fd3e861\" x=\"126.118201\" y=\"69.160386\" style=\"fill: #1f77b4; stroke: #1f77b4\"/>\n     <use xlink:href=\"#ma77fd3e861\" x=\"102.001227\" y=\"66.038005\" style=\"fill: #1f77b4; stroke: #1f77b4\"/>\n     <use xlink:href=\"#ma77fd3e861\" x=\"152.288543\" y=\"74.13441\" style=\"fill: #1f77b4; stroke: #1f77b4\"/>\n     <use xlink:href=\"#ma77fd3e861\" x=\"112.328871\" y=\"49.776028\" style=\"fill: #1f77b4; stroke: #1f77b4\"/>\n     <use xlink:href=\"#ma77fd3e861\" x=\"151.800937\" y=\"87.378624\" style=\"fill: #1f77b4; stroke: #1f77b4\"/>\n     <use xlink:href=\"#ma77fd3e861\" x=\"107.961698\" y=\"64.724418\" style=\"fill: #1f77b4; stroke: #1f77b4\"/>\n     <use xlink:href=\"#ma77fd3e861\" x=\"118.729403\" y=\"85.74326\" style=\"fill: #1f77b4; stroke: #1f77b4\"/>\n     <use xlink:href=\"#ma77fd3e861\" x=\"97.821647\" y=\"76.616183\" style=\"fill: #1f77b4; stroke: #1f77b4\"/>\n     <use xlink:href=\"#ma77fd3e861\" x=\"130.097375\" y=\"76.817104\" style=\"fill: #1f77b4; stroke: #1f77b4\"/>\n     <use xlink:href=\"#ma77fd3e861\" x=\"120.204369\" y=\"76.077229\" style=\"fill: #1f77b4; stroke: #1f77b4\"/>\n     <use xlink:href=\"#ma77fd3e861\" x=\"177.431742\" y=\"109.322589\" style=\"fill: #1f77b4; stroke: #1f77b4\"/>\n     <use xlink:href=\"#ma77fd3e861\" x=\"143.013925\" y=\"80.373071\" style=\"fill: #1f77b4; stroke: #1f77b4\"/>\n     <use xlink:href=\"#ma77fd3e861\" x=\"120.115552\" y=\"72.068627\" style=\"fill: #1f77b4; stroke: #1f77b4\"/>\n     <use xlink:href=\"#ma77fd3e861\" x=\"139.662698\" y=\"100.724213\" style=\"fill: #1f77b4; stroke: #1f77b4\"/>\n     <use xlink:href=\"#ma77fd3e861\" x=\"185.806359\" y=\"105.681312\" style=\"fill: #1f77b4; stroke: #1f77b4\"/>\n     <use xlink:href=\"#ma77fd3e861\" x=\"158.629837\" y=\"90.517369\" style=\"fill: #1f77b4; stroke: #1f77b4\"/>\n     <use xlink:href=\"#ma77fd3e861\" x=\"92.8242\" y=\"86.436608\" style=\"fill: #1f77b4; stroke: #1f77b4\"/>\n     <use xlink:href=\"#ma77fd3e861\" x=\"64.741658\" y=\"28.072694\" style=\"fill: #1f77b4; stroke: #1f77b4\"/>\n     <use xlink:href=\"#ma77fd3e861\" x=\"179.393537\" y=\"102.44119\" style=\"fill: #1f77b4; stroke: #1f77b4\"/>\n     <use xlink:href=\"#ma77fd3e861\" x=\"165.69645\" y=\"82.394604\" style=\"fill: #1f77b4; stroke: #1f77b4\"/>\n     <use xlink:href=\"#ma77fd3e861\" x=\"155.713713\" y=\"81.783905\" style=\"fill: #1f77b4; stroke: #1f77b4\"/>\n     <use xlink:href=\"#ma77fd3e861\" x=\"152.623972\" y=\"91.443321\" style=\"fill: #1f77b4; stroke: #1f77b4\"/>\n     <use xlink:href=\"#ma77fd3e861\" x=\"154.602755\" y=\"95.243308\" style=\"fill: #1f77b4; stroke: #1f77b4\"/>\n     <use xlink:href=\"#ma77fd3e861\" x=\"150.405707\" y=\"77.365751\" style=\"fill: #1f77b4; stroke: #1f77b4\"/>\n     <use xlink:href=\"#ma77fd3e861\" x=\"121.447046\" y=\"60.659549\" style=\"fill: #1f77b4; stroke: #1f77b4\"/>\n     <use xlink:href=\"#ma77fd3e861\" x=\"130.75975\" y=\"64.42344\" style=\"fill: #1f77b4; stroke: #1f77b4\"/>\n     <use xlink:href=\"#ma77fd3e861\" x=\"132.307484\" y=\"79.861627\" style=\"fill: #1f77b4; stroke: #1f77b4\"/>\n     <use xlink:href=\"#ma77fd3e861\" x=\"101.518115\" y=\"62.787254\" style=\"fill: #1f77b4; stroke: #1f77b4\"/>\n     <use xlink:href=\"#ma77fd3e861\" x=\"125.470949\" y=\"88.004167\" style=\"fill: #1f77b4; stroke: #1f77b4\"/>\n     <use xlink:href=\"#ma77fd3e861\" x=\"76.225038\" y=\"25.554223\" style=\"fill: #1f77b4; stroke: #1f77b4\"/>\n     <use xlink:href=\"#ma77fd3e861\" x=\"101.728287\" y=\"43.568576\" style=\"fill: #1f77b4; stroke: #1f77b4\"/>\n     <use xlink:href=\"#ma77fd3e861\" x=\"97.169277\" y=\"50.316139\" style=\"fill: #1f77b4; stroke: #1f77b4\"/>\n     <use xlink:href=\"#ma77fd3e861\" x=\"68.232952\" y=\"44.201365\" style=\"fill: #1f77b4; stroke: #1f77b4\"/>\n     <use xlink:href=\"#ma77fd3e861\" x=\"150.674961\" y=\"89.037605\" style=\"fill: #1f77b4; stroke: #1f77b4\"/>\n     <use xlink:href=\"#ma77fd3e861\" x=\"103.906064\" y=\"67.038479\" style=\"fill: #1f77b4; stroke: #1f77b4\"/>\n     <use xlink:href=\"#ma77fd3e861\" x=\"187.491614\" y=\"108.49738\" style=\"fill: #1f77b4; stroke: #1f77b4\"/>\n     <use xlink:href=\"#ma77fd3e861\" x=\"116.251366\" y=\"57.795167\" style=\"fill: #1f77b4; stroke: #1f77b4\"/>\n     <use xlink:href=\"#ma77fd3e861\" x=\"104.233598\" y=\"48.375988\" style=\"fill: #1f77b4; stroke: #1f77b4\"/>\n     <use xlink:href=\"#ma77fd3e861\" x=\"125.334459\" y=\"69.217012\" style=\"fill: #1f77b4; stroke: #1f77b4\"/>\n     <use xlink:href=\"#ma77fd3e861\" x=\"109.396582\" y=\"59.503696\" style=\"fill: #1f77b4; stroke: #1f77b4\"/>\n     <use xlink:href=\"#ma77fd3e861\" x=\"165.634868\" y=\"111.917031\" style=\"fill: #1f77b4; stroke: #1f77b4\"/>\n     <use xlink:href=\"#ma77fd3e861\" x=\"72.53214\" y=\"57.004527\" style=\"fill: #1f77b4; stroke: #1f77b4\"/>\n     <use xlink:href=\"#ma77fd3e861\" x=\"99.803924\" y=\"54.413971\" style=\"fill: #1f77b4; stroke: #1f77b4\"/>\n     <use xlink:href=\"#ma77fd3e861\" x=\"176.68247\" y=\"97.656937\" style=\"fill: #1f77b4; stroke: #1f77b4\"/>\n     <use xlink:href=\"#ma77fd3e861\" x=\"114.135339\" y=\"59.985978\" style=\"fill: #1f77b4; stroke: #1f77b4\"/>\n     <use xlink:href=\"#ma77fd3e861\" x=\"104.375548\" y=\"61.527999\" style=\"fill: #1f77b4; stroke: #1f77b4\"/>\n     <use xlink:href=\"#ma77fd3e861\" x=\"157.508491\" y=\"87.975366\" style=\"fill: #1f77b4; stroke: #1f77b4\"/>\n     <use xlink:href=\"#ma77fd3e861\" x=\"56.355633\" y=\"43.014627\" style=\"fill: #1f77b4; stroke: #1f77b4\"/>\n     <use xlink:href=\"#ma77fd3e861\" x=\"78.589349\" y=\"46.996666\" style=\"fill: #1f77b4; stroke: #1f77b4\"/>\n     <use xlink:href=\"#ma77fd3e861\" x=\"73.253275\" y=\"46.461505\" style=\"fill: #1f77b4; stroke: #1f77b4\"/>\n     <use xlink:href=\"#ma77fd3e861\" x=\"83.180721\" y=\"43.753802\" style=\"fill: #1f77b4; stroke: #1f77b4\"/>\n     <use xlink:href=\"#ma77fd3e861\" x=\"136.294406\" y=\"90.034003\" style=\"fill: #1f77b4; stroke: #1f77b4\"/>\n     <use xlink:href=\"#ma77fd3e861\" x=\"139.535269\" y=\"84.065484\" style=\"fill: #1f77b4; stroke: #1f77b4\"/>\n     <use xlink:href=\"#ma77fd3e861\" x=\"141.144545\" y=\"92.15007\" style=\"fill: #1f77b4; stroke: #1f77b4\"/>\n     <use xlink:href=\"#ma77fd3e861\" x=\"128.025589\" y=\"79.433442\" style=\"fill: #1f77b4; stroke: #1f77b4\"/>\n     <use xlink:href=\"#ma77fd3e861\" x=\"108.760692\" y=\"51.39373\" style=\"fill: #1f77b4; stroke: #1f77b4\"/>\n     <use xlink:href=\"#ma77fd3e861\" x=\"105.173447\" y=\"48.639232\" style=\"fill: #1f77b4; stroke: #1f77b4\"/>\n     <use xlink:href=\"#ma77fd3e861\" x=\"119.438074\" y=\"69.510735\" style=\"fill: #1f77b4; stroke: #1f77b4\"/>\n     <use xlink:href=\"#ma77fd3e861\" x=\"136.876929\" y=\"94.642945\" style=\"fill: #1f77b4; stroke: #1f77b4\"/>\n     <use xlink:href=\"#ma77fd3e861\" x=\"126.409481\" y=\"58.493253\" style=\"fill: #1f77b4; stroke: #1f77b4\"/>\n     <use xlink:href=\"#ma77fd3e861\" x=\"152.717303\" y=\"81.620821\" style=\"fill: #1f77b4; stroke: #1f77b4\"/>\n     <use xlink:href=\"#ma77fd3e861\" x=\"110.698819\" y=\"52.113425\" style=\"fill: #1f77b4; stroke: #1f77b4\"/>\n     <use xlink:href=\"#ma77fd3e861\" x=\"107.00886\" y=\"74.386676\" style=\"fill: #1f77b4; stroke: #1f77b4\"/>\n     <use xlink:href=\"#ma77fd3e861\" x=\"136.347482\" y=\"92.943144\" style=\"fill: #1f77b4; stroke: #1f77b4\"/>\n     <use xlink:href=\"#ma77fd3e861\" x=\"129.279214\" y=\"77.160805\" style=\"fill: #1f77b4; stroke: #1f77b4\"/>\n     <use xlink:href=\"#ma77fd3e861\" x=\"113.102521\" y=\"71.186197\" style=\"fill: #1f77b4; stroke: #1f77b4\"/>\n     <use xlink:href=\"#ma77fd3e861\" x=\"140.515916\" y=\"98.447757\" style=\"fill: #1f77b4; stroke: #1f77b4\"/>\n     <use xlink:href=\"#ma77fd3e861\" x=\"66.002686\" y=\"44.850062\" style=\"fill: #1f77b4; stroke: #1f77b4\"/>\n     <use xlink:href=\"#ma77fd3e861\" x=\"120.105305\" y=\"77.315127\" style=\"fill: #1f77b4; stroke: #1f77b4\"/>\n     <use xlink:href=\"#ma77fd3e861\" x=\"156.994554\" y=\"92.410396\" style=\"fill: #1f77b4; stroke: #1f77b4\"/>\n     <use xlink:href=\"#ma77fd3e861\" x=\"93.628939\" y=\"70.798152\" style=\"fill: #1f77b4; stroke: #1f77b4\"/>\n     <use xlink:href=\"#ma77fd3e861\" x=\"171.095208\" y=\"87.943519\" style=\"fill: #1f77b4; stroke: #1f77b4\"/>\n     <use xlink:href=\"#ma77fd3e861\" x=\"131.303096\" y=\"61.740564\" style=\"fill: #1f77b4; stroke: #1f77b4\"/>\n     <use xlink:href=\"#ma77fd3e861\" x=\"132.957223\" y=\"79.74684\" style=\"fill: #1f77b4; stroke: #1f77b4\"/>\n     <use xlink:href=\"#ma77fd3e861\" x=\"60.02688\" y=\"48.529087\" style=\"fill: #1f77b4; stroke: #1f77b4\"/>\n     <use xlink:href=\"#ma77fd3e861\" x=\"113.550568\" y=\"74.399623\" style=\"fill: #1f77b4; stroke: #1f77b4\"/>\n     <use xlink:href=\"#ma77fd3e861\" x=\"150.515354\" y=\"97.024373\" style=\"fill: #1f77b4; stroke: #1f77b4\"/>\n     <use xlink:href=\"#ma77fd3e861\" x=\"118.647382\" y=\"77.729412\" style=\"fill: #1f77b4; stroke: #1f77b4\"/>\n     <use xlink:href=\"#ma77fd3e861\" x=\"188.455056\" y=\"82.292059\" style=\"fill: #1f77b4; stroke: #1f77b4\"/>\n     <use xlink:href=\"#ma77fd3e861\" x=\"55.976027\" y=\"20.035049\" style=\"fill: #1f77b4; stroke: #1f77b4\"/>\n     <use xlink:href=\"#ma77fd3e861\" x=\"138.297999\" y=\"87.372607\" style=\"fill: #1f77b4; stroke: #1f77b4\"/>\n     <use xlink:href=\"#ma77fd3e861\" x=\"124.871547\" y=\"81.195846\" style=\"fill: #1f77b4; stroke: #1f77b4\"/>\n     <use xlink:href=\"#ma77fd3e861\" x=\"185.30276\" y=\"113.526089\" style=\"fill: #1f77b4; stroke: #1f77b4\"/>\n     <use xlink:href=\"#ma77fd3e861\" x=\"101.626082\" y=\"62.198527\" style=\"fill: #1f77b4; stroke: #1f77b4\"/>\n     <use xlink:href=\"#ma77fd3e861\" x=\"136.873123\" y=\"91.26032\" style=\"fill: #1f77b4; stroke: #1f77b4\"/>\n     <use xlink:href=\"#ma77fd3e861\" x=\"92.560814\" y=\"50.66865\" style=\"fill: #1f77b4; stroke: #1f77b4\"/>\n     <use xlink:href=\"#ma77fd3e861\" x=\"174.311966\" y=\"107.355846\" style=\"fill: #1f77b4; stroke: #1f77b4\"/>\n     <use xlink:href=\"#ma77fd3e861\" x=\"135.705331\" y=\"83.663191\" style=\"fill: #1f77b4; stroke: #1f77b4\"/>\n     <use xlink:href=\"#ma77fd3e861\" x=\"157.592792\" y=\"90.401162\" style=\"fill: #1f77b4; stroke: #1f77b4\"/>\n     <use xlink:href=\"#ma77fd3e861\" x=\"137.756186\" y=\"96.889085\" style=\"fill: #1f77b4; stroke: #1f77b4\"/>\n     <use xlink:href=\"#ma77fd3e861\" x=\"139.874768\" y=\"104.340511\" style=\"fill: #1f77b4; stroke: #1f77b4\"/>\n     <use xlink:href=\"#ma77fd3e861\" x=\"109.40088\" y=\"89.060674\" style=\"fill: #1f77b4; stroke: #1f77b4\"/>\n     <use xlink:href=\"#ma77fd3e861\" x=\"154.264937\" y=\"81.84471\" style=\"fill: #1f77b4; stroke: #1f77b4\"/>\n     <use xlink:href=\"#ma77fd3e861\" x=\"153.59418\" y=\"76.657563\" style=\"fill: #1f77b4; stroke: #1f77b4\"/>\n     <use xlink:href=\"#ma77fd3e861\" x=\"151.588637\" y=\"90.965832\" style=\"fill: #1f77b4; stroke: #1f77b4\"/>\n     <use xlink:href=\"#ma77fd3e861\" x=\"112.683396\" y=\"60.373355\" style=\"fill: #1f77b4; stroke: #1f77b4\"/>\n     <use xlink:href=\"#ma77fd3e861\" x=\"107.341995\" y=\"48.032471\" style=\"fill: #1f77b4; stroke: #1f77b4\"/>\n     <use xlink:href=\"#ma77fd3e861\" x=\"123.456938\" y=\"77.173012\" style=\"fill: #1f77b4; stroke: #1f77b4\"/>\n     <use xlink:href=\"#ma77fd3e861\" x=\"151.17857\" y=\"95.060144\" style=\"fill: #1f77b4; stroke: #1f77b4\"/>\n     <use xlink:href=\"#ma77fd3e861\" x=\"75.462132\" y=\"49.959408\" style=\"fill: #1f77b4; stroke: #1f77b4\"/>\n     <use xlink:href=\"#ma77fd3e861\" x=\"117.440086\" y=\"59.475986\" style=\"fill: #1f77b4; stroke: #1f77b4\"/>\n     <use xlink:href=\"#ma77fd3e861\" x=\"168.022955\" y=\"109.426969\" style=\"fill: #1f77b4; stroke: #1f77b4\"/>\n     <use xlink:href=\"#ma77fd3e861\" x=\"125.502552\" y=\"85.132775\" style=\"fill: #1f77b4; stroke: #1f77b4\"/>\n     <use xlink:href=\"#ma77fd3e861\" x=\"151.734168\" y=\"96.122462\" style=\"fill: #1f77b4; stroke: #1f77b4\"/>\n     <use xlink:href=\"#ma77fd3e861\" x=\"111.477473\" y=\"70.944328\" style=\"fill: #1f77b4; stroke: #1f77b4\"/>\n     <use xlink:href=\"#ma77fd3e861\" x=\"131.217281\" y=\"78.410797\" style=\"fill: #1f77b4; stroke: #1f77b4\"/>\n     <use xlink:href=\"#ma77fd3e861\" x=\"104.72478\" y=\"58.010096\" style=\"fill: #1f77b4; stroke: #1f77b4\"/>\n     <use xlink:href=\"#ma77fd3e861\" x=\"126.399903\" y=\"75.236655\" style=\"fill: #1f77b4; stroke: #1f77b4\"/>\n     <use xlink:href=\"#ma77fd3e861\" x=\"91.970227\" y=\"52.681801\" style=\"fill: #1f77b4; stroke: #1f77b4\"/>\n     <use xlink:href=\"#ma77fd3e861\" x=\"126.55466\" y=\"64.067081\" style=\"fill: #1f77b4; stroke: #1f77b4\"/>\n     <use xlink:href=\"#ma77fd3e861\" x=\"131.374081\" y=\"74.469983\" style=\"fill: #1f77b4; stroke: #1f77b4\"/>\n     <use xlink:href=\"#ma77fd3e861\" x=\"141.915838\" y=\"94.102336\" style=\"fill: #1f77b4; stroke: #1f77b4\"/>\n     <use xlink:href=\"#ma77fd3e861\" x=\"112.032843\" y=\"65.23412\" style=\"fill: #1f77b4; stroke: #1f77b4\"/>\n     <use xlink:href=\"#ma77fd3e861\" x=\"73.945529\" y=\"49.499198\" style=\"fill: #1f77b4; stroke: #1f77b4\"/>\n     <use xlink:href=\"#ma77fd3e861\" x=\"94.656858\" y=\"63.358357\" style=\"fill: #1f77b4; stroke: #1f77b4\"/>\n     <use xlink:href=\"#ma77fd3e861\" x=\"188.89776\" y=\"117.415641\" style=\"fill: #1f77b4; stroke: #1f77b4\"/>\n     <use xlink:href=\"#ma77fd3e861\" x=\"176.864049\" y=\"107.463413\" style=\"fill: #1f77b4; stroke: #1f77b4\"/>\n     <use xlink:href=\"#ma77fd3e861\" x=\"177.215245\" y=\"113.561351\" style=\"fill: #1f77b4; stroke: #1f77b4\"/>\n     <use xlink:href=\"#ma77fd3e861\" x=\"127.40756\" y=\"82.409965\" style=\"fill: #1f77b4; stroke: #1f77b4\"/>\n     <use xlink:href=\"#ma77fd3e861\" x=\"179.983688\" y=\"99.430022\" style=\"fill: #1f77b4; stroke: #1f77b4\"/>\n     <use xlink:href=\"#ma77fd3e861\" x=\"153.222516\" y=\"92.824676\" style=\"fill: #1f77b4; stroke: #1f77b4\"/>\n     <use xlink:href=\"#ma77fd3e861\" x=\"173.971483\" y=\"98.763474\" style=\"fill: #1f77b4; stroke: #1f77b4\"/>\n     <use xlink:href=\"#ma77fd3e861\" x=\"178.018381\" y=\"101.495951\" style=\"fill: #1f77b4; stroke: #1f77b4\"/>\n     <use xlink:href=\"#ma77fd3e861\" x=\"182.709875\" y=\"121.524127\" style=\"fill: #1f77b4; stroke: #1f77b4\"/>\n     <use xlink:href=\"#ma77fd3e861\" x=\"149.973492\" y=\"81.941211\" style=\"fill: #1f77b4; stroke: #1f77b4\"/>\n     <use xlink:href=\"#ma77fd3e861\" x=\"167.582013\" y=\"101.588807\" style=\"fill: #1f77b4; stroke: #1f77b4\"/>\n     <use xlink:href=\"#ma77fd3e861\" x=\"126.159051\" y=\"71.199522\" style=\"fill: #1f77b4; stroke: #1f77b4\"/>\n     <use xlink:href=\"#ma77fd3e861\" x=\"115.362383\" y=\"80.868331\" style=\"fill: #1f77b4; stroke: #1f77b4\"/>\n     <use xlink:href=\"#ma77fd3e861\" x=\"183.436154\" y=\"115.864792\" style=\"fill: #1f77b4; stroke: #1f77b4\"/>\n     <use xlink:href=\"#ma77fd3e861\" x=\"142.602762\" y=\"67.856662\" style=\"fill: #1f77b4; stroke: #1f77b4\"/>\n     <use xlink:href=\"#ma77fd3e861\" x=\"44.019362\" y=\"29.186894\" style=\"fill: #1f77b4; stroke: #1f77b4\"/>\n     <use xlink:href=\"#ma77fd3e861\" x=\"155.109603\" y=\"93.913342\" style=\"fill: #1f77b4; stroke: #1f77b4\"/>\n     <use xlink:href=\"#ma77fd3e861\" x=\"100.142562\" y=\"74.791515\" style=\"fill: #1f77b4; stroke: #1f77b4\"/>\n     <use xlink:href=\"#ma77fd3e861\" x=\"155.681552\" y=\"101.509281\" style=\"fill: #1f77b4; stroke: #1f77b4\"/>\n     <use xlink:href=\"#ma77fd3e861\" x=\"144.989088\" y=\"74.947447\" style=\"fill: #1f77b4; stroke: #1f77b4\"/>\n     <use xlink:href=\"#ma77fd3e861\" x=\"98.254036\" y=\"36.119607\" style=\"fill: #1f77b4; stroke: #1f77b4\"/>\n     <use xlink:href=\"#ma77fd3e861\" x=\"152.919678\" y=\"111.681205\" style=\"fill: #1f77b4; stroke: #1f77b4\"/>\n     <use xlink:href=\"#ma77fd3e861\" x=\"111.020664\" y=\"65.169356\" style=\"fill: #1f77b4; stroke: #1f77b4\"/>\n     <use xlink:href=\"#ma77fd3e861\" x=\"109.791382\" y=\"51.231041\" style=\"fill: #1f77b4; stroke: #1f77b4\"/>\n     <use xlink:href=\"#ma77fd3e861\" x=\"153.621061\" y=\"96.227136\" style=\"fill: #1f77b4; stroke: #1f77b4\"/>\n     <use xlink:href=\"#ma77fd3e861\" x=\"153.985237\" y=\"95.926269\" style=\"fill: #1f77b4; stroke: #1f77b4\"/>\n     <use xlink:href=\"#ma77fd3e861\" x=\"175.825068\" y=\"98.794409\" style=\"fill: #1f77b4; stroke: #1f77b4\"/>\n     <use xlink:href=\"#ma77fd3e861\" x=\"99.537808\" y=\"39.277577\" style=\"fill: #1f77b4; stroke: #1f77b4\"/>\n     <use xlink:href=\"#ma77fd3e861\" x=\"100.721622\" y=\"61.643261\" style=\"fill: #1f77b4; stroke: #1f77b4\"/>\n     <use xlink:href=\"#ma77fd3e861\" x=\"94.758309\" y=\"65.061691\" style=\"fill: #1f77b4; stroke: #1f77b4\"/>\n     <use xlink:href=\"#ma77fd3e861\" x=\"152.411203\" y=\"73.907163\" style=\"fill: #1f77b4; stroke: #1f77b4\"/>\n     <use xlink:href=\"#ma77fd3e861\" x=\"165.356452\" y=\"106.247796\" style=\"fill: #1f77b4; stroke: #1f77b4\"/>\n     <use xlink:href=\"#ma77fd3e861\" x=\"105.065812\" y=\"59.047068\" style=\"fill: #1f77b4; stroke: #1f77b4\"/>\n     <use xlink:href=\"#ma77fd3e861\" x=\"142.581161\" y=\"93.640273\" style=\"fill: #1f77b4; stroke: #1f77b4\"/>\n     <use xlink:href=\"#ma77fd3e861\" x=\"103.897529\" y=\"38.709919\" style=\"fill: #1f77b4; stroke: #1f77b4\"/>\n     <use xlink:href=\"#ma77fd3e861\" x=\"116.859495\" y=\"65.910673\" style=\"fill: #1f77b4; stroke: #1f77b4\"/>\n     <use xlink:href=\"#ma77fd3e861\" x=\"78.611512\" y=\"43.193315\" style=\"fill: #1f77b4; stroke: #1f77b4\"/>\n     <use xlink:href=\"#ma77fd3e861\" x=\"154.51994\" y=\"86.407888\" style=\"fill: #1f77b4; stroke: #1f77b4\"/>\n     <use xlink:href=\"#ma77fd3e861\" x=\"106.200583\" y=\"54.02757\" style=\"fill: #1f77b4; stroke: #1f77b4\"/>\n     <use xlink:href=\"#ma77fd3e861\" x=\"136.802171\" y=\"91.795034\" style=\"fill: #1f77b4; stroke: #1f77b4\"/>\n     <use xlink:href=\"#ma77fd3e861\" x=\"57.215286\" y=\"48.734902\" style=\"fill: #1f77b4; stroke: #1f77b4\"/>\n     <use xlink:href=\"#ma77fd3e861\" x=\"184.120313\" y=\"116.300087\" style=\"fill: #1f77b4; stroke: #1f77b4\"/>\n     <use xlink:href=\"#ma77fd3e861\" x=\"148.234901\" y=\"100.987753\" style=\"fill: #1f77b4; stroke: #1f77b4\"/>\n     <use xlink:href=\"#ma77fd3e861\" x=\"170.011194\" y=\"84.804861\" style=\"fill: #1f77b4; stroke: #1f77b4\"/>\n     <use xlink:href=\"#ma77fd3e861\" x=\"155.7811\" y=\"94.874892\" style=\"fill: #1f77b4; stroke: #1f77b4\"/>\n     <use xlink:href=\"#ma77fd3e861\" x=\"148.515507\" y=\"99.87458\" style=\"fill: #1f77b4; stroke: #1f77b4\"/>\n     <use xlink:href=\"#ma77fd3e861\" x=\"80.698975\" y=\"44.476211\" style=\"fill: #1f77b4; stroke: #1f77b4\"/>\n     <use xlink:href=\"#ma77fd3e861\" x=\"140.089219\" y=\"88.842074\" style=\"fill: #1f77b4; stroke: #1f77b4\"/>\n     <use xlink:href=\"#ma77fd3e861\" x=\"105.41093\" y=\"67.568774\" style=\"fill: #1f77b4; stroke: #1f77b4\"/>\n     <use xlink:href=\"#ma77fd3e861\" x=\"103.179406\" y=\"71.954118\" style=\"fill: #1f77b4; stroke: #1f77b4\"/>\n     <use xlink:href=\"#ma77fd3e861\" x=\"93.061583\" y=\"64.194748\" style=\"fill: #1f77b4; stroke: #1f77b4\"/>\n     <use xlink:href=\"#ma77fd3e861\" x=\"58.303741\" y=\"35.484968\" style=\"fill: #1f77b4; stroke: #1f77b4\"/>\n     <use xlink:href=\"#ma77fd3e861\" x=\"85.352413\" y=\"46.751179\" style=\"fill: #1f77b4; stroke: #1f77b4\"/>\n     <use xlink:href=\"#ma77fd3e861\" x=\"117.080751\" y=\"78.315945\" style=\"fill: #1f77b4; stroke: #1f77b4\"/>\n     <use xlink:href=\"#ma77fd3e861\" x=\"56.102896\" y=\"52.256339\" style=\"fill: #1f77b4; stroke: #1f77b4\"/>\n     <use xlink:href=\"#ma77fd3e861\" x=\"151.283403\" y=\"96.529832\" style=\"fill: #1f77b4; stroke: #1f77b4\"/>\n     <use xlink:href=\"#ma77fd3e861\" x=\"105.767091\" y=\"50.598815\" style=\"fill: #1f77b4; stroke: #1f77b4\"/>\n     <use xlink:href=\"#ma77fd3e861\" x=\"170.370357\" y=\"95.100108\" style=\"fill: #1f77b4; stroke: #1f77b4\"/>\n     <use xlink:href=\"#ma77fd3e861\" x=\"113.577664\" y=\"73.504002\" style=\"fill: #1f77b4; stroke: #1f77b4\"/>\n     <use xlink:href=\"#ma77fd3e861\" x=\"64.87571\" y=\"42.49318\" style=\"fill: #1f77b4; stroke: #1f77b4\"/>\n     <use xlink:href=\"#ma77fd3e861\" x=\"103.913361\" y=\"37.094867\" style=\"fill: #1f77b4; stroke: #1f77b4\"/>\n     <use xlink:href=\"#ma77fd3e861\" x=\"119.977307\" y=\"89.255493\" style=\"fill: #1f77b4; stroke: #1f77b4\"/>\n     <use xlink:href=\"#ma77fd3e861\" x=\"45.437551\" y=\"20.092511\" style=\"fill: #1f77b4; stroke: #1f77b4\"/>\n     <use xlink:href=\"#ma77fd3e861\" x=\"58.767603\" y=\"45.295619\" style=\"fill: #1f77b4; stroke: #1f77b4\"/>\n     <use xlink:href=\"#ma77fd3e861\" x=\"67.813858\" y=\"41.177483\" style=\"fill: #1f77b4; stroke: #1f77b4\"/>\n     <use xlink:href=\"#ma77fd3e861\" x=\"177.011118\" y=\"100.058471\" style=\"fill: #1f77b4; stroke: #1f77b4\"/>\n     <use xlink:href=\"#ma77fd3e861\" x=\"179.420136\" y=\"108.141763\" style=\"fill: #1f77b4; stroke: #1f77b4\"/>\n     <use xlink:href=\"#ma77fd3e861\" x=\"108.593733\" y=\"67.052035\" style=\"fill: #1f77b4; stroke: #1f77b4\"/>\n     <use xlink:href=\"#ma77fd3e861\" x=\"115.599891\" y=\"73.590865\" style=\"fill: #1f77b4; stroke: #1f77b4\"/>\n     <use xlink:href=\"#ma77fd3e861\" x=\"97.428404\" y=\"75.479071\" style=\"fill: #1f77b4; stroke: #1f77b4\"/>\n     <use xlink:href=\"#ma77fd3e861\" x=\"141.204811\" y=\"89.055016\" style=\"fill: #1f77b4; stroke: #1f77b4\"/>\n     <use xlink:href=\"#ma77fd3e861\" x=\"135.558907\" y=\"92.974433\" style=\"fill: #1f77b4; stroke: #1f77b4\"/>\n     <use xlink:href=\"#ma77fd3e861\" x=\"148.684159\" y=\"100.150376\" style=\"fill: #1f77b4; stroke: #1f77b4\"/>\n     <use xlink:href=\"#ma77fd3e861\" x=\"161.145524\" y=\"102.681025\" style=\"fill: #1f77b4; stroke: #1f77b4\"/>\n     <use xlink:href=\"#ma77fd3e861\" x=\"37.81946\" y=\"28.361919\" style=\"fill: #1f77b4; stroke: #1f77b4\"/>\n     <use xlink:href=\"#ma77fd3e861\" x=\"129.126363\" y=\"94.34768\" style=\"fill: #1f77b4; stroke: #1f77b4\"/>\n     <use xlink:href=\"#ma77fd3e861\" x=\"127.388797\" y=\"93.845662\" style=\"fill: #1f77b4; stroke: #1f77b4\"/>\n     <use xlink:href=\"#ma77fd3e861\" x=\"118.401209\" y=\"77.900159\" style=\"fill: #1f77b4; stroke: #1f77b4\"/>\n     <use xlink:href=\"#ma77fd3e861\" x=\"113.84471\" y=\"65.862599\" style=\"fill: #1f77b4; stroke: #1f77b4\"/>\n     <use xlink:href=\"#ma77fd3e861\" x=\"171.359425\" y=\"90.144695\" style=\"fill: #1f77b4; stroke: #1f77b4\"/>\n     <use xlink:href=\"#ma77fd3e861\" x=\"113.348932\" y=\"54.480212\" style=\"fill: #1f77b4; stroke: #1f77b4\"/>\n     <use xlink:href=\"#ma77fd3e861\" x=\"135.735503\" y=\"76.121214\" style=\"fill: #1f77b4; stroke: #1f77b4\"/>\n     <use xlink:href=\"#ma77fd3e861\" x=\"177.131322\" y=\"100.30196\" style=\"fill: #1f77b4; stroke: #1f77b4\"/>\n     <use xlink:href=\"#ma77fd3e861\" x=\"121.58657\" y=\"85.704205\" style=\"fill: #1f77b4; stroke: #1f77b4\"/>\n     <use xlink:href=\"#ma77fd3e861\" x=\"95.484024\" y=\"66.045283\" style=\"fill: #1f77b4; stroke: #1f77b4\"/>\n     <use xlink:href=\"#ma77fd3e861\" x=\"161.716062\" y=\"98.294178\" style=\"fill: #1f77b4; stroke: #1f77b4\"/>\n     <use xlink:href=\"#ma77fd3e861\" x=\"91.545965\" y=\"41.089069\" style=\"fill: #1f77b4; stroke: #1f77b4\"/>\n     <use xlink:href=\"#ma77fd3e861\" x=\"133.055243\" y=\"70.208597\" style=\"fill: #1f77b4; stroke: #1f77b4\"/>\n     <use xlink:href=\"#ma77fd3e861\" x=\"122.985628\" y=\"92.938672\" style=\"fill: #1f77b4; stroke: #1f77b4\"/>\n     <use xlink:href=\"#ma77fd3e861\" x=\"109.421879\" y=\"73.738087\" style=\"fill: #1f77b4; stroke: #1f77b4\"/>\n     <use xlink:href=\"#ma77fd3e861\" x=\"108.518843\" y=\"66.88722\" style=\"fill: #1f77b4; stroke: #1f77b4\"/>\n     <use xlink:href=\"#ma77fd3e861\" x=\"129.361975\" y=\"71.884573\" style=\"fill: #1f77b4; stroke: #1f77b4\"/>\n     <use xlink:href=\"#ma77fd3e861\" x=\"94.240973\" y=\"41.833757\" style=\"fill: #1f77b4; stroke: #1f77b4\"/>\n     <use xlink:href=\"#ma77fd3e861\" x=\"122.8907\" y=\"67.448481\" style=\"fill: #1f77b4; stroke: #1f77b4\"/>\n     <use xlink:href=\"#ma77fd3e861\" x=\"147.376241\" y=\"102.37278\" style=\"fill: #1f77b4; stroke: #1f77b4\"/>\n     <use xlink:href=\"#ma77fd3e861\" x=\"141.67454\" y=\"96.223237\" style=\"fill: #1f77b4; stroke: #1f77b4\"/>\n     <use xlink:href=\"#ma77fd3e861\" x=\"138.912462\" y=\"91.204226\" style=\"fill: #1f77b4; stroke: #1f77b4\"/>\n     <use xlink:href=\"#ma77fd3e861\" x=\"151.584489\" y=\"93.300886\" style=\"fill: #1f77b4; stroke: #1f77b4\"/>\n     <use xlink:href=\"#ma77fd3e861\" x=\"130.368425\" y=\"84.341166\" style=\"fill: #1f77b4; stroke: #1f77b4\"/>\n     <use xlink:href=\"#ma77fd3e861\" x=\"90.442179\" y=\"72.160558\" style=\"fill: #1f77b4; stroke: #1f77b4\"/>\n     <use xlink:href=\"#ma77fd3e861\" x=\"121.787804\" y=\"59.246308\" style=\"fill: #1f77b4; stroke: #1f77b4\"/>\n     <use xlink:href=\"#ma77fd3e861\" x=\"129.551916\" y=\"95.169208\" style=\"fill: #1f77b4; stroke: #1f77b4\"/>\n     <use xlink:href=\"#ma77fd3e861\" x=\"116.114755\" y=\"65.787206\" style=\"fill: #1f77b4; stroke: #1f77b4\"/>\n     <use xlink:href=\"#ma77fd3e861\" x=\"139.031848\" y=\"69.620543\" style=\"fill: #1f77b4; stroke: #1f77b4\"/>\n     <use xlink:href=\"#ma77fd3e861\" x=\"147.123589\" y=\"87.523717\" style=\"fill: #1f77b4; stroke: #1f77b4\"/>\n     <use xlink:href=\"#ma77fd3e861\" x=\"151.311102\" y=\"85.518114\" style=\"fill: #1f77b4; stroke: #1f77b4\"/>\n     <use xlink:href=\"#ma77fd3e861\" x=\"112.034146\" y=\"88.901295\" style=\"fill: #1f77b4; stroke: #1f77b4\"/>\n     <use xlink:href=\"#ma77fd3e861\" x=\"154.284537\" y=\"82.871105\" style=\"fill: #1f77b4; stroke: #1f77b4\"/>\n     <use xlink:href=\"#ma77fd3e861\" x=\"154.529339\" y=\"102.236493\" style=\"fill: #1f77b4; stroke: #1f77b4\"/>\n     <use xlink:href=\"#ma77fd3e861\" x=\"135.565686\" y=\"97.176648\" style=\"fill: #1f77b4; stroke: #1f77b4\"/>\n     <use xlink:href=\"#ma77fd3e861\" x=\"189.425962\" y=\"114.361412\" style=\"fill: #1f77b4; stroke: #1f77b4\"/>\n     <use xlink:href=\"#ma77fd3e861\" x=\"126.798121\" y=\"60.68459\" style=\"fill: #1f77b4; stroke: #1f77b4\"/>\n     <use xlink:href=\"#ma77fd3e861\" x=\"86.267779\" y=\"40.610034\" style=\"fill: #1f77b4; stroke: #1f77b4\"/>\n     <use xlink:href=\"#ma77fd3e861\" x=\"130.57144\" y=\"96.198363\" style=\"fill: #1f77b4; stroke: #1f77b4\"/>\n     <use xlink:href=\"#ma77fd3e861\" x=\"110.252563\" y=\"67.498108\" style=\"fill: #1f77b4; stroke: #1f77b4\"/>\n     <use xlink:href=\"#ma77fd3e861\" x=\"92.513855\" y=\"56.888629\" style=\"fill: #1f77b4; stroke: #1f77b4\"/>\n     <use xlink:href=\"#ma77fd3e861\" x=\"97.385696\" y=\"51.10575\" style=\"fill: #1f77b4; stroke: #1f77b4\"/>\n     <use xlink:href=\"#ma77fd3e861\" x=\"115.774663\" y=\"52.021219\" style=\"fill: #1f77b4; stroke: #1f77b4\"/>\n     <use xlink:href=\"#ma77fd3e861\" x=\"129.873581\" y=\"65.737861\" style=\"fill: #1f77b4; stroke: #1f77b4\"/>\n     <use xlink:href=\"#ma77fd3e861\" x=\"98.123884\" y=\"65.979218\" style=\"fill: #1f77b4; stroke: #1f77b4\"/>\n     <use xlink:href=\"#ma77fd3e861\" x=\"110.624816\" y=\"75.140119\" style=\"fill: #1f77b4; stroke: #1f77b4\"/>\n     <use xlink:href=\"#ma77fd3e861\" x=\"138.163065\" y=\"90.021553\" style=\"fill: #1f77b4; stroke: #1f77b4\"/>\n     <use xlink:href=\"#ma77fd3e861\" x=\"125.279232\" y=\"75.176101\" style=\"fill: #1f77b4; stroke: #1f77b4\"/>\n    </g>\n   </g>\n   <g id=\"matplotlib.axis_1\">\n    <g id=\"xtick_1\">\n     <g id=\"line2d_1\">\n      <defs>\n       <path id=\"mf0a50a6e96\" d=\"M 0 0 \nL 0 3.5 \n\" style=\"stroke: #000000; stroke-width: 0.8\"/>\n      </defs>\n      <g>\n       <use xlink:href=\"#mf0a50a6e96\" x=\"64.941834\" y=\"145.8\" style=\"stroke: #000000; stroke-width: 0.8\"/>\n      </g>\n     </g>\n     <g id=\"text_1\">\n      <!-- −2 -->\n      <g transform=\"translate(57.57074 160.398438)scale(0.1 -0.1)\">\n       <defs>\n        <path id=\"DejaVuSans-2212\" d=\"M 678 2272 \nL 4684 2272 \nL 4684 1741 \nL 678 1741 \nL 678 2272 \nz\n\" transform=\"scale(0.015625)\"/>\n        <path id=\"DejaVuSans-32\" d=\"M 1228 531 \nL 3431 531 \nL 3431 0 \nL 469 0 \nL 469 531 \nQ 828 903 1448 1529 \nQ 2069 2156 2228 2338 \nQ 2531 2678 2651 2914 \nQ 2772 3150 2772 3378 \nQ 2772 3750 2511 3984 \nQ 2250 4219 1831 4219 \nQ 1534 4219 1204 4116 \nQ 875 4013 500 3803 \nL 500 4441 \nQ 881 4594 1212 4672 \nQ 1544 4750 1819 4750 \nQ 2544 4750 2975 4387 \nQ 3406 4025 3406 3419 \nQ 3406 3131 3298 2873 \nQ 3191 2616 2906 2266 \nQ 2828 2175 2409 1742 \nQ 1991 1309 1228 531 \nz\n\" transform=\"scale(0.015625)\"/>\n       </defs>\n       <use xlink:href=\"#DejaVuSans-2212\"/>\n       <use xlink:href=\"#DejaVuSans-32\" x=\"83.789062\"/>\n      </g>\n     </g>\n    </g>\n    <g id=\"xtick_2\">\n     <g id=\"line2d_2\">\n      <g>\n       <use xlink:href=\"#mf0a50a6e96\" x=\"128.502073\" y=\"145.8\" style=\"stroke: #000000; stroke-width: 0.8\"/>\n      </g>\n     </g>\n     <g id=\"text_2\">\n      <!-- 0 -->\n      <g transform=\"translate(125.320823 160.398438)scale(0.1 -0.1)\">\n       <defs>\n        <path id=\"DejaVuSans-30\" d=\"M 2034 4250 \nQ 1547 4250 1301 3770 \nQ 1056 3291 1056 2328 \nQ 1056 1369 1301 889 \nQ 1547 409 2034 409 \nQ 2525 409 2770 889 \nQ 3016 1369 3016 2328 \nQ 3016 3291 2770 3770 \nQ 2525 4250 2034 4250 \nz\nM 2034 4750 \nQ 2819 4750 3233 4129 \nQ 3647 3509 3647 2328 \nQ 3647 1150 3233 529 \nQ 2819 -91 2034 -91 \nQ 1250 -91 836 529 \nQ 422 1150 422 2328 \nQ 422 3509 836 4129 \nQ 1250 4750 2034 4750 \nz\n\" transform=\"scale(0.015625)\"/>\n       </defs>\n       <use xlink:href=\"#DejaVuSans-30\"/>\n      </g>\n     </g>\n    </g>\n    <g id=\"xtick_3\">\n     <g id=\"line2d_3\">\n      <g>\n       <use xlink:href=\"#mf0a50a6e96\" x=\"192.062312\" y=\"145.8\" style=\"stroke: #000000; stroke-width: 0.8\"/>\n      </g>\n     </g>\n     <g id=\"text_3\">\n      <!-- 2 -->\n      <g transform=\"translate(188.881062 160.398438)scale(0.1 -0.1)\">\n       <use xlink:href=\"#DejaVuSans-32\"/>\n      </g>\n     </g>\n    </g>\n   </g>\n   <g id=\"matplotlib.axis_2\">\n    <g id=\"ytick_1\">\n     <g id=\"line2d_4\">\n      <defs>\n       <path id=\"md918bc6df0\" d=\"M 0 0 \nL -3.5 0 \n\" style=\"stroke: #000000; stroke-width: 0.8\"/>\n      </defs>\n      <g>\n       <use xlink:href=\"#md918bc6df0\" x=\"28.942188\" y=\"129.664622\" style=\"stroke: #000000; stroke-width: 0.8\"/>\n      </g>\n     </g>\n     <g id=\"text_4\">\n      <!-- −5 -->\n      <g transform=\"translate(7.2 133.46384)scale(0.1 -0.1)\">\n       <defs>\n        <path id=\"DejaVuSans-35\" d=\"M 691 4666 \nL 3169 4666 \nL 3169 4134 \nL 1269 4134 \nL 1269 2991 \nQ 1406 3038 1543 3061 \nQ 1681 3084 1819 3084 \nQ 2600 3084 3056 2656 \nQ 3513 2228 3513 1497 \nQ 3513 744 3044 326 \nQ 2575 -91 1722 -91 \nQ 1428 -91 1123 -41 \nQ 819 9 494 109 \nL 494 744 \nQ 775 591 1075 516 \nQ 1375 441 1709 441 \nQ 2250 441 2565 725 \nQ 2881 1009 2881 1497 \nQ 2881 1984 2565 2268 \nQ 2250 2553 1709 2553 \nQ 1456 2553 1204 2497 \nQ 953 2441 691 2322 \nL 691 4666 \nz\n\" transform=\"scale(0.015625)\"/>\n       </defs>\n       <use xlink:href=\"#DejaVuSans-2212\"/>\n       <use xlink:href=\"#DejaVuSans-35\" x=\"83.789062\"/>\n      </g>\n     </g>\n    </g>\n    <g id=\"ytick_2\">\n     <g id=\"line2d_5\">\n      <g>\n       <use xlink:href=\"#md918bc6df0\" x=\"28.942188\" y=\"101.545727\" style=\"stroke: #000000; stroke-width: 0.8\"/>\n      </g>\n     </g>\n     <g id=\"text_5\">\n      <!-- 0 -->\n      <g transform=\"translate(15.579688 105.344946)scale(0.1 -0.1)\">\n       <use xlink:href=\"#DejaVuSans-30\"/>\n      </g>\n     </g>\n    </g>\n    <g id=\"ytick_3\">\n     <g id=\"line2d_6\">\n      <g>\n       <use xlink:href=\"#md918bc6df0\" x=\"28.942188\" y=\"73.426833\" style=\"stroke: #000000; stroke-width: 0.8\"/>\n      </g>\n     </g>\n     <g id=\"text_6\">\n      <!-- 5 -->\n      <g transform=\"translate(15.579688 77.226052)scale(0.1 -0.1)\">\n       <use xlink:href=\"#DejaVuSans-35\"/>\n      </g>\n     </g>\n    </g>\n    <g id=\"ytick_4\">\n     <g id=\"line2d_7\">\n      <g>\n       <use xlink:href=\"#md918bc6df0\" x=\"28.942188\" y=\"45.307939\" style=\"stroke: #000000; stroke-width: 0.8\"/>\n      </g>\n     </g>\n     <g id=\"text_7\">\n      <!-- 10 -->\n      <g transform=\"translate(9.217188 49.107157)scale(0.1 -0.1)\">\n       <defs>\n        <path id=\"DejaVuSans-31\" d=\"M 794 531 \nL 1825 531 \nL 1825 4091 \nL 703 3866 \nL 703 4441 \nL 1819 4666 \nL 2450 4666 \nL 2450 531 \nL 3481 531 \nL 3481 0 \nL 794 0 \nL 794 531 \nz\n\" transform=\"scale(0.015625)\"/>\n       </defs>\n       <use xlink:href=\"#DejaVuSans-31\"/>\n       <use xlink:href=\"#DejaVuSans-30\" x=\"63.623047\"/>\n      </g>\n     </g>\n    </g>\n    <g id=\"ytick_5\">\n     <g id=\"line2d_8\">\n      <g>\n       <use xlink:href=\"#md918bc6df0\" x=\"28.942188\" y=\"17.189044\" style=\"stroke: #000000; stroke-width: 0.8\"/>\n      </g>\n     </g>\n     <g id=\"text_8\">\n      <!-- 15 -->\n      <g transform=\"translate(9.217188 20.988263)scale(0.1 -0.1)\">\n       <use xlink:href=\"#DejaVuSans-31\"/>\n       <use xlink:href=\"#DejaVuSans-35\" x=\"63.623047\"/>\n      </g>\n     </g>\n    </g>\n   </g>\n   <g id=\"patch_3\">\n    <path d=\"M 28.942188 145.8 \nL 28.942188 7.2 \n\" style=\"fill: none; stroke: #000000; stroke-width: 0.8; stroke-linejoin: miter; stroke-linecap: square\"/>\n   </g>\n   <g id=\"patch_4\">\n    <path d=\"M 224.242188 145.8 \nL 224.242188 7.2 \n\" style=\"fill: none; stroke: #000000; stroke-width: 0.8; stroke-linejoin: miter; stroke-linecap: square\"/>\n   </g>\n   <g id=\"patch_5\">\n    <path d=\"M 28.942187 145.8 \nL 224.242188 145.8 \n\" style=\"fill: none; stroke: #000000; stroke-width: 0.8; stroke-linejoin: miter; stroke-linecap: square\"/>\n   </g>\n   <g id=\"patch_6\">\n    <path d=\"M 28.942187 7.2 \nL 224.242188 7.2 \n\" style=\"fill: none; stroke: #000000; stroke-width: 0.8; stroke-linejoin: miter; stroke-linecap: square\"/>\n   </g>\n  </g>\n </g>\n <defs>\n  <clipPath id=\"p6c1405f952\">\n   <rect x=\"28.942188\" y=\"7.2\" width=\"195.3\" height=\"138.6\"/>\n  </clipPath>\n </defs>\n</svg>\n"
     },
     "metadata": {},
     "output_type": "display_data"
    }
   ],
   "source": [
    "d2l.set_figsize()\n",
    "d2l.plt.scatter(features[:, 1].detach().numpy(), labels.detach().numpy(), 1);"
   ]
  },
  {
   "cell_type": "markdown",
   "id": "b032f500",
   "metadata": {
    "origin_pos": 13
   },
   "source": [
    "## 读取数据集\n",
    "\n",
    "回想一下，训练模型时要对数据集进行遍历，每次抽取一小批量样本，并使用它们来更新我们的模型。\n",
    "由于这个过程是训练机器学习算法的基础，所以有必要定义一个函数，\n",
    "该函数能打乱数据集中的样本并以小批量方式获取数据。\n",
    "\n",
    "在下面的代码中，我们[**定义一个`data_iter`函数，\n",
    "该函数接收批量大小、特征矩阵和标签向量作为输入，生成大小为`batch_size`的小批量**]。\n",
    "每个小批量包含一组特征和标签。\n"
   ]
  },
  {
   "cell_type": "code",
   "execution_count": 6,
   "id": "3da34ac6",
   "metadata": {
    "execution": {
     "iopub.execute_input": "2023-08-18T07:02:04.839342Z",
     "iopub.status.busy": "2023-08-18T07:02:04.838682Z",
     "iopub.status.idle": "2023-08-18T07:02:04.846329Z",
     "shell.execute_reply": "2023-08-18T07:02:04.845247Z"
    },
    "origin_pos": 14,
    "tab": [
     "pytorch"
    ],
    "ExecuteTime": {
     "end_time": "2024-04-07T05:58:00.016315Z",
     "start_time": "2024-04-07T05:58:00.003292Z"
    }
   },
   "outputs": [],
   "source": [
    "def data_iter(batch_size, features, labels):\n",
    "    num_examples = len(features)\n",
    "    indices = list(range(num_examples))\n",
    "    # 这些样本是随机读取的，没有特定的顺序\n",
    "    random.shuffle(indices)\n",
    "    for i in range(0, num_examples, batch_size):\n",
    "        batch_indices = torch.tensor(\n",
    "            indices[i: min(i + batch_size, num_examples)])\n",
    "        yield features[batch_indices], labels[batch_indices]\n",
    "        # yield关键字，类似return，但是返回的是一个生成器，每次调用生成器的时候，执行到yield的时候，返回yield后面的值，然后暂停，下次调用的时候，从暂停的地方继续执行\n",
    "        # 返回x，y，x是features[batch_indices]，y是labels[batch_indices]"
   ]
  },
  {
   "cell_type": "markdown",
   "id": "52e08a78",
   "metadata": {
    "origin_pos": 16
   },
   "source": [
    "通常，我们利用GPU并行运算的优势，处理合理大小的“小批量”。\n",
    "每个样本都可以并行地进行模型计算，且每个样本损失函数的梯度也可以被并行计算。\n",
    "GPU可以在处理几百个样本时，所花费的时间不比处理一个样本时多太多。\n",
    "\n",
    "我们直观感受一下小批量运算：读取第一个小批量数据样本并打印。\n",
    "每个批量的特征维度显示批量大小和输入特征数。\n",
    "同样的，批量的标签形状与`batch_size`相等。\n"
   ]
  },
  {
   "cell_type": "code",
   "execution_count": 7,
   "id": "1dce0726",
   "metadata": {
    "execution": {
     "iopub.execute_input": "2023-08-18T07:02:04.851066Z",
     "iopub.status.busy": "2023-08-18T07:02:04.850456Z",
     "iopub.status.idle": "2023-08-18T07:02:04.859860Z",
     "shell.execute_reply": "2023-08-18T07:02:04.858756Z"
    },
    "origin_pos": 17,
    "tab": [
     "pytorch"
    ],
    "ExecuteTime": {
     "end_time": "2024-04-07T05:58:05.706227Z",
     "start_time": "2024-04-07T05:58:05.697213Z"
    }
   },
   "outputs": [
    {
     "name": "stdout",
     "output_type": "stream",
     "text": [
      "tensor([[ 0.5587,  1.5581],\n",
      "        [ 1.1457,  0.0432],\n",
      "        [ 0.4924,  0.7445],\n",
      "        [ 0.2569, -0.2852],\n",
      "        [ 1.1094,  0.3578],\n",
      "        [ 0.1821,  1.0193],\n",
      "        [-2.1655, -0.0493],\n",
      "        [ 0.3909,  0.2711],\n",
      "        [-0.6822, -0.4261],\n",
      "        [ 0.1761,  0.5169]]) \n",
      " tensor([[0.0089],\n",
      "        [6.3672],\n",
      "        [2.6528],\n",
      "        [5.6963],\n",
      "        [5.1828],\n",
      "        [1.1034],\n",
      "        [0.0324],\n",
      "        [4.0829],\n",
      "        [4.2794],\n",
      "        [2.8093]])\n"
     ]
    }
   ],
   "source": [
    "batch_size = 10\n",
    "\n",
    "for X, y in data_iter(batch_size, features, labels):\n",
    "    print(X, '\\n', y)\n",
    "    break"
   ]
  },
  {
   "cell_type": "markdown",
   "id": "d86e62d7",
   "metadata": {
    "origin_pos": 18
   },
   "source": [
    "当我们运行迭代时，我们会连续地获得不同的小批量，直至遍历完整个数据集。\n",
    "上面实现的迭代对教学来说很好，但它的执行效率很低，可能会在实际问题上陷入麻烦。\n",
    "例如，它要求我们将所有数据加载到内存中，并执行大量的随机内存访问。\n",
    "在深度学习框架中实现的内置迭代器效率要高得多，\n",
    "它可以处理存储在文件中的数据和数据流提供的数据。\n",
    "\n",
    "## 初始化模型参数\n",
    "\n",
    "[**在我们开始用小批量随机梯度下降优化我们的模型参数之前**]，\n",
    "(**我们需要先有一些参数**)。\n",
    "在下面的代码中，我们通过从均值为0、标准差为0.01的正态分布中采样随机数来初始化权重，\n",
    "并将偏置初始化为0。\n"
   ]
  },
  {
   "cell_type": "code",
   "execution_count": 8,
   "id": "12c51289",
   "metadata": {
    "execution": {
     "iopub.execute_input": "2023-08-18T07:02:04.864457Z",
     "iopub.status.busy": "2023-08-18T07:02:04.863853Z",
     "iopub.status.idle": "2023-08-18T07:02:04.869983Z",
     "shell.execute_reply": "2023-08-18T07:02:04.868859Z"
    },
    "origin_pos": 20,
    "tab": [
     "pytorch"
    ],
    "ExecuteTime": {
     "end_time": "2024-04-07T05:59:21.440957Z",
     "start_time": "2024-04-07T05:59:21.432829Z"
    }
   },
   "outputs": [],
   "source": [
    "# 初始化模型参数\n",
    "w = torch.normal(0, 0.01, size=(2,1), requires_grad=True)\n",
    "b = torch.zeros(1, requires_grad=True)"
   ]
  },
  {
   "cell_type": "markdown",
   "id": "c59d5d68",
   "metadata": {
    "origin_pos": 23
   },
   "source": [
    "在初始化参数之后，我们的任务是更新这些参数，直到这些参数足够拟合我们的数据。\n",
    "每次更新都需要计算损失函数关于模型参数的梯度。\n",
    "有了这个梯度，我们就可以向减小损失的方向更新每个参数。\n",
    "因为手动计算梯度很枯燥而且容易出错，所以没有人会手动计算梯度。\n",
    "我们使用 :numref:`sec_autograd`中引入的自动微分来计算梯度。\n",
    "\n",
    "## 定义模型\n",
    "\n",
    "接下来，我们必须[**定义模型，将模型的输入和参数同模型的输出关联起来。**]\n",
    "回想一下，要计算线性模型的输出，\n",
    "我们只需计算输入特征$\\mathbf{X}$和模型权重$\\mathbf{w}$的矩阵-向量乘法后加上偏置$b$。\n",
    "注意，上面的$\\mathbf{Xw}$是一个向量，而$b$是一个标量。\n",
    "回想一下 :numref:`subsec_broadcasting`中描述的广播机制：\n",
    "当我们用一个向量加一个标量时，标量会被加到向量的每个分量上。\n"
   ]
  },
  {
   "cell_type": "code",
   "execution_count": 9,
   "id": "b8b29b19",
   "metadata": {
    "execution": {
     "iopub.execute_input": "2023-08-18T07:02:04.874642Z",
     "iopub.status.busy": "2023-08-18T07:02:04.874004Z",
     "iopub.status.idle": "2023-08-18T07:02:04.879521Z",
     "shell.execute_reply": "2023-08-18T07:02:04.878471Z"
    },
    "origin_pos": 24,
    "tab": [
     "pytorch"
    ],
    "ExecuteTime": {
     "end_time": "2024-04-07T06:01:52.815159Z",
     "start_time": "2024-04-07T06:01:52.808121Z"
    }
   },
   "outputs": [],
   "source": [
    "# 定义模型\n",
    "def linreg(X, w, b):  #@save\n",
    "    \"\"\"线性回归模型\"\"\"\n",
    "    return torch.matmul(X, w) + b"
   ]
  },
  {
   "cell_type": "markdown",
   "id": "6b7765ef",
   "metadata": {
    "origin_pos": 25
   },
   "source": [
    "## [**定义损失函数**]\n",
    "\n",
    "因为需要计算损失函数的梯度，所以我们应该先定义损失函数。\n",
    "这里我们使用 :numref:`sec_linear_regression`中描述的平方损失函数。\n",
    "在实现中，我们需要将真实值`y`的形状转换为和预测值`y_hat`的形状相同。\n"
   ]
  },
  {
   "cell_type": "code",
   "execution_count": 10,
   "id": "3dda15c7",
   "metadata": {
    "execution": {
     "iopub.execute_input": "2023-08-18T07:02:04.884156Z",
     "iopub.status.busy": "2023-08-18T07:02:04.883559Z",
     "iopub.status.idle": "2023-08-18T07:02:04.889065Z",
     "shell.execute_reply": "2023-08-18T07:02:04.887964Z"
    },
    "origin_pos": 26,
    "tab": [
     "pytorch"
    ],
    "ExecuteTime": {
     "end_time": "2024-04-07T06:02:30.644994Z",
     "start_time": "2024-04-07T06:02:30.631591Z"
    }
   },
   "outputs": [],
   "source": [
    "# 定义损失函数\n",
    "def squared_loss(y_hat, y):  #@save\n",
    "    \"\"\"均方损失\"\"\"\n",
    "    return (y_hat - y.reshape(y_hat.shape)) ** 2 / 2 # 没有求均值"
   ]
  },
  {
   "cell_type": "markdown",
   "id": "56969029",
   "metadata": {
    "origin_pos": 27
   },
   "source": [
    "## (**定义优化算法**)\n",
    "\n",
    "正如我们在 :numref:`sec_linear_regression`中讨论的，线性回归有解析解。\n",
    "尽管线性回归有解析解，但本书中的其他模型却没有。\n",
    "这里我们介绍小批量随机梯度下降。\n",
    "\n",
    "在每一步中，使用从数据集中随机抽取的一个小批量，然后根据参数计算损失的梯度。\n",
    "接下来，朝着减少损失的方向更新我们的参数。\n",
    "下面的函数实现小批量随机梯度下降更新。\n",
    "该函数接受模型参数集合、学习速率和批量大小作为输入。每\n",
    "一步更新的大小由学习速率`lr`决定。\n",
    "因为我们计算的损失是一个批量样本的总和，所以我们用批量大小（`batch_size`）\n",
    "来规范化步长，这样步长大小就不会取决于我们对批量大小的选择。\n"
   ]
  },
  {
   "cell_type": "code",
   "execution_count": 11,
   "id": "8f92242d",
   "metadata": {
    "execution": {
     "iopub.execute_input": "2023-08-18T07:02:04.893665Z",
     "iopub.status.busy": "2023-08-18T07:02:04.892999Z",
     "iopub.status.idle": "2023-08-18T07:02:04.899100Z",
     "shell.execute_reply": "2023-08-18T07:02:04.898003Z"
    },
    "origin_pos": 29,
    "tab": [
     "pytorch"
    ],
    "ExecuteTime": {
     "end_time": "2024-04-07T06:02:55.647053Z",
     "start_time": "2024-04-07T06:02:55.644053Z"
    }
   },
   "outputs": [],
   "source": [
    "# 定义优化算法\n",
    "def sgd(params, lr, batch_size):  #@save\n",
    "    \"\"\"小批量随机梯度下降\"\"\"\n",
    "    with torch.no_grad():\n",
    "        for param in params:\n",
    "            param -= lr * param.grad / batch_size # 损失函数没有求均值，所以这里要除以batch_size\n",
    "            param.grad.zero_() # 梯度清零"
   ]
  },
  {
   "cell_type": "markdown",
   "id": "89067f86",
   "metadata": {
    "origin_pos": 32
   },
   "source": [
    "## 训练\n",
    "\n",
    "现在我们已经准备好了模型训练所有需要的要素，可以实现主要的[**训练过程**]部分了。\n",
    "理解这段代码至关重要，因为从事深度学习后，\n",
    "相同的训练过程几乎一遍又一遍地出现。\n",
    "在每次迭代中，我们读取一小批量训练样本，并通过我们的模型来获得一组预测。\n",
    "计算完损失后，我们开始反向传播，存储每个参数的梯度。\n",
    "最后，我们调用优化算法`sgd`来更新模型参数。\n",
    "\n",
    "概括一下，我们将执行以下循环：\n",
    "\n",
    "* 初始化参数\n",
    "* 重复以下训练，直到完成\n",
    "    * 计算梯度$\\mathbf{g} \\leftarrow \\partial_{(\\mathbf{w},b)} \\frac{1}{|\\mathcal{B}|} \\sum_{i \\in \\mathcal{B}} l(\\mathbf{x}^{(i)}, y^{(i)}, \\mathbf{w}, b)$\n",
    "    * 更新参数$(\\mathbf{w}, b) \\leftarrow (\\mathbf{w}, b) - \\eta \\mathbf{g}$\n",
    "\n",
    "在每个*迭代周期*（epoch）中，我们使用`data_iter`函数遍历整个数据集，\n",
    "并将训练数据集中所有样本都使用一次（假设样本数能够被批量大小整除）。\n",
    "这里的迭代周期个数`num_epochs`和学习率`lr`都是超参数，分别设为3和0.03。\n",
    "设置超参数很棘手，需要通过反复试验进行调整。\n",
    "我们现在忽略这些细节，以后会在 :numref:`chap_optimization`中详细介绍。\n"
   ]
  },
  {
   "cell_type": "code",
   "execution_count": 12,
   "id": "9163db58",
   "metadata": {
    "execution": {
     "iopub.execute_input": "2023-08-18T07:02:04.903791Z",
     "iopub.status.busy": "2023-08-18T07:02:04.903216Z",
     "iopub.status.idle": "2023-08-18T07:02:04.908499Z",
     "shell.execute_reply": "2023-08-18T07:02:04.907341Z"
    },
    "origin_pos": 33,
    "tab": [
     "pytorch"
    ],
    "ExecuteTime": {
     "end_time": "2024-04-07T06:05:00.844650Z",
     "start_time": "2024-04-07T06:05:00.832635Z"
    }
   },
   "outputs": [],
   "source": [
    "# 设置超参数\n",
    "# 更新超参数后，需要重新初始化w和b\n",
    "lr = 0.03\n",
    "num_epochs = 3\n",
    "net = linreg\n",
    "loss = squared_loss"
   ]
  },
  {
   "cell_type": "code",
   "execution_count": 13,
   "id": "ad5c2cd1",
   "metadata": {
    "execution": {
     "iopub.execute_input": "2023-08-18T07:02:04.913061Z",
     "iopub.status.busy": "2023-08-18T07:02:04.912436Z",
     "iopub.status.idle": "2023-08-18T07:02:05.067276Z",
     "shell.execute_reply": "2023-08-18T07:02:05.066107Z"
    },
    "origin_pos": 35,
    "tab": [
     "pytorch"
    ],
    "ExecuteTime": {
     "end_time": "2024-04-07T06:06:33.633795Z",
     "start_time": "2024-04-07T06:06:33.578406Z"
    }
   },
   "outputs": [
    {
     "name": "stdout",
     "output_type": "stream",
     "text": [
      "epoch 1, loss 0.032001\n",
      "epoch 2, loss 0.000111\n",
      "epoch 3, loss 0.000052\n"
     ]
    }
   ],
   "source": [
    "# 训练\n",
    "for epoch in range(num_epochs):\n",
    "    for X, y in data_iter(batch_size, features, labels):\n",
    "        l = loss(net(X, w, b), y)  # X和y的小批量损失\n",
    "        # 因为l形状是(batch_size,1)，而不是一个标量。\n",
    "        # l中的所有元素被加到一起，并以此计算关于[w,b]的梯度\n",
    "        l.sum().backward()\n",
    "        sgd([w, b], lr, batch_size)  # 使用参数的梯度更新参数\n",
    "    with torch.no_grad():\n",
    "        train_l = loss(net(features, w, b), labels)\n",
    "        print(f'epoch {epoch + 1}, loss {float(train_l.mean()):f}')"
   ]
  },
  {
   "cell_type": "markdown",
   "id": "427d8cda",
   "metadata": {
    "origin_pos": 38
   },
   "source": [
    "因为我们使用的是自己合成的数据集，所以我们知道真正的参数是什么。\n",
    "因此，我们可以通过[**比较真实参数和通过训练学到的参数来评估训练的成功程度**]。\n",
    "事实上，真实参数和通过训练学到的参数确实非常接近。\n"
   ]
  },
  {
   "cell_type": "code",
   "execution_count": 14,
   "id": "a4c3d525",
   "metadata": {
    "execution": {
     "iopub.execute_input": "2023-08-18T07:02:05.072546Z",
     "iopub.status.busy": "2023-08-18T07:02:05.071769Z",
     "iopub.status.idle": "2023-08-18T07:02:05.079203Z",
     "shell.execute_reply": "2023-08-18T07:02:05.078107Z"
    },
    "origin_pos": 39,
    "tab": [
     "pytorch"
    ],
    "ExecuteTime": {
     "end_time": "2024-04-07T06:06:51.711314Z",
     "start_time": "2024-04-07T06:06:51.701279Z"
    }
   },
   "outputs": [
    {
     "name": "stdout",
     "output_type": "stream",
     "text": [
      "w的估计误差: tensor([ 5.0306e-05, -3.6383e-04], grad_fn=<SubBackward0>)\n",
      "b的估计误差: tensor([-9.7752e-05], grad_fn=<RsubBackward1>)\n"
     ]
    }
   ],
   "source": [
    "print(f'w的估计误差: {true_w - w.reshape(true_w.shape)}')\n",
    "print(f'b的估计误差: {true_b - b}')"
   ]
  },
  {
   "cell_type": "markdown",
   "id": "9f3d71ee",
   "metadata": {
    "origin_pos": 40
   },
   "source": [
    "注意，我们不应该想当然地认为我们能够完美地求解参数。\n",
    "在机器学习中，我们通常不太关心恢复真正的参数，而更关心如何高度准确预测参数。\n",
    "幸运的是，即使是在复杂的优化问题上，随机梯度下降通常也能找到非常好的解。\n",
    "其中一个原因是，在深度网络中存在许多参数组合能够实现高度精确的预测。\n",
    "\n",
    "## 小结\n",
    "\n",
    "* 我们学习了深度网络是如何实现和优化的。在这一过程中只使用张量和自动微分，不需要定义层或复杂的优化器。\n",
    "* 这一节只触及到了表面知识。在下面的部分中，我们将基于刚刚介绍的概念描述其他模型，并学习如何更简洁地实现其他模型。\n",
    "\n",
    "## 练习\n",
    "\n",
    "1. 如果我们将权重初始化为零，会发生什么。算法仍然有效吗？\n",
    "1. 假设试图为电压和电流的关系建立一个模型。自动微分可以用来学习模型的参数吗?\n",
    "1. 能基于[普朗克定律](https://en.wikipedia.org/wiki/Planck%27s_law)使用光谱能量密度来确定物体的温度吗？\n",
    "1. 计算二阶导数时可能会遇到什么问题？这些问题可以如何解决？\n",
    "1. 为什么在`squared_loss`函数中需要使用`reshape`函数？\n",
    "1. 尝试使用不同的学习率，观察损失函数值下降的快慢。\n",
    "1. 如果样本个数不能被批量大小整除，`data_iter`函数的行为会有什么变化？\n"
   ]
  },
  {
   "cell_type": "markdown",
   "id": "193224b1",
   "metadata": {
    "origin_pos": 42,
    "tab": [
     "pytorch"
    ]
   },
   "source": [
    "[Discussions](https://discuss.d2l.ai/t/1778)\n"
   ]
  }
 ],
 "metadata": {
  "language_info": {
   "name": "python"
  },
  "required_libs": [],
  "kernelspec": {
   "name": "python3",
   "language": "python",
   "display_name": "Python 3 (ipykernel)"
  }
 },
 "nbformat": 4,
 "nbformat_minor": 5
}
