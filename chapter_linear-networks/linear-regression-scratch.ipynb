{
 "cells": [
  {
   "cell_type": "markdown",
   "id": "3b3e0a72",
   "metadata": {
    "origin_pos": 0
   },
   "source": [
    "# 线性回归的从零开始实现\n",
    ":label:`sec_linear_scratch`\n",
    "\n",
    "在了解线性回归的关键思想之后，我们可以开始通过代码来动手实现线性回归了。\n",
    "在这一节中，(**我们将从零开始实现整个方法，\n",
    "包括数据流水线、模型、损失函数和小批量随机梯度下降优化器**)。\n",
    "虽然现代的深度学习框架几乎可以自动化地进行所有这些工作，但从零开始实现可以确保我们真正知道自己在做什么。\n",
    "同时，了解更细致的工作原理将方便我们自定义模型、自定义层或自定义损失函数。\n",
    "在这一节中，我们将只使用张量和自动求导。\n",
    "在之后的章节中，我们会充分利用深度学习框架的优势，介绍更简洁的实现方式。\n"
   ]
  },
  {
   "cell_type": "code",
   "execution_count": 41,
   "id": "c6f4cd71",
   "metadata": {
    "execution": {
     "iopub.execute_input": "2023-08-18T07:02:01.462670Z",
     "iopub.status.busy": "2023-08-18T07:02:01.461918Z",
     "iopub.status.idle": "2023-08-18T07:02:04.547486Z",
     "shell.execute_reply": "2023-08-18T07:02:04.546281Z"
    },
    "origin_pos": 2,
    "tab": [
     "pytorch"
    ],
    "ExecuteTime": {
     "end_time": "2023-11-11T07:56:41.812924100Z",
     "start_time": "2023-11-11T07:56:41.763790500Z"
    }
   },
   "outputs": [],
   "source": [
    "%matplotlib inline\n",
    "import random\n",
    "import torch\n",
    "from d2l import torch as d2l"
   ]
  },
  {
   "cell_type": "markdown",
   "id": "18283191",
   "metadata": {
    "origin_pos": 5
   },
   "source": [
    "## 生成数据集\n",
    "\n",
    "为了简单起见，我们将[**根据带有噪声的线性模型构造一个人造数据集。**]\n",
    "我们的任务是使用这个有限样本的数据集来恢复这个模型的参数。\n",
    "我们将使用低维数据，这样可以很容易地将其可视化。\n",
    "在下面的代码中，我们生成一个包含1000个样本的数据集，\n",
    "每个样本包含从标准正态分布中采样的2个特征。\n",
    "我们的合成数据集是一个矩阵$\\mathbf{X}\\in \\mathbb{R}^{1000 \\times 2}$。\n",
    "\n",
    "(**我们使用线性模型参数$\\mathbf{w} = [2, -3.4]^\\top$、$b = 4.2$\n",
    "和噪声项$\\epsilon$生成数据集及其标签：\n",
    "\n",
    "$$\\mathbf{y}= \\mathbf{X} \\mathbf{w} + b + \\mathbf\\epsilon.$$\n",
    "**)\n",
    "\n",
    "$\\epsilon$可以视为模型预测和标签时的潜在观测误差。\n",
    "在这里我们认为标准假设成立，即$\\epsilon$服从均值为0的正态分布。\n",
    "为了简化问题，我们将标准差设为0.01。\n",
    "下面的代码生成合成数据集。\n"
   ]
  },
  {
   "cell_type": "code",
   "execution_count": 42,
   "id": "54efeafe",
   "metadata": {
    "execution": {
     "iopub.execute_input": "2023-08-18T07:02:04.553500Z",
     "iopub.status.busy": "2023-08-18T07:02:04.552544Z",
     "iopub.status.idle": "2023-08-18T07:02:04.560226Z",
     "shell.execute_reply": "2023-08-18T07:02:04.559125Z"
    },
    "origin_pos": 6,
    "tab": [
     "pytorch"
    ],
    "ExecuteTime": {
     "end_time": "2023-11-11T07:56:41.847448900Z",
     "start_time": "2023-11-11T07:56:41.769841300Z"
    }
   },
   "outputs": [],
   "source": [
    "# 构造数据集\n",
    "def synthetic_data(w, b, num_examples):  #@save\n",
    "    \"\"\"生成y=Xw+b+噪声\"\"\"\n",
    "    X = torch.normal(0, 1, (num_examples, len(w)))\n",
    "    y = torch.matmul(X, w) + b\n",
    "    y += torch.normal(0, 0.01, y.shape)\n",
    "    return X, y.reshape((-1, 1))  # y的形状转换为(num_examples, 1)，new shape等于-1，列数等于1，行数未知，reshape后的shape等于(num_examples, 1)"
   ]
  },
  {
   "cell_type": "code",
   "execution_count": 43,
   "id": "1e60261c",
   "metadata": {
    "execution": {
     "iopub.execute_input": "2023-08-18T07:02:04.564932Z",
     "iopub.status.busy": "2023-08-18T07:02:04.564190Z",
     "iopub.status.idle": "2023-08-18T07:02:04.575309Z",
     "shell.execute_reply": "2023-08-18T07:02:04.574216Z"
    },
    "origin_pos": 8,
    "tab": [
     "pytorch"
    ],
    "ExecuteTime": {
     "end_time": "2023-11-11T07:56:41.866546700Z",
     "start_time": "2023-11-11T07:56:41.785852600Z"
    }
   },
   "outputs": [],
   "source": [
    "true_w = torch.tensor([2, -3.4])\n",
    "true_b = 4.2\n",
    "features, labels = synthetic_data(true_w, true_b, 1000)"
   ]
  },
  {
   "cell_type": "markdown",
   "id": "772256cb",
   "metadata": {
    "origin_pos": 9
   },
   "source": [
    "注意，[**`features`中的每一行都包含一个二维数据样本，\n",
    "`labels`中的每一行都包含一维标签值（一个标量）**]。\n"
   ]
  },
  {
   "cell_type": "code",
   "execution_count": 44,
   "id": "ec13e4f8",
   "metadata": {
    "execution": {
     "iopub.execute_input": "2023-08-18T07:02:04.580067Z",
     "iopub.status.busy": "2023-08-18T07:02:04.579449Z",
     "iopub.status.idle": "2023-08-18T07:02:04.587391Z",
     "shell.execute_reply": "2023-08-18T07:02:04.586306Z"
    },
    "origin_pos": 10,
    "tab": [
     "pytorch"
    ],
    "ExecuteTime": {
     "end_time": "2023-11-11T07:56:41.868552600Z",
     "start_time": "2023-11-11T07:56:41.801843200Z"
    }
   },
   "outputs": [
    {
     "name": "stdout",
     "output_type": "stream",
     "text": [
      "features: tensor([-0.2529, -0.7170]) \n",
      "label: tensor([6.1239])\n"
     ]
    }
   ],
   "source": [
    "print('features:', features[0],'\\nlabel:', labels[0])"
   ]
  },
  {
   "cell_type": "markdown",
   "id": "6b8c624b",
   "metadata": {
    "origin_pos": 11
   },
   "source": [
    "通过生成第二个特征`features[:, 1]`和`labels`的散点图，\n",
    "可以直观观察到两者之间的线性关系。\n"
   ]
  },
  {
   "cell_type": "code",
   "execution_count": 45,
   "id": "53ef493c",
   "metadata": {
    "execution": {
     "iopub.execute_input": "2023-08-18T07:02:04.592131Z",
     "iopub.status.busy": "2023-08-18T07:02:04.591402Z",
     "iopub.status.idle": "2023-08-18T07:02:04.829190Z",
     "shell.execute_reply": "2023-08-18T07:02:04.827927Z"
    },
    "origin_pos": 12,
    "tab": [
     "pytorch"
    ],
    "ExecuteTime": {
     "end_time": "2023-11-11T07:56:41.922761600Z",
     "start_time": "2023-11-11T07:56:41.816836200Z"
    }
   },
   "outputs": [
    {
     "data": {
      "text/plain": "<Figure size 350x250 with 1 Axes>",
      "image/svg+xml": "<?xml version=\"1.0\" encoding=\"utf-8\" standalone=\"no\"?>\n<!DOCTYPE svg PUBLIC \"-//W3C//DTD SVG 1.1//EN\"\n  \"http://www.w3.org/Graphics/SVG/1.1/DTD/svg11.dtd\">\n<svg xmlns:xlink=\"http://www.w3.org/1999/xlink\" width=\"237.804688pt\" height=\"169.678125pt\" viewBox=\"0 0 237.804688 169.678125\" xmlns=\"http://www.w3.org/2000/svg\" version=\"1.1\">\n <metadata>\n  <rdf:RDF xmlns:dc=\"http://purl.org/dc/elements/1.1/\" xmlns:cc=\"http://creativecommons.org/ns#\" xmlns:rdf=\"http://www.w3.org/1999/02/22-rdf-syntax-ns#\">\n   <cc:Work>\n    <dc:type rdf:resource=\"http://purl.org/dc/dcmitype/StillImage\"/>\n    <dc:date>2023-11-11T15:56:41.847449</dc:date>\n    <dc:format>image/svg+xml</dc:format>\n    <dc:creator>\n     <cc:Agent>\n      <dc:title>Matplotlib v3.5.1, https://matplotlib.org/</dc:title>\n     </cc:Agent>\n    </dc:creator>\n   </cc:Work>\n  </rdf:RDF>\n </metadata>\n <defs>\n  <style type=\"text/css\">*{stroke-linejoin: round; stroke-linecap: butt}</style>\n </defs>\n <g id=\"figure_1\">\n  <g id=\"patch_1\">\n   <path d=\"M 0 169.678125 \nL 237.804688 169.678125 \nL 237.804688 0 \nL 0 0 \nz\n\" style=\"fill: #ffffff\"/>\n  </g>\n  <g id=\"axes_1\">\n   <g id=\"patch_2\">\n    <path d=\"M 35.304688 145.8 \nL 230.604688 145.8 \nL 230.604688 7.2 \nL 35.304688 7.2 \nz\n\" style=\"fill: #ffffff\"/>\n   </g>\n   <g id=\"PathCollection_1\">\n    <defs>\n     <path id=\"m910f78e085\" d=\"M 0 0.5 \nC 0.132602 0.5 0.25979 0.447317 0.353553 0.353553 \nC 0.447317 0.25979 0.5 0.132602 0.5 0 \nC 0.5 -0.132602 0.447317 -0.25979 0.353553 -0.353553 \nC 0.25979 -0.447317 0.132602 -0.5 0 -0.5 \nC -0.132602 -0.5 -0.25979 -0.447317 -0.353553 -0.353553 \nC -0.447317 -0.25979 -0.5 -0.132602 -0.5 0 \nC -0.5 0.132602 -0.447317 0.25979 -0.353553 0.353553 \nC -0.25979 0.447317 -0.132602 0.5 0 0.5 \nz\n\" style=\"stroke: #1f77b4\"/>\n    </defs>\n    <g clip-path=\"url(#p796701a49f)\">\n     <use xlink:href=\"#m910f78e085\" x=\"103.495457\" y=\"63.014934\" style=\"fill: #1f77b4; stroke: #1f77b4\"/>\n     <use xlink:href=\"#m910f78e085\" x=\"143.492262\" y=\"75.82177\" style=\"fill: #1f77b4; stroke: #1f77b4\"/>\n     <use xlink:href=\"#m910f78e085\" x=\"99.21401\" y=\"54.917353\" style=\"fill: #1f77b4; stroke: #1f77b4\"/>\n     <use xlink:href=\"#m910f78e085\" x=\"139.042169\" y=\"63.979338\" style=\"fill: #1f77b4; stroke: #1f77b4\"/>\n     <use xlink:href=\"#m910f78e085\" x=\"153.910012\" y=\"79.95538\" style=\"fill: #1f77b4; stroke: #1f77b4\"/>\n     <use xlink:href=\"#m910f78e085\" x=\"63.564377\" y=\"35.475902\" style=\"fill: #1f77b4; stroke: #1f77b4\"/>\n     <use xlink:href=\"#m910f78e085\" x=\"127.887916\" y=\"77.415271\" style=\"fill: #1f77b4; stroke: #1f77b4\"/>\n     <use xlink:href=\"#m910f78e085\" x=\"113.91239\" y=\"61.061725\" style=\"fill: #1f77b4; stroke: #1f77b4\"/>\n     <use xlink:href=\"#m910f78e085\" x=\"159.9969\" y=\"89.637298\" style=\"fill: #1f77b4; stroke: #1f77b4\"/>\n     <use xlink:href=\"#m910f78e085\" x=\"134.489075\" y=\"65.402798\" style=\"fill: #1f77b4; stroke: #1f77b4\"/>\n     <use xlink:href=\"#m910f78e085\" x=\"141.986296\" y=\"79.484187\" style=\"fill: #1f77b4; stroke: #1f77b4\"/>\n     <use xlink:href=\"#m910f78e085\" x=\"93.801632\" y=\"47.08971\" style=\"fill: #1f77b4; stroke: #1f77b4\"/>\n     <use xlink:href=\"#m910f78e085\" x=\"100.390924\" y=\"61.30936\" style=\"fill: #1f77b4; stroke: #1f77b4\"/>\n     <use xlink:href=\"#m910f78e085\" x=\"140.403003\" y=\"85.121901\" style=\"fill: #1f77b4; stroke: #1f77b4\"/>\n     <use xlink:href=\"#m910f78e085\" x=\"85.99265\" y=\"41.009753\" style=\"fill: #1f77b4; stroke: #1f77b4\"/>\n     <use xlink:href=\"#m910f78e085\" x=\"146.682121\" y=\"69.411034\" style=\"fill: #1f77b4; stroke: #1f77b4\"/>\n     <use xlink:href=\"#m910f78e085\" x=\"120.60622\" y=\"77.837049\" style=\"fill: #1f77b4; stroke: #1f77b4\"/>\n     <use xlink:href=\"#m910f78e085\" x=\"66.332056\" y=\"57.197065\" style=\"fill: #1f77b4; stroke: #1f77b4\"/>\n     <use xlink:href=\"#m910f78e085\" x=\"95.949421\" y=\"62.690315\" style=\"fill: #1f77b4; stroke: #1f77b4\"/>\n     <use xlink:href=\"#m910f78e085\" x=\"106.563817\" y=\"57.564218\" style=\"fill: #1f77b4; stroke: #1f77b4\"/>\n     <use xlink:href=\"#m910f78e085\" x=\"122.36728\" y=\"70.846577\" style=\"fill: #1f77b4; stroke: #1f77b4\"/>\n     <use xlink:href=\"#m910f78e085\" x=\"141.796982\" y=\"79.016712\" style=\"fill: #1f77b4; stroke: #1f77b4\"/>\n     <use xlink:href=\"#m910f78e085\" x=\"112.185092\" y=\"77.4155\" style=\"fill: #1f77b4; stroke: #1f77b4\"/>\n     <use xlink:href=\"#m910f78e085\" x=\"97.166734\" y=\"45.556166\" style=\"fill: #1f77b4; stroke: #1f77b4\"/>\n     <use xlink:href=\"#m910f78e085\" x=\"200.833904\" y=\"119.008699\" style=\"fill: #1f77b4; stroke: #1f77b4\"/>\n     <use xlink:href=\"#m910f78e085\" x=\"147.61889\" y=\"95.597147\" style=\"fill: #1f77b4; stroke: #1f77b4\"/>\n     <use xlink:href=\"#m910f78e085\" x=\"156.285115\" y=\"89.335041\" style=\"fill: #1f77b4; stroke: #1f77b4\"/>\n     <use xlink:href=\"#m910f78e085\" x=\"113.816607\" y=\"60.83232\" style=\"fill: #1f77b4; stroke: #1f77b4\"/>\n     <use xlink:href=\"#m910f78e085\" x=\"157.765305\" y=\"92.758161\" style=\"fill: #1f77b4; stroke: #1f77b4\"/>\n     <use xlink:href=\"#m910f78e085\" x=\"92.936756\" y=\"60.454672\" style=\"fill: #1f77b4; stroke: #1f77b4\"/>\n     <use xlink:href=\"#m910f78e085\" x=\"108.955874\" y=\"56.182504\" style=\"fill: #1f77b4; stroke: #1f77b4\"/>\n     <use xlink:href=\"#m910f78e085\" x=\"138.375573\" y=\"73.930956\" style=\"fill: #1f77b4; stroke: #1f77b4\"/>\n     <use xlink:href=\"#m910f78e085\" x=\"144.572163\" y=\"91.724973\" style=\"fill: #1f77b4; stroke: #1f77b4\"/>\n     <use xlink:href=\"#m910f78e085\" x=\"113.222338\" y=\"53.453582\" style=\"fill: #1f77b4; stroke: #1f77b4\"/>\n     <use xlink:href=\"#m910f78e085\" x=\"61.154707\" y=\"40.343369\" style=\"fill: #1f77b4; stroke: #1f77b4\"/>\n     <use xlink:href=\"#m910f78e085\" x=\"153.514918\" y=\"92.436956\" style=\"fill: #1f77b4; stroke: #1f77b4\"/>\n     <use xlink:href=\"#m910f78e085\" x=\"121.674138\" y=\"66.460013\" style=\"fill: #1f77b4; stroke: #1f77b4\"/>\n     <use xlink:href=\"#m910f78e085\" x=\"178.554416\" y=\"105.867504\" style=\"fill: #1f77b4; stroke: #1f77b4\"/>\n     <use xlink:href=\"#m910f78e085\" x=\"164.948427\" y=\"68.500988\" style=\"fill: #1f77b4; stroke: #1f77b4\"/>\n     <use xlink:href=\"#m910f78e085\" x=\"121.918747\" y=\"80.333212\" style=\"fill: #1f77b4; stroke: #1f77b4\"/>\n     <use xlink:href=\"#m910f78e085\" x=\"151.695552\" y=\"98.725578\" style=\"fill: #1f77b4; stroke: #1f77b4\"/>\n     <use xlink:href=\"#m910f78e085\" x=\"74.049945\" y=\"47.613161\" style=\"fill: #1f77b4; stroke: #1f77b4\"/>\n     <use xlink:href=\"#m910f78e085\" x=\"173.289299\" y=\"92.087079\" style=\"fill: #1f77b4; stroke: #1f77b4\"/>\n     <use xlink:href=\"#m910f78e085\" x=\"151.224416\" y=\"81.227702\" style=\"fill: #1f77b4; stroke: #1f77b4\"/>\n     <use xlink:href=\"#m910f78e085\" x=\"157.105243\" y=\"62.666403\" style=\"fill: #1f77b4; stroke: #1f77b4\"/>\n     <use xlink:href=\"#m910f78e085\" x=\"85.23594\" y=\"37.711353\" style=\"fill: #1f77b4; stroke: #1f77b4\"/>\n     <use xlink:href=\"#m910f78e085\" x=\"135.20953\" y=\"89.451748\" style=\"fill: #1f77b4; stroke: #1f77b4\"/>\n     <use xlink:href=\"#m910f78e085\" x=\"130.134869\" y=\"79.539424\" style=\"fill: #1f77b4; stroke: #1f77b4\"/>\n     <use xlink:href=\"#m910f78e085\" x=\"138.321945\" y=\"78.243748\" style=\"fill: #1f77b4; stroke: #1f77b4\"/>\n     <use xlink:href=\"#m910f78e085\" x=\"121.293544\" y=\"59.81552\" style=\"fill: #1f77b4; stroke: #1f77b4\"/>\n     <use xlink:href=\"#m910f78e085\" x=\"163.84609\" y=\"96.630406\" style=\"fill: #1f77b4; stroke: #1f77b4\"/>\n     <use xlink:href=\"#m910f78e085\" x=\"141.336717\" y=\"80.797639\" style=\"fill: #1f77b4; stroke: #1f77b4\"/>\n     <use xlink:href=\"#m910f78e085\" x=\"92.412675\" y=\"47.372943\" style=\"fill: #1f77b4; stroke: #1f77b4\"/>\n     <use xlink:href=\"#m910f78e085\" x=\"107.21567\" y=\"51.89111\" style=\"fill: #1f77b4; stroke: #1f77b4\"/>\n     <use xlink:href=\"#m910f78e085\" x=\"102.50816\" y=\"67.86893\" style=\"fill: #1f77b4; stroke: #1f77b4\"/>\n     <use xlink:href=\"#m910f78e085\" x=\"125.238927\" y=\"55.36554\" style=\"fill: #1f77b4; stroke: #1f77b4\"/>\n     <use xlink:href=\"#m910f78e085\" x=\"109.401373\" y=\"46.472556\" style=\"fill: #1f77b4; stroke: #1f77b4\"/>\n     <use xlink:href=\"#m910f78e085\" x=\"87.592792\" y=\"58.886406\" style=\"fill: #1f77b4; stroke: #1f77b4\"/>\n     <use xlink:href=\"#m910f78e085\" x=\"157.153552\" y=\"91.30032\" style=\"fill: #1f77b4; stroke: #1f77b4\"/>\n     <use xlink:href=\"#m910f78e085\" x=\"139.84289\" y=\"70.195745\" style=\"fill: #1f77b4; stroke: #1f77b4\"/>\n     <use xlink:href=\"#m910f78e085\" x=\"118.016304\" y=\"65.653832\" style=\"fill: #1f77b4; stroke: #1f77b4\"/>\n     <use xlink:href=\"#m910f78e085\" x=\"166.128758\" y=\"114.161791\" style=\"fill: #1f77b4; stroke: #1f77b4\"/>\n     <use xlink:href=\"#m910f78e085\" x=\"120.876358\" y=\"70.791393\" style=\"fill: #1f77b4; stroke: #1f77b4\"/>\n     <use xlink:href=\"#m910f78e085\" x=\"79.126212\" y=\"54.545598\" style=\"fill: #1f77b4; stroke: #1f77b4\"/>\n     <use xlink:href=\"#m910f78e085\" x=\"65.436402\" y=\"30.183584\" style=\"fill: #1f77b4; stroke: #1f77b4\"/>\n     <use xlink:href=\"#m910f78e085\" x=\"107.956899\" y=\"55.634101\" style=\"fill: #1f77b4; stroke: #1f77b4\"/>\n     <use xlink:href=\"#m910f78e085\" x=\"123.018602\" y=\"71.83402\" style=\"fill: #1f77b4; stroke: #1f77b4\"/>\n     <use xlink:href=\"#m910f78e085\" x=\"108.221887\" y=\"58.599113\" style=\"fill: #1f77b4; stroke: #1f77b4\"/>\n     <use xlink:href=\"#m910f78e085\" x=\"95.837171\" y=\"44.914761\" style=\"fill: #1f77b4; stroke: #1f77b4\"/>\n     <use xlink:href=\"#m910f78e085\" x=\"131.896728\" y=\"75.017862\" style=\"fill: #1f77b4; stroke: #1f77b4\"/>\n     <use xlink:href=\"#m910f78e085\" x=\"117.985432\" y=\"84.257765\" style=\"fill: #1f77b4; stroke: #1f77b4\"/>\n     <use xlink:href=\"#m910f78e085\" x=\"99.63999\" y=\"61.816384\" style=\"fill: #1f77b4; stroke: #1f77b4\"/>\n     <use xlink:href=\"#m910f78e085\" x=\"105.885601\" y=\"66.910612\" style=\"fill: #1f77b4; stroke: #1f77b4\"/>\n     <use xlink:href=\"#m910f78e085\" x=\"130.490044\" y=\"86.552802\" style=\"fill: #1f77b4; stroke: #1f77b4\"/>\n     <use xlink:href=\"#m910f78e085\" x=\"127.803915\" y=\"67.440389\" style=\"fill: #1f77b4; stroke: #1f77b4\"/>\n     <use xlink:href=\"#m910f78e085\" x=\"157.457903\" y=\"75.416366\" style=\"fill: #1f77b4; stroke: #1f77b4\"/>\n     <use xlink:href=\"#m910f78e085\" x=\"152.918948\" y=\"81.097336\" style=\"fill: #1f77b4; stroke: #1f77b4\"/>\n     <use xlink:href=\"#m910f78e085\" x=\"106.460174\" y=\"77.415657\" style=\"fill: #1f77b4; stroke: #1f77b4\"/>\n     <use xlink:href=\"#m910f78e085\" x=\"175.808267\" y=\"102.049466\" style=\"fill: #1f77b4; stroke: #1f77b4\"/>\n     <use xlink:href=\"#m910f78e085\" x=\"159.949323\" y=\"83.323675\" style=\"fill: #1f77b4; stroke: #1f77b4\"/>\n     <use xlink:href=\"#m910f78e085\" x=\"128.860635\" y=\"64.309314\" style=\"fill: #1f77b4; stroke: #1f77b4\"/>\n     <use xlink:href=\"#m910f78e085\" x=\"66.027302\" y=\"49.982665\" style=\"fill: #1f77b4; stroke: #1f77b4\"/>\n     <use xlink:href=\"#m910f78e085\" x=\"91.828665\" y=\"66.432161\" style=\"fill: #1f77b4; stroke: #1f77b4\"/>\n     <use xlink:href=\"#m910f78e085\" x=\"159.89877\" y=\"83.444608\" style=\"fill: #1f77b4; stroke: #1f77b4\"/>\n     <use xlink:href=\"#m910f78e085\" x=\"160.066298\" y=\"67.744348\" style=\"fill: #1f77b4; stroke: #1f77b4\"/>\n     <use xlink:href=\"#m910f78e085\" x=\"154.65359\" y=\"90.583391\" style=\"fill: #1f77b4; stroke: #1f77b4\"/>\n     <use xlink:href=\"#m910f78e085\" x=\"110.537106\" y=\"78.197053\" style=\"fill: #1f77b4; stroke: #1f77b4\"/>\n     <use xlink:href=\"#m910f78e085\" x=\"128.114923\" y=\"72.276091\" style=\"fill: #1f77b4; stroke: #1f77b4\"/>\n     <use xlink:href=\"#m910f78e085\" x=\"130.272264\" y=\"78.3386\" style=\"fill: #1f77b4; stroke: #1f77b4\"/>\n     <use xlink:href=\"#m910f78e085\" x=\"127.247781\" y=\"72.812221\" style=\"fill: #1f77b4; stroke: #1f77b4\"/>\n     <use xlink:href=\"#m910f78e085\" x=\"175.712091\" y=\"99.617988\" style=\"fill: #1f77b4; stroke: #1f77b4\"/>\n     <use xlink:href=\"#m910f78e085\" x=\"132.222626\" y=\"71.865308\" style=\"fill: #1f77b4; stroke: #1f77b4\"/>\n     <use xlink:href=\"#m910f78e085\" x=\"114.325914\" y=\"64.35115\" style=\"fill: #1f77b4; stroke: #1f77b4\"/>\n     <use xlink:href=\"#m910f78e085\" x=\"158.162449\" y=\"91.216969\" style=\"fill: #1f77b4; stroke: #1f77b4\"/>\n     <use xlink:href=\"#m910f78e085\" x=\"116.661238\" y=\"68.116658\" style=\"fill: #1f77b4; stroke: #1f77b4\"/>\n     <use xlink:href=\"#m910f78e085\" x=\"121.653973\" y=\"67.083856\" style=\"fill: #1f77b4; stroke: #1f77b4\"/>\n     <use xlink:href=\"#m910f78e085\" x=\"151.61478\" y=\"88.786559\" style=\"fill: #1f77b4; stroke: #1f77b4\"/>\n     <use xlink:href=\"#m910f78e085\" x=\"101.661603\" y=\"64.632168\" style=\"fill: #1f77b4; stroke: #1f77b4\"/>\n     <use xlink:href=\"#m910f78e085\" x=\"108.379004\" y=\"76.867846\" style=\"fill: #1f77b4; stroke: #1f77b4\"/>\n     <use xlink:href=\"#m910f78e085\" x=\"105.593194\" y=\"82.906346\" style=\"fill: #1f77b4; stroke: #1f77b4\"/>\n     <use xlink:href=\"#m910f78e085\" x=\"126.708042\" y=\"64.557654\" style=\"fill: #1f77b4; stroke: #1f77b4\"/>\n     <use xlink:href=\"#m910f78e085\" x=\"138.379778\" y=\"83.981812\" style=\"fill: #1f77b4; stroke: #1f77b4\"/>\n     <use xlink:href=\"#m910f78e085\" x=\"111.115552\" y=\"57.471189\" style=\"fill: #1f77b4; stroke: #1f77b4\"/>\n     <use xlink:href=\"#m910f78e085\" x=\"65.609872\" y=\"46.668365\" style=\"fill: #1f77b4; stroke: #1f77b4\"/>\n     <use xlink:href=\"#m910f78e085\" x=\"115.903168\" y=\"75.043021\" style=\"fill: #1f77b4; stroke: #1f77b4\"/>\n     <use xlink:href=\"#m910f78e085\" x=\"156.451921\" y=\"80.512297\" style=\"fill: #1f77b4; stroke: #1f77b4\"/>\n     <use xlink:href=\"#m910f78e085\" x=\"123.163709\" y=\"66.608202\" style=\"fill: #1f77b4; stroke: #1f77b4\"/>\n     <use xlink:href=\"#m910f78e085\" x=\"151.539679\" y=\"76.153957\" style=\"fill: #1f77b4; stroke: #1f77b4\"/>\n     <use xlink:href=\"#m910f78e085\" x=\"139.890208\" y=\"83.429065\" style=\"fill: #1f77b4; stroke: #1f77b4\"/>\n     <use xlink:href=\"#m910f78e085\" x=\"166.839465\" y=\"91.541431\" style=\"fill: #1f77b4; stroke: #1f77b4\"/>\n     <use xlink:href=\"#m910f78e085\" x=\"77.445968\" y=\"52.813877\" style=\"fill: #1f77b4; stroke: #1f77b4\"/>\n     <use xlink:href=\"#m910f78e085\" x=\"100.15634\" y=\"48.404507\" style=\"fill: #1f77b4; stroke: #1f77b4\"/>\n     <use xlink:href=\"#m910f78e085\" x=\"90.193388\" y=\"61.184366\" style=\"fill: #1f77b4; stroke: #1f77b4\"/>\n     <use xlink:href=\"#m910f78e085\" x=\"112.468463\" y=\"55.184525\" style=\"fill: #1f77b4; stroke: #1f77b4\"/>\n     <use xlink:href=\"#m910f78e085\" x=\"147.925761\" y=\"74.352812\" style=\"fill: #1f77b4; stroke: #1f77b4\"/>\n     <use xlink:href=\"#m910f78e085\" x=\"138.917837\" y=\"86.712706\" style=\"fill: #1f77b4; stroke: #1f77b4\"/>\n     <use xlink:href=\"#m910f78e085\" x=\"116.907966\" y=\"69.057424\" style=\"fill: #1f77b4; stroke: #1f77b4\"/>\n     <use xlink:href=\"#m910f78e085\" x=\"88.0933\" y=\"61.526641\" style=\"fill: #1f77b4; stroke: #1f77b4\"/>\n     <use xlink:href=\"#m910f78e085\" x=\"86.007794\" y=\"59.858855\" style=\"fill: #1f77b4; stroke: #1f77b4\"/>\n     <use xlink:href=\"#m910f78e085\" x=\"95.07216\" y=\"50.24031\" style=\"fill: #1f77b4; stroke: #1f77b4\"/>\n     <use xlink:href=\"#m910f78e085\" x=\"103.306347\" y=\"54.7838\" style=\"fill: #1f77b4; stroke: #1f77b4\"/>\n     <use xlink:href=\"#m910f78e085\" x=\"167.383992\" y=\"84.245806\" style=\"fill: #1f77b4; stroke: #1f77b4\"/>\n     <use xlink:href=\"#m910f78e085\" x=\"150.335335\" y=\"86.064173\" style=\"fill: #1f77b4; stroke: #1f77b4\"/>\n     <use xlink:href=\"#m910f78e085\" x=\"99.73532\" y=\"62.801438\" style=\"fill: #1f77b4; stroke: #1f77b4\"/>\n     <use xlink:href=\"#m910f78e085\" x=\"128.626232\" y=\"71.887519\" style=\"fill: #1f77b4; stroke: #1f77b4\"/>\n     <use xlink:href=\"#m910f78e085\" x=\"100.756498\" y=\"62.488795\" style=\"fill: #1f77b4; stroke: #1f77b4\"/>\n     <use xlink:href=\"#m910f78e085\" x=\"91.04504\" y=\"45.118428\" style=\"fill: #1f77b4; stroke: #1f77b4\"/>\n     <use xlink:href=\"#m910f78e085\" x=\"192.413641\" y=\"91.903135\" style=\"fill: #1f77b4; stroke: #1f77b4\"/>\n     <use xlink:href=\"#m910f78e085\" x=\"128.931567\" y=\"82.550086\" style=\"fill: #1f77b4; stroke: #1f77b4\"/>\n     <use xlink:href=\"#m910f78e085\" x=\"101.004767\" y=\"67.859535\" style=\"fill: #1f77b4; stroke: #1f77b4\"/>\n     <use xlink:href=\"#m910f78e085\" x=\"78.301129\" y=\"55.98769\" style=\"fill: #1f77b4; stroke: #1f77b4\"/>\n     <use xlink:href=\"#m910f78e085\" x=\"151.959486\" y=\"71.054494\" style=\"fill: #1f77b4; stroke: #1f77b4\"/>\n     <use xlink:href=\"#m910f78e085\" x=\"82.114503\" y=\"58.162498\" style=\"fill: #1f77b4; stroke: #1f77b4\"/>\n     <use xlink:href=\"#m910f78e085\" x=\"120.337407\" y=\"76.237754\" style=\"fill: #1f77b4; stroke: #1f77b4\"/>\n     <use xlink:href=\"#m910f78e085\" x=\"155.937856\" y=\"91.11172\" style=\"fill: #1f77b4; stroke: #1f77b4\"/>\n     <use xlink:href=\"#m910f78e085\" x=\"134.045204\" y=\"76.048568\" style=\"fill: #1f77b4; stroke: #1f77b4\"/>\n     <use xlink:href=\"#m910f78e085\" x=\"136.427147\" y=\"71.497697\" style=\"fill: #1f77b4; stroke: #1f77b4\"/>\n     <use xlink:href=\"#m910f78e085\" x=\"108.822715\" y=\"71.878233\" style=\"fill: #1f77b4; stroke: #1f77b4\"/>\n     <use xlink:href=\"#m910f78e085\" x=\"129.06594\" y=\"69.528819\" style=\"fill: #1f77b4; stroke: #1f77b4\"/>\n     <use xlink:href=\"#m910f78e085\" x=\"132.048949\" y=\"68.682083\" style=\"fill: #1f77b4; stroke: #1f77b4\"/>\n     <use xlink:href=\"#m910f78e085\" x=\"111.298777\" y=\"72.578799\" style=\"fill: #1f77b4; stroke: #1f77b4\"/>\n     <use xlink:href=\"#m910f78e085\" x=\"104.246453\" y=\"62.108922\" style=\"fill: #1f77b4; stroke: #1f77b4\"/>\n     <use xlink:href=\"#m910f78e085\" x=\"125.690181\" y=\"76.441522\" style=\"fill: #1f77b4; stroke: #1f77b4\"/>\n     <use xlink:href=\"#m910f78e085\" x=\"81.414411\" y=\"61.311998\" style=\"fill: #1f77b4; stroke: #1f77b4\"/>\n     <use xlink:href=\"#m910f78e085\" x=\"171.640927\" y=\"101.733985\" style=\"fill: #1f77b4; stroke: #1f77b4\"/>\n     <use xlink:href=\"#m910f78e085\" x=\"115.438718\" y=\"68.340442\" style=\"fill: #1f77b4; stroke: #1f77b4\"/>\n     <use xlink:href=\"#m910f78e085\" x=\"139.058662\" y=\"81.182052\" style=\"fill: #1f77b4; stroke: #1f77b4\"/>\n     <use xlink:href=\"#m910f78e085\" x=\"109.913419\" y=\"73.417548\" style=\"fill: #1f77b4; stroke: #1f77b4\"/>\n     <use xlink:href=\"#m910f78e085\" x=\"121.800783\" y=\"59.60267\" style=\"fill: #1f77b4; stroke: #1f77b4\"/>\n     <use xlink:href=\"#m910f78e085\" x=\"74.019886\" y=\"36.905713\" style=\"fill: #1f77b4; stroke: #1f77b4\"/>\n     <use xlink:href=\"#m910f78e085\" x=\"159.336613\" y=\"73.776882\" style=\"fill: #1f77b4; stroke: #1f77b4\"/>\n     <use xlink:href=\"#m910f78e085\" x=\"134.739001\" y=\"84.69193\" style=\"fill: #1f77b4; stroke: #1f77b4\"/>\n     <use xlink:href=\"#m910f78e085\" x=\"126.498564\" y=\"69.742728\" style=\"fill: #1f77b4; stroke: #1f77b4\"/>\n     <use xlink:href=\"#m910f78e085\" x=\"105.273492\" y=\"55.966212\" style=\"fill: #1f77b4; stroke: #1f77b4\"/>\n     <use xlink:href=\"#m910f78e085\" x=\"141.483963\" y=\"76.110925\" style=\"fill: #1f77b4; stroke: #1f77b4\"/>\n     <use xlink:href=\"#m910f78e085\" x=\"107.290089\" y=\"64.326411\" style=\"fill: #1f77b4; stroke: #1f77b4\"/>\n     <use xlink:href=\"#m910f78e085\" x=\"111.783031\" y=\"76.804837\" style=\"fill: #1f77b4; stroke: #1f77b4\"/>\n     <use xlink:href=\"#m910f78e085\" x=\"121.738193\" y=\"79.407059\" style=\"fill: #1f77b4; stroke: #1f77b4\"/>\n     <use xlink:href=\"#m910f78e085\" x=\"129.240331\" y=\"75.739047\" style=\"fill: #1f77b4; stroke: #1f77b4\"/>\n     <use xlink:href=\"#m910f78e085\" x=\"112.949915\" y=\"72.240866\" style=\"fill: #1f77b4; stroke: #1f77b4\"/>\n     <use xlink:href=\"#m910f78e085\" x=\"77.952537\" y=\"36.960334\" style=\"fill: #1f77b4; stroke: #1f77b4\"/>\n     <use xlink:href=\"#m910f78e085\" x=\"183.597993\" y=\"106.251509\" style=\"fill: #1f77b4; stroke: #1f77b4\"/>\n     <use xlink:href=\"#m910f78e085\" x=\"180.362465\" y=\"106.594253\" style=\"fill: #1f77b4; stroke: #1f77b4\"/>\n     <use xlink:href=\"#m910f78e085\" x=\"145.102287\" y=\"89.058897\" style=\"fill: #1f77b4; stroke: #1f77b4\"/>\n     <use xlink:href=\"#m910f78e085\" x=\"121.492377\" y=\"76.878394\" style=\"fill: #1f77b4; stroke: #1f77b4\"/>\n     <use xlink:href=\"#m910f78e085\" x=\"121.142747\" y=\"77.177346\" style=\"fill: #1f77b4; stroke: #1f77b4\"/>\n     <use xlink:href=\"#m910f78e085\" x=\"124.954894\" y=\"64.283616\" style=\"fill: #1f77b4; stroke: #1f77b4\"/>\n     <use xlink:href=\"#m910f78e085\" x=\"121.700127\" y=\"74.168106\" style=\"fill: #1f77b4; stroke: #1f77b4\"/>\n     <use xlink:href=\"#m910f78e085\" x=\"99.299345\" y=\"58.396584\" style=\"fill: #1f77b4; stroke: #1f77b4\"/>\n     <use xlink:href=\"#m910f78e085\" x=\"100.029309\" y=\"43.849032\" style=\"fill: #1f77b4; stroke: #1f77b4\"/>\n     <use xlink:href=\"#m910f78e085\" x=\"147.969276\" y=\"91.553713\" style=\"fill: #1f77b4; stroke: #1f77b4\"/>\n     <use xlink:href=\"#m910f78e085\" x=\"135.479456\" y=\"81.631267\" style=\"fill: #1f77b4; stroke: #1f77b4\"/>\n     <use xlink:href=\"#m910f78e085\" x=\"107.159788\" y=\"60.352199\" style=\"fill: #1f77b4; stroke: #1f77b4\"/>\n     <use xlink:href=\"#m910f78e085\" x=\"142.095324\" y=\"83.84152\" style=\"fill: #1f77b4; stroke: #1f77b4\"/>\n     <use xlink:href=\"#m910f78e085\" x=\"127.469388\" y=\"74.171563\" style=\"fill: #1f77b4; stroke: #1f77b4\"/>\n     <use xlink:href=\"#m910f78e085\" x=\"104.543834\" y=\"56.002038\" style=\"fill: #1f77b4; stroke: #1f77b4\"/>\n     <use xlink:href=\"#m910f78e085\" x=\"165.878474\" y=\"95.290911\" style=\"fill: #1f77b4; stroke: #1f77b4\"/>\n     <use xlink:href=\"#m910f78e085\" x=\"108.409386\" y=\"79.303224\" style=\"fill: #1f77b4; stroke: #1f77b4\"/>\n     <use xlink:href=\"#m910f78e085\" x=\"93.613011\" y=\"37.363979\" style=\"fill: #1f77b4; stroke: #1f77b4\"/>\n     <use xlink:href=\"#m910f78e085\" x=\"158.894923\" y=\"81.896937\" style=\"fill: #1f77b4; stroke: #1f77b4\"/>\n     <use xlink:href=\"#m910f78e085\" x=\"101.399058\" y=\"69.295412\" style=\"fill: #1f77b4; stroke: #1f77b4\"/>\n     <use xlink:href=\"#m910f78e085\" x=\"152.290199\" y=\"98.890126\" style=\"fill: #1f77b4; stroke: #1f77b4\"/>\n     <use xlink:href=\"#m910f78e085\" x=\"94.021208\" y=\"53.820996\" style=\"fill: #1f77b4; stroke: #1f77b4\"/>\n     <use xlink:href=\"#m910f78e085\" x=\"122.553663\" y=\"72.389153\" style=\"fill: #1f77b4; stroke: #1f77b4\"/>\n     <use xlink:href=\"#m910f78e085\" x=\"67.300272\" y=\"62.499419\" style=\"fill: #1f77b4; stroke: #1f77b4\"/>\n     <use xlink:href=\"#m910f78e085\" x=\"151.060957\" y=\"76.334921\" style=\"fill: #1f77b4; stroke: #1f77b4\"/>\n     <use xlink:href=\"#m910f78e085\" x=\"124.451669\" y=\"78.860156\" style=\"fill: #1f77b4; stroke: #1f77b4\"/>\n     <use xlink:href=\"#m910f78e085\" x=\"139.545061\" y=\"77.540212\" style=\"fill: #1f77b4; stroke: #1f77b4\"/>\n     <use xlink:href=\"#m910f78e085\" x=\"114.876099\" y=\"71.143178\" style=\"fill: #1f77b4; stroke: #1f77b4\"/>\n     <use xlink:href=\"#m910f78e085\" x=\"162.405133\" y=\"108.606287\" style=\"fill: #1f77b4; stroke: #1f77b4\"/>\n     <use xlink:href=\"#m910f78e085\" x=\"99.382028\" y=\"62.21134\" style=\"fill: #1f77b4; stroke: #1f77b4\"/>\n     <use xlink:href=\"#m910f78e085\" x=\"122.74258\" y=\"82.88375\" style=\"fill: #1f77b4; stroke: #1f77b4\"/>\n     <use xlink:href=\"#m910f78e085\" x=\"143.356469\" y=\"76.941644\" style=\"fill: #1f77b4; stroke: #1f77b4\"/>\n     <use xlink:href=\"#m910f78e085\" x=\"141.001748\" y=\"79.090625\" style=\"fill: #1f77b4; stroke: #1f77b4\"/>\n     <use xlink:href=\"#m910f78e085\" x=\"113.053942\" y=\"67.180536\" style=\"fill: #1f77b4; stroke: #1f77b4\"/>\n     <use xlink:href=\"#m910f78e085\" x=\"164.655556\" y=\"85.725377\" style=\"fill: #1f77b4; stroke: #1f77b4\"/>\n     <use xlink:href=\"#m910f78e085\" x=\"134.642483\" y=\"75.207958\" style=\"fill: #1f77b4; stroke: #1f77b4\"/>\n     <use xlink:href=\"#m910f78e085\" x=\"126.513575\" y=\"73.898313\" style=\"fill: #1f77b4; stroke: #1f77b4\"/>\n     <use xlink:href=\"#m910f78e085\" x=\"144.877652\" y=\"78.637978\" style=\"fill: #1f77b4; stroke: #1f77b4\"/>\n     <use xlink:href=\"#m910f78e085\" x=\"189.73517\" y=\"125.583347\" style=\"fill: #1f77b4; stroke: #1f77b4\"/>\n     <use xlink:href=\"#m910f78e085\" x=\"161.402835\" y=\"95.597292\" style=\"fill: #1f77b4; stroke: #1f77b4\"/>\n     <use xlink:href=\"#m910f78e085\" x=\"102.931974\" y=\"66.587117\" style=\"fill: #1f77b4; stroke: #1f77b4\"/>\n     <use xlink:href=\"#m910f78e085\" x=\"60.219166\" y=\"35.087817\" style=\"fill: #1f77b4; stroke: #1f77b4\"/>\n     <use xlink:href=\"#m910f78e085\" x=\"75.406503\" y=\"60.935702\" style=\"fill: #1f77b4; stroke: #1f77b4\"/>\n     <use xlink:href=\"#m910f78e085\" x=\"162.86834\" y=\"87.298529\" style=\"fill: #1f77b4; stroke: #1f77b4\"/>\n     <use xlink:href=\"#m910f78e085\" x=\"119.169715\" y=\"61.803272\" style=\"fill: #1f77b4; stroke: #1f77b4\"/>\n     <use xlink:href=\"#m910f78e085\" x=\"173.138129\" y=\"98.506024\" style=\"fill: #1f77b4; stroke: #1f77b4\"/>\n     <use xlink:href=\"#m910f78e085\" x=\"165.56569\" y=\"82.266789\" style=\"fill: #1f77b4; stroke: #1f77b4\"/>\n     <use xlink:href=\"#m910f78e085\" x=\"85.433318\" y=\"54.263273\" style=\"fill: #1f77b4; stroke: #1f77b4\"/>\n     <use xlink:href=\"#m910f78e085\" x=\"148.465574\" y=\"83.094177\" style=\"fill: #1f77b4; stroke: #1f77b4\"/>\n     <use xlink:href=\"#m910f78e085\" x=\"125.185788\" y=\"69.792693\" style=\"fill: #1f77b4; stroke: #1f77b4\"/>\n     <use xlink:href=\"#m910f78e085\" x=\"136.571596\" y=\"77.87998\" style=\"fill: #1f77b4; stroke: #1f77b4\"/>\n     <use xlink:href=\"#m910f78e085\" x=\"105.952943\" y=\"71.486507\" style=\"fill: #1f77b4; stroke: #1f77b4\"/>\n     <use xlink:href=\"#m910f78e085\" x=\"165.052912\" y=\"98.020938\" style=\"fill: #1f77b4; stroke: #1f77b4\"/>\n     <use xlink:href=\"#m910f78e085\" x=\"93.120498\" y=\"61.616781\" style=\"fill: #1f77b4; stroke: #1f77b4\"/>\n     <use xlink:href=\"#m910f78e085\" x=\"113.060172\" y=\"68.521911\" style=\"fill: #1f77b4; stroke: #1f77b4\"/>\n     <use xlink:href=\"#m910f78e085\" x=\"127.18004\" y=\"78.979914\" style=\"fill: #1f77b4; stroke: #1f77b4\"/>\n     <use xlink:href=\"#m910f78e085\" x=\"102.131814\" y=\"73.252811\" style=\"fill: #1f77b4; stroke: #1f77b4\"/>\n     <use xlink:href=\"#m910f78e085\" x=\"145.943261\" y=\"82.570923\" style=\"fill: #1f77b4; stroke: #1f77b4\"/>\n     <use xlink:href=\"#m910f78e085\" x=\"124.732342\" y=\"58.35551\" style=\"fill: #1f77b4; stroke: #1f77b4\"/>\n     <use xlink:href=\"#m910f78e085\" x=\"156.052858\" y=\"83.816018\" style=\"fill: #1f77b4; stroke: #1f77b4\"/>\n     <use xlink:href=\"#m910f78e085\" x=\"126.258546\" y=\"64.027196\" style=\"fill: #1f77b4; stroke: #1f77b4\"/>\n     <use xlink:href=\"#m910f78e085\" x=\"108.165732\" y=\"58.181104\" style=\"fill: #1f77b4; stroke: #1f77b4\"/>\n     <use xlink:href=\"#m910f78e085\" x=\"161.868898\" y=\"88.917032\" style=\"fill: #1f77b4; stroke: #1f77b4\"/>\n     <use xlink:href=\"#m910f78e085\" x=\"73.904683\" y=\"40.922854\" style=\"fill: #1f77b4; stroke: #1f77b4\"/>\n     <use xlink:href=\"#m910f78e085\" x=\"69.602781\" y=\"38.959708\" style=\"fill: #1f77b4; stroke: #1f77b4\"/>\n     <use xlink:href=\"#m910f78e085\" x=\"127.707549\" y=\"75.068558\" style=\"fill: #1f77b4; stroke: #1f77b4\"/>\n     <use xlink:href=\"#m910f78e085\" x=\"126.984114\" y=\"77.139487\" style=\"fill: #1f77b4; stroke: #1f77b4\"/>\n     <use xlink:href=\"#m910f78e085\" x=\"84.85591\" y=\"54.286847\" style=\"fill: #1f77b4; stroke: #1f77b4\"/>\n     <use xlink:href=\"#m910f78e085\" x=\"119.146429\" y=\"72.8189\" style=\"fill: #1f77b4; stroke: #1f77b4\"/>\n     <use xlink:href=\"#m910f78e085\" x=\"146.027254\" y=\"101.886143\" style=\"fill: #1f77b4; stroke: #1f77b4\"/>\n     <use xlink:href=\"#m910f78e085\" x=\"85.635041\" y=\"33.466996\" style=\"fill: #1f77b4; stroke: #1f77b4\"/>\n     <use xlink:href=\"#m910f78e085\" x=\"187.248546\" y=\"99.605191\" style=\"fill: #1f77b4; stroke: #1f77b4\"/>\n     <use xlink:href=\"#m910f78e085\" x=\"93.778538\" y=\"41.027529\" style=\"fill: #1f77b4; stroke: #1f77b4\"/>\n     <use xlink:href=\"#m910f78e085\" x=\"144.950621\" y=\"83.512329\" style=\"fill: #1f77b4; stroke: #1f77b4\"/>\n     <use xlink:href=\"#m910f78e085\" x=\"153.676856\" y=\"89.496731\" style=\"fill: #1f77b4; stroke: #1f77b4\"/>\n     <use xlink:href=\"#m910f78e085\" x=\"101.235155\" y=\"41.851274\" style=\"fill: #1f77b4; stroke: #1f77b4\"/>\n     <use xlink:href=\"#m910f78e085\" x=\"65.757583\" y=\"41.462525\" style=\"fill: #1f77b4; stroke: #1f77b4\"/>\n     <use xlink:href=\"#m910f78e085\" x=\"70.518549\" y=\"56.161848\" style=\"fill: #1f77b4; stroke: #1f77b4\"/>\n     <use xlink:href=\"#m910f78e085\" x=\"94.309943\" y=\"50.157702\" style=\"fill: #1f77b4; stroke: #1f77b4\"/>\n     <use xlink:href=\"#m910f78e085\" x=\"144.920865\" y=\"98.830723\" style=\"fill: #1f77b4; stroke: #1f77b4\"/>\n     <use xlink:href=\"#m910f78e085\" x=\"76.850443\" y=\"52.578724\" style=\"fill: #1f77b4; stroke: #1f77b4\"/>\n     <use xlink:href=\"#m910f78e085\" x=\"140.182634\" y=\"84.147066\" style=\"fill: #1f77b4; stroke: #1f77b4\"/>\n     <use xlink:href=\"#m910f78e085\" x=\"105.036246\" y=\"63.58058\" style=\"fill: #1f77b4; stroke: #1f77b4\"/>\n     <use xlink:href=\"#m910f78e085\" x=\"98.925686\" y=\"58.784141\" style=\"fill: #1f77b4; stroke: #1f77b4\"/>\n     <use xlink:href=\"#m910f78e085\" x=\"101.93115\" y=\"62.215572\" style=\"fill: #1f77b4; stroke: #1f77b4\"/>\n     <use xlink:href=\"#m910f78e085\" x=\"184.769947\" y=\"97.194861\" style=\"fill: #1f77b4; stroke: #1f77b4\"/>\n     <use xlink:href=\"#m910f78e085\" x=\"96.170469\" y=\"54.520186\" style=\"fill: #1f77b4; stroke: #1f77b4\"/>\n     <use xlink:href=\"#m910f78e085\" x=\"156.781244\" y=\"91.01985\" style=\"fill: #1f77b4; stroke: #1f77b4\"/>\n     <use xlink:href=\"#m910f78e085\" x=\"102.378741\" y=\"56.561078\" style=\"fill: #1f77b4; stroke: #1f77b4\"/>\n     <use xlink:href=\"#m910f78e085\" x=\"131.297242\" y=\"65.619929\" style=\"fill: #1f77b4; stroke: #1f77b4\"/>\n     <use xlink:href=\"#m910f78e085\" x=\"94.031919\" y=\"66.186244\" style=\"fill: #1f77b4; stroke: #1f77b4\"/>\n     <use xlink:href=\"#m910f78e085\" x=\"161.160278\" y=\"87.420057\" style=\"fill: #1f77b4; stroke: #1f77b4\"/>\n     <use xlink:href=\"#m910f78e085\" x=\"120.99224\" y=\"68.317666\" style=\"fill: #1f77b4; stroke: #1f77b4\"/>\n     <use xlink:href=\"#m910f78e085\" x=\"166.558232\" y=\"92.267696\" style=\"fill: #1f77b4; stroke: #1f77b4\"/>\n     <use xlink:href=\"#m910f78e085\" x=\"108.893377\" y=\"70.521466\" style=\"fill: #1f77b4; stroke: #1f77b4\"/>\n     <use xlink:href=\"#m910f78e085\" x=\"83.565945\" y=\"38.051626\" style=\"fill: #1f77b4; stroke: #1f77b4\"/>\n     <use xlink:href=\"#m910f78e085\" x=\"142.146695\" y=\"82.857332\" style=\"fill: #1f77b4; stroke: #1f77b4\"/>\n     <use xlink:href=\"#m910f78e085\" x=\"126.640317\" y=\"70.773457\" style=\"fill: #1f77b4; stroke: #1f77b4\"/>\n     <use xlink:href=\"#m910f78e085\" x=\"114.397904\" y=\"60.194278\" style=\"fill: #1f77b4; stroke: #1f77b4\"/>\n     <use xlink:href=\"#m910f78e085\" x=\"115.630282\" y=\"61.464854\" style=\"fill: #1f77b4; stroke: #1f77b4\"/>\n     <use xlink:href=\"#m910f78e085\" x=\"126.123504\" y=\"80.821994\" style=\"fill: #1f77b4; stroke: #1f77b4\"/>\n     <use xlink:href=\"#m910f78e085\" x=\"142.585474\" y=\"91.553164\" style=\"fill: #1f77b4; stroke: #1f77b4\"/>\n     <use xlink:href=\"#m910f78e085\" x=\"121.878937\" y=\"76.261858\" style=\"fill: #1f77b4; stroke: #1f77b4\"/>\n     <use xlink:href=\"#m910f78e085\" x=\"117.549353\" y=\"72.368759\" style=\"fill: #1f77b4; stroke: #1f77b4\"/>\n     <use xlink:href=\"#m910f78e085\" x=\"139.035693\" y=\"68.717363\" style=\"fill: #1f77b4; stroke: #1f77b4\"/>\n     <use xlink:href=\"#m910f78e085\" x=\"94.132269\" y=\"47.565963\" style=\"fill: #1f77b4; stroke: #1f77b4\"/>\n     <use xlink:href=\"#m910f78e085\" x=\"133.65665\" y=\"77.499938\" style=\"fill: #1f77b4; stroke: #1f77b4\"/>\n     <use xlink:href=\"#m910f78e085\" x=\"150.219511\" y=\"82.128026\" style=\"fill: #1f77b4; stroke: #1f77b4\"/>\n     <use xlink:href=\"#m910f78e085\" x=\"112.900668\" y=\"55.687004\" style=\"fill: #1f77b4; stroke: #1f77b4\"/>\n     <use xlink:href=\"#m910f78e085\" x=\"124.613089\" y=\"68.175299\" style=\"fill: #1f77b4; stroke: #1f77b4\"/>\n     <use xlink:href=\"#m910f78e085\" x=\"177.25481\" y=\"95.651897\" style=\"fill: #1f77b4; stroke: #1f77b4\"/>\n     <use xlink:href=\"#m910f78e085\" x=\"99.526116\" y=\"67.053684\" style=\"fill: #1f77b4; stroke: #1f77b4\"/>\n     <use xlink:href=\"#m910f78e085\" x=\"137.650935\" y=\"72.236338\" style=\"fill: #1f77b4; stroke: #1f77b4\"/>\n     <use xlink:href=\"#m910f78e085\" x=\"146.161282\" y=\"81.516281\" style=\"fill: #1f77b4; stroke: #1f77b4\"/>\n     <use xlink:href=\"#m910f78e085\" x=\"155.372056\" y=\"85.203884\" style=\"fill: #1f77b4; stroke: #1f77b4\"/>\n     <use xlink:href=\"#m910f78e085\" x=\"144.561046\" y=\"97.376808\" style=\"fill: #1f77b4; stroke: #1f77b4\"/>\n     <use xlink:href=\"#m910f78e085\" x=\"90.660697\" y=\"56.196121\" style=\"fill: #1f77b4; stroke: #1f77b4\"/>\n     <use xlink:href=\"#m910f78e085\" x=\"137.735411\" y=\"85.115452\" style=\"fill: #1f77b4; stroke: #1f77b4\"/>\n     <use xlink:href=\"#m910f78e085\" x=\"124.607528\" y=\"79.980527\" style=\"fill: #1f77b4; stroke: #1f77b4\"/>\n     <use xlink:href=\"#m910f78e085\" x=\"111.608954\" y=\"73.730854\" style=\"fill: #1f77b4; stroke: #1f77b4\"/>\n     <use xlink:href=\"#m910f78e085\" x=\"105.179888\" y=\"55.565057\" style=\"fill: #1f77b4; stroke: #1f77b4\"/>\n     <use xlink:href=\"#m910f78e085\" x=\"118.592401\" y=\"72.635488\" style=\"fill: #1f77b4; stroke: #1f77b4\"/>\n     <use xlink:href=\"#m910f78e085\" x=\"102.942437\" y=\"62.87357\" style=\"fill: #1f77b4; stroke: #1f77b4\"/>\n     <use xlink:href=\"#m910f78e085\" x=\"221.727415\" y=\"139.5\" style=\"fill: #1f77b4; stroke: #1f77b4\"/>\n     <use xlink:href=\"#m910f78e085\" x=\"113.077653\" y=\"71.466983\" style=\"fill: #1f77b4; stroke: #1f77b4\"/>\n     <use xlink:href=\"#m910f78e085\" x=\"86.689612\" y=\"40.52931\" style=\"fill: #1f77b4; stroke: #1f77b4\"/>\n     <use xlink:href=\"#m910f78e085\" x=\"103.808617\" y=\"62.257715\" style=\"fill: #1f77b4; stroke: #1f77b4\"/>\n     <use xlink:href=\"#m910f78e085\" x=\"123.967769\" y=\"66.994234\" style=\"fill: #1f77b4; stroke: #1f77b4\"/>\n     <use xlink:href=\"#m910f78e085\" x=\"154.502527\" y=\"78.869704\" style=\"fill: #1f77b4; stroke: #1f77b4\"/>\n     <use xlink:href=\"#m910f78e085\" x=\"129.882985\" y=\"72.164385\" style=\"fill: #1f77b4; stroke: #1f77b4\"/>\n     <use xlink:href=\"#m910f78e085\" x=\"138.564565\" y=\"79.366959\" style=\"fill: #1f77b4; stroke: #1f77b4\"/>\n     <use xlink:href=\"#m910f78e085\" x=\"113.812324\" y=\"75.547412\" style=\"fill: #1f77b4; stroke: #1f77b4\"/>\n     <use xlink:href=\"#m910f78e085\" x=\"132.792368\" y=\"78.52241\" style=\"fill: #1f77b4; stroke: #1f77b4\"/>\n     <use xlink:href=\"#m910f78e085\" x=\"89.423631\" y=\"64.529346\" style=\"fill: #1f77b4; stroke: #1f77b4\"/>\n     <use xlink:href=\"#m910f78e085\" x=\"104.586192\" y=\"63.07307\" style=\"fill: #1f77b4; stroke: #1f77b4\"/>\n     <use xlink:href=\"#m910f78e085\" x=\"179.142055\" y=\"106.943816\" style=\"fill: #1f77b4; stroke: #1f77b4\"/>\n     <use xlink:href=\"#m910f78e085\" x=\"97.979084\" y=\"63.710033\" style=\"fill: #1f77b4; stroke: #1f77b4\"/>\n     <use xlink:href=\"#m910f78e085\" x=\"133.021216\" y=\"107.021315\" style=\"fill: #1f77b4; stroke: #1f77b4\"/>\n     <use xlink:href=\"#m910f78e085\" x=\"143.498738\" y=\"88.257134\" style=\"fill: #1f77b4; stroke: #1f77b4\"/>\n     <use xlink:href=\"#m910f78e085\" x=\"141.224932\" y=\"81.966543\" style=\"fill: #1f77b4; stroke: #1f77b4\"/>\n     <use xlink:href=\"#m910f78e085\" x=\"122.311589\" y=\"71.821064\" style=\"fill: #1f77b4; stroke: #1f77b4\"/>\n     <use xlink:href=\"#m910f78e085\" x=\"131.10354\" y=\"99.22059\" style=\"fill: #1f77b4; stroke: #1f77b4\"/>\n     <use xlink:href=\"#m910f78e085\" x=\"205.712027\" y=\"105.199409\" style=\"fill: #1f77b4; stroke: #1f77b4\"/>\n     <use xlink:href=\"#m910f78e085\" x=\"121.346125\" y=\"67.343387\" style=\"fill: #1f77b4; stroke: #1f77b4\"/>\n     <use xlink:href=\"#m910f78e085\" x=\"121.675533\" y=\"65.987061\" style=\"fill: #1f77b4; stroke: #1f77b4\"/>\n     <use xlink:href=\"#m910f78e085\" x=\"126.055171\" y=\"70.450098\" style=\"fill: #1f77b4; stroke: #1f77b4\"/>\n     <use xlink:href=\"#m910f78e085\" x=\"120.898111\" y=\"78.497492\" style=\"fill: #1f77b4; stroke: #1f77b4\"/>\n     <use xlink:href=\"#m910f78e085\" x=\"135.671011\" y=\"74.919141\" style=\"fill: #1f77b4; stroke: #1f77b4\"/>\n     <use xlink:href=\"#m910f78e085\" x=\"157.305505\" y=\"101.364651\" style=\"fill: #1f77b4; stroke: #1f77b4\"/>\n     <use xlink:href=\"#m910f78e085\" x=\"91.9752\" y=\"54.912438\" style=\"fill: #1f77b4; stroke: #1f77b4\"/>\n     <use xlink:href=\"#m910f78e085\" x=\"109.833571\" y=\"58.735373\" style=\"fill: #1f77b4; stroke: #1f77b4\"/>\n     <use xlink:href=\"#m910f78e085\" x=\"111.367771\" y=\"66.6571\" style=\"fill: #1f77b4; stroke: #1f77b4\"/>\n     <use xlink:href=\"#m910f78e085\" x=\"112.460618\" y=\"65.905043\" style=\"fill: #1f77b4; stroke: #1f77b4\"/>\n     <use xlink:href=\"#m910f78e085\" x=\"170.4205\" y=\"100.191767\" style=\"fill: #1f77b4; stroke: #1f77b4\"/>\n     <use xlink:href=\"#m910f78e085\" x=\"134.664552\" y=\"66.878357\" style=\"fill: #1f77b4; stroke: #1f77b4\"/>\n     <use xlink:href=\"#m910f78e085\" x=\"90.664627\" y=\"51.628414\" style=\"fill: #1f77b4; stroke: #1f77b4\"/>\n     <use xlink:href=\"#m910f78e085\" x=\"65.085487\" y=\"36.838539\" style=\"fill: #1f77b4; stroke: #1f77b4\"/>\n     <use xlink:href=\"#m910f78e085\" x=\"73.436468\" y=\"41.521172\" style=\"fill: #1f77b4; stroke: #1f77b4\"/>\n     <use xlink:href=\"#m910f78e085\" x=\"151.88651\" y=\"90.620362\" style=\"fill: #1f77b4; stroke: #1f77b4\"/>\n     <use xlink:href=\"#m910f78e085\" x=\"150.949349\" y=\"73.008714\" style=\"fill: #1f77b4; stroke: #1f77b4\"/>\n     <use xlink:href=\"#m910f78e085\" x=\"101.631733\" y=\"66.891191\" style=\"fill: #1f77b4; stroke: #1f77b4\"/>\n     <use xlink:href=\"#m910f78e085\" x=\"68.424786\" y=\"51.114281\" style=\"fill: #1f77b4; stroke: #1f77b4\"/>\n     <use xlink:href=\"#m910f78e085\" x=\"123.002869\" y=\"60.922866\" style=\"fill: #1f77b4; stroke: #1f77b4\"/>\n     <use xlink:href=\"#m910f78e085\" x=\"129.992276\" y=\"85.617058\" style=\"fill: #1f77b4; stroke: #1f77b4\"/>\n     <use xlink:href=\"#m910f78e085\" x=\"64.566233\" y=\"46.788133\" style=\"fill: #1f77b4; stroke: #1f77b4\"/>\n     <use xlink:href=\"#m910f78e085\" x=\"157.828098\" y=\"80.346743\" style=\"fill: #1f77b4; stroke: #1f77b4\"/>\n     <use xlink:href=\"#m910f78e085\" x=\"145.694603\" y=\"81.167924\" style=\"fill: #1f77b4; stroke: #1f77b4\"/>\n     <use xlink:href=\"#m910f78e085\" x=\"155.594378\" y=\"76.549203\" style=\"fill: #1f77b4; stroke: #1f77b4\"/>\n     <use xlink:href=\"#m910f78e085\" x=\"120.338817\" y=\"70.724769\" style=\"fill: #1f77b4; stroke: #1f77b4\"/>\n     <use xlink:href=\"#m910f78e085\" x=\"91.735078\" y=\"49.494777\" style=\"fill: #1f77b4; stroke: #1f77b4\"/>\n     <use xlink:href=\"#m910f78e085\" x=\"86.695459\" y=\"54.206507\" style=\"fill: #1f77b4; stroke: #1f77b4\"/>\n     <use xlink:href=\"#m910f78e085\" x=\"169.607038\" y=\"96.480787\" style=\"fill: #1f77b4; stroke: #1f77b4\"/>\n     <use xlink:href=\"#m910f78e085\" x=\"134.823825\" y=\"97.4401\" style=\"fill: #1f77b4; stroke: #1f77b4\"/>\n     <use xlink:href=\"#m910f78e085\" x=\"78.463594\" y=\"46.578955\" style=\"fill: #1f77b4; stroke: #1f77b4\"/>\n     <use xlink:href=\"#m910f78e085\" x=\"123.432616\" y=\"60.759924\" style=\"fill: #1f77b4; stroke: #1f77b4\"/>\n     <use xlink:href=\"#m910f78e085\" x=\"158.835017\" y=\"93.738364\" style=\"fill: #1f77b4; stroke: #1f77b4\"/>\n     <use xlink:href=\"#m910f78e085\" x=\"163.890848\" y=\"88.333419\" style=\"fill: #1f77b4; stroke: #1f77b4\"/>\n     <use xlink:href=\"#m910f78e085\" x=\"135.678703\" y=\"55.74999\" style=\"fill: #1f77b4; stroke: #1f77b4\"/>\n     <use xlink:href=\"#m910f78e085\" x=\"93.279857\" y=\"62.459996\" style=\"fill: #1f77b4; stroke: #1f77b4\"/>\n     <use xlink:href=\"#m910f78e085\" x=\"162.799075\" y=\"91.729496\" style=\"fill: #1f77b4; stroke: #1f77b4\"/>\n     <use xlink:href=\"#m910f78e085\" x=\"144.660508\" y=\"80.731171\" style=\"fill: #1f77b4; stroke: #1f77b4\"/>\n     <use xlink:href=\"#m910f78e085\" x=\"149.995259\" y=\"88.76317\" style=\"fill: #1f77b4; stroke: #1f77b4\"/>\n     <use xlink:href=\"#m910f78e085\" x=\"163.714173\" y=\"97.953928\" style=\"fill: #1f77b4; stroke: #1f77b4\"/>\n     <use xlink:href=\"#m910f78e085\" x=\"85.213595\" y=\"52.647303\" style=\"fill: #1f77b4; stroke: #1f77b4\"/>\n     <use xlink:href=\"#m910f78e085\" x=\"113.824913\" y=\"90.459979\" style=\"fill: #1f77b4; stroke: #1f77b4\"/>\n     <use xlink:href=\"#m910f78e085\" x=\"89.105241\" y=\"50.253152\" style=\"fill: #1f77b4; stroke: #1f77b4\"/>\n     <use xlink:href=\"#m910f78e085\" x=\"147.231028\" y=\"89.4837\" style=\"fill: #1f77b4; stroke: #1f77b4\"/>\n     <use xlink:href=\"#m910f78e085\" x=\"150.814261\" y=\"86.426022\" style=\"fill: #1f77b4; stroke: #1f77b4\"/>\n     <use xlink:href=\"#m910f78e085\" x=\"129.970361\" y=\"73.098282\" style=\"fill: #1f77b4; stroke: #1f77b4\"/>\n     <use xlink:href=\"#m910f78e085\" x=\"73.89298\" y=\"52.150047\" style=\"fill: #1f77b4; stroke: #1f77b4\"/>\n     <use xlink:href=\"#m910f78e085\" x=\"137.323519\" y=\"87.993451\" style=\"fill: #1f77b4; stroke: #1f77b4\"/>\n     <use xlink:href=\"#m910f78e085\" x=\"174.001733\" y=\"77.025283\" style=\"fill: #1f77b4; stroke: #1f77b4\"/>\n     <use xlink:href=\"#m910f78e085\" x=\"151.303367\" y=\"86.749121\" style=\"fill: #1f77b4; stroke: #1f77b4\"/>\n     <use xlink:href=\"#m910f78e085\" x=\"153.785587\" y=\"86.413062\" style=\"fill: #1f77b4; stroke: #1f77b4\"/>\n     <use xlink:href=\"#m910f78e085\" x=\"163.846634\" y=\"73.768258\" style=\"fill: #1f77b4; stroke: #1f77b4\"/>\n     <use xlink:href=\"#m910f78e085\" x=\"122.903167\" y=\"63.727913\" style=\"fill: #1f77b4; stroke: #1f77b4\"/>\n     <use xlink:href=\"#m910f78e085\" x=\"124.031967\" y=\"74.131022\" style=\"fill: #1f77b4; stroke: #1f77b4\"/>\n     <use xlink:href=\"#m910f78e085\" x=\"80.593872\" y=\"34.32436\" style=\"fill: #1f77b4; stroke: #1f77b4\"/>\n     <use xlink:href=\"#m910f78e085\" x=\"127.176288\" y=\"78.145937\" style=\"fill: #1f77b4; stroke: #1f77b4\"/>\n     <use xlink:href=\"#m910f78e085\" x=\"114.811756\" y=\"52.456756\" style=\"fill: #1f77b4; stroke: #1f77b4\"/>\n     <use xlink:href=\"#m910f78e085\" x=\"116.75797\" y=\"62.847981\" style=\"fill: #1f77b4; stroke: #1f77b4\"/>\n     <use xlink:href=\"#m910f78e085\" x=\"120.158253\" y=\"62.825226\" style=\"fill: #1f77b4; stroke: #1f77b4\"/>\n     <use xlink:href=\"#m910f78e085\" x=\"122.687733\" y=\"62.098765\" style=\"fill: #1f77b4; stroke: #1f77b4\"/>\n     <use xlink:href=\"#m910f78e085\" x=\"84.216641\" y=\"62.287815\" style=\"fill: #1f77b4; stroke: #1f77b4\"/>\n     <use xlink:href=\"#m910f78e085\" x=\"128.636633\" y=\"90.607345\" style=\"fill: #1f77b4; stroke: #1f77b4\"/>\n     <use xlink:href=\"#m910f78e085\" x=\"145.756251\" y=\"74.884487\" style=\"fill: #1f77b4; stroke: #1f77b4\"/>\n     <use xlink:href=\"#m910f78e085\" x=\"129.964164\" y=\"73.950829\" style=\"fill: #1f77b4; stroke: #1f77b4\"/>\n     <use xlink:href=\"#m910f78e085\" x=\"159.584356\" y=\"89.321101\" style=\"fill: #1f77b4; stroke: #1f77b4\"/>\n     <use xlink:href=\"#m910f78e085\" x=\"118.066997\" y=\"82.243495\" style=\"fill: #1f77b4; stroke: #1f77b4\"/>\n     <use xlink:href=\"#m910f78e085\" x=\"137.379577\" y=\"80.748758\" style=\"fill: #1f77b4; stroke: #1f77b4\"/>\n     <use xlink:href=\"#m910f78e085\" x=\"93.460402\" y=\"59.415331\" style=\"fill: #1f77b4; stroke: #1f77b4\"/>\n     <use xlink:href=\"#m910f78e085\" x=\"128.447963\" y=\"69.727475\" style=\"fill: #1f77b4; stroke: #1f77b4\"/>\n     <use xlink:href=\"#m910f78e085\" x=\"91.204577\" y=\"57.308443\" style=\"fill: #1f77b4; stroke: #1f77b4\"/>\n     <use xlink:href=\"#m910f78e085\" x=\"134.451307\" y=\"74.446066\" style=\"fill: #1f77b4; stroke: #1f77b4\"/>\n     <use xlink:href=\"#m910f78e085\" x=\"158.130878\" y=\"89.887993\" style=\"fill: #1f77b4; stroke: #1f77b4\"/>\n     <use xlink:href=\"#m910f78e085\" x=\"119.548989\" y=\"77.653567\" style=\"fill: #1f77b4; stroke: #1f77b4\"/>\n     <use xlink:href=\"#m910f78e085\" x=\"88.704539\" y=\"49.602274\" style=\"fill: #1f77b4; stroke: #1f77b4\"/>\n     <use xlink:href=\"#m910f78e085\" x=\"151.972615\" y=\"61.718968\" style=\"fill: #1f77b4; stroke: #1f77b4\"/>\n     <use xlink:href=\"#m910f78e085\" x=\"136.474638\" y=\"90.481871\" style=\"fill: #1f77b4; stroke: #1f77b4\"/>\n     <use xlink:href=\"#m910f78e085\" x=\"81.648129\" y=\"56.534905\" style=\"fill: #1f77b4; stroke: #1f77b4\"/>\n     <use xlink:href=\"#m910f78e085\" x=\"91.942442\" y=\"51.502782\" style=\"fill: #1f77b4; stroke: #1f77b4\"/>\n     <use xlink:href=\"#m910f78e085\" x=\"95.079262\" y=\"64.010492\" style=\"fill: #1f77b4; stroke: #1f77b4\"/>\n     <use xlink:href=\"#m910f78e085\" x=\"148.885407\" y=\"88.648922\" style=\"fill: #1f77b4; stroke: #1f77b4\"/>\n     <use xlink:href=\"#m910f78e085\" x=\"166.191759\" y=\"89.761251\" style=\"fill: #1f77b4; stroke: #1f77b4\"/>\n     <use xlink:href=\"#m910f78e085\" x=\"119.362149\" y=\"53.512978\" style=\"fill: #1f77b4; stroke: #1f77b4\"/>\n     <use xlink:href=\"#m910f78e085\" x=\"145.590413\" y=\"87.274534\" style=\"fill: #1f77b4; stroke: #1f77b4\"/>\n     <use xlink:href=\"#m910f78e085\" x=\"114.753776\" y=\"69.420076\" style=\"fill: #1f77b4; stroke: #1f77b4\"/>\n     <use xlink:href=\"#m910f78e085\" x=\"132.733064\" y=\"84.778722\" style=\"fill: #1f77b4; stroke: #1f77b4\"/>\n     <use xlink:href=\"#m910f78e085\" x=\"89.860915\" y=\"44.720328\" style=\"fill: #1f77b4; stroke: #1f77b4\"/>\n     <use xlink:href=\"#m910f78e085\" x=\"84.438898\" y=\"65.403717\" style=\"fill: #1f77b4; stroke: #1f77b4\"/>\n     <use xlink:href=\"#m910f78e085\" x=\"141.195254\" y=\"69.028813\" style=\"fill: #1f77b4; stroke: #1f77b4\"/>\n     <use xlink:href=\"#m910f78e085\" x=\"83.084064\" y=\"35.284631\" style=\"fill: #1f77b4; stroke: #1f77b4\"/>\n     <use xlink:href=\"#m910f78e085\" x=\"148.79424\" y=\"83.561166\" style=\"fill: #1f77b4; stroke: #1f77b4\"/>\n     <use xlink:href=\"#m910f78e085\" x=\"71.275239\" y=\"46.591823\" style=\"fill: #1f77b4; stroke: #1f77b4\"/>\n     <use xlink:href=\"#m910f78e085\" x=\"101.401954\" y=\"57.566494\" style=\"fill: #1f77b4; stroke: #1f77b4\"/>\n     <use xlink:href=\"#m910f78e085\" x=\"129.028543\" y=\"80.799638\" style=\"fill: #1f77b4; stroke: #1f77b4\"/>\n     <use xlink:href=\"#m910f78e085\" x=\"110.392992\" y=\"54.932296\" style=\"fill: #1f77b4; stroke: #1f77b4\"/>\n     <use xlink:href=\"#m910f78e085\" x=\"164.059916\" y=\"114.980318\" style=\"fill: #1f77b4; stroke: #1f77b4\"/>\n     <use xlink:href=\"#m910f78e085\" x=\"67.200774\" y=\"47.960636\" style=\"fill: #1f77b4; stroke: #1f77b4\"/>\n     <use xlink:href=\"#m910f78e085\" x=\"70.718425\" y=\"38.372163\" style=\"fill: #1f77b4; stroke: #1f77b4\"/>\n     <use xlink:href=\"#m910f78e085\" x=\"150.024673\" y=\"88.257042\" style=\"fill: #1f77b4; stroke: #1f77b4\"/>\n     <use xlink:href=\"#m910f78e085\" x=\"114.28557\" y=\"85.388772\" style=\"fill: #1f77b4; stroke: #1f77b4\"/>\n     <use xlink:href=\"#m910f78e085\" x=\"81.248286\" y=\"43.742271\" style=\"fill: #1f77b4; stroke: #1f77b4\"/>\n     <use xlink:href=\"#m910f78e085\" x=\"123.988717\" y=\"60.961763\" style=\"fill: #1f77b4; stroke: #1f77b4\"/>\n     <use xlink:href=\"#m910f78e085\" x=\"153.480887\" y=\"80.658114\" style=\"fill: #1f77b4; stroke: #1f77b4\"/>\n     <use xlink:href=\"#m910f78e085\" x=\"148.601437\" y=\"87.559297\" style=\"fill: #1f77b4; stroke: #1f77b4\"/>\n     <use xlink:href=\"#m910f78e085\" x=\"129.890453\" y=\"75.951685\" style=\"fill: #1f77b4; stroke: #1f77b4\"/>\n     <use xlink:href=\"#m910f78e085\" x=\"125.989654\" y=\"65.06701\" style=\"fill: #1f77b4; stroke: #1f77b4\"/>\n     <use xlink:href=\"#m910f78e085\" x=\"84.249785\" y=\"54.876394\" style=\"fill: #1f77b4; stroke: #1f77b4\"/>\n     <use xlink:href=\"#m910f78e085\" x=\"174.754742\" y=\"82.844762\" style=\"fill: #1f77b4; stroke: #1f77b4\"/>\n     <use xlink:href=\"#m910f78e085\" x=\"138.551441\" y=\"88.537261\" style=\"fill: #1f77b4; stroke: #1f77b4\"/>\n     <use xlink:href=\"#m910f78e085\" x=\"129.356539\" y=\"62.408628\" style=\"fill: #1f77b4; stroke: #1f77b4\"/>\n     <use xlink:href=\"#m910f78e085\" x=\"120.027435\" y=\"70.308591\" style=\"fill: #1f77b4; stroke: #1f77b4\"/>\n     <use xlink:href=\"#m910f78e085\" x=\"113.638754\" y=\"65.412035\" style=\"fill: #1f77b4; stroke: #1f77b4\"/>\n     <use xlink:href=\"#m910f78e085\" x=\"139.723517\" y=\"80.563245\" style=\"fill: #1f77b4; stroke: #1f77b4\"/>\n     <use xlink:href=\"#m910f78e085\" x=\"52.465807\" y=\"29.737698\" style=\"fill: #1f77b4; stroke: #1f77b4\"/>\n     <use xlink:href=\"#m910f78e085\" x=\"67.488294\" y=\"32.683243\" style=\"fill: #1f77b4; stroke: #1f77b4\"/>\n     <use xlink:href=\"#m910f78e085\" x=\"142.04041\" y=\"74.778532\" style=\"fill: #1f77b4; stroke: #1f77b4\"/>\n     <use xlink:href=\"#m910f78e085\" x=\"122.210947\" y=\"69.903768\" style=\"fill: #1f77b4; stroke: #1f77b4\"/>\n     <use xlink:href=\"#m910f78e085\" x=\"187.335606\" y=\"94.505858\" style=\"fill: #1f77b4; stroke: #1f77b4\"/>\n     <use xlink:href=\"#m910f78e085\" x=\"117.208137\" y=\"57.741542\" style=\"fill: #1f77b4; stroke: #1f77b4\"/>\n     <use xlink:href=\"#m910f78e085\" x=\"157.142931\" y=\"98.592876\" style=\"fill: #1f77b4; stroke: #1f77b4\"/>\n     <use xlink:href=\"#m910f78e085\" x=\"90.103328\" y=\"49.055659\" style=\"fill: #1f77b4; stroke: #1f77b4\"/>\n     <use xlink:href=\"#m910f78e085\" x=\"132.52916\" y=\"74.02891\" style=\"fill: #1f77b4; stroke: #1f77b4\"/>\n     <use xlink:href=\"#m910f78e085\" x=\"151.464411\" y=\"100.719518\" style=\"fill: #1f77b4; stroke: #1f77b4\"/>\n     <use xlink:href=\"#m910f78e085\" x=\"130.011351\" y=\"74.156228\" style=\"fill: #1f77b4; stroke: #1f77b4\"/>\n     <use xlink:href=\"#m910f78e085\" x=\"106.614317\" y=\"65.868211\" style=\"fill: #1f77b4; stroke: #1f77b4\"/>\n     <use xlink:href=\"#m910f78e085\" x=\"82.091074\" y=\"55.738486\" style=\"fill: #1f77b4; stroke: #1f77b4\"/>\n     <use xlink:href=\"#m910f78e085\" x=\"162.298061\" y=\"77.691962\" style=\"fill: #1f77b4; stroke: #1f77b4\"/>\n     <use xlink:href=\"#m910f78e085\" x=\"129.337604\" y=\"72.142749\" style=\"fill: #1f77b4; stroke: #1f77b4\"/>\n     <use xlink:href=\"#m910f78e085\" x=\"146.798102\" y=\"86.633736\" style=\"fill: #1f77b4; stroke: #1f77b4\"/>\n     <use xlink:href=\"#m910f78e085\" x=\"119.364874\" y=\"60.185556\" style=\"fill: #1f77b4; stroke: #1f77b4\"/>\n     <use xlink:href=\"#m910f78e085\" x=\"97.012554\" y=\"43.194558\" style=\"fill: #1f77b4; stroke: #1f77b4\"/>\n     <use xlink:href=\"#m910f78e085\" x=\"135.976652\" y=\"76.831131\" style=\"fill: #1f77b4; stroke: #1f77b4\"/>\n     <use xlink:href=\"#m910f78e085\" x=\"132.143559\" y=\"79.217624\" style=\"fill: #1f77b4; stroke: #1f77b4\"/>\n     <use xlink:href=\"#m910f78e085\" x=\"115.377076\" y=\"62.754958\" style=\"fill: #1f77b4; stroke: #1f77b4\"/>\n     <use xlink:href=\"#m910f78e085\" x=\"141.616351\" y=\"84.723472\" style=\"fill: #1f77b4; stroke: #1f77b4\"/>\n     <use xlink:href=\"#m910f78e085\" x=\"166.674458\" y=\"88.348275\" style=\"fill: #1f77b4; stroke: #1f77b4\"/>\n     <use xlink:href=\"#m910f78e085\" x=\"145.583742\" y=\"81.966509\" style=\"fill: #1f77b4; stroke: #1f77b4\"/>\n     <use xlink:href=\"#m910f78e085\" x=\"89.666085\" y=\"54.928896\" style=\"fill: #1f77b4; stroke: #1f77b4\"/>\n     <use xlink:href=\"#m910f78e085\" x=\"149.589537\" y=\"84.479479\" style=\"fill: #1f77b4; stroke: #1f77b4\"/>\n     <use xlink:href=\"#m910f78e085\" x=\"134.495168\" y=\"86.026755\" style=\"fill: #1f77b4; stroke: #1f77b4\"/>\n     <use xlink:href=\"#m910f78e085\" x=\"134.757121\" y=\"80.340675\" style=\"fill: #1f77b4; stroke: #1f77b4\"/>\n     <use xlink:href=\"#m910f78e085\" x=\"113.632765\" y=\"69.284178\" style=\"fill: #1f77b4; stroke: #1f77b4\"/>\n     <use xlink:href=\"#m910f78e085\" x=\"101.684646\" y=\"79.718546\" style=\"fill: #1f77b4; stroke: #1f77b4\"/>\n     <use xlink:href=\"#m910f78e085\" x=\"91.560195\" y=\"70.087648\" style=\"fill: #1f77b4; stroke: #1f77b4\"/>\n     <use xlink:href=\"#m910f78e085\" x=\"113.545105\" y=\"72.030866\" style=\"fill: #1f77b4; stroke: #1f77b4\"/>\n     <use xlink:href=\"#m910f78e085\" x=\"80.62926\" y=\"52.819387\" style=\"fill: #1f77b4; stroke: #1f77b4\"/>\n     <use xlink:href=\"#m910f78e085\" x=\"112.032427\" y=\"56.047067\" style=\"fill: #1f77b4; stroke: #1f77b4\"/>\n     <use xlink:href=\"#m910f78e085\" x=\"147.797865\" y=\"81.994086\" style=\"fill: #1f77b4; stroke: #1f77b4\"/>\n     <use xlink:href=\"#m910f78e085\" x=\"115.383584\" y=\"67.050288\" style=\"fill: #1f77b4; stroke: #1f77b4\"/>\n     <use xlink:href=\"#m910f78e085\" x=\"92.787984\" y=\"45.568496\" style=\"fill: #1f77b4; stroke: #1f77b4\"/>\n     <use xlink:href=\"#m910f78e085\" x=\"176.11739\" y=\"94.040483\" style=\"fill: #1f77b4; stroke: #1f77b4\"/>\n     <use xlink:href=\"#m910f78e085\" x=\"137.587576\" y=\"70.267306\" style=\"fill: #1f77b4; stroke: #1f77b4\"/>\n     <use xlink:href=\"#m910f78e085\" x=\"92.946081\" y=\"59.584361\" style=\"fill: #1f77b4; stroke: #1f77b4\"/>\n     <use xlink:href=\"#m910f78e085\" x=\"143.801029\" y=\"72.231397\" style=\"fill: #1f77b4; stroke: #1f77b4\"/>\n     <use xlink:href=\"#m910f78e085\" x=\"80.188329\" y=\"50.485739\" style=\"fill: #1f77b4; stroke: #1f77b4\"/>\n     <use xlink:href=\"#m910f78e085\" x=\"99.268877\" y=\"55.432872\" style=\"fill: #1f77b4; stroke: #1f77b4\"/>\n     <use xlink:href=\"#m910f78e085\" x=\"161.353219\" y=\"89.20723\" style=\"fill: #1f77b4; stroke: #1f77b4\"/>\n     <use xlink:href=\"#m910f78e085\" x=\"115.594898\" y=\"71.296474\" style=\"fill: #1f77b4; stroke: #1f77b4\"/>\n     <use xlink:href=\"#m910f78e085\" x=\"127.714056\" y=\"80.719509\" style=\"fill: #1f77b4; stroke: #1f77b4\"/>\n     <use xlink:href=\"#m910f78e085\" x=\"139.288889\" y=\"73.619628\" style=\"fill: #1f77b4; stroke: #1f77b4\"/>\n     <use xlink:href=\"#m910f78e085\" x=\"75.001539\" y=\"48.889245\" style=\"fill: #1f77b4; stroke: #1f77b4\"/>\n     <use xlink:href=\"#m910f78e085\" x=\"153.054581\" y=\"89.375998\" style=\"fill: #1f77b4; stroke: #1f77b4\"/>\n     <use xlink:href=\"#m910f78e085\" x=\"146.833568\" y=\"94.74427\" style=\"fill: #1f77b4; stroke: #1f77b4\"/>\n     <use xlink:href=\"#m910f78e085\" x=\"87.632251\" y=\"51.926159\" style=\"fill: #1f77b4; stroke: #1f77b4\"/>\n     <use xlink:href=\"#m910f78e085\" x=\"59.024628\" y=\"13.5\" style=\"fill: #1f77b4; stroke: #1f77b4\"/>\n     <use xlink:href=\"#m910f78e085\" x=\"96.123771\" y=\"70.616302\" style=\"fill: #1f77b4; stroke: #1f77b4\"/>\n     <use xlink:href=\"#m910f78e085\" x=\"180.773234\" y=\"92.256929\" style=\"fill: #1f77b4; stroke: #1f77b4\"/>\n     <use xlink:href=\"#m910f78e085\" x=\"75.982967\" y=\"42.459637\" style=\"fill: #1f77b4; stroke: #1f77b4\"/>\n     <use xlink:href=\"#m910f78e085\" x=\"60.981545\" y=\"48.133969\" style=\"fill: #1f77b4; stroke: #1f77b4\"/>\n     <use xlink:href=\"#m910f78e085\" x=\"137.417282\" y=\"70.39584\" style=\"fill: #1f77b4; stroke: #1f77b4\"/>\n     <use xlink:href=\"#m910f78e085\" x=\"128.735311\" y=\"75.903139\" style=\"fill: #1f77b4; stroke: #1f77b4\"/>\n     <use xlink:href=\"#m910f78e085\" x=\"128.471876\" y=\"62.674822\" style=\"fill: #1f77b4; stroke: #1f77b4\"/>\n     <use xlink:href=\"#m910f78e085\" x=\"126.16433\" y=\"79.58842\" style=\"fill: #1f77b4; stroke: #1f77b4\"/>\n     <use xlink:href=\"#m910f78e085\" x=\"91.881842\" y=\"59.768076\" style=\"fill: #1f77b4; stroke: #1f77b4\"/>\n     <use xlink:href=\"#m910f78e085\" x=\"111.766136\" y=\"48.975604\" style=\"fill: #1f77b4; stroke: #1f77b4\"/>\n     <use xlink:href=\"#m910f78e085\" x=\"141.690785\" y=\"75.635289\" style=\"fill: #1f77b4; stroke: #1f77b4\"/>\n     <use xlink:href=\"#m910f78e085\" x=\"98.407695\" y=\"59.195029\" style=\"fill: #1f77b4; stroke: #1f77b4\"/>\n     <use xlink:href=\"#m910f78e085\" x=\"138.035053\" y=\"83.376462\" style=\"fill: #1f77b4; stroke: #1f77b4\"/>\n     <use xlink:href=\"#m910f78e085\" x=\"110.457553\" y=\"66.905552\" style=\"fill: #1f77b4; stroke: #1f77b4\"/>\n     <use xlink:href=\"#m910f78e085\" x=\"150.998116\" y=\"75.50333\" style=\"fill: #1f77b4; stroke: #1f77b4\"/>\n     <use xlink:href=\"#m910f78e085\" x=\"123.054303\" y=\"56.880045\" style=\"fill: #1f77b4; stroke: #1f77b4\"/>\n     <use xlink:href=\"#m910f78e085\" x=\"120.579273\" y=\"68.683984\" style=\"fill: #1f77b4; stroke: #1f77b4\"/>\n     <use xlink:href=\"#m910f78e085\" x=\"125.809807\" y=\"79.28291\" style=\"fill: #1f77b4; stroke: #1f77b4\"/>\n     <use xlink:href=\"#m910f78e085\" x=\"85.031416\" y=\"57.694075\" style=\"fill: #1f77b4; stroke: #1f77b4\"/>\n     <use xlink:href=\"#m910f78e085\" x=\"138.369057\" y=\"71.505626\" style=\"fill: #1f77b4; stroke: #1f77b4\"/>\n     <use xlink:href=\"#m910f78e085\" x=\"129.213822\" y=\"69.009791\" style=\"fill: #1f77b4; stroke: #1f77b4\"/>\n     <use xlink:href=\"#m910f78e085\" x=\"93.808614\" y=\"46.499191\" style=\"fill: #1f77b4; stroke: #1f77b4\"/>\n     <use xlink:href=\"#m910f78e085\" x=\"149.670607\" y=\"70.611796\" style=\"fill: #1f77b4; stroke: #1f77b4\"/>\n     <use xlink:href=\"#m910f78e085\" x=\"140.644134\" y=\"85.376187\" style=\"fill: #1f77b4; stroke: #1f77b4\"/>\n     <use xlink:href=\"#m910f78e085\" x=\"133.610518\" y=\"90.54312\" style=\"fill: #1f77b4; stroke: #1f77b4\"/>\n     <use xlink:href=\"#m910f78e085\" x=\"175.578484\" y=\"95.291084\" style=\"fill: #1f77b4; stroke: #1f77b4\"/>\n     <use xlink:href=\"#m910f78e085\" x=\"94.294686\" y=\"62.067709\" style=\"fill: #1f77b4; stroke: #1f77b4\"/>\n     <use xlink:href=\"#m910f78e085\" x=\"61.32893\" y=\"40.426843\" style=\"fill: #1f77b4; stroke: #1f77b4\"/>\n     <use xlink:href=\"#m910f78e085\" x=\"145.731317\" y=\"78.036902\" style=\"fill: #1f77b4; stroke: #1f77b4\"/>\n     <use xlink:href=\"#m910f78e085\" x=\"108.627472\" y=\"64.182582\" style=\"fill: #1f77b4; stroke: #1f77b4\"/>\n     <use xlink:href=\"#m910f78e085\" x=\"97.219379\" y=\"66.823531\" style=\"fill: #1f77b4; stroke: #1f77b4\"/>\n     <use xlink:href=\"#m910f78e085\" x=\"164.202383\" y=\"90.896147\" style=\"fill: #1f77b4; stroke: #1f77b4\"/>\n     <use xlink:href=\"#m910f78e085\" x=\"117.617618\" y=\"60.168032\" style=\"fill: #1f77b4; stroke: #1f77b4\"/>\n     <use xlink:href=\"#m910f78e085\" x=\"146.835492\" y=\"69.678918\" style=\"fill: #1f77b4; stroke: #1f77b4\"/>\n     <use xlink:href=\"#m910f78e085\" x=\"123.133764\" y=\"65.833608\" style=\"fill: #1f77b4; stroke: #1f77b4\"/>\n     <use xlink:href=\"#m910f78e085\" x=\"146.245494\" y=\"83.266123\" style=\"fill: #1f77b4; stroke: #1f77b4\"/>\n     <use xlink:href=\"#m910f78e085\" x=\"104.661916\" y=\"61.7415\" style=\"fill: #1f77b4; stroke: #1f77b4\"/>\n     <use xlink:href=\"#m910f78e085\" x=\"109.498424\" y=\"45.702629\" style=\"fill: #1f77b4; stroke: #1f77b4\"/>\n     <use xlink:href=\"#m910f78e085\" x=\"154.515608\" y=\"87.2551\" style=\"fill: #1f77b4; stroke: #1f77b4\"/>\n     <use xlink:href=\"#m910f78e085\" x=\"148.148599\" y=\"70.527788\" style=\"fill: #1f77b4; stroke: #1f77b4\"/>\n     <use xlink:href=\"#m910f78e085\" x=\"123.550861\" y=\"65.660289\" style=\"fill: #1f77b4; stroke: #1f77b4\"/>\n     <use xlink:href=\"#m910f78e085\" x=\"72.449351\" y=\"47.142662\" style=\"fill: #1f77b4; stroke: #1f77b4\"/>\n     <use xlink:href=\"#m910f78e085\" x=\"163.031811\" y=\"85.757901\" style=\"fill: #1f77b4; stroke: #1f77b4\"/>\n     <use xlink:href=\"#m910f78e085\" x=\"73.083558\" y=\"40.291511\" style=\"fill: #1f77b4; stroke: #1f77b4\"/>\n     <use xlink:href=\"#m910f78e085\" x=\"122.216766\" y=\"55.319397\" style=\"fill: #1f77b4; stroke: #1f77b4\"/>\n     <use xlink:href=\"#m910f78e085\" x=\"172.710492\" y=\"111.731105\" style=\"fill: #1f77b4; stroke: #1f77b4\"/>\n     <use xlink:href=\"#m910f78e085\" x=\"129.399471\" y=\"76.023607\" style=\"fill: #1f77b4; stroke: #1f77b4\"/>\n     <use xlink:href=\"#m910f78e085\" x=\"135.26508\" y=\"88.835592\" style=\"fill: #1f77b4; stroke: #1f77b4\"/>\n     <use xlink:href=\"#m910f78e085\" x=\"82.871685\" y=\"55.761971\" style=\"fill: #1f77b4; stroke: #1f77b4\"/>\n     <use xlink:href=\"#m910f78e085\" x=\"79.364811\" y=\"54.887842\" style=\"fill: #1f77b4; stroke: #1f77b4\"/>\n     <use xlink:href=\"#m910f78e085\" x=\"111.46762\" y=\"67.719315\" style=\"fill: #1f77b4; stroke: #1f77b4\"/>\n     <use xlink:href=\"#m910f78e085\" x=\"76.397294\" y=\"65.409191\" style=\"fill: #1f77b4; stroke: #1f77b4\"/>\n     <use xlink:href=\"#m910f78e085\" x=\"147.474149\" y=\"87.959296\" style=\"fill: #1f77b4; stroke: #1f77b4\"/>\n     <use xlink:href=\"#m910f78e085\" x=\"81.249154\" y=\"43.641756\" style=\"fill: #1f77b4; stroke: #1f77b4\"/>\n     <use xlink:href=\"#m910f78e085\" x=\"155.327947\" y=\"86.349042\" style=\"fill: #1f77b4; stroke: #1f77b4\"/>\n     <use xlink:href=\"#m910f78e085\" x=\"120.899531\" y=\"56.334622\" style=\"fill: #1f77b4; stroke: #1f77b4\"/>\n     <use xlink:href=\"#m910f78e085\" x=\"122.712842\" y=\"60.957986\" style=\"fill: #1f77b4; stroke: #1f77b4\"/>\n     <use xlink:href=\"#m910f78e085\" x=\"171.216895\" y=\"96.604089\" style=\"fill: #1f77b4; stroke: #1f77b4\"/>\n     <use xlink:href=\"#m910f78e085\" x=\"48.445422\" y=\"27.334491\" style=\"fill: #1f77b4; stroke: #1f77b4\"/>\n     <use xlink:href=\"#m910f78e085\" x=\"140.908611\" y=\"85.365948\" style=\"fill: #1f77b4; stroke: #1f77b4\"/>\n     <use xlink:href=\"#m910f78e085\" x=\"150.717484\" y=\"87.870746\" style=\"fill: #1f77b4; stroke: #1f77b4\"/>\n     <use xlink:href=\"#m910f78e085\" x=\"88.795116\" y=\"55.408693\" style=\"fill: #1f77b4; stroke: #1f77b4\"/>\n     <use xlink:href=\"#m910f78e085\" x=\"102.80378\" y=\"63.810739\" style=\"fill: #1f77b4; stroke: #1f77b4\"/>\n     <use xlink:href=\"#m910f78e085\" x=\"159.180507\" y=\"86.271891\" style=\"fill: #1f77b4; stroke: #1f77b4\"/>\n     <use xlink:href=\"#m910f78e085\" x=\"92.571511\" y=\"68.666979\" style=\"fill: #1f77b4; stroke: #1f77b4\"/>\n     <use xlink:href=\"#m910f78e085\" x=\"107.240889\" y=\"62.859633\" style=\"fill: #1f77b4; stroke: #1f77b4\"/>\n     <use xlink:href=\"#m910f78e085\" x=\"100.102841\" y=\"61.126303\" style=\"fill: #1f77b4; stroke: #1f77b4\"/>\n     <use xlink:href=\"#m910f78e085\" x=\"108.048944\" y=\"86.514252\" style=\"fill: #1f77b4; stroke: #1f77b4\"/>\n     <use xlink:href=\"#m910f78e085\" x=\"101.273504\" y=\"67.425126\" style=\"fill: #1f77b4; stroke: #1f77b4\"/>\n     <use xlink:href=\"#m910f78e085\" x=\"119.566363\" y=\"68.79711\" style=\"fill: #1f77b4; stroke: #1f77b4\"/>\n     <use xlink:href=\"#m910f78e085\" x=\"141.080527\" y=\"80.188047\" style=\"fill: #1f77b4; stroke: #1f77b4\"/>\n     <use xlink:href=\"#m910f78e085\" x=\"160.265414\" y=\"94.387012\" style=\"fill: #1f77b4; stroke: #1f77b4\"/>\n     <use xlink:href=\"#m910f78e085\" x=\"119.281874\" y=\"62.59036\" style=\"fill: #1f77b4; stroke: #1f77b4\"/>\n     <use xlink:href=\"#m910f78e085\" x=\"115.456483\" y=\"76.558514\" style=\"fill: #1f77b4; stroke: #1f77b4\"/>\n     <use xlink:href=\"#m910f78e085\" x=\"156.653818\" y=\"88.65404\" style=\"fill: #1f77b4; stroke: #1f77b4\"/>\n     <use xlink:href=\"#m910f78e085\" x=\"153.731213\" y=\"92.892174\" style=\"fill: #1f77b4; stroke: #1f77b4\"/>\n     <use xlink:href=\"#m910f78e085\" x=\"197.873304\" y=\"124.989116\" style=\"fill: #1f77b4; stroke: #1f77b4\"/>\n     <use xlink:href=\"#m910f78e085\" x=\"105.579702\" y=\"68.738042\" style=\"fill: #1f77b4; stroke: #1f77b4\"/>\n     <use xlink:href=\"#m910f78e085\" x=\"128.789532\" y=\"75.008538\" style=\"fill: #1f77b4; stroke: #1f77b4\"/>\n     <use xlink:href=\"#m910f78e085\" x=\"105.904285\" y=\"62.238584\" style=\"fill: #1f77b4; stroke: #1f77b4\"/>\n     <use xlink:href=\"#m910f78e085\" x=\"134.034182\" y=\"74.079671\" style=\"fill: #1f77b4; stroke: #1f77b4\"/>\n     <use xlink:href=\"#m910f78e085\" x=\"123.05868\" y=\"74.533191\" style=\"fill: #1f77b4; stroke: #1f77b4\"/>\n     <use xlink:href=\"#m910f78e085\" x=\"120.419111\" y=\"55.574627\" style=\"fill: #1f77b4; stroke: #1f77b4\"/>\n     <use xlink:href=\"#m910f78e085\" x=\"178.491154\" y=\"94.779578\" style=\"fill: #1f77b4; stroke: #1f77b4\"/>\n     <use xlink:href=\"#m910f78e085\" x=\"153.04818\" y=\"67.011352\" style=\"fill: #1f77b4; stroke: #1f77b4\"/>\n     <use xlink:href=\"#m910f78e085\" x=\"143.186564\" y=\"93.708745\" style=\"fill: #1f77b4; stroke: #1f77b4\"/>\n     <use xlink:href=\"#m910f78e085\" x=\"150.28547\" y=\"111.689204\" style=\"fill: #1f77b4; stroke: #1f77b4\"/>\n     <use xlink:href=\"#m910f78e085\" x=\"102.937352\" y=\"63.760726\" style=\"fill: #1f77b4; stroke: #1f77b4\"/>\n     <use xlink:href=\"#m910f78e085\" x=\"80.969146\" y=\"45.954351\" style=\"fill: #1f77b4; stroke: #1f77b4\"/>\n     <use xlink:href=\"#m910f78e085\" x=\"198.326392\" y=\"103.659042\" style=\"fill: #1f77b4; stroke: #1f77b4\"/>\n     <use xlink:href=\"#m910f78e085\" x=\"99.811823\" y=\"56.56121\" style=\"fill: #1f77b4; stroke: #1f77b4\"/>\n     <use xlink:href=\"#m910f78e085\" x=\"129.909515\" y=\"66.021612\" style=\"fill: #1f77b4; stroke: #1f77b4\"/>\n     <use xlink:href=\"#m910f78e085\" x=\"125.410955\" y=\"72.767717\" style=\"fill: #1f77b4; stroke: #1f77b4\"/>\n     <use xlink:href=\"#m910f78e085\" x=\"132.420547\" y=\"68.822299\" style=\"fill: #1f77b4; stroke: #1f77b4\"/>\n     <use xlink:href=\"#m910f78e085\" x=\"90.139414\" y=\"49.054447\" style=\"fill: #1f77b4; stroke: #1f77b4\"/>\n     <use xlink:href=\"#m910f78e085\" x=\"78.25723\" y=\"37.710364\" style=\"fill: #1f77b4; stroke: #1f77b4\"/>\n     <use xlink:href=\"#m910f78e085\" x=\"162.802862\" y=\"85.043933\" style=\"fill: #1f77b4; stroke: #1f77b4\"/>\n     <use xlink:href=\"#m910f78e085\" x=\"95.645359\" y=\"58.371917\" style=\"fill: #1f77b4; stroke: #1f77b4\"/>\n     <use xlink:href=\"#m910f78e085\" x=\"77.473187\" y=\"36.999413\" style=\"fill: #1f77b4; stroke: #1f77b4\"/>\n     <use xlink:href=\"#m910f78e085\" x=\"120.647529\" y=\"59.879907\" style=\"fill: #1f77b4; stroke: #1f77b4\"/>\n     <use xlink:href=\"#m910f78e085\" x=\"135.564976\" y=\"86.236259\" style=\"fill: #1f77b4; stroke: #1f77b4\"/>\n     <use xlink:href=\"#m910f78e085\" x=\"147.462772\" y=\"84.426784\" style=\"fill: #1f77b4; stroke: #1f77b4\"/>\n     <use xlink:href=\"#m910f78e085\" x=\"103.047028\" y=\"59.555511\" style=\"fill: #1f77b4; stroke: #1f77b4\"/>\n     <use xlink:href=\"#m910f78e085\" x=\"131.991176\" y=\"79.299211\" style=\"fill: #1f77b4; stroke: #1f77b4\"/>\n     <use xlink:href=\"#m910f78e085\" x=\"118.809225\" y=\"67.653125\" style=\"fill: #1f77b4; stroke: #1f77b4\"/>\n     <use xlink:href=\"#m910f78e085\" x=\"111.03775\" y=\"76.735756\" style=\"fill: #1f77b4; stroke: #1f77b4\"/>\n     <use xlink:href=\"#m910f78e085\" x=\"103.000172\" y=\"50.718435\" style=\"fill: #1f77b4; stroke: #1f77b4\"/>\n     <use xlink:href=\"#m910f78e085\" x=\"130.918825\" y=\"82.591174\" style=\"fill: #1f77b4; stroke: #1f77b4\"/>\n     <use xlink:href=\"#m910f78e085\" x=\"89.615731\" y=\"57.287591\" style=\"fill: #1f77b4; stroke: #1f77b4\"/>\n     <use xlink:href=\"#m910f78e085\" x=\"111.659926\" y=\"66.21154\" style=\"fill: #1f77b4; stroke: #1f77b4\"/>\n     <use xlink:href=\"#m910f78e085\" x=\"156.481029\" y=\"86.449303\" style=\"fill: #1f77b4; stroke: #1f77b4\"/>\n     <use xlink:href=\"#m910f78e085\" x=\"157.874494\" y=\"84.649312\" style=\"fill: #1f77b4; stroke: #1f77b4\"/>\n     <use xlink:href=\"#m910f78e085\" x=\"101.159982\" y=\"53.421125\" style=\"fill: #1f77b4; stroke: #1f77b4\"/>\n     <use xlink:href=\"#m910f78e085\" x=\"129.690147\" y=\"81.789308\" style=\"fill: #1f77b4; stroke: #1f77b4\"/>\n     <use xlink:href=\"#m910f78e085\" x=\"131.778142\" y=\"57.814483\" style=\"fill: #1f77b4; stroke: #1f77b4\"/>\n     <use xlink:href=\"#m910f78e085\" x=\"121.412814\" y=\"39.858354\" style=\"fill: #1f77b4; stroke: #1f77b4\"/>\n     <use xlink:href=\"#m910f78e085\" x=\"163.435441\" y=\"84.595544\" style=\"fill: #1f77b4; stroke: #1f77b4\"/>\n     <use xlink:href=\"#m910f78e085\" x=\"114.631018\" y=\"56.553197\" style=\"fill: #1f77b4; stroke: #1f77b4\"/>\n     <use xlink:href=\"#m910f78e085\" x=\"123.470863\" y=\"72.88171\" style=\"fill: #1f77b4; stroke: #1f77b4\"/>\n     <use xlink:href=\"#m910f78e085\" x=\"122.596082\" y=\"60.478607\" style=\"fill: #1f77b4; stroke: #1f77b4\"/>\n     <use xlink:href=\"#m910f78e085\" x=\"106.976909\" y=\"72.717979\" style=\"fill: #1f77b4; stroke: #1f77b4\"/>\n     <use xlink:href=\"#m910f78e085\" x=\"156.530542\" y=\"88.034338\" style=\"fill: #1f77b4; stroke: #1f77b4\"/>\n     <use xlink:href=\"#m910f78e085\" x=\"88.91478\" y=\"54.114708\" style=\"fill: #1f77b4; stroke: #1f77b4\"/>\n     <use xlink:href=\"#m910f78e085\" x=\"80.229212\" y=\"48.591083\" style=\"fill: #1f77b4; stroke: #1f77b4\"/>\n     <use xlink:href=\"#m910f78e085\" x=\"92.777793\" y=\"45.925784\" style=\"fill: #1f77b4; stroke: #1f77b4\"/>\n     <use xlink:href=\"#m910f78e085\" x=\"111.163551\" y=\"78.535052\" style=\"fill: #1f77b4; stroke: #1f77b4\"/>\n     <use xlink:href=\"#m910f78e085\" x=\"176.492148\" y=\"87.049673\" style=\"fill: #1f77b4; stroke: #1f77b4\"/>\n     <use xlink:href=\"#m910f78e085\" x=\"106.173429\" y=\"70.221335\" style=\"fill: #1f77b4; stroke: #1f77b4\"/>\n     <use xlink:href=\"#m910f78e085\" x=\"88.286132\" y=\"59.857332\" style=\"fill: #1f77b4; stroke: #1f77b4\"/>\n     <use xlink:href=\"#m910f78e085\" x=\"115.24458\" y=\"66.029162\" style=\"fill: #1f77b4; stroke: #1f77b4\"/>\n     <use xlink:href=\"#m910f78e085\" x=\"97.85939\" y=\"69.239566\" style=\"fill: #1f77b4; stroke: #1f77b4\"/>\n     <use xlink:href=\"#m910f78e085\" x=\"123.110795\" y=\"68.325553\" style=\"fill: #1f77b4; stroke: #1f77b4\"/>\n     <use xlink:href=\"#m910f78e085\" x=\"80.490262\" y=\"41.654969\" style=\"fill: #1f77b4; stroke: #1f77b4\"/>\n     <use xlink:href=\"#m910f78e085\" x=\"123.856101\" y=\"69.045955\" style=\"fill: #1f77b4; stroke: #1f77b4\"/>\n     <use xlink:href=\"#m910f78e085\" x=\"113.908722\" y=\"79.767932\" style=\"fill: #1f77b4; stroke: #1f77b4\"/>\n     <use xlink:href=\"#m910f78e085\" x=\"116.859547\" y=\"60.548284\" style=\"fill: #1f77b4; stroke: #1f77b4\"/>\n     <use xlink:href=\"#m910f78e085\" x=\"129.671325\" y=\"84.569393\" style=\"fill: #1f77b4; stroke: #1f77b4\"/>\n     <use xlink:href=\"#m910f78e085\" x=\"157.607294\" y=\"96.431735\" style=\"fill: #1f77b4; stroke: #1f77b4\"/>\n     <use xlink:href=\"#m910f78e085\" x=\"96.449955\" y=\"50.446783\" style=\"fill: #1f77b4; stroke: #1f77b4\"/>\n     <use xlink:href=\"#m910f78e085\" x=\"133.24332\" y=\"71.635696\" style=\"fill: #1f77b4; stroke: #1f77b4\"/>\n     <use xlink:href=\"#m910f78e085\" x=\"117.920216\" y=\"66.886225\" style=\"fill: #1f77b4; stroke: #1f77b4\"/>\n     <use xlink:href=\"#m910f78e085\" x=\"136.988125\" y=\"80.077402\" style=\"fill: #1f77b4; stroke: #1f77b4\"/>\n     <use xlink:href=\"#m910f78e085\" x=\"72.652764\" y=\"41.134774\" style=\"fill: #1f77b4; stroke: #1f77b4\"/>\n     <use xlink:href=\"#m910f78e085\" x=\"159.966783\" y=\"90.107605\" style=\"fill: #1f77b4; stroke: #1f77b4\"/>\n     <use xlink:href=\"#m910f78e085\" x=\"119.236015\" y=\"55.488881\" style=\"fill: #1f77b4; stroke: #1f77b4\"/>\n     <use xlink:href=\"#m910f78e085\" x=\"164.210432\" y=\"87.062889\" style=\"fill: #1f77b4; stroke: #1f77b4\"/>\n     <use xlink:href=\"#m910f78e085\" x=\"89.530148\" y=\"50.947412\" style=\"fill: #1f77b4; stroke: #1f77b4\"/>\n     <use xlink:href=\"#m910f78e085\" x=\"124.718773\" y=\"67.507159\" style=\"fill: #1f77b4; stroke: #1f77b4\"/>\n     <use xlink:href=\"#m910f78e085\" x=\"87.90497\" y=\"67.527712\" style=\"fill: #1f77b4; stroke: #1f77b4\"/>\n     <use xlink:href=\"#m910f78e085\" x=\"56.821638\" y=\"38.008245\" style=\"fill: #1f77b4; stroke: #1f77b4\"/>\n     <use xlink:href=\"#m910f78e085\" x=\"143.014638\" y=\"92.142954\" style=\"fill: #1f77b4; stroke: #1f77b4\"/>\n     <use xlink:href=\"#m910f78e085\" x=\"107.334279\" y=\"74.114346\" style=\"fill: #1f77b4; stroke: #1f77b4\"/>\n     <use xlink:href=\"#m910f78e085\" x=\"135.256471\" y=\"87.74483\" style=\"fill: #1f77b4; stroke: #1f77b4\"/>\n     <use xlink:href=\"#m910f78e085\" x=\"112.381746\" y=\"64.975016\" style=\"fill: #1f77b4; stroke: #1f77b4\"/>\n     <use xlink:href=\"#m910f78e085\" x=\"121.535218\" y=\"73.815511\" style=\"fill: #1f77b4; stroke: #1f77b4\"/>\n     <use xlink:href=\"#m910f78e085\" x=\"122.592095\" y=\"56.559013\" style=\"fill: #1f77b4; stroke: #1f77b4\"/>\n     <use xlink:href=\"#m910f78e085\" x=\"133.682856\" y=\"79.928356\" style=\"fill: #1f77b4; stroke: #1f77b4\"/>\n     <use xlink:href=\"#m910f78e085\" x=\"79.297578\" y=\"69.757508\" style=\"fill: #1f77b4; stroke: #1f77b4\"/>\n     <use xlink:href=\"#m910f78e085\" x=\"90.840519\" y=\"86.261337\" style=\"fill: #1f77b4; stroke: #1f77b4\"/>\n     <use xlink:href=\"#m910f78e085\" x=\"111.674253\" y=\"76.046249\" style=\"fill: #1f77b4; stroke: #1f77b4\"/>\n     <use xlink:href=\"#m910f78e085\" x=\"117.658656\" y=\"81.037033\" style=\"fill: #1f77b4; stroke: #1f77b4\"/>\n     <use xlink:href=\"#m910f78e085\" x=\"102.154908\" y=\"42.787569\" style=\"fill: #1f77b4; stroke: #1f77b4\"/>\n     <use xlink:href=\"#m910f78e085\" x=\"88.595343\" y=\"41.096769\" style=\"fill: #1f77b4; stroke: #1f77b4\"/>\n     <use xlink:href=\"#m910f78e085\" x=\"132.343104\" y=\"64.053985\" style=\"fill: #1f77b4; stroke: #1f77b4\"/>\n     <use xlink:href=\"#m910f78e085\" x=\"124.962211\" y=\"77.130532\" style=\"fill: #1f77b4; stroke: #1f77b4\"/>\n     <use xlink:href=\"#m910f78e085\" x=\"131.935621\" y=\"67.602603\" style=\"fill: #1f77b4; stroke: #1f77b4\"/>\n     <use xlink:href=\"#m910f78e085\" x=\"122.672325\" y=\"72.006963\" style=\"fill: #1f77b4; stroke: #1f77b4\"/>\n     <use xlink:href=\"#m910f78e085\" x=\"59.610622\" y=\"42.32264\" style=\"fill: #1f77b4; stroke: #1f77b4\"/>\n     <use xlink:href=\"#m910f78e085\" x=\"122.346735\" y=\"51.31897\" style=\"fill: #1f77b4; stroke: #1f77b4\"/>\n     <use xlink:href=\"#m910f78e085\" x=\"86.00112\" y=\"37.347628\" style=\"fill: #1f77b4; stroke: #1f77b4\"/>\n     <use xlink:href=\"#m910f78e085\" x=\"98.564849\" y=\"63.812807\" style=\"fill: #1f77b4; stroke: #1f77b4\"/>\n     <use xlink:href=\"#m910f78e085\" x=\"146.416398\" y=\"84.709995\" style=\"fill: #1f77b4; stroke: #1f77b4\"/>\n     <use xlink:href=\"#m910f78e085\" x=\"100.25299\" y=\"61.711652\" style=\"fill: #1f77b4; stroke: #1f77b4\"/>\n     <use xlink:href=\"#m910f78e085\" x=\"140.9685\" y=\"94.253922\" style=\"fill: #1f77b4; stroke: #1f77b4\"/>\n     <use xlink:href=\"#m910f78e085\" x=\"107.701586\" y=\"78.216861\" style=\"fill: #1f77b4; stroke: #1f77b4\"/>\n     <use xlink:href=\"#m910f78e085\" x=\"111.346981\" y=\"74.316738\" style=\"fill: #1f77b4; stroke: #1f77b4\"/>\n     <use xlink:href=\"#m910f78e085\" x=\"112.085867\" y=\"61.52266\" style=\"fill: #1f77b4; stroke: #1f77b4\"/>\n     <use xlink:href=\"#m910f78e085\" x=\"137.38207\" y=\"73.898828\" style=\"fill: #1f77b4; stroke: #1f77b4\"/>\n     <use xlink:href=\"#m910f78e085\" x=\"140.470748\" y=\"70.440166\" style=\"fill: #1f77b4; stroke: #1f77b4\"/>\n     <use xlink:href=\"#m910f78e085\" x=\"148.825508\" y=\"93.642943\" style=\"fill: #1f77b4; stroke: #1f77b4\"/>\n     <use xlink:href=\"#m910f78e085\" x=\"156.026244\" y=\"84.828117\" style=\"fill: #1f77b4; stroke: #1f77b4\"/>\n     <use xlink:href=\"#m910f78e085\" x=\"142.415929\" y=\"82.241456\" style=\"fill: #1f77b4; stroke: #1f77b4\"/>\n     <use xlink:href=\"#m910f78e085\" x=\"170.483228\" y=\"100.757955\" style=\"fill: #1f77b4; stroke: #1f77b4\"/>\n     <use xlink:href=\"#m910f78e085\" x=\"154.559073\" y=\"104.984934\" style=\"fill: #1f77b4; stroke: #1f77b4\"/>\n     <use xlink:href=\"#m910f78e085\" x=\"82.387406\" y=\"41.885482\" style=\"fill: #1f77b4; stroke: #1f77b4\"/>\n     <use xlink:href=\"#m910f78e085\" x=\"113.180837\" y=\"67.078604\" style=\"fill: #1f77b4; stroke: #1f77b4\"/>\n     <use xlink:href=\"#m910f78e085\" x=\"150.812107\" y=\"91.571671\" style=\"fill: #1f77b4; stroke: #1f77b4\"/>\n     <use xlink:href=\"#m910f78e085\" x=\"132.56622\" y=\"73.539288\" style=\"fill: #1f77b4; stroke: #1f77b4\"/>\n     <use xlink:href=\"#m910f78e085\" x=\"114.698767\" y=\"70.934781\" style=\"fill: #1f77b4; stroke: #1f77b4\"/>\n     <use xlink:href=\"#m910f78e085\" x=\"160.873969\" y=\"104.195855\" style=\"fill: #1f77b4; stroke: #1f77b4\"/>\n     <use xlink:href=\"#m910f78e085\" x=\"104.67455\" y=\"63.926578\" style=\"fill: #1f77b4; stroke: #1f77b4\"/>\n     <use xlink:href=\"#m910f78e085\" x=\"91.949663\" y=\"65.642718\" style=\"fill: #1f77b4; stroke: #1f77b4\"/>\n     <use xlink:href=\"#m910f78e085\" x=\"146.114208\" y=\"77.853114\" style=\"fill: #1f77b4; stroke: #1f77b4\"/>\n     <use xlink:href=\"#m910f78e085\" x=\"135.585784\" y=\"70.719984\" style=\"fill: #1f77b4; stroke: #1f77b4\"/>\n     <use xlink:href=\"#m910f78e085\" x=\"179.00046\" y=\"102.703287\" style=\"fill: #1f77b4; stroke: #1f77b4\"/>\n     <use xlink:href=\"#m910f78e085\" x=\"122.798313\" y=\"68.354789\" style=\"fill: #1f77b4; stroke: #1f77b4\"/>\n     <use xlink:href=\"#m910f78e085\" x=\"114.666641\" y=\"71.403303\" style=\"fill: #1f77b4; stroke: #1f77b4\"/>\n     <use xlink:href=\"#m910f78e085\" x=\"114.336204\" y=\"58.571146\" style=\"fill: #1f77b4; stroke: #1f77b4\"/>\n     <use xlink:href=\"#m910f78e085\" x=\"93.756142\" y=\"58.189384\" style=\"fill: #1f77b4; stroke: #1f77b4\"/>\n     <use xlink:href=\"#m910f78e085\" x=\"100.206602\" y=\"47.788631\" style=\"fill: #1f77b4; stroke: #1f77b4\"/>\n     <use xlink:href=\"#m910f78e085\" x=\"104.683732\" y=\"67.846482\" style=\"fill: #1f77b4; stroke: #1f77b4\"/>\n     <use xlink:href=\"#m910f78e085\" x=\"94.806944\" y=\"54.62142\" style=\"fill: #1f77b4; stroke: #1f77b4\"/>\n     <use xlink:href=\"#m910f78e085\" x=\"138.823368\" y=\"76.51532\" style=\"fill: #1f77b4; stroke: #1f77b4\"/>\n     <use xlink:href=\"#m910f78e085\" x=\"94.507728\" y=\"51.426593\" style=\"fill: #1f77b4; stroke: #1f77b4\"/>\n     <use xlink:href=\"#m910f78e085\" x=\"138.388216\" y=\"79.435882\" style=\"fill: #1f77b4; stroke: #1f77b4\"/>\n     <use xlink:href=\"#m910f78e085\" x=\"126.372034\" y=\"81.451602\" style=\"fill: #1f77b4; stroke: #1f77b4\"/>\n     <use xlink:href=\"#m910f78e085\" x=\"124.525136\" y=\"69.630162\" style=\"fill: #1f77b4; stroke: #1f77b4\"/>\n     <use xlink:href=\"#m910f78e085\" x=\"76.276131\" y=\"39.622314\" style=\"fill: #1f77b4; stroke: #1f77b4\"/>\n     <use xlink:href=\"#m910f78e085\" x=\"107.013296\" y=\"60.928092\" style=\"fill: #1f77b4; stroke: #1f77b4\"/>\n     <use xlink:href=\"#m910f78e085\" x=\"130.588372\" y=\"70.61501\" style=\"fill: #1f77b4; stroke: #1f77b4\"/>\n     <use xlink:href=\"#m910f78e085\" x=\"135.251625\" y=\"77.907919\" style=\"fill: #1f77b4; stroke: #1f77b4\"/>\n     <use xlink:href=\"#m910f78e085\" x=\"134.439714\" y=\"93.45496\" style=\"fill: #1f77b4; stroke: #1f77b4\"/>\n     <use xlink:href=\"#m910f78e085\" x=\"129.267226\" y=\"67.751023\" style=\"fill: #1f77b4; stroke: #1f77b4\"/>\n     <use xlink:href=\"#m910f78e085\" x=\"95.630579\" y=\"53.064084\" style=\"fill: #1f77b4; stroke: #1f77b4\"/>\n     <use xlink:href=\"#m910f78e085\" x=\"82.696129\" y=\"55.272862\" style=\"fill: #1f77b4; stroke: #1f77b4\"/>\n     <use xlink:href=\"#m910f78e085\" x=\"107.739645\" y=\"74.039295\" style=\"fill: #1f77b4; stroke: #1f77b4\"/>\n     <use xlink:href=\"#m910f78e085\" x=\"143.477399\" y=\"80.685083\" style=\"fill: #1f77b4; stroke: #1f77b4\"/>\n     <use xlink:href=\"#m910f78e085\" x=\"138.738247\" y=\"82.055581\" style=\"fill: #1f77b4; stroke: #1f77b4\"/>\n     <use xlink:href=\"#m910f78e085\" x=\"147.523974\" y=\"82.653939\" style=\"fill: #1f77b4; stroke: #1f77b4\"/>\n     <use xlink:href=\"#m910f78e085\" x=\"142.271909\" y=\"78.469213\" style=\"fill: #1f77b4; stroke: #1f77b4\"/>\n     <use xlink:href=\"#m910f78e085\" x=\"146.340143\" y=\"96.230768\" style=\"fill: #1f77b4; stroke: #1f77b4\"/>\n     <use xlink:href=\"#m910f78e085\" x=\"143.729071\" y=\"90.45081\" style=\"fill: #1f77b4; stroke: #1f77b4\"/>\n     <use xlink:href=\"#m910f78e085\" x=\"150.777237\" y=\"89.078682\" style=\"fill: #1f77b4; stroke: #1f77b4\"/>\n     <use xlink:href=\"#m910f78e085\" x=\"124.101919\" y=\"72.863362\" style=\"fill: #1f77b4; stroke: #1f77b4\"/>\n     <use xlink:href=\"#m910f78e085\" x=\"128.228007\" y=\"68.819537\" style=\"fill: #1f77b4; stroke: #1f77b4\"/>\n     <use xlink:href=\"#m910f78e085\" x=\"91.05144\" y=\"50.515584\" style=\"fill: #1f77b4; stroke: #1f77b4\"/>\n     <use xlink:href=\"#m910f78e085\" x=\"135.416355\" y=\"78.55098\" style=\"fill: #1f77b4; stroke: #1f77b4\"/>\n     <use xlink:href=\"#m910f78e085\" x=\"144.217864\" y=\"70.553164\" style=\"fill: #1f77b4; stroke: #1f77b4\"/>\n     <use xlink:href=\"#m910f78e085\" x=\"155.657236\" y=\"97.346869\" style=\"fill: #1f77b4; stroke: #1f77b4\"/>\n     <use xlink:href=\"#m910f78e085\" x=\"173.870302\" y=\"97.366718\" style=\"fill: #1f77b4; stroke: #1f77b4\"/>\n     <use xlink:href=\"#m910f78e085\" x=\"65.086479\" y=\"40.048118\" style=\"fill: #1f77b4; stroke: #1f77b4\"/>\n     <use xlink:href=\"#m910f78e085\" x=\"165.99327\" y=\"89.036496\" style=\"fill: #1f77b4; stroke: #1f77b4\"/>\n     <use xlink:href=\"#m910f78e085\" x=\"90.319079\" y=\"70.123965\" style=\"fill: #1f77b4; stroke: #1f77b4\"/>\n     <use xlink:href=\"#m910f78e085\" x=\"152.163365\" y=\"78.814914\" style=\"fill: #1f77b4; stroke: #1f77b4\"/>\n     <use xlink:href=\"#m910f78e085\" x=\"125.762967\" y=\"56.818937\" style=\"fill: #1f77b4; stroke: #1f77b4\"/>\n     <use xlink:href=\"#m910f78e085\" x=\"122.567242\" y=\"71.092374\" style=\"fill: #1f77b4; stroke: #1f77b4\"/>\n     <use xlink:href=\"#m910f78e085\" x=\"116.083294\" y=\"61.709164\" style=\"fill: #1f77b4; stroke: #1f77b4\"/>\n     <use xlink:href=\"#m910f78e085\" x=\"134.357957\" y=\"71.961625\" style=\"fill: #1f77b4; stroke: #1f77b4\"/>\n     <use xlink:href=\"#m910f78e085\" x=\"147.170083\" y=\"84.776746\" style=\"fill: #1f77b4; stroke: #1f77b4\"/>\n     <use xlink:href=\"#m910f78e085\" x=\"101.103663\" y=\"71.989483\" style=\"fill: #1f77b4; stroke: #1f77b4\"/>\n     <use xlink:href=\"#m910f78e085\" x=\"118.302593\" y=\"76.825533\" style=\"fill: #1f77b4; stroke: #1f77b4\"/>\n     <use xlink:href=\"#m910f78e085\" x=\"96.418373\" y=\"47.952151\" style=\"fill: #1f77b4; stroke: #1f77b4\"/>\n     <use xlink:href=\"#m910f78e085\" x=\"134.99631\" y=\"73.054828\" style=\"fill: #1f77b4; stroke: #1f77b4\"/>\n     <use xlink:href=\"#m910f78e085\" x=\"96.83648\" y=\"62.736658\" style=\"fill: #1f77b4; stroke: #1f77b4\"/>\n     <use xlink:href=\"#m910f78e085\" x=\"133.102397\" y=\"72.040289\" style=\"fill: #1f77b4; stroke: #1f77b4\"/>\n     <use xlink:href=\"#m910f78e085\" x=\"120.538703\" y=\"59.37718\" style=\"fill: #1f77b4; stroke: #1f77b4\"/>\n     <use xlink:href=\"#m910f78e085\" x=\"109.580553\" y=\"62.924654\" style=\"fill: #1f77b4; stroke: #1f77b4\"/>\n     <use xlink:href=\"#m910f78e085\" x=\"96.136673\" y=\"69.03735\" style=\"fill: #1f77b4; stroke: #1f77b4\"/>\n     <use xlink:href=\"#m910f78e085\" x=\"101.578754\" y=\"65.702348\" style=\"fill: #1f77b4; stroke: #1f77b4\"/>\n     <use xlink:href=\"#m910f78e085\" x=\"109.252029\" y=\"55.028102\" style=\"fill: #1f77b4; stroke: #1f77b4\"/>\n     <use xlink:href=\"#m910f78e085\" x=\"111.466891\" y=\"85.009942\" style=\"fill: #1f77b4; stroke: #1f77b4\"/>\n     <use xlink:href=\"#m910f78e085\" x=\"83.656173\" y=\"47.934181\" style=\"fill: #1f77b4; stroke: #1f77b4\"/>\n     <use xlink:href=\"#m910f78e085\" x=\"117.167679\" y=\"65.871378\" style=\"fill: #1f77b4; stroke: #1f77b4\"/>\n     <use xlink:href=\"#m910f78e085\" x=\"150.922325\" y=\"77.750524\" style=\"fill: #1f77b4; stroke: #1f77b4\"/>\n     <use xlink:href=\"#m910f78e085\" x=\"146.835423\" y=\"79.373799\" style=\"fill: #1f77b4; stroke: #1f77b4\"/>\n     <use xlink:href=\"#m910f78e085\" x=\"109.643701\" y=\"76.524761\" style=\"fill: #1f77b4; stroke: #1f77b4\"/>\n     <use xlink:href=\"#m910f78e085\" x=\"106.801815\" y=\"74.878455\" style=\"fill: #1f77b4; stroke: #1f77b4\"/>\n     <use xlink:href=\"#m910f78e085\" x=\"99.509226\" y=\"59.939031\" style=\"fill: #1f77b4; stroke: #1f77b4\"/>\n     <use xlink:href=\"#m910f78e085\" x=\"66.298265\" y=\"51.215498\" style=\"fill: #1f77b4; stroke: #1f77b4\"/>\n     <use xlink:href=\"#m910f78e085\" x=\"94.230296\" y=\"42.902886\" style=\"fill: #1f77b4; stroke: #1f77b4\"/>\n     <use xlink:href=\"#m910f78e085\" x=\"156.063288\" y=\"99.755935\" style=\"fill: #1f77b4; stroke: #1f77b4\"/>\n     <use xlink:href=\"#m910f78e085\" x=\"127.148352\" y=\"79.675166\" style=\"fill: #1f77b4; stroke: #1f77b4\"/>\n     <use xlink:href=\"#m910f78e085\" x=\"149.589303\" y=\"99.268706\" style=\"fill: #1f77b4; stroke: #1f77b4\"/>\n     <use xlink:href=\"#m910f78e085\" x=\"89.808764\" y=\"73.064959\" style=\"fill: #1f77b4; stroke: #1f77b4\"/>\n     <use xlink:href=\"#m910f78e085\" x=\"111.821839\" y=\"73.849082\" style=\"fill: #1f77b4; stroke: #1f77b4\"/>\n     <use xlink:href=\"#m910f78e085\" x=\"162.80267\" y=\"114.824147\" style=\"fill: #1f77b4; stroke: #1f77b4\"/>\n     <use xlink:href=\"#m910f78e085\" x=\"151.065134\" y=\"79.889562\" style=\"fill: #1f77b4; stroke: #1f77b4\"/>\n     <use xlink:href=\"#m910f78e085\" x=\"124.948332\" y=\"73.500283\" style=\"fill: #1f77b4; stroke: #1f77b4\"/>\n     <use xlink:href=\"#m910f78e085\" x=\"80.841478\" y=\"41.407209\" style=\"fill: #1f77b4; stroke: #1f77b4\"/>\n     <use xlink:href=\"#m910f78e085\" x=\"146.827685\" y=\"78.988883\" style=\"fill: #1f77b4; stroke: #1f77b4\"/>\n     <use xlink:href=\"#m910f78e085\" x=\"170.557983\" y=\"103.440591\" style=\"fill: #1f77b4; stroke: #1f77b4\"/>\n     <use xlink:href=\"#m910f78e085\" x=\"128.689586\" y=\"77.576965\" style=\"fill: #1f77b4; stroke: #1f77b4\"/>\n     <use xlink:href=\"#m910f78e085\" x=\"80.641151\" y=\"25.726248\" style=\"fill: #1f77b4; stroke: #1f77b4\"/>\n     <use xlink:href=\"#m910f78e085\" x=\"136.711295\" y=\"87.324458\" style=\"fill: #1f77b4; stroke: #1f77b4\"/>\n     <use xlink:href=\"#m910f78e085\" x=\"93.085866\" y=\"58.662009\" style=\"fill: #1f77b4; stroke: #1f77b4\"/>\n     <use xlink:href=\"#m910f78e085\" x=\"180.985257\" y=\"106.955727\" style=\"fill: #1f77b4; stroke: #1f77b4\"/>\n     <use xlink:href=\"#m910f78e085\" x=\"131.756596\" y=\"74.894651\" style=\"fill: #1f77b4; stroke: #1f77b4\"/>\n     <use xlink:href=\"#m910f78e085\" x=\"68.273569\" y=\"39.112938\" style=\"fill: #1f77b4; stroke: #1f77b4\"/>\n     <use xlink:href=\"#m910f78e085\" x=\"162.815334\" y=\"78.703681\" style=\"fill: #1f77b4; stroke: #1f77b4\"/>\n     <use xlink:href=\"#m910f78e085\" x=\"85.439582\" y=\"47.279399\" style=\"fill: #1f77b4; stroke: #1f77b4\"/>\n     <use xlink:href=\"#m910f78e085\" x=\"167.042741\" y=\"77.701161\" style=\"fill: #1f77b4; stroke: #1f77b4\"/>\n     <use xlink:href=\"#m910f78e085\" x=\"118.238113\" y=\"73.965967\" style=\"fill: #1f77b4; stroke: #1f77b4\"/>\n     <use xlink:href=\"#m910f78e085\" x=\"156.267798\" y=\"91.775211\" style=\"fill: #1f77b4; stroke: #1f77b4\"/>\n     <use xlink:href=\"#m910f78e085\" x=\"130.241798\" y=\"74.52514\" style=\"fill: #1f77b4; stroke: #1f77b4\"/>\n     <use xlink:href=\"#m910f78e085\" x=\"126.496789\" y=\"87.645284\" style=\"fill: #1f77b4; stroke: #1f77b4\"/>\n     <use xlink:href=\"#m910f78e085\" x=\"123.94133\" y=\"76.847261\" style=\"fill: #1f77b4; stroke: #1f77b4\"/>\n     <use xlink:href=\"#m910f78e085\" x=\"118.334754\" y=\"59.347515\" style=\"fill: #1f77b4; stroke: #1f77b4\"/>\n     <use xlink:href=\"#m910f78e085\" x=\"114.408825\" y=\"80.409664\" style=\"fill: #1f77b4; stroke: #1f77b4\"/>\n     <use xlink:href=\"#m910f78e085\" x=\"137.031392\" y=\"75.749187\" style=\"fill: #1f77b4; stroke: #1f77b4\"/>\n     <use xlink:href=\"#m910f78e085\" x=\"130.41307\" y=\"75.338491\" style=\"fill: #1f77b4; stroke: #1f77b4\"/>\n     <use xlink:href=\"#m910f78e085\" x=\"121.290491\" y=\"72.646047\" style=\"fill: #1f77b4; stroke: #1f77b4\"/>\n     <use xlink:href=\"#m910f78e085\" x=\"147.942347\" y=\"82.694401\" style=\"fill: #1f77b4; stroke: #1f77b4\"/>\n     <use xlink:href=\"#m910f78e085\" x=\"95.211699\" y=\"63.37363\" style=\"fill: #1f77b4; stroke: #1f77b4\"/>\n     <use xlink:href=\"#m910f78e085\" x=\"106.403702\" y=\"67.229559\" style=\"fill: #1f77b4; stroke: #1f77b4\"/>\n     <use xlink:href=\"#m910f78e085\" x=\"95.490517\" y=\"50.407704\" style=\"fill: #1f77b4; stroke: #1f77b4\"/>\n     <use xlink:href=\"#m910f78e085\" x=\"122.049775\" y=\"86.366338\" style=\"fill: #1f77b4; stroke: #1f77b4\"/>\n     <use xlink:href=\"#m910f78e085\" x=\"72.460254\" y=\"34.833159\" style=\"fill: #1f77b4; stroke: #1f77b4\"/>\n     <use xlink:href=\"#m910f78e085\" x=\"148.925757\" y=\"72.731502\" style=\"fill: #1f77b4; stroke: #1f77b4\"/>\n     <use xlink:href=\"#m910f78e085\" x=\"89.516085\" y=\"51.020471\" style=\"fill: #1f77b4; stroke: #1f77b4\"/>\n     <use xlink:href=\"#m910f78e085\" x=\"136.070623\" y=\"88.065122\" style=\"fill: #1f77b4; stroke: #1f77b4\"/>\n     <use xlink:href=\"#m910f78e085\" x=\"146.994208\" y=\"88.894093\" style=\"fill: #1f77b4; stroke: #1f77b4\"/>\n     <use xlink:href=\"#m910f78e085\" x=\"141.668318\" y=\"100.98604\" style=\"fill: #1f77b4; stroke: #1f77b4\"/>\n     <use xlink:href=\"#m910f78e085\" x=\"111.725016\" y=\"53.512663\" style=\"fill: #1f77b4; stroke: #1f77b4\"/>\n     <use xlink:href=\"#m910f78e085\" x=\"110.010489\" y=\"57.742454\" style=\"fill: #1f77b4; stroke: #1f77b4\"/>\n     <use xlink:href=\"#m910f78e085\" x=\"127.697114\" y=\"64.704703\" style=\"fill: #1f77b4; stroke: #1f77b4\"/>\n     <use xlink:href=\"#m910f78e085\" x=\"177.62612\" y=\"84.413085\" style=\"fill: #1f77b4; stroke: #1f77b4\"/>\n     <use xlink:href=\"#m910f78e085\" x=\"145.727716\" y=\"90.763554\" style=\"fill: #1f77b4; stroke: #1f77b4\"/>\n     <use xlink:href=\"#m910f78e085\" x=\"146.986075\" y=\"97.239621\" style=\"fill: #1f77b4; stroke: #1f77b4\"/>\n     <use xlink:href=\"#m910f78e085\" x=\"129.623992\" y=\"75.848228\" style=\"fill: #1f77b4; stroke: #1f77b4\"/>\n     <use xlink:href=\"#m910f78e085\" x=\"82.07321\" y=\"53.5579\" style=\"fill: #1f77b4; stroke: #1f77b4\"/>\n     <use xlink:href=\"#m910f78e085\" x=\"158.5501\" y=\"88.595755\" style=\"fill: #1f77b4; stroke: #1f77b4\"/>\n     <use xlink:href=\"#m910f78e085\" x=\"171.443682\" y=\"91.218723\" style=\"fill: #1f77b4; stroke: #1f77b4\"/>\n     <use xlink:href=\"#m910f78e085\" x=\"83.382952\" y=\"45.937828\" style=\"fill: #1f77b4; stroke: #1f77b4\"/>\n     <use xlink:href=\"#m910f78e085\" x=\"75.277938\" y=\"49.090097\" style=\"fill: #1f77b4; stroke: #1f77b4\"/>\n     <use xlink:href=\"#m910f78e085\" x=\"145.267372\" y=\"81.898194\" style=\"fill: #1f77b4; stroke: #1f77b4\"/>\n     <use xlink:href=\"#m910f78e085\" x=\"106.762325\" y=\"55.030498\" style=\"fill: #1f77b4; stroke: #1f77b4\"/>\n     <use xlink:href=\"#m910f78e085\" x=\"134.420998\" y=\"85.952909\" style=\"fill: #1f77b4; stroke: #1f77b4\"/>\n     <use xlink:href=\"#m910f78e085\" x=\"69.055733\" y=\"46.726129\" style=\"fill: #1f77b4; stroke: #1f77b4\"/>\n     <use xlink:href=\"#m910f78e085\" x=\"169.196923\" y=\"83.875447\" style=\"fill: #1f77b4; stroke: #1f77b4\"/>\n     <use xlink:href=\"#m910f78e085\" x=\"110.320582\" y=\"56.821886\" style=\"fill: #1f77b4; stroke: #1f77b4\"/>\n     <use xlink:href=\"#m910f78e085\" x=\"90.354642\" y=\"44.670661\" style=\"fill: #1f77b4; stroke: #1f77b4\"/>\n     <use xlink:href=\"#m910f78e085\" x=\"82.228358\" y=\"72.556418\" style=\"fill: #1f77b4; stroke: #1f77b4\"/>\n     <use xlink:href=\"#m910f78e085\" x=\"100.413334\" y=\"59.418948\" style=\"fill: #1f77b4; stroke: #1f77b4\"/>\n     <use xlink:href=\"#m910f78e085\" x=\"109.023153\" y=\"62.27897\" style=\"fill: #1f77b4; stroke: #1f77b4\"/>\n     <use xlink:href=\"#m910f78e085\" x=\"116.455733\" y=\"69.535065\" style=\"fill: #1f77b4; stroke: #1f77b4\"/>\n     <use xlink:href=\"#m910f78e085\" x=\"165.752844\" y=\"95.657633\" style=\"fill: #1f77b4; stroke: #1f77b4\"/>\n     <use xlink:href=\"#m910f78e085\" x=\"109.574676\" y=\"77.197272\" style=\"fill: #1f77b4; stroke: #1f77b4\"/>\n     <use xlink:href=\"#m910f78e085\" x=\"134.448269\" y=\"75.885655\" style=\"fill: #1f77b4; stroke: #1f77b4\"/>\n     <use xlink:href=\"#m910f78e085\" x=\"106.108214\" y=\"66.289026\" style=\"fill: #1f77b4; stroke: #1f77b4\"/>\n     <use xlink:href=\"#m910f78e085\" x=\"176.23131\" y=\"108.856899\" style=\"fill: #1f77b4; stroke: #1f77b4\"/>\n     <use xlink:href=\"#m910f78e085\" x=\"144.873304\" y=\"80.48542\" style=\"fill: #1f77b4; stroke: #1f77b4\"/>\n     <use xlink:href=\"#m910f78e085\" x=\"108.172796\" y=\"52.480582\" style=\"fill: #1f77b4; stroke: #1f77b4\"/>\n     <use xlink:href=\"#m910f78e085\" x=\"130.006659\" y=\"52.801396\" style=\"fill: #1f77b4; stroke: #1f77b4\"/>\n     <use xlink:href=\"#m910f78e085\" x=\"122.906819\" y=\"62.026033\" style=\"fill: #1f77b4; stroke: #1f77b4\"/>\n     <use xlink:href=\"#m910f78e085\" x=\"162.753086\" y=\"116.763847\" style=\"fill: #1f77b4; stroke: #1f77b4\"/>\n     <use xlink:href=\"#m910f78e085\" x=\"139.752635\" y=\"70.099089\" style=\"fill: #1f77b4; stroke: #1f77b4\"/>\n     <use xlink:href=\"#m910f78e085\" x=\"149.589508\" y=\"76.390077\" style=\"fill: #1f77b4; stroke: #1f77b4\"/>\n     <use xlink:href=\"#m910f78e085\" x=\"118.074089\" y=\"80.295792\" style=\"fill: #1f77b4; stroke: #1f77b4\"/>\n     <use xlink:href=\"#m910f78e085\" x=\"154.565627\" y=\"79.974275\" style=\"fill: #1f77b4; stroke: #1f77b4\"/>\n     <use xlink:href=\"#m910f78e085\" x=\"104.943061\" y=\"64.294642\" style=\"fill: #1f77b4; stroke: #1f77b4\"/>\n     <use xlink:href=\"#m910f78e085\" x=\"118.977702\" y=\"73.048677\" style=\"fill: #1f77b4; stroke: #1f77b4\"/>\n     <use xlink:href=\"#m910f78e085\" x=\"93.925784\" y=\"49.516133\" style=\"fill: #1f77b4; stroke: #1f77b4\"/>\n     <use xlink:href=\"#m910f78e085\" x=\"108.26627\" y=\"61.850787\" style=\"fill: #1f77b4; stroke: #1f77b4\"/>\n     <use xlink:href=\"#m910f78e085\" x=\"123.665967\" y=\"70.648248\" style=\"fill: #1f77b4; stroke: #1f77b4\"/>\n     <use xlink:href=\"#m910f78e085\" x=\"131.948125\" y=\"80.960679\" style=\"fill: #1f77b4; stroke: #1f77b4\"/>\n     <use xlink:href=\"#m910f78e085\" x=\"129.86805\" y=\"76.395003\" style=\"fill: #1f77b4; stroke: #1f77b4\"/>\n     <use xlink:href=\"#m910f78e085\" x=\"98.031989\" y=\"63.466322\" style=\"fill: #1f77b4; stroke: #1f77b4\"/>\n     <use xlink:href=\"#m910f78e085\" x=\"142.009884\" y=\"77.853768\" style=\"fill: #1f77b4; stroke: #1f77b4\"/>\n     <use xlink:href=\"#m910f78e085\" x=\"103.0389\" y=\"59.342461\" style=\"fill: #1f77b4; stroke: #1f77b4\"/>\n     <use xlink:href=\"#m910f78e085\" x=\"138.709319\" y=\"88.403559\" style=\"fill: #1f77b4; stroke: #1f77b4\"/>\n     <use xlink:href=\"#m910f78e085\" x=\"106.250054\" y=\"56.458302\" style=\"fill: #1f77b4; stroke: #1f77b4\"/>\n     <use xlink:href=\"#m910f78e085\" x=\"115.810704\" y=\"50.873475\" style=\"fill: #1f77b4; stroke: #1f77b4\"/>\n     <use xlink:href=\"#m910f78e085\" x=\"142.112798\" y=\"78.672434\" style=\"fill: #1f77b4; stroke: #1f77b4\"/>\n     <use xlink:href=\"#m910f78e085\" x=\"99.23164\" y=\"58.667318\" style=\"fill: #1f77b4; stroke: #1f77b4\"/>\n     <use xlink:href=\"#m910f78e085\" x=\"103.812657\" y=\"61.853101\" style=\"fill: #1f77b4; stroke: #1f77b4\"/>\n     <use xlink:href=\"#m910f78e085\" x=\"134.497476\" y=\"70.016608\" style=\"fill: #1f77b4; stroke: #1f77b4\"/>\n     <use xlink:href=\"#m910f78e085\" x=\"111.029904\" y=\"76.277961\" style=\"fill: #1f77b4; stroke: #1f77b4\"/>\n     <use xlink:href=\"#m910f78e085\" x=\"119.171063\" y=\"64.136159\" style=\"fill: #1f77b4; stroke: #1f77b4\"/>\n     <use xlink:href=\"#m910f78e085\" x=\"126.617821\" y=\"73.650086\" style=\"fill: #1f77b4; stroke: #1f77b4\"/>\n     <use xlink:href=\"#m910f78e085\" x=\"134.75374\" y=\"61.249987\" style=\"fill: #1f77b4; stroke: #1f77b4\"/>\n     <use xlink:href=\"#m910f78e085\" x=\"138.29248\" y=\"75.601\" style=\"fill: #1f77b4; stroke: #1f77b4\"/>\n     <use xlink:href=\"#m910f78e085\" x=\"101.673383\" y=\"75.552872\" style=\"fill: #1f77b4; stroke: #1f77b4\"/>\n     <use xlink:href=\"#m910f78e085\" x=\"156.095355\" y=\"92.888093\" style=\"fill: #1f77b4; stroke: #1f77b4\"/>\n     <use xlink:href=\"#m910f78e085\" x=\"134.600159\" y=\"64.892909\" style=\"fill: #1f77b4; stroke: #1f77b4\"/>\n     <use xlink:href=\"#m910f78e085\" x=\"157.658117\" y=\"93.191816\" style=\"fill: #1f77b4; stroke: #1f77b4\"/>\n     <use xlink:href=\"#m910f78e085\" x=\"106.063415\" y=\"63.015014\" style=\"fill: #1f77b4; stroke: #1f77b4\"/>\n     <use xlink:href=\"#m910f78e085\" x=\"126.9912\" y=\"83.802255\" style=\"fill: #1f77b4; stroke: #1f77b4\"/>\n     <use xlink:href=\"#m910f78e085\" x=\"113.965904\" y=\"67.647413\" style=\"fill: #1f77b4; stroke: #1f77b4\"/>\n     <use xlink:href=\"#m910f78e085\" x=\"124.518733\" y=\"65.520628\" style=\"fill: #1f77b4; stroke: #1f77b4\"/>\n     <use xlink:href=\"#m910f78e085\" x=\"128.055332\" y=\"77.13793\" style=\"fill: #1f77b4; stroke: #1f77b4\"/>\n     <use xlink:href=\"#m910f78e085\" x=\"96.904503\" y=\"62.016871\" style=\"fill: #1f77b4; stroke: #1f77b4\"/>\n     <use xlink:href=\"#m910f78e085\" x=\"133.329811\" y=\"62.923995\" style=\"fill: #1f77b4; stroke: #1f77b4\"/>\n     <use xlink:href=\"#m910f78e085\" x=\"141.211985\" y=\"85.720454\" style=\"fill: #1f77b4; stroke: #1f77b4\"/>\n     <use xlink:href=\"#m910f78e085\" x=\"100.108404\" y=\"66.977656\" style=\"fill: #1f77b4; stroke: #1f77b4\"/>\n     <use xlink:href=\"#m910f78e085\" x=\"98.846843\" y=\"64.307997\" style=\"fill: #1f77b4; stroke: #1f77b4\"/>\n     <use xlink:href=\"#m910f78e085\" x=\"105.006834\" y=\"62.943202\" style=\"fill: #1f77b4; stroke: #1f77b4\"/>\n     <use xlink:href=\"#m910f78e085\" x=\"93.56422\" y=\"45.811822\" style=\"fill: #1f77b4; stroke: #1f77b4\"/>\n     <use xlink:href=\"#m910f78e085\" x=\"93.116793\" y=\"42.761943\" style=\"fill: #1f77b4; stroke: #1f77b4\"/>\n     <use xlink:href=\"#m910f78e085\" x=\"128.700991\" y=\"67.497198\" style=\"fill: #1f77b4; stroke: #1f77b4\"/>\n     <use xlink:href=\"#m910f78e085\" x=\"124.620318\" y=\"77.304966\" style=\"fill: #1f77b4; stroke: #1f77b4\"/>\n     <use xlink:href=\"#m910f78e085\" x=\"163.145912\" y=\"104.141718\" style=\"fill: #1f77b4; stroke: #1f77b4\"/>\n     <use xlink:href=\"#m910f78e085\" x=\"105.746871\" y=\"52.839444\" style=\"fill: #1f77b4; stroke: #1f77b4\"/>\n     <use xlink:href=\"#m910f78e085\" x=\"91.093291\" y=\"64.196796\" style=\"fill: #1f77b4; stroke: #1f77b4\"/>\n     <use xlink:href=\"#m910f78e085\" x=\"82.69618\" y=\"45.989681\" style=\"fill: #1f77b4; stroke: #1f77b4\"/>\n     <use xlink:href=\"#m910f78e085\" x=\"157.989147\" y=\"85.907903\" style=\"fill: #1f77b4; stroke: #1f77b4\"/>\n     <use xlink:href=\"#m910f78e085\" x=\"141.082618\" y=\"84.078008\" style=\"fill: #1f77b4; stroke: #1f77b4\"/>\n     <use xlink:href=\"#m910f78e085\" x=\"108.045131\" y=\"64.651903\" style=\"fill: #1f77b4; stroke: #1f77b4\"/>\n     <use xlink:href=\"#m910f78e085\" x=\"123.391019\" y=\"59.229779\" style=\"fill: #1f77b4; stroke: #1f77b4\"/>\n     <use xlink:href=\"#m910f78e085\" x=\"139.580006\" y=\"79.201964\" style=\"fill: #1f77b4; stroke: #1f77b4\"/>\n     <use xlink:href=\"#m910f78e085\" x=\"98.693007\" y=\"50.553683\" style=\"fill: #1f77b4; stroke: #1f77b4\"/>\n     <use xlink:href=\"#m910f78e085\" x=\"94.208016\" y=\"60.983654\" style=\"fill: #1f77b4; stroke: #1f77b4\"/>\n     <use xlink:href=\"#m910f78e085\" x=\"101.261322\" y=\"61.001782\" style=\"fill: #1f77b4; stroke: #1f77b4\"/>\n     <use xlink:href=\"#m910f78e085\" x=\"165.325333\" y=\"101.37502\" style=\"fill: #1f77b4; stroke: #1f77b4\"/>\n     <use xlink:href=\"#m910f78e085\" x=\"132.361808\" y=\"86.938337\" style=\"fill: #1f77b4; stroke: #1f77b4\"/>\n     <use xlink:href=\"#m910f78e085\" x=\"77.386124\" y=\"47.749675\" style=\"fill: #1f77b4; stroke: #1f77b4\"/>\n     <use xlink:href=\"#m910f78e085\" x=\"65.416746\" y=\"29.758693\" style=\"fill: #1f77b4; stroke: #1f77b4\"/>\n     <use xlink:href=\"#m910f78e085\" x=\"94.522092\" y=\"43.518863\" style=\"fill: #1f77b4; stroke: #1f77b4\"/>\n     <use xlink:href=\"#m910f78e085\" x=\"125.696972\" y=\"68.265655\" style=\"fill: #1f77b4; stroke: #1f77b4\"/>\n     <use xlink:href=\"#m910f78e085\" x=\"121.933721\" y=\"59.265602\" style=\"fill: #1f77b4; stroke: #1f77b4\"/>\n     <use xlink:href=\"#m910f78e085\" x=\"153.595981\" y=\"84.673395\" style=\"fill: #1f77b4; stroke: #1f77b4\"/>\n     <use xlink:href=\"#m910f78e085\" x=\"147.837735\" y=\"84.085399\" style=\"fill: #1f77b4; stroke: #1f77b4\"/>\n     <use xlink:href=\"#m910f78e085\" x=\"126.260939\" y=\"66.700903\" style=\"fill: #1f77b4; stroke: #1f77b4\"/>\n     <use xlink:href=\"#m910f78e085\" x=\"123.112868\" y=\"75.612096\" style=\"fill: #1f77b4; stroke: #1f77b4\"/>\n     <use xlink:href=\"#m910f78e085\" x=\"142.598377\" y=\"81.42729\" style=\"fill: #1f77b4; stroke: #1f77b4\"/>\n     <use xlink:href=\"#m910f78e085\" x=\"141.469238\" y=\"70.574928\" style=\"fill: #1f77b4; stroke: #1f77b4\"/>\n     <use xlink:href=\"#m910f78e085\" x=\"102.075437\" y=\"54.735581\" style=\"fill: #1f77b4; stroke: #1f77b4\"/>\n     <use xlink:href=\"#m910f78e085\" x=\"165.171252\" y=\"81.903591\" style=\"fill: #1f77b4; stroke: #1f77b4\"/>\n     <use xlink:href=\"#m910f78e085\" x=\"151.550788\" y=\"73.567665\" style=\"fill: #1f77b4; stroke: #1f77b4\"/>\n     <use xlink:href=\"#m910f78e085\" x=\"75.157447\" y=\"36.890178\" style=\"fill: #1f77b4; stroke: #1f77b4\"/>\n     <use xlink:href=\"#m910f78e085\" x=\"115.032558\" y=\"75.386302\" style=\"fill: #1f77b4; stroke: #1f77b4\"/>\n     <use xlink:href=\"#m910f78e085\" x=\"186.323357\" y=\"113.750888\" style=\"fill: #1f77b4; stroke: #1f77b4\"/>\n     <use xlink:href=\"#m910f78e085\" x=\"136.805247\" y=\"77.267316\" style=\"fill: #1f77b4; stroke: #1f77b4\"/>\n     <use xlink:href=\"#m910f78e085\" x=\"138.697416\" y=\"73.999518\" style=\"fill: #1f77b4; stroke: #1f77b4\"/>\n     <use xlink:href=\"#m910f78e085\" x=\"113.776501\" y=\"77.343023\" style=\"fill: #1f77b4; stroke: #1f77b4\"/>\n     <use xlink:href=\"#m910f78e085\" x=\"138.015898\" y=\"77.231218\" style=\"fill: #1f77b4; stroke: #1f77b4\"/>\n     <use xlink:href=\"#m910f78e085\" x=\"168.999432\" y=\"95.377524\" style=\"fill: #1f77b4; stroke: #1f77b4\"/>\n     <use xlink:href=\"#m910f78e085\" x=\"128.355104\" y=\"63.312864\" style=\"fill: #1f77b4; stroke: #1f77b4\"/>\n     <use xlink:href=\"#m910f78e085\" x=\"106.53632\" y=\"71.422997\" style=\"fill: #1f77b4; stroke: #1f77b4\"/>\n     <use xlink:href=\"#m910f78e085\" x=\"141.459749\" y=\"90.197493\" style=\"fill: #1f77b4; stroke: #1f77b4\"/>\n     <use xlink:href=\"#m910f78e085\" x=\"80.520403\" y=\"49.465663\" style=\"fill: #1f77b4; stroke: #1f77b4\"/>\n     <use xlink:href=\"#m910f78e085\" x=\"44.18196\" y=\"21.882856\" style=\"fill: #1f77b4; stroke: #1f77b4\"/>\n     <use xlink:href=\"#m910f78e085\" x=\"121.899127\" y=\"70.416008\" style=\"fill: #1f77b4; stroke: #1f77b4\"/>\n     <use xlink:href=\"#m910f78e085\" x=\"122.339334\" y=\"68.494201\" style=\"fill: #1f77b4; stroke: #1f77b4\"/>\n     <use xlink:href=\"#m910f78e085\" x=\"145.491034\" y=\"91.613939\" style=\"fill: #1f77b4; stroke: #1f77b4\"/>\n     <use xlink:href=\"#m910f78e085\" x=\"131.378927\" y=\"86.554581\" style=\"fill: #1f77b4; stroke: #1f77b4\"/>\n     <use xlink:href=\"#m910f78e085\" x=\"79.122503\" y=\"57.437671\" style=\"fill: #1f77b4; stroke: #1f77b4\"/>\n     <use xlink:href=\"#m910f78e085\" x=\"109.713012\" y=\"60.13594\" style=\"fill: #1f77b4; stroke: #1f77b4\"/>\n     <use xlink:href=\"#m910f78e085\" x=\"129.393169\" y=\"73.459809\" style=\"fill: #1f77b4; stroke: #1f77b4\"/>\n     <use xlink:href=\"#m910f78e085\" x=\"139.77064\" y=\"90.023699\" style=\"fill: #1f77b4; stroke: #1f77b4\"/>\n     <use xlink:href=\"#m910f78e085\" x=\"58.483228\" y=\"40.311888\" style=\"fill: #1f77b4; stroke: #1f77b4\"/>\n     <use xlink:href=\"#m910f78e085\" x=\"115.705133\" y=\"66.952446\" style=\"fill: #1f77b4; stroke: #1f77b4\"/>\n     <use xlink:href=\"#m910f78e085\" x=\"109.209284\" y=\"72.198275\" style=\"fill: #1f77b4; stroke: #1f77b4\"/>\n     <use xlink:href=\"#m910f78e085\" x=\"99.596775\" y=\"49.792678\" style=\"fill: #1f77b4; stroke: #1f77b4\"/>\n     <use xlink:href=\"#m910f78e085\" x=\"155.828277\" y=\"81.959678\" style=\"fill: #1f77b4; stroke: #1f77b4\"/>\n     <use xlink:href=\"#m910f78e085\" x=\"142.584459\" y=\"78.487827\" style=\"fill: #1f77b4; stroke: #1f77b4\"/>\n     <use xlink:href=\"#m910f78e085\" x=\"116.424024\" y=\"75.200989\" style=\"fill: #1f77b4; stroke: #1f77b4\"/>\n     <use xlink:href=\"#m910f78e085\" x=\"144.755891\" y=\"86.641882\" style=\"fill: #1f77b4; stroke: #1f77b4\"/>\n     <use xlink:href=\"#m910f78e085\" x=\"124.394941\" y=\"78.936685\" style=\"fill: #1f77b4; stroke: #1f77b4\"/>\n     <use xlink:href=\"#m910f78e085\" x=\"149.393741\" y=\"88.934911\" style=\"fill: #1f77b4; stroke: #1f77b4\"/>\n     <use xlink:href=\"#m910f78e085\" x=\"142.610097\" y=\"83.887437\" style=\"fill: #1f77b4; stroke: #1f77b4\"/>\n     <use xlink:href=\"#m910f78e085\" x=\"67.609966\" y=\"50.166662\" style=\"fill: #1f77b4; stroke: #1f77b4\"/>\n     <use xlink:href=\"#m910f78e085\" x=\"142.007874\" y=\"67.985091\" style=\"fill: #1f77b4; stroke: #1f77b4\"/>\n     <use xlink:href=\"#m910f78e085\" x=\"63.252165\" y=\"29.944259\" style=\"fill: #1f77b4; stroke: #1f77b4\"/>\n     <use xlink:href=\"#m910f78e085\" x=\"66.701779\" y=\"49.638774\" style=\"fill: #1f77b4; stroke: #1f77b4\"/>\n     <use xlink:href=\"#m910f78e085\" x=\"132.054776\" y=\"86.683176\" style=\"fill: #1f77b4; stroke: #1f77b4\"/>\n     <use xlink:href=\"#m910f78e085\" x=\"178.385755\" y=\"112.799095\" style=\"fill: #1f77b4; stroke: #1f77b4\"/>\n     <use xlink:href=\"#m910f78e085\" x=\"169.138933\" y=\"103.250992\" style=\"fill: #1f77b4; stroke: #1f77b4\"/>\n     <use xlink:href=\"#m910f78e085\" x=\"142.305525\" y=\"76.511979\" style=\"fill: #1f77b4; stroke: #1f77b4\"/>\n     <use xlink:href=\"#m910f78e085\" x=\"126.68618\" y=\"69.520216\" style=\"fill: #1f77b4; stroke: #1f77b4\"/>\n     <use xlink:href=\"#m910f78e085\" x=\"167.444332\" y=\"104.209826\" style=\"fill: #1f77b4; stroke: #1f77b4\"/>\n     <use xlink:href=\"#m910f78e085\" x=\"59.9632\" y=\"32.942814\" style=\"fill: #1f77b4; stroke: #1f77b4\"/>\n     <use xlink:href=\"#m910f78e085\" x=\"119.816985\" y=\"77.112047\" style=\"fill: #1f77b4; stroke: #1f77b4\"/>\n     <use xlink:href=\"#m910f78e085\" x=\"138.999588\" y=\"67.949651\" style=\"fill: #1f77b4; stroke: #1f77b4\"/>\n     <use xlink:href=\"#m910f78e085\" x=\"169.254423\" y=\"92.020979\" style=\"fill: #1f77b4; stroke: #1f77b4\"/>\n     <use xlink:href=\"#m910f78e085\" x=\"189.925642\" y=\"112.418201\" style=\"fill: #1f77b4; stroke: #1f77b4\"/>\n     <use xlink:href=\"#m910f78e085\" x=\"129.851168\" y=\"66.315536\" style=\"fill: #1f77b4; stroke: #1f77b4\"/>\n     <use xlink:href=\"#m910f78e085\" x=\"84.596219\" y=\"52.302306\" style=\"fill: #1f77b4; stroke: #1f77b4\"/>\n     <use xlink:href=\"#m910f78e085\" x=\"163.955471\" y=\"81.950278\" style=\"fill: #1f77b4; stroke: #1f77b4\"/>\n     <use xlink:href=\"#m910f78e085\" x=\"111.02652\" y=\"68.871353\" style=\"fill: #1f77b4; stroke: #1f77b4\"/>\n     <use xlink:href=\"#m910f78e085\" x=\"154.395037\" y=\"85.4847\" style=\"fill: #1f77b4; stroke: #1f77b4\"/>\n     <use xlink:href=\"#m910f78e085\" x=\"102.412832\" y=\"50.381657\" style=\"fill: #1f77b4; stroke: #1f77b4\"/>\n     <use xlink:href=\"#m910f78e085\" x=\"98.45356\" y=\"46.97271\" style=\"fill: #1f77b4; stroke: #1f77b4\"/>\n     <use xlink:href=\"#m910f78e085\" x=\"116.75953\" y=\"55.463621\" style=\"fill: #1f77b4; stroke: #1f77b4\"/>\n     <use xlink:href=\"#m910f78e085\" x=\"145.531937\" y=\"82.860629\" style=\"fill: #1f77b4; stroke: #1f77b4\"/>\n     <use xlink:href=\"#m910f78e085\" x=\"109.233117\" y=\"59.025036\" style=\"fill: #1f77b4; stroke: #1f77b4\"/>\n     <use xlink:href=\"#m910f78e085\" x=\"156.218891\" y=\"97.521207\" style=\"fill: #1f77b4; stroke: #1f77b4\"/>\n     <use xlink:href=\"#m910f78e085\" x=\"101.133067\" y=\"46.297304\" style=\"fill: #1f77b4; stroke: #1f77b4\"/>\n     <use xlink:href=\"#m910f78e085\" x=\"121.976409\" y=\"70.558529\" style=\"fill: #1f77b4; stroke: #1f77b4\"/>\n     <use xlink:href=\"#m910f78e085\" x=\"124.888675\" y=\"64.515269\" style=\"fill: #1f77b4; stroke: #1f77b4\"/>\n     <use xlink:href=\"#m910f78e085\" x=\"157.164088\" y=\"96.995371\" style=\"fill: #1f77b4; stroke: #1f77b4\"/>\n     <use xlink:href=\"#m910f78e085\" x=\"122.789108\" y=\"81.307946\" style=\"fill: #1f77b4; stroke: #1f77b4\"/>\n     <use xlink:href=\"#m910f78e085\" x=\"129.615945\" y=\"86.864455\" style=\"fill: #1f77b4; stroke: #1f77b4\"/>\n     <use xlink:href=\"#m910f78e085\" x=\"156.199717\" y=\"83.574119\" style=\"fill: #1f77b4; stroke: #1f77b4\"/>\n     <use xlink:href=\"#m910f78e085\" x=\"136.262036\" y=\"67.943474\" style=\"fill: #1f77b4; stroke: #1f77b4\"/>\n     <use xlink:href=\"#m910f78e085\" x=\"93.694837\" y=\"47.985984\" style=\"fill: #1f77b4; stroke: #1f77b4\"/>\n     <use xlink:href=\"#m910f78e085\" x=\"167.675713\" y=\"91.143579\" style=\"fill: #1f77b4; stroke: #1f77b4\"/>\n     <use xlink:href=\"#m910f78e085\" x=\"86.671663\" y=\"31.997922\" style=\"fill: #1f77b4; stroke: #1f77b4\"/>\n     <use xlink:href=\"#m910f78e085\" x=\"169.535475\" y=\"91.048224\" style=\"fill: #1f77b4; stroke: #1f77b4\"/>\n     <use xlink:href=\"#m910f78e085\" x=\"108.921548\" y=\"60.866675\" style=\"fill: #1f77b4; stroke: #1f77b4\"/>\n     <use xlink:href=\"#m910f78e085\" x=\"123.679552\" y=\"59.680661\" style=\"fill: #1f77b4; stroke: #1f77b4\"/>\n     <use xlink:href=\"#m910f78e085\" x=\"115.929511\" y=\"58.118565\" style=\"fill: #1f77b4; stroke: #1f77b4\"/>\n     <use xlink:href=\"#m910f78e085\" x=\"114.283533\" y=\"71.050687\" style=\"fill: #1f77b4; stroke: #1f77b4\"/>\n     <use xlink:href=\"#m910f78e085\" x=\"134.261722\" y=\"65.407707\" style=\"fill: #1f77b4; stroke: #1f77b4\"/>\n     <use xlink:href=\"#m910f78e085\" x=\"109.558197\" y=\"76.215639\" style=\"fill: #1f77b4; stroke: #1f77b4\"/>\n     <use xlink:href=\"#m910f78e085\" x=\"122.014121\" y=\"61.668433\" style=\"fill: #1f77b4; stroke: #1f77b4\"/>\n     <use xlink:href=\"#m910f78e085\" x=\"103.247005\" y=\"50.57694\" style=\"fill: #1f77b4; stroke: #1f77b4\"/>\n     <use xlink:href=\"#m910f78e085\" x=\"137.503642\" y=\"82.908526\" style=\"fill: #1f77b4; stroke: #1f77b4\"/>\n     <use xlink:href=\"#m910f78e085\" x=\"93.667659\" y=\"56.285417\" style=\"fill: #1f77b4; stroke: #1f77b4\"/>\n     <use xlink:href=\"#m910f78e085\" x=\"139.021471\" y=\"75.257442\" style=\"fill: #1f77b4; stroke: #1f77b4\"/>\n     <use xlink:href=\"#m910f78e085\" x=\"85.297132\" y=\"60.16005\" style=\"fill: #1f77b4; stroke: #1f77b4\"/>\n     <use xlink:href=\"#m910f78e085\" x=\"114.084534\" y=\"55.556972\" style=\"fill: #1f77b4; stroke: #1f77b4\"/>\n     <use xlink:href=\"#m910f78e085\" x=\"141.293767\" y=\"86.860116\" style=\"fill: #1f77b4; stroke: #1f77b4\"/>\n     <use xlink:href=\"#m910f78e085\" x=\"99.46691\" y=\"56.268168\" style=\"fill: #1f77b4; stroke: #1f77b4\"/>\n     <use xlink:href=\"#m910f78e085\" x=\"92.938377\" y=\"65.233635\" style=\"fill: #1f77b4; stroke: #1f77b4\"/>\n     <use xlink:href=\"#m910f78e085\" x=\"107.353189\" y=\"65.930808\" style=\"fill: #1f77b4; stroke: #1f77b4\"/>\n     <use xlink:href=\"#m910f78e085\" x=\"148.402891\" y=\"83.427559\" style=\"fill: #1f77b4; stroke: #1f77b4\"/>\n     <use xlink:href=\"#m910f78e085\" x=\"107.932405\" y=\"64.115682\" style=\"fill: #1f77b4; stroke: #1f77b4\"/>\n     <use xlink:href=\"#m910f78e085\" x=\"141.102254\" y=\"78.612362\" style=\"fill: #1f77b4; stroke: #1f77b4\"/>\n     <use xlink:href=\"#m910f78e085\" x=\"128.233527\" y=\"85.374333\" style=\"fill: #1f77b4; stroke: #1f77b4\"/>\n     <use xlink:href=\"#m910f78e085\" x=\"148.466031\" y=\"85.954312\" style=\"fill: #1f77b4; stroke: #1f77b4\"/>\n     <use xlink:href=\"#m910f78e085\" x=\"87.689465\" y=\"49.039804\" style=\"fill: #1f77b4; stroke: #1f77b4\"/>\n     <use xlink:href=\"#m910f78e085\" x=\"124.465918\" y=\"69.281997\" style=\"fill: #1f77b4; stroke: #1f77b4\"/>\n     <use xlink:href=\"#m910f78e085\" x=\"141.839141\" y=\"93.442096\" style=\"fill: #1f77b4; stroke: #1f77b4\"/>\n     <use xlink:href=\"#m910f78e085\" x=\"92.001571\" y=\"57.15329\" style=\"fill: #1f77b4; stroke: #1f77b4\"/>\n     <use xlink:href=\"#m910f78e085\" x=\"148.080331\" y=\"88.169908\" style=\"fill: #1f77b4; stroke: #1f77b4\"/>\n     <use xlink:href=\"#m910f78e085\" x=\"62.985402\" y=\"48.870547\" style=\"fill: #1f77b4; stroke: #1f77b4\"/>\n     <use xlink:href=\"#m910f78e085\" x=\"68.63452\" y=\"32.528472\" style=\"fill: #1f77b4; stroke: #1f77b4\"/>\n     <use xlink:href=\"#m910f78e085\" x=\"116.434735\" y=\"75.469687\" style=\"fill: #1f77b4; stroke: #1f77b4\"/>\n     <use xlink:href=\"#m910f78e085\" x=\"93.512449\" y=\"52.331772\" style=\"fill: #1f77b4; stroke: #1f77b4\"/>\n     <use xlink:href=\"#m910f78e085\" x=\"86.682141\" y=\"59.66748\" style=\"fill: #1f77b4; stroke: #1f77b4\"/>\n     <use xlink:href=\"#m910f78e085\" x=\"148.035912\" y=\"66.791225\" style=\"fill: #1f77b4; stroke: #1f77b4\"/>\n     <use xlink:href=\"#m910f78e085\" x=\"129.50041\" y=\"74.710147\" style=\"fill: #1f77b4; stroke: #1f77b4\"/>\n     <use xlink:href=\"#m910f78e085\" x=\"159.322591\" y=\"99.662359\" style=\"fill: #1f77b4; stroke: #1f77b4\"/>\n     <use xlink:href=\"#m910f78e085\" x=\"110.646046\" y=\"65.882902\" style=\"fill: #1f77b4; stroke: #1f77b4\"/>\n     <use xlink:href=\"#m910f78e085\" x=\"81.615425\" y=\"46.541618\" style=\"fill: #1f77b4; stroke: #1f77b4\"/>\n     <use xlink:href=\"#m910f78e085\" x=\"132.757173\" y=\"76.978542\" style=\"fill: #1f77b4; stroke: #1f77b4\"/>\n     <use xlink:href=\"#m910f78e085\" x=\"128.690187\" y=\"75.505968\" style=\"fill: #1f77b4; stroke: #1f77b4\"/>\n     <use xlink:href=\"#m910f78e085\" x=\"106.962331\" y=\"63.31901\" style=\"fill: #1f77b4; stroke: #1f77b4\"/>\n     <use xlink:href=\"#m910f78e085\" x=\"101.757287\" y=\"63.357144\" style=\"fill: #1f77b4; stroke: #1f77b4\"/>\n     <use xlink:href=\"#m910f78e085\" x=\"154.802198\" y=\"101.795367\" style=\"fill: #1f77b4; stroke: #1f77b4\"/>\n     <use xlink:href=\"#m910f78e085\" x=\"123.734094\" y=\"60.781146\" style=\"fill: #1f77b4; stroke: #1f77b4\"/>\n     <use xlink:href=\"#m910f78e085\" x=\"99.848989\" y=\"62.585507\" style=\"fill: #1f77b4; stroke: #1f77b4\"/>\n     <use xlink:href=\"#m910f78e085\" x=\"134.490519\" y=\"82.654548\" style=\"fill: #1f77b4; stroke: #1f77b4\"/>\n     <use xlink:href=\"#m910f78e085\" x=\"108.940557\" y=\"60.782749\" style=\"fill: #1f77b4; stroke: #1f77b4\"/>\n     <use xlink:href=\"#m910f78e085\" x=\"104.327065\" y=\"66.123811\" style=\"fill: #1f77b4; stroke: #1f77b4\"/>\n     <use xlink:href=\"#m910f78e085\" x=\"70.178831\" y=\"36.362206\" style=\"fill: #1f77b4; stroke: #1f77b4\"/>\n     <use xlink:href=\"#m910f78e085\" x=\"119.626955\" y=\"70.399107\" style=\"fill: #1f77b4; stroke: #1f77b4\"/>\n     <use xlink:href=\"#m910f78e085\" x=\"74.718664\" y=\"39.501263\" style=\"fill: #1f77b4; stroke: #1f77b4\"/>\n     <use xlink:href=\"#m910f78e085\" x=\"120.734088\" y=\"90.237536\" style=\"fill: #1f77b4; stroke: #1f77b4\"/>\n     <use xlink:href=\"#m910f78e085\" x=\"117.980755\" y=\"70.394801\" style=\"fill: #1f77b4; stroke: #1f77b4\"/>\n     <use xlink:href=\"#m910f78e085\" x=\"141.657108\" y=\"85.903606\" style=\"fill: #1f77b4; stroke: #1f77b4\"/>\n     <use xlink:href=\"#m910f78e085\" x=\"144.8297\" y=\"73.388962\" style=\"fill: #1f77b4; stroke: #1f77b4\"/>\n    </g>\n   </g>\n   <g id=\"matplotlib.axis_1\">\n    <g id=\"xtick_1\">\n     <g id=\"line2d_1\">\n      <defs>\n       <path id=\"m632c22edc6\" d=\"M 0 0 \nL 0 3.5 \n\" style=\"stroke: #000000; stroke-width: 0.8\"/>\n      </defs>\n      <g>\n       <use xlink:href=\"#m632c22edc6\" x=\"66.679844\" y=\"145.8\" style=\"stroke: #000000; stroke-width: 0.8\"/>\n      </g>\n     </g>\n     <g id=\"text_1\">\n      <!-- −2 -->\n      <g transform=\"translate(59.308751 160.398438)scale(0.1 -0.1)\">\n       <defs>\n        <path id=\"DejaVuSans-2212\" d=\"M 678 2272 \nL 4684 2272 \nL 4684 1741 \nL 678 1741 \nL 678 2272 \nz\n\" transform=\"scale(0.015625)\"/>\n        <path id=\"DejaVuSans-32\" d=\"M 1228 531 \nL 3431 531 \nL 3431 0 \nL 469 0 \nL 469 531 \nQ 828 903 1448 1529 \nQ 2069 2156 2228 2338 \nQ 2531 2678 2651 2914 \nQ 2772 3150 2772 3378 \nQ 2772 3750 2511 3984 \nQ 2250 4219 1831 4219 \nQ 1534 4219 1204 4116 \nQ 875 4013 500 3803 \nL 500 4441 \nQ 881 4594 1212 4672 \nQ 1544 4750 1819 4750 \nQ 2544 4750 2975 4387 \nQ 3406 4025 3406 3419 \nQ 3406 3131 3298 2873 \nQ 3191 2616 2906 2266 \nQ 2828 2175 2409 1742 \nQ 1991 1309 1228 531 \nz\n\" transform=\"scale(0.015625)\"/>\n       </defs>\n       <use xlink:href=\"#DejaVuSans-2212\"/>\n       <use xlink:href=\"#DejaVuSans-32\" x=\"83.789062\"/>\n      </g>\n     </g>\n    </g>\n    <g id=\"xtick_2\">\n     <g id=\"line2d_2\">\n      <g>\n       <use xlink:href=\"#m632c22edc6\" x=\"124.071748\" y=\"145.8\" style=\"stroke: #000000; stroke-width: 0.8\"/>\n      </g>\n     </g>\n     <g id=\"text_2\">\n      <!-- 0 -->\n      <g transform=\"translate(120.890498 160.398438)scale(0.1 -0.1)\">\n       <defs>\n        <path id=\"DejaVuSans-30\" d=\"M 2034 4250 \nQ 1547 4250 1301 3770 \nQ 1056 3291 1056 2328 \nQ 1056 1369 1301 889 \nQ 1547 409 2034 409 \nQ 2525 409 2770 889 \nQ 3016 1369 3016 2328 \nQ 3016 3291 2770 3770 \nQ 2525 4250 2034 4250 \nz\nM 2034 4750 \nQ 2819 4750 3233 4129 \nQ 3647 3509 3647 2328 \nQ 3647 1150 3233 529 \nQ 2819 -91 2034 -91 \nQ 1250 -91 836 529 \nQ 422 1150 422 2328 \nQ 422 3509 836 4129 \nQ 1250 4750 2034 4750 \nz\n\" transform=\"scale(0.015625)\"/>\n       </defs>\n       <use xlink:href=\"#DejaVuSans-30\"/>\n      </g>\n     </g>\n    </g>\n    <g id=\"xtick_3\">\n     <g id=\"line2d_3\">\n      <g>\n       <use xlink:href=\"#m632c22edc6\" x=\"181.463652\" y=\"145.8\" style=\"stroke: #000000; stroke-width: 0.8\"/>\n      </g>\n     </g>\n     <g id=\"text_3\">\n      <!-- 2 -->\n      <g transform=\"translate(178.282402 160.398438)scale(0.1 -0.1)\">\n       <use xlink:href=\"#DejaVuSans-32\"/>\n      </g>\n     </g>\n    </g>\n   </g>\n   <g id=\"matplotlib.axis_2\">\n    <g id=\"ytick_1\">\n     <g id=\"line2d_4\">\n      <defs>\n       <path id=\"m317b032407\" d=\"M 0 0 \nL -3.5 0 \n\" style=\"stroke: #000000; stroke-width: 0.8\"/>\n      </defs>\n      <g>\n       <use xlink:href=\"#m317b032407\" x=\"35.304688\" y=\"134.134994\" style=\"stroke: #000000; stroke-width: 0.8\"/>\n      </g>\n     </g>\n     <g id=\"text_4\">\n      <!-- −10 -->\n      <g transform=\"translate(7.2 137.934213)scale(0.1 -0.1)\">\n       <defs>\n        <path id=\"DejaVuSans-31\" d=\"M 794 531 \nL 1825 531 \nL 1825 4091 \nL 703 3866 \nL 703 4441 \nL 1819 4666 \nL 2450 4666 \nL 2450 531 \nL 3481 531 \nL 3481 0 \nL 794 0 \nL 794 531 \nz\n\" transform=\"scale(0.015625)\"/>\n       </defs>\n       <use xlink:href=\"#DejaVuSans-2212\"/>\n       <use xlink:href=\"#DejaVuSans-31\" x=\"83.789062\"/>\n       <use xlink:href=\"#DejaVuSans-30\" x=\"147.412109\"/>\n      </g>\n     </g>\n    </g>\n    <g id=\"ytick_2\">\n     <g id=\"line2d_5\">\n      <g>\n       <use xlink:href=\"#m317b032407\" x=\"35.304688\" y=\"90.02649\" style=\"stroke: #000000; stroke-width: 0.8\"/>\n      </g>\n     </g>\n     <g id=\"text_5\">\n      <!-- 0 -->\n      <g transform=\"translate(21.942187 93.825709)scale(0.1 -0.1)\">\n       <use xlink:href=\"#DejaVuSans-30\"/>\n      </g>\n     </g>\n    </g>\n    <g id=\"ytick_3\">\n     <g id=\"line2d_6\">\n      <g>\n       <use xlink:href=\"#m317b032407\" x=\"35.304688\" y=\"45.917986\" style=\"stroke: #000000; stroke-width: 0.8\"/>\n      </g>\n     </g>\n     <g id=\"text_6\">\n      <!-- 10 -->\n      <g transform=\"translate(15.579687 49.717204)scale(0.1 -0.1)\">\n       <use xlink:href=\"#DejaVuSans-31\"/>\n       <use xlink:href=\"#DejaVuSans-30\" x=\"63.623047\"/>\n      </g>\n     </g>\n    </g>\n   </g>\n   <g id=\"patch_3\">\n    <path d=\"M 35.304688 145.8 \nL 35.304688 7.2 \n\" style=\"fill: none; stroke: #000000; stroke-width: 0.8; stroke-linejoin: miter; stroke-linecap: square\"/>\n   </g>\n   <g id=\"patch_4\">\n    <path d=\"M 230.604688 145.8 \nL 230.604688 7.2 \n\" style=\"fill: none; stroke: #000000; stroke-width: 0.8; stroke-linejoin: miter; stroke-linecap: square\"/>\n   </g>\n   <g id=\"patch_5\">\n    <path d=\"M 35.304688 145.8 \nL 230.604688 145.8 \n\" style=\"fill: none; stroke: #000000; stroke-width: 0.8; stroke-linejoin: miter; stroke-linecap: square\"/>\n   </g>\n   <g id=\"patch_6\">\n    <path d=\"M 35.304688 7.2 \nL 230.604688 7.2 \n\" style=\"fill: none; stroke: #000000; stroke-width: 0.8; stroke-linejoin: miter; stroke-linecap: square\"/>\n   </g>\n  </g>\n </g>\n <defs>\n  <clipPath id=\"p796701a49f\">\n   <rect x=\"35.304688\" y=\"7.2\" width=\"195.3\" height=\"138.6\"/>\n  </clipPath>\n </defs>\n</svg>\n"
     },
     "metadata": {},
     "output_type": "display_data"
    }
   ],
   "source": [
    "d2l.set_figsize()\n",
    "d2l.plt.scatter(features[:, 1].detach().numpy(), labels.detach().numpy(), 1);"
   ]
  },
  {
   "cell_type": "markdown",
   "id": "b032f500",
   "metadata": {
    "origin_pos": 13
   },
   "source": [
    "## 读取数据集\n",
    "\n",
    "回想一下，训练模型时要对数据集进行遍历，每次抽取一小批量样本，并使用它们来更新我们的模型。\n",
    "由于这个过程是训练机器学习算法的基础，所以有必要定义一个函数，\n",
    "该函数能打乱数据集中的样本并以小批量方式获取数据。\n",
    "\n",
    "在下面的代码中，我们[**定义一个`data_iter`函数，\n",
    "该函数接收批量大小、特征矩阵和标签向量作为输入，生成大小为`batch_size`的小批量**]。\n",
    "每个小批量包含一组特征和标签。\n"
   ]
  },
  {
   "cell_type": "code",
   "execution_count": 46,
   "id": "3da34ac6",
   "metadata": {
    "execution": {
     "iopub.execute_input": "2023-08-18T07:02:04.839342Z",
     "iopub.status.busy": "2023-08-18T07:02:04.838682Z",
     "iopub.status.idle": "2023-08-18T07:02:04.846329Z",
     "shell.execute_reply": "2023-08-18T07:02:04.845247Z"
    },
    "origin_pos": 14,
    "tab": [
     "pytorch"
    ],
    "ExecuteTime": {
     "end_time": "2023-11-11T07:56:41.934780100Z",
     "start_time": "2023-11-11T07:56:41.878640400Z"
    }
   },
   "outputs": [],
   "source": [
    "def data_iter(batch_size, features, labels):\n",
    "    num_examples = len(features)\n",
    "    indices = list(range(num_examples))\n",
    "    # 这些样本是随机读取的，没有特定的顺序\n",
    "    random.shuffle(indices)\n",
    "    for i in range(0, num_examples, batch_size):\n",
    "        batch_indices = torch.tensor(\n",
    "            indices[i: min(i + batch_size, num_examples)])\n",
    "        yield features[batch_indices], labels[batch_indices]"
   ]
  },
  {
   "cell_type": "markdown",
   "id": "52e08a78",
   "metadata": {
    "origin_pos": 16
   },
   "source": [
    "通常，我们利用GPU并行运算的优势，处理合理大小的“小批量”。\n",
    "每个样本都可以并行地进行模型计算，且每个样本损失函数的梯度也可以被并行计算。\n",
    "GPU可以在处理几百个样本时，所花费的时间不比处理一个样本时多太多。\n",
    "\n",
    "我们直观感受一下小批量运算：读取第一个小批量数据样本并打印。\n",
    "每个批量的特征维度显示批量大小和输入特征数。\n",
    "同样的，批量的标签形状与`batch_size`相等。\n"
   ]
  },
  {
   "cell_type": "code",
   "execution_count": 47,
   "id": "1dce0726",
   "metadata": {
    "execution": {
     "iopub.execute_input": "2023-08-18T07:02:04.851066Z",
     "iopub.status.busy": "2023-08-18T07:02:04.850456Z",
     "iopub.status.idle": "2023-08-18T07:02:04.859860Z",
     "shell.execute_reply": "2023-08-18T07:02:04.858756Z"
    },
    "origin_pos": 17,
    "tab": [
     "pytorch"
    ],
    "ExecuteTime": {
     "end_time": "2023-11-11T07:56:41.934780100Z",
     "start_time": "2023-11-11T07:56:41.893656100Z"
    }
   },
   "outputs": [
    {
     "name": "stdout",
     "output_type": "stream",
     "text": [
      "tensor([[-0.4743, -0.1775],\n",
      "        [ 1.1998, -0.8334],\n",
      "        [ 1.5288,  1.1634],\n",
      "        [-0.2246, -0.2654],\n",
      "        [-1.0416,  1.1203],\n",
      "        [-1.6195,  1.0709],\n",
      "        [ 1.6143, -1.3267],\n",
      "        [ 0.8064, -0.0407],\n",
      "        [ 0.4937, -1.7482],\n",
      "        [ 1.1340, -1.9319]]) \n",
      " tensor([[ 3.8491],\n",
      "        [ 9.4363],\n",
      "        [ 3.3123],\n",
      "        [ 4.6457],\n",
      "        [-1.6992],\n",
      "        [-2.6682],\n",
      "        [11.9430],\n",
      "        [ 5.9622],\n",
      "        [11.1325],\n",
      "        [13.0356]])\n"
     ]
    }
   ],
   "source": [
    "batch_size = 10\n",
    "\n",
    "for X, y in data_iter(batch_size, features, labels):\n",
    "    print(X, '\\n', y)\n",
    "    break"
   ]
  },
  {
   "cell_type": "markdown",
   "id": "d86e62d7",
   "metadata": {
    "origin_pos": 18
   },
   "source": [
    "当我们运行迭代时，我们会连续地获得不同的小批量，直至遍历完整个数据集。\n",
    "上面实现的迭代对教学来说很好，但它的执行效率很低，可能会在实际问题上陷入麻烦。\n",
    "例如，它要求我们将所有数据加载到内存中，并执行大量的随机内存访问。\n",
    "在深度学习框架中实现的内置迭代器效率要高得多，\n",
    "它可以处理存储在文件中的数据和数据流提供的数据。\n",
    "\n",
    "## 初始化模型参数\n",
    "\n",
    "[**在我们开始用小批量随机梯度下降优化我们的模型参数之前**]，\n",
    "(**我们需要先有一些参数**)。\n",
    "在下面的代码中，我们通过从均值为0、标准差为0.01的正态分布中采样随机数来初始化权重，\n",
    "并将偏置初始化为0。\n"
   ]
  },
  {
   "cell_type": "code",
   "execution_count": 48,
   "id": "12c51289",
   "metadata": {
    "execution": {
     "iopub.execute_input": "2023-08-18T07:02:04.864457Z",
     "iopub.status.busy": "2023-08-18T07:02:04.863853Z",
     "iopub.status.idle": "2023-08-18T07:02:04.869983Z",
     "shell.execute_reply": "2023-08-18T07:02:04.868859Z"
    },
    "origin_pos": 20,
    "tab": [
     "pytorch"
    ],
    "ExecuteTime": {
     "end_time": "2023-11-11T07:56:41.935779800Z",
     "start_time": "2023-11-11T07:56:41.909795800Z"
    }
   },
   "outputs": [],
   "source": [
    "w = torch.normal(0, 0.01, size=(2,1), requires_grad=True)\n",
    "b = torch.zeros(1, requires_grad=True)"
   ]
  },
  {
   "cell_type": "markdown",
   "id": "c59d5d68",
   "metadata": {
    "origin_pos": 23
   },
   "source": [
    "在初始化参数之后，我们的任务是更新这些参数，直到这些参数足够拟合我们的数据。\n",
    "每次更新都需要计算损失函数关于模型参数的梯度。\n",
    "有了这个梯度，我们就可以向减小损失的方向更新每个参数。\n",
    "因为手动计算梯度很枯燥而且容易出错，所以没有人会手动计算梯度。\n",
    "我们使用 :numref:`sec_autograd`中引入的自动微分来计算梯度。\n",
    "\n",
    "## 定义模型\n",
    "\n",
    "接下来，我们必须[**定义模型，将模型的输入和参数同模型的输出关联起来。**]\n",
    "回想一下，要计算线性模型的输出，\n",
    "我们只需计算输入特征$\\mathbf{X}$和模型权重$\\mathbf{w}$的矩阵-向量乘法后加上偏置$b$。\n",
    "注意，上面的$\\mathbf{Xw}$是一个向量，而$b$是一个标量。\n",
    "回想一下 :numref:`subsec_broadcasting`中描述的广播机制：\n",
    "当我们用一个向量加一个标量时，标量会被加到向量的每个分量上。\n"
   ]
  },
  {
   "cell_type": "code",
   "execution_count": 49,
   "id": "b8b29b19",
   "metadata": {
    "execution": {
     "iopub.execute_input": "2023-08-18T07:02:04.874642Z",
     "iopub.status.busy": "2023-08-18T07:02:04.874004Z",
     "iopub.status.idle": "2023-08-18T07:02:04.879521Z",
     "shell.execute_reply": "2023-08-18T07:02:04.878471Z"
    },
    "origin_pos": 24,
    "tab": [
     "pytorch"
    ],
    "ExecuteTime": {
     "end_time": "2023-11-11T07:56:41.948491600Z",
     "start_time": "2023-11-11T07:56:41.925763700Z"
    }
   },
   "outputs": [],
   "source": [
    "def linreg(X, w, b):  #@save\n",
    "    \"\"\"线性回归模型\"\"\"\n",
    "    return torch.matmul(X, w) + b"
   ]
  },
  {
   "cell_type": "markdown",
   "id": "6b7765ef",
   "metadata": {
    "origin_pos": 25
   },
   "source": [
    "## [**定义损失函数**]\n",
    "\n",
    "因为需要计算损失函数的梯度，所以我们应该先定义损失函数。\n",
    "这里我们使用 :numref:`sec_linear_regression`中描述的平方损失函数。\n",
    "在实现中，我们需要将真实值`y`的形状转换为和预测值`y_hat`的形状相同。\n"
   ]
  },
  {
   "cell_type": "code",
   "execution_count": 50,
   "id": "3dda15c7",
   "metadata": {
    "execution": {
     "iopub.execute_input": "2023-08-18T07:02:04.884156Z",
     "iopub.status.busy": "2023-08-18T07:02:04.883559Z",
     "iopub.status.idle": "2023-08-18T07:02:04.889065Z",
     "shell.execute_reply": "2023-08-18T07:02:04.887964Z"
    },
    "origin_pos": 26,
    "tab": [
     "pytorch"
    ],
    "ExecuteTime": {
     "end_time": "2023-11-11T07:56:41.986768400Z",
     "start_time": "2023-11-11T07:56:41.942648400Z"
    }
   },
   "outputs": [],
   "source": [
    "def squared_loss(y_hat, y):  #@save\n",
    "    \"\"\"均方损失\"\"\"\n",
    "    return (y_hat - y.reshape(y_hat.shape)) ** 2 / 2"
   ]
  },
  {
   "cell_type": "markdown",
   "id": "56969029",
   "metadata": {
    "origin_pos": 27
   },
   "source": [
    "## (**定义优化算法**)\n",
    "\n",
    "正如我们在 :numref:`sec_linear_regression`中讨论的，线性回归有解析解。\n",
    "尽管线性回归有解析解，但本书中的其他模型却没有。\n",
    "这里我们介绍小批量随机梯度下降。\n",
    "\n",
    "在每一步中，使用从数据集中随机抽取的一个小批量，然后根据参数计算损失的梯度。\n",
    "接下来，朝着减少损失的方向更新我们的参数。\n",
    "下面的函数实现小批量随机梯度下降更新。\n",
    "该函数接受模型参数集合、学习速率和批量大小作为输入。每\n",
    "一步更新的大小由学习速率`lr`决定。\n",
    "因为我们计算的损失是一个批量样本的总和，所以我们用批量大小（`batch_size`）\n",
    "来规范化步长，这样步长大小就不会取决于我们对批量大小的选择。\n"
   ]
  },
  {
   "cell_type": "code",
   "execution_count": 51,
   "id": "8f92242d",
   "metadata": {
    "execution": {
     "iopub.execute_input": "2023-08-18T07:02:04.893665Z",
     "iopub.status.busy": "2023-08-18T07:02:04.892999Z",
     "iopub.status.idle": "2023-08-18T07:02:04.899100Z",
     "shell.execute_reply": "2023-08-18T07:02:04.898003Z"
    },
    "origin_pos": 29,
    "tab": [
     "pytorch"
    ],
    "ExecuteTime": {
     "end_time": "2023-11-11T07:56:41.998234Z",
     "start_time": "2023-11-11T07:56:41.958049Z"
    }
   },
   "outputs": [],
   "source": [
    "def sgd(params, lr, batch_size):  #@save\n",
    "    \"\"\"小批量随机梯度下降\"\"\"\n",
    "    with torch.no_grad():\n",
    "        for param in params:\n",
    "            param -= lr * param.grad / batch_size\n",
    "            param.grad.zero_()"
   ]
  },
  {
   "cell_type": "markdown",
   "id": "89067f86",
   "metadata": {
    "origin_pos": 32
   },
   "source": [
    "## 训练\n",
    "\n",
    "现在我们已经准备好了模型训练所有需要的要素，可以实现主要的[**训练过程**]部分了。\n",
    "理解这段代码至关重要，因为从事深度学习后，\n",
    "相同的训练过程几乎一遍又一遍地出现。\n",
    "在每次迭代中，我们读取一小批量训练样本，并通过我们的模型来获得一组预测。\n",
    "计算完损失后，我们开始反向传播，存储每个参数的梯度。\n",
    "最后，我们调用优化算法`sgd`来更新模型参数。\n",
    "\n",
    "概括一下，我们将执行以下循环：\n",
    "\n",
    "* 初始化参数\n",
    "* 重复以下训练，直到完成\n",
    "    * 计算梯度$\\mathbf{g} \\leftarrow \\partial_{(\\mathbf{w},b)} \\frac{1}{|\\mathcal{B}|} \\sum_{i \\in \\mathcal{B}} l(\\mathbf{x}^{(i)}, y^{(i)}, \\mathbf{w}, b)$\n",
    "    * 更新参数$(\\mathbf{w}, b) \\leftarrow (\\mathbf{w}, b) - \\eta \\mathbf{g}$\n",
    "\n",
    "在每个*迭代周期*（epoch）中，我们使用`data_iter`函数遍历整个数据集，\n",
    "并将训练数据集中所有样本都使用一次（假设样本数能够被批量大小整除）。\n",
    "这里的迭代周期个数`num_epochs`和学习率`lr`都是超参数，分别设为3和0.03。\n",
    "设置超参数很棘手，需要通过反复试验进行调整。\n",
    "我们现在忽略这些细节，以后会在 :numref:`chap_optimization`中详细介绍。\n"
   ]
  },
  {
   "cell_type": "code",
   "execution_count": 52,
   "id": "9163db58",
   "metadata": {
    "execution": {
     "iopub.execute_input": "2023-08-18T07:02:04.903791Z",
     "iopub.status.busy": "2023-08-18T07:02:04.903216Z",
     "iopub.status.idle": "2023-08-18T07:02:04.908499Z",
     "shell.execute_reply": "2023-08-18T07:02:04.907341Z"
    },
    "origin_pos": 33,
    "tab": [
     "pytorch"
    ],
    "ExecuteTime": {
     "end_time": "2023-11-11T07:56:41.999236500Z",
     "start_time": "2023-11-11T07:56:41.973564200Z"
    }
   },
   "outputs": [],
   "source": [
    "lr = 0.03\n",
    "num_epochs = 3\n",
    "net = linreg\n",
    "loss = squared_loss"
   ]
  },
  {
   "cell_type": "code",
   "execution_count": 53,
   "id": "ad5c2cd1",
   "metadata": {
    "execution": {
     "iopub.execute_input": "2023-08-18T07:02:04.913061Z",
     "iopub.status.busy": "2023-08-18T07:02:04.912436Z",
     "iopub.status.idle": "2023-08-18T07:02:05.067276Z",
     "shell.execute_reply": "2023-08-18T07:02:05.066107Z"
    },
    "origin_pos": 35,
    "tab": [
     "pytorch"
    ],
    "ExecuteTime": {
     "end_time": "2023-11-11T07:56:42.060495900Z",
     "start_time": "2023-11-11T07:56:41.989716300Z"
    }
   },
   "outputs": [
    {
     "name": "stdout",
     "output_type": "stream",
     "text": [
      "epoch 1, loss 0.035624\n",
      "epoch 2, loss 0.000130\n",
      "epoch 3, loss 0.000050\n"
     ]
    }
   ],
   "source": [
    "for epoch in range(num_epochs):\n",
    "    for X, y in data_iter(batch_size, features, labels):\n",
    "        l = loss(net(X, w, b), y)  # X和y的小批量损失\n",
    "        # 因为l形状是(batch_size,1)，而不是一个标量。l中的所有元素被加到一起，\n",
    "        # 并以此计算关于[w,b]的梯度\n",
    "        l.sum().backward()\n",
    "        sgd([w, b], lr, batch_size)  # 使用参数的梯度更新参数\n",
    "    with torch.no_grad():\n",
    "        train_l = loss(net(features, w, b), labels)\n",
    "        print(f'epoch {epoch + 1}, loss {float(train_l.mean()):f}')"
   ]
  },
  {
   "cell_type": "markdown",
   "id": "427d8cda",
   "metadata": {
    "origin_pos": 38
   },
   "source": [
    "因为我们使用的是自己合成的数据集，所以我们知道真正的参数是什么。\n",
    "因此，我们可以通过[**比较真实参数和通过训练学到的参数来评估训练的成功程度**]。\n",
    "事实上，真实参数和通过训练学到的参数确实非常接近。\n"
   ]
  },
  {
   "cell_type": "code",
   "execution_count": 54,
   "id": "a4c3d525",
   "metadata": {
    "execution": {
     "iopub.execute_input": "2023-08-18T07:02:05.072546Z",
     "iopub.status.busy": "2023-08-18T07:02:05.071769Z",
     "iopub.status.idle": "2023-08-18T07:02:05.079203Z",
     "shell.execute_reply": "2023-08-18T07:02:05.078107Z"
    },
    "origin_pos": 39,
    "tab": [
     "pytorch"
    ],
    "ExecuteTime": {
     "end_time": "2023-11-11T07:56:42.061495600Z",
     "start_time": "2023-11-11T07:56:42.035962300Z"
    }
   },
   "outputs": [
    {
     "name": "stdout",
     "output_type": "stream",
     "text": [
      "w的估计误差: tensor([ 0.0007, -0.0002], grad_fn=<SubBackward0>)\n",
      "b的估计误差: tensor([0.0006], grad_fn=<RsubBackward1>)\n"
     ]
    }
   ],
   "source": [
    "print(f'w的估计误差: {true_w - w.reshape(true_w.shape)}')\n",
    "print(f'b的估计误差: {true_b - b}')"
   ]
  },
  {
   "cell_type": "markdown",
   "id": "9f3d71ee",
   "metadata": {
    "origin_pos": 40
   },
   "source": [
    "注意，我们不应该想当然地认为我们能够完美地求解参数。\n",
    "在机器学习中，我们通常不太关心恢复真正的参数，而更关心如何高度准确预测参数。\n",
    "幸运的是，即使是在复杂的优化问题上，随机梯度下降通常也能找到非常好的解。\n",
    "其中一个原因是，在深度网络中存在许多参数组合能够实现高度精确的预测。\n",
    "\n",
    "## 小结\n",
    "\n",
    "* 我们学习了深度网络是如何实现和优化的。在这一过程中只使用张量和自动微分，不需要定义层或复杂的优化器。\n",
    "* 这一节只触及到了表面知识。在下面的部分中，我们将基于刚刚介绍的概念描述其他模型，并学习如何更简洁地实现其他模型。\n",
    "\n",
    "## 练习\n",
    "\n",
    "1. 如果我们将权重初始化为零，会发生什么。算法仍然有效吗？\n",
    "1. 假设试图为电压和电流的关系建立一个模型。自动微分可以用来学习模型的参数吗?\n",
    "1. 能基于[普朗克定律](https://en.wikipedia.org/wiki/Planck%27s_law)使用光谱能量密度来确定物体的温度吗？\n",
    "1. 计算二阶导数时可能会遇到什么问题？这些问题可以如何解决？\n",
    "1. 为什么在`squared_loss`函数中需要使用`reshape`函数？\n",
    "1. 尝试使用不同的学习率，观察损失函数值下降的快慢。\n",
    "1. 如果样本个数不能被批量大小整除，`data_iter`函数的行为会有什么变化？\n"
   ]
  },
  {
   "cell_type": "markdown",
   "id": "193224b1",
   "metadata": {
    "origin_pos": 42,
    "tab": [
     "pytorch"
    ]
   },
   "source": [
    "[Discussions](https://discuss.d2l.ai/t/1778)\n"
   ]
  }
 ],
 "metadata": {
  "language_info": {
   "name": "python"
  },
  "required_libs": [],
  "kernelspec": {
   "name": "python3",
   "language": "python",
   "display_name": "Python 3 (ipykernel)"
  }
 },
 "nbformat": 4,
 "nbformat_minor": 5
}
