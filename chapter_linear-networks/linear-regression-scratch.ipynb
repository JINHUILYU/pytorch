{
 "cells": [
  {
   "cell_type": "markdown",
   "id": "3b3e0a72",
   "metadata": {
    "origin_pos": 0
   },
   "source": [
    "# 线性回归的从零开始实现\n",
    ":label:`sec_linear_scratch`\n",
    "\n",
    "在了解线性回归的关键思想之后，我们可以开始通过代码来动手实现线性回归了。\n",
    "在这一节中，(**我们将从零开始实现整个方法，\n",
    "包括数据流水线、模型、损失函数和小批量随机梯度下降优化器**)。\n",
    "虽然现代的深度学习框架几乎可以自动化地进行所有这些工作，但从零开始实现可以确保我们真正知道自己在做什么。\n",
    "同时，了解更细致的工作原理将方便我们自定义模型、自定义层或自定义损失函数。\n",
    "在这一节中，我们将只使用张量和自动求导。\n",
    "在之后的章节中，我们会充分利用深度学习框架的优势，介绍更简洁的实现方式。\n"
   ]
  },
  {
   "cell_type": "code",
   "execution_count": 1,
   "id": "c6f4cd71",
   "metadata": {
    "execution": {
     "iopub.execute_input": "2023-08-18T07:02:01.462670Z",
     "iopub.status.busy": "2023-08-18T07:02:01.461918Z",
     "iopub.status.idle": "2023-08-18T07:02:04.547486Z",
     "shell.execute_reply": "2023-08-18T07:02:04.546281Z"
    },
    "origin_pos": 2,
    "tab": [
     "pytorch"
    ],
    "ExecuteTime": {
     "end_time": "2024-01-20T12:41:37.090937900Z",
     "start_time": "2024-01-20T12:41:35.278319400Z"
    }
   },
   "outputs": [],
   "source": [
    "%matplotlib inline\n",
    "import random\n",
    "import torch\n",
    "from d2l import torch as d2l"
   ]
  },
  {
   "cell_type": "markdown",
   "id": "18283191",
   "metadata": {
    "origin_pos": 5
   },
   "source": [
    "## 生成数据集\n",
    "\n",
    "为了简单起见，我们将[**根据带有噪声的线性模型构造一个人造数据集。**]\n",
    "我们的任务是使用这个有限样本的数据集来恢复这个模型的参数。\n",
    "我们将使用低维数据，这样可以很容易地将其可视化。\n",
    "在下面的代码中，我们生成一个包含1000个样本的数据集，\n",
    "每个样本包含从标准正态分布中采样的2个特征。\n",
    "我们的合成数据集是一个矩阵$\\mathbf{X}\\in \\mathbb{R}^{1000 \\times 2}$。\n",
    "\n",
    "(**我们使用线性模型参数$\\mathbf{w} = [2, -3.4]^\\top$、$b = 4.2$\n",
    "和噪声项$\\epsilon$生成数据集及其标签：\n",
    "\n",
    "$$\\mathbf{y}= \\mathbf{X} \\mathbf{w} + b + \\mathbf\\epsilon.$$\n",
    "**)\n",
    "\n",
    "$\\epsilon$可以视为模型预测和标签时的潜在观测误差。\n",
    "在这里我们认为标准假设成立，即$\\epsilon$服从均值为0的正态分布。\n",
    "为了简化问题，我们将标准差设为0.01。\n",
    "下面的代码生成合成数据集。\n"
   ]
  },
  {
   "cell_type": "code",
   "execution_count": 2,
   "id": "54efeafe",
   "metadata": {
    "execution": {
     "iopub.execute_input": "2023-08-18T07:02:04.553500Z",
     "iopub.status.busy": "2023-08-18T07:02:04.552544Z",
     "iopub.status.idle": "2023-08-18T07:02:04.560226Z",
     "shell.execute_reply": "2023-08-18T07:02:04.559125Z"
    },
    "origin_pos": 6,
    "tab": [
     "pytorch"
    ],
    "ExecuteTime": {
     "end_time": "2024-01-20T12:42:49.794300900Z",
     "start_time": "2024-01-20T12:42:49.774268700Z"
    }
   },
   "outputs": [],
   "source": [
    "# 构造数据集\n",
    "def synthetic_data(w, b, num_examples):  #@save\n",
    "    \"\"\"生成y=Xw+b+噪声\"\"\"\n",
    "    X = torch.normal(0, 1, (num_examples, len(w))) # X的形状为(num_examples, len(w))\n",
    "    y = torch.matmul(X, w) + b\n",
    "    y += torch.normal(0, 0.01, y.shape) # 噪声项\n",
    "    return X, y.reshape((-1, 1))  # y的形状转换为(num_examples, 1)，new shape等于-1，列数等于1，行数未知，reshape后的shape等于(num_examples, 1)"
   ]
  },
  {
   "cell_type": "code",
   "execution_count": 3,
   "id": "1e60261c",
   "metadata": {
    "execution": {
     "iopub.execute_input": "2023-08-18T07:02:04.564932Z",
     "iopub.status.busy": "2023-08-18T07:02:04.564190Z",
     "iopub.status.idle": "2023-08-18T07:02:04.575309Z",
     "shell.execute_reply": "2023-08-18T07:02:04.574216Z"
    },
    "origin_pos": 8,
    "tab": [
     "pytorch"
    ],
    "ExecuteTime": {
     "end_time": "2024-01-20T12:42:53.363962800Z",
     "start_time": "2024-01-20T12:42:53.344938200Z"
    }
   },
   "outputs": [],
   "source": [
    "true_w = torch.tensor([2, -3.4]) # 真实权重\n",
    "true_b = 4.2 # 真实偏置\n",
    "features, labels = synthetic_data(true_w, true_b, 1000) # 生成1000个样本"
   ]
  },
  {
   "cell_type": "markdown",
   "id": "772256cb",
   "metadata": {
    "origin_pos": 9
   },
   "source": [
    "注意，[**`features`中的每一行都包含一个二维数据样本，\n",
    "`labels`中的每一行都包含一维标签值（一个标量）**]。\n"
   ]
  },
  {
   "cell_type": "code",
   "execution_count": 4,
   "id": "ec13e4f8",
   "metadata": {
    "execution": {
     "iopub.execute_input": "2023-08-18T07:02:04.580067Z",
     "iopub.status.busy": "2023-08-18T07:02:04.579449Z",
     "iopub.status.idle": "2023-08-18T07:02:04.587391Z",
     "shell.execute_reply": "2023-08-18T07:02:04.586306Z"
    },
    "origin_pos": 10,
    "tab": [
     "pytorch"
    ],
    "ExecuteTime": {
     "end_time": "2024-01-20T12:43:45.454537400Z",
     "start_time": "2024-01-20T12:43:45.433014300Z"
    }
   },
   "outputs": [
    {
     "name": "stdout",
     "output_type": "stream",
     "text": [
      "features: tensor([0.8831, 2.3301]) \n",
      "label: tensor([-1.9650])\n"
     ]
    }
   ],
   "source": [
    "print('features:', features[0],'\\nlabel:', labels[0])"
   ]
  },
  {
   "cell_type": "markdown",
   "id": "6b8c624b",
   "metadata": {
    "origin_pos": 11
   },
   "source": [
    "通过生成第二个特征`features[:, 1]`和`labels`的散点图，\n",
    "可以直观观察到两者之间的线性关系。\n"
   ]
  },
  {
   "cell_type": "code",
   "execution_count": 5,
   "id": "53ef493c",
   "metadata": {
    "execution": {
     "iopub.execute_input": "2023-08-18T07:02:04.592131Z",
     "iopub.status.busy": "2023-08-18T07:02:04.591402Z",
     "iopub.status.idle": "2023-08-18T07:02:04.829190Z",
     "shell.execute_reply": "2023-08-18T07:02:04.827927Z"
    },
    "origin_pos": 12,
    "tab": [
     "pytorch"
    ],
    "ExecuteTime": {
     "end_time": "2024-01-20T12:44:09.512763600Z",
     "start_time": "2024-01-20T12:44:09.418407100Z"
    }
   },
   "outputs": [
    {
     "data": {
      "text/plain": "<Figure size 350x250 with 1 Axes>",
      "image/svg+xml": "<?xml version=\"1.0\" encoding=\"utf-8\" standalone=\"no\"?>\n<!DOCTYPE svg PUBLIC \"-//W3C//DTD SVG 1.1//EN\"\n  \"http://www.w3.org/Graphics/SVG/1.1/DTD/svg11.dtd\">\n<svg xmlns:xlink=\"http://www.w3.org/1999/xlink\" width=\"237.804688pt\" height=\"169.678125pt\" viewBox=\"0 0 237.804688 169.678125\" xmlns=\"http://www.w3.org/2000/svg\" version=\"1.1\">\n <metadata>\n  <rdf:RDF xmlns:dc=\"http://purl.org/dc/elements/1.1/\" xmlns:cc=\"http://creativecommons.org/ns#\" xmlns:rdf=\"http://www.w3.org/1999/02/22-rdf-syntax-ns#\">\n   <cc:Work>\n    <dc:type rdf:resource=\"http://purl.org/dc/dcmitype/StillImage\"/>\n    <dc:date>2024-01-20T20:44:09.466152</dc:date>\n    <dc:format>image/svg+xml</dc:format>\n    <dc:creator>\n     <cc:Agent>\n      <dc:title>Matplotlib v3.5.1, https://matplotlib.org/</dc:title>\n     </cc:Agent>\n    </dc:creator>\n   </cc:Work>\n  </rdf:RDF>\n </metadata>\n <defs>\n  <style type=\"text/css\">*{stroke-linejoin: round; stroke-linecap: butt}</style>\n </defs>\n <g id=\"figure_1\">\n  <g id=\"patch_1\">\n   <path d=\"M 0 169.678125 \nL 237.804688 169.678125 \nL 237.804688 0 \nL 0 0 \nz\n\" style=\"fill: #ffffff\"/>\n  </g>\n  <g id=\"axes_1\">\n   <g id=\"patch_2\">\n    <path d=\"M 35.304688 145.8 \nL 230.604688 145.8 \nL 230.604688 7.2 \nL 35.304688 7.2 \nz\n\" style=\"fill: #ffffff\"/>\n   </g>\n   <g id=\"PathCollection_1\">\n    <defs>\n     <path id=\"m49ccbc8cfd\" d=\"M 0 0.5 \nC 0.132602 0.5 0.25979 0.447317 0.353553 0.353553 \nC 0.447317 0.25979 0.5 0.132602 0.5 0 \nC 0.5 -0.132602 0.447317 -0.25979 0.353553 -0.353553 \nC 0.25979 -0.447317 0.132602 -0.5 0 -0.5 \nC -0.132602 -0.5 -0.25979 -0.447317 -0.353553 -0.353553 \nC -0.447317 -0.25979 -0.5 -0.132602 -0.5 0 \nC -0.5 0.132602 -0.447317 0.25979 -0.353553 0.353553 \nC -0.25979 0.447317 -0.132602 0.5 0 0.5 \nz\n\" style=\"stroke: #1f77b4\"/>\n    </defs>\n    <g clip-path=\"url(#pf7352865e9)\">\n     <use xlink:href=\"#m49ccbc8cfd\" x=\"192.532324\" y=\"104.499566\" style=\"fill: #1f77b4; stroke: #1f77b4\"/>\n     <use xlink:href=\"#m49ccbc8cfd\" x=\"144.66675\" y=\"84.324306\" style=\"fill: #1f77b4; stroke: #1f77b4\"/>\n     <use xlink:href=\"#m49ccbc8cfd\" x=\"99.707633\" y=\"66.078812\" style=\"fill: #1f77b4; stroke: #1f77b4\"/>\n     <use xlink:href=\"#m49ccbc8cfd\" x=\"113.832713\" y=\"76.143903\" style=\"fill: #1f77b4; stroke: #1f77b4\"/>\n     <use xlink:href=\"#m49ccbc8cfd\" x=\"134.711979\" y=\"68.119693\" style=\"fill: #1f77b4; stroke: #1f77b4\"/>\n     <use xlink:href=\"#m49ccbc8cfd\" x=\"140.413141\" y=\"70.459315\" style=\"fill: #1f77b4; stroke: #1f77b4\"/>\n     <use xlink:href=\"#m49ccbc8cfd\" x=\"156.824498\" y=\"83.588335\" style=\"fill: #1f77b4; stroke: #1f77b4\"/>\n     <use xlink:href=\"#m49ccbc8cfd\" x=\"108.202398\" y=\"63.950877\" style=\"fill: #1f77b4; stroke: #1f77b4\"/>\n     <use xlink:href=\"#m49ccbc8cfd\" x=\"145.12698\" y=\"68.890001\" style=\"fill: #1f77b4; stroke: #1f77b4\"/>\n     <use xlink:href=\"#m49ccbc8cfd\" x=\"110.551414\" y=\"44.749009\" style=\"fill: #1f77b4; stroke: #1f77b4\"/>\n     <use xlink:href=\"#m49ccbc8cfd\" x=\"134.699415\" y=\"85.589478\" style=\"fill: #1f77b4; stroke: #1f77b4\"/>\n     <use xlink:href=\"#m49ccbc8cfd\" x=\"129.077948\" y=\"68.919561\" style=\"fill: #1f77b4; stroke: #1f77b4\"/>\n     <use xlink:href=\"#m49ccbc8cfd\" x=\"148.653484\" y=\"96.229133\" style=\"fill: #1f77b4; stroke: #1f77b4\"/>\n     <use xlink:href=\"#m49ccbc8cfd\" x=\"108.372608\" y=\"47.253561\" style=\"fill: #1f77b4; stroke: #1f77b4\"/>\n     <use xlink:href=\"#m49ccbc8cfd\" x=\"121.222319\" y=\"75.301254\" style=\"fill: #1f77b4; stroke: #1f77b4\"/>\n     <use xlink:href=\"#m49ccbc8cfd\" x=\"125.035567\" y=\"75.267145\" style=\"fill: #1f77b4; stroke: #1f77b4\"/>\n     <use xlink:href=\"#m49ccbc8cfd\" x=\"95.413356\" y=\"61.220684\" style=\"fill: #1f77b4; stroke: #1f77b4\"/>\n     <use xlink:href=\"#m49ccbc8cfd\" x=\"177.53905\" y=\"102.109562\" style=\"fill: #1f77b4; stroke: #1f77b4\"/>\n     <use xlink:href=\"#m49ccbc8cfd\" x=\"72.511113\" y=\"49.588666\" style=\"fill: #1f77b4; stroke: #1f77b4\"/>\n     <use xlink:href=\"#m49ccbc8cfd\" x=\"147.374783\" y=\"74.209342\" style=\"fill: #1f77b4; stroke: #1f77b4\"/>\n     <use xlink:href=\"#m49ccbc8cfd\" x=\"164.044045\" y=\"101.395984\" style=\"fill: #1f77b4; stroke: #1f77b4\"/>\n     <use xlink:href=\"#m49ccbc8cfd\" x=\"150.656525\" y=\"95.64862\" style=\"fill: #1f77b4; stroke: #1f77b4\"/>\n     <use xlink:href=\"#m49ccbc8cfd\" x=\"155.702443\" y=\"112.05135\" style=\"fill: #1f77b4; stroke: #1f77b4\"/>\n     <use xlink:href=\"#m49ccbc8cfd\" x=\"156.700466\" y=\"74.238797\" style=\"fill: #1f77b4; stroke: #1f77b4\"/>\n     <use xlink:href=\"#m49ccbc8cfd\" x=\"107.21628\" y=\"65.487841\" style=\"fill: #1f77b4; stroke: #1f77b4\"/>\n     <use xlink:href=\"#m49ccbc8cfd\" x=\"132.012934\" y=\"62.445219\" style=\"fill: #1f77b4; stroke: #1f77b4\"/>\n     <use xlink:href=\"#m49ccbc8cfd\" x=\"122.60669\" y=\"63.873555\" style=\"fill: #1f77b4; stroke: #1f77b4\"/>\n     <use xlink:href=\"#m49ccbc8cfd\" x=\"139.031976\" y=\"82.894574\" style=\"fill: #1f77b4; stroke: #1f77b4\"/>\n     <use xlink:href=\"#m49ccbc8cfd\" x=\"151.542211\" y=\"90.09052\" style=\"fill: #1f77b4; stroke: #1f77b4\"/>\n     <use xlink:href=\"#m49ccbc8cfd\" x=\"118.516305\" y=\"50.069387\" style=\"fill: #1f77b4; stroke: #1f77b4\"/>\n     <use xlink:href=\"#m49ccbc8cfd\" x=\"140.713857\" y=\"75.66648\" style=\"fill: #1f77b4; stroke: #1f77b4\"/>\n     <use xlink:href=\"#m49ccbc8cfd\" x=\"135.964812\" y=\"77.960869\" style=\"fill: #1f77b4; stroke: #1f77b4\"/>\n     <use xlink:href=\"#m49ccbc8cfd\" x=\"150.445088\" y=\"69.189655\" style=\"fill: #1f77b4; stroke: #1f77b4\"/>\n     <use xlink:href=\"#m49ccbc8cfd\" x=\"157.305936\" y=\"87.013255\" style=\"fill: #1f77b4; stroke: #1f77b4\"/>\n     <use xlink:href=\"#m49ccbc8cfd\" x=\"117.430041\" y=\"63.389768\" style=\"fill: #1f77b4; stroke: #1f77b4\"/>\n     <use xlink:href=\"#m49ccbc8cfd\" x=\"124.793229\" y=\"97.914955\" style=\"fill: #1f77b4; stroke: #1f77b4\"/>\n     <use xlink:href=\"#m49ccbc8cfd\" x=\"144.406397\" y=\"84.23154\" style=\"fill: #1f77b4; stroke: #1f77b4\"/>\n     <use xlink:href=\"#m49ccbc8cfd\" x=\"107.416053\" y=\"71.160568\" style=\"fill: #1f77b4; stroke: #1f77b4\"/>\n     <use xlink:href=\"#m49ccbc8cfd\" x=\"99.736813\" y=\"64.723645\" style=\"fill: #1f77b4; stroke: #1f77b4\"/>\n     <use xlink:href=\"#m49ccbc8cfd\" x=\"100.892726\" y=\"60.415188\" style=\"fill: #1f77b4; stroke: #1f77b4\"/>\n     <use xlink:href=\"#m49ccbc8cfd\" x=\"159.177874\" y=\"99.832523\" style=\"fill: #1f77b4; stroke: #1f77b4\"/>\n     <use xlink:href=\"#m49ccbc8cfd\" x=\"153.555495\" y=\"82.223151\" style=\"fill: #1f77b4; stroke: #1f77b4\"/>\n     <use xlink:href=\"#m49ccbc8cfd\" x=\"134.76798\" y=\"83.361742\" style=\"fill: #1f77b4; stroke: #1f77b4\"/>\n     <use xlink:href=\"#m49ccbc8cfd\" x=\"125.171365\" y=\"72.608649\" style=\"fill: #1f77b4; stroke: #1f77b4\"/>\n     <use xlink:href=\"#m49ccbc8cfd\" x=\"105.885689\" y=\"79.719426\" style=\"fill: #1f77b4; stroke: #1f77b4\"/>\n     <use xlink:href=\"#m49ccbc8cfd\" x=\"152.770896\" y=\"82.34207\" style=\"fill: #1f77b4; stroke: #1f77b4\"/>\n     <use xlink:href=\"#m49ccbc8cfd\" x=\"104.812187\" y=\"71.432603\" style=\"fill: #1f77b4; stroke: #1f77b4\"/>\n     <use xlink:href=\"#m49ccbc8cfd\" x=\"114.028861\" y=\"67.614944\" style=\"fill: #1f77b4; stroke: #1f77b4\"/>\n     <use xlink:href=\"#m49ccbc8cfd\" x=\"100.345123\" y=\"57.516746\" style=\"fill: #1f77b4; stroke: #1f77b4\"/>\n     <use xlink:href=\"#m49ccbc8cfd\" x=\"135.183976\" y=\"82.706488\" style=\"fill: #1f77b4; stroke: #1f77b4\"/>\n     <use xlink:href=\"#m49ccbc8cfd\" x=\"86.847318\" y=\"62.829677\" style=\"fill: #1f77b4; stroke: #1f77b4\"/>\n     <use xlink:href=\"#m49ccbc8cfd\" x=\"152.440953\" y=\"89.76507\" style=\"fill: #1f77b4; stroke: #1f77b4\"/>\n     <use xlink:href=\"#m49ccbc8cfd\" x=\"179.439629\" y=\"97.458865\" style=\"fill: #1f77b4; stroke: #1f77b4\"/>\n     <use xlink:href=\"#m49ccbc8cfd\" x=\"136.49159\" y=\"79.994937\" style=\"fill: #1f77b4; stroke: #1f77b4\"/>\n     <use xlink:href=\"#m49ccbc8cfd\" x=\"146.453266\" y=\"89.964376\" style=\"fill: #1f77b4; stroke: #1f77b4\"/>\n     <use xlink:href=\"#m49ccbc8cfd\" x=\"92.534633\" y=\"44.502738\" style=\"fill: #1f77b4; stroke: #1f77b4\"/>\n     <use xlink:href=\"#m49ccbc8cfd\" x=\"137.288032\" y=\"74.813724\" style=\"fill: #1f77b4; stroke: #1f77b4\"/>\n     <use xlink:href=\"#m49ccbc8cfd\" x=\"116.427982\" y=\"72.11978\" style=\"fill: #1f77b4; stroke: #1f77b4\"/>\n     <use xlink:href=\"#m49ccbc8cfd\" x=\"116.468229\" y=\"74.866503\" style=\"fill: #1f77b4; stroke: #1f77b4\"/>\n     <use xlink:href=\"#m49ccbc8cfd\" x=\"68.635677\" y=\"41.180756\" style=\"fill: #1f77b4; stroke: #1f77b4\"/>\n     <use xlink:href=\"#m49ccbc8cfd\" x=\"151.555386\" y=\"96.663088\" style=\"fill: #1f77b4; stroke: #1f77b4\"/>\n     <use xlink:href=\"#m49ccbc8cfd\" x=\"103.128828\" y=\"57.998158\" style=\"fill: #1f77b4; stroke: #1f77b4\"/>\n     <use xlink:href=\"#m49ccbc8cfd\" x=\"146.801622\" y=\"87.929886\" style=\"fill: #1f77b4; stroke: #1f77b4\"/>\n     <use xlink:href=\"#m49ccbc8cfd\" x=\"114.068581\" y=\"58.13918\" style=\"fill: #1f77b4; stroke: #1f77b4\"/>\n     <use xlink:href=\"#m49ccbc8cfd\" x=\"95.918216\" y=\"67.699216\" style=\"fill: #1f77b4; stroke: #1f77b4\"/>\n     <use xlink:href=\"#m49ccbc8cfd\" x=\"138.454448\" y=\"77.364497\" style=\"fill: #1f77b4; stroke: #1f77b4\"/>\n     <use xlink:href=\"#m49ccbc8cfd\" x=\"161.208983\" y=\"105.055355\" style=\"fill: #1f77b4; stroke: #1f77b4\"/>\n     <use xlink:href=\"#m49ccbc8cfd\" x=\"159.347176\" y=\"95.993821\" style=\"fill: #1f77b4; stroke: #1f77b4\"/>\n     <use xlink:href=\"#m49ccbc8cfd\" x=\"83.856266\" y=\"34.962765\" style=\"fill: #1f77b4; stroke: #1f77b4\"/>\n     <use xlink:href=\"#m49ccbc8cfd\" x=\"110.691056\" y=\"72.49071\" style=\"fill: #1f77b4; stroke: #1f77b4\"/>\n     <use xlink:href=\"#m49ccbc8cfd\" x=\"141.791584\" y=\"78.023697\" style=\"fill: #1f77b4; stroke: #1f77b4\"/>\n     <use xlink:href=\"#m49ccbc8cfd\" x=\"175.429195\" y=\"93.498218\" style=\"fill: #1f77b4; stroke: #1f77b4\"/>\n     <use xlink:href=\"#m49ccbc8cfd\" x=\"160.243117\" y=\"92.423246\" style=\"fill: #1f77b4; stroke: #1f77b4\"/>\n     <use xlink:href=\"#m49ccbc8cfd\" x=\"129.207467\" y=\"77.211361\" style=\"fill: #1f77b4; stroke: #1f77b4\"/>\n     <use xlink:href=\"#m49ccbc8cfd\" x=\"114.28237\" y=\"66.957908\" style=\"fill: #1f77b4; stroke: #1f77b4\"/>\n     <use xlink:href=\"#m49ccbc8cfd\" x=\"109.176568\" y=\"45.601217\" style=\"fill: #1f77b4; stroke: #1f77b4\"/>\n     <use xlink:href=\"#m49ccbc8cfd\" x=\"111.9457\" y=\"69.130362\" style=\"fill: #1f77b4; stroke: #1f77b4\"/>\n     <use xlink:href=\"#m49ccbc8cfd\" x=\"125.374297\" y=\"57.6835\" style=\"fill: #1f77b4; stroke: #1f77b4\"/>\n     <use xlink:href=\"#m49ccbc8cfd\" x=\"66.986295\" y=\"29.474014\" style=\"fill: #1f77b4; stroke: #1f77b4\"/>\n     <use xlink:href=\"#m49ccbc8cfd\" x=\"146.464809\" y=\"83.209678\" style=\"fill: #1f77b4; stroke: #1f77b4\"/>\n     <use xlink:href=\"#m49ccbc8cfd\" x=\"181.253341\" y=\"103.264689\" style=\"fill: #1f77b4; stroke: #1f77b4\"/>\n     <use xlink:href=\"#m49ccbc8cfd\" x=\"163.678926\" y=\"82.686497\" style=\"fill: #1f77b4; stroke: #1f77b4\"/>\n     <use xlink:href=\"#m49ccbc8cfd\" x=\"106.233341\" y=\"69.573914\" style=\"fill: #1f77b4; stroke: #1f77b4\"/>\n     <use xlink:href=\"#m49ccbc8cfd\" x=\"137.223279\" y=\"80.28012\" style=\"fill: #1f77b4; stroke: #1f77b4\"/>\n     <use xlink:href=\"#m49ccbc8cfd\" x=\"101.006646\" y=\"35.344769\" style=\"fill: #1f77b4; stroke: #1f77b4\"/>\n     <use xlink:href=\"#m49ccbc8cfd\" x=\"124.296243\" y=\"66.424585\" style=\"fill: #1f77b4; stroke: #1f77b4\"/>\n     <use xlink:href=\"#m49ccbc8cfd\" x=\"162.738601\" y=\"96.984174\" style=\"fill: #1f77b4; stroke: #1f77b4\"/>\n     <use xlink:href=\"#m49ccbc8cfd\" x=\"145.550121\" y=\"90.382353\" style=\"fill: #1f77b4; stroke: #1f77b4\"/>\n     <use xlink:href=\"#m49ccbc8cfd\" x=\"135.052511\" y=\"75.344013\" style=\"fill: #1f77b4; stroke: #1f77b4\"/>\n     <use xlink:href=\"#m49ccbc8cfd\" x=\"159.054735\" y=\"97.860304\" style=\"fill: #1f77b4; stroke: #1f77b4\"/>\n     <use xlink:href=\"#m49ccbc8cfd\" x=\"116.604424\" y=\"54.060862\" style=\"fill: #1f77b4; stroke: #1f77b4\"/>\n     <use xlink:href=\"#m49ccbc8cfd\" x=\"147.526164\" y=\"84.812636\" style=\"fill: #1f77b4; stroke: #1f77b4\"/>\n     <use xlink:href=\"#m49ccbc8cfd\" x=\"109.858348\" y=\"58.013322\" style=\"fill: #1f77b4; stroke: #1f77b4\"/>\n     <use xlink:href=\"#m49ccbc8cfd\" x=\"126.857984\" y=\"68.74279\" style=\"fill: #1f77b4; stroke: #1f77b4\"/>\n     <use xlink:href=\"#m49ccbc8cfd\" x=\"108.711717\" y=\"72.445961\" style=\"fill: #1f77b4; stroke: #1f77b4\"/>\n     <use xlink:href=\"#m49ccbc8cfd\" x=\"162.11576\" y=\"74.237811\" style=\"fill: #1f77b4; stroke: #1f77b4\"/>\n     <use xlink:href=\"#m49ccbc8cfd\" x=\"73.838743\" y=\"45.464401\" style=\"fill: #1f77b4; stroke: #1f77b4\"/>\n     <use xlink:href=\"#m49ccbc8cfd\" x=\"152.957458\" y=\"102.331766\" style=\"fill: #1f77b4; stroke: #1f77b4\"/>\n     <use xlink:href=\"#m49ccbc8cfd\" x=\"126.139449\" y=\"81.990637\" style=\"fill: #1f77b4; stroke: #1f77b4\"/>\n     <use xlink:href=\"#m49ccbc8cfd\" x=\"115.373478\" y=\"63.589009\" style=\"fill: #1f77b4; stroke: #1f77b4\"/>\n     <use xlink:href=\"#m49ccbc8cfd\" x=\"156.22219\" y=\"87.556398\" style=\"fill: #1f77b4; stroke: #1f77b4\"/>\n     <use xlink:href=\"#m49ccbc8cfd\" x=\"127.455413\" y=\"65.843984\" style=\"fill: #1f77b4; stroke: #1f77b4\"/>\n     <use xlink:href=\"#m49ccbc8cfd\" x=\"130.271871\" y=\"61.585755\" style=\"fill: #1f77b4; stroke: #1f77b4\"/>\n     <use xlink:href=\"#m49ccbc8cfd\" x=\"144.451557\" y=\"83.202233\" style=\"fill: #1f77b4; stroke: #1f77b4\"/>\n     <use xlink:href=\"#m49ccbc8cfd\" x=\"162.893492\" y=\"104.523333\" style=\"fill: #1f77b4; stroke: #1f77b4\"/>\n     <use xlink:href=\"#m49ccbc8cfd\" x=\"119.346255\" y=\"54.850393\" style=\"fill: #1f77b4; stroke: #1f77b4\"/>\n     <use xlink:href=\"#m49ccbc8cfd\" x=\"130.356602\" y=\"78.310622\" style=\"fill: #1f77b4; stroke: #1f77b4\"/>\n     <use xlink:href=\"#m49ccbc8cfd\" x=\"100.505436\" y=\"45.788137\" style=\"fill: #1f77b4; stroke: #1f77b4\"/>\n     <use xlink:href=\"#m49ccbc8cfd\" x=\"118.829121\" y=\"66.317684\" style=\"fill: #1f77b4; stroke: #1f77b4\"/>\n     <use xlink:href=\"#m49ccbc8cfd\" x=\"179.705503\" y=\"116.349096\" style=\"fill: #1f77b4; stroke: #1f77b4\"/>\n     <use xlink:href=\"#m49ccbc8cfd\" x=\"88.195058\" y=\"52.883817\" style=\"fill: #1f77b4; stroke: #1f77b4\"/>\n     <use xlink:href=\"#m49ccbc8cfd\" x=\"166.792504\" y=\"111.690198\" style=\"fill: #1f77b4; stroke: #1f77b4\"/>\n     <use xlink:href=\"#m49ccbc8cfd\" x=\"125.15056\" y=\"63.224739\" style=\"fill: #1f77b4; stroke: #1f77b4\"/>\n     <use xlink:href=\"#m49ccbc8cfd\" x=\"206.016601\" y=\"118.931085\" style=\"fill: #1f77b4; stroke: #1f77b4\"/>\n     <use xlink:href=\"#m49ccbc8cfd\" x=\"113.539022\" y=\"55.567775\" style=\"fill: #1f77b4; stroke: #1f77b4\"/>\n     <use xlink:href=\"#m49ccbc8cfd\" x=\"131.03923\" y=\"69.242848\" style=\"fill: #1f77b4; stroke: #1f77b4\"/>\n     <use xlink:href=\"#m49ccbc8cfd\" x=\"157.851136\" y=\"95.175026\" style=\"fill: #1f77b4; stroke: #1f77b4\"/>\n     <use xlink:href=\"#m49ccbc8cfd\" x=\"113.875582\" y=\"73.609362\" style=\"fill: #1f77b4; stroke: #1f77b4\"/>\n     <use xlink:href=\"#m49ccbc8cfd\" x=\"157.24461\" y=\"91.788657\" style=\"fill: #1f77b4; stroke: #1f77b4\"/>\n     <use xlink:href=\"#m49ccbc8cfd\" x=\"145.235542\" y=\"91.265507\" style=\"fill: #1f77b4; stroke: #1f77b4\"/>\n     <use xlink:href=\"#m49ccbc8cfd\" x=\"116.121916\" y=\"46.133075\" style=\"fill: #1f77b4; stroke: #1f77b4\"/>\n     <use xlink:href=\"#m49ccbc8cfd\" x=\"147.271672\" y=\"90.016074\" style=\"fill: #1f77b4; stroke: #1f77b4\"/>\n     <use xlink:href=\"#m49ccbc8cfd\" x=\"162.942845\" y=\"90.267386\" style=\"fill: #1f77b4; stroke: #1f77b4\"/>\n     <use xlink:href=\"#m49ccbc8cfd\" x=\"117.867743\" y=\"64.090781\" style=\"fill: #1f77b4; stroke: #1f77b4\"/>\n     <use xlink:href=\"#m49ccbc8cfd\" x=\"97.536815\" y=\"70.11239\" style=\"fill: #1f77b4; stroke: #1f77b4\"/>\n     <use xlink:href=\"#m49ccbc8cfd\" x=\"119.583425\" y=\"75.95556\" style=\"fill: #1f77b4; stroke: #1f77b4\"/>\n     <use xlink:href=\"#m49ccbc8cfd\" x=\"98.9286\" y=\"53.737112\" style=\"fill: #1f77b4; stroke: #1f77b4\"/>\n     <use xlink:href=\"#m49ccbc8cfd\" x=\"136.561595\" y=\"77.137\" style=\"fill: #1f77b4; stroke: #1f77b4\"/>\n     <use xlink:href=\"#m49ccbc8cfd\" x=\"142.411792\" y=\"70.92829\" style=\"fill: #1f77b4; stroke: #1f77b4\"/>\n     <use xlink:href=\"#m49ccbc8cfd\" x=\"126.654119\" y=\"70.565706\" style=\"fill: #1f77b4; stroke: #1f77b4\"/>\n     <use xlink:href=\"#m49ccbc8cfd\" x=\"127.417481\" y=\"80.665984\" style=\"fill: #1f77b4; stroke: #1f77b4\"/>\n     <use xlink:href=\"#m49ccbc8cfd\" x=\"143.186394\" y=\"100.114835\" style=\"fill: #1f77b4; stroke: #1f77b4\"/>\n     <use xlink:href=\"#m49ccbc8cfd\" x=\"187.470722\" y=\"86.887537\" style=\"fill: #1f77b4; stroke: #1f77b4\"/>\n     <use xlink:href=\"#m49ccbc8cfd\" x=\"141.447989\" y=\"85.126959\" style=\"fill: #1f77b4; stroke: #1f77b4\"/>\n     <use xlink:href=\"#m49ccbc8cfd\" x=\"150.571279\" y=\"106.195304\" style=\"fill: #1f77b4; stroke: #1f77b4\"/>\n     <use xlink:href=\"#m49ccbc8cfd\" x=\"84.047099\" y=\"39.433616\" style=\"fill: #1f77b4; stroke: #1f77b4\"/>\n     <use xlink:href=\"#m49ccbc8cfd\" x=\"162.975003\" y=\"119.883076\" style=\"fill: #1f77b4; stroke: #1f77b4\"/>\n     <use xlink:href=\"#m49ccbc8cfd\" x=\"101.872505\" y=\"72.685287\" style=\"fill: #1f77b4; stroke: #1f77b4\"/>\n     <use xlink:href=\"#m49ccbc8cfd\" x=\"151.658951\" y=\"93.500775\" style=\"fill: #1f77b4; stroke: #1f77b4\"/>\n     <use xlink:href=\"#m49ccbc8cfd\" x=\"171.443557\" y=\"94.255414\" style=\"fill: #1f77b4; stroke: #1f77b4\"/>\n     <use xlink:href=\"#m49ccbc8cfd\" x=\"117.976459\" y=\"83.271905\" style=\"fill: #1f77b4; stroke: #1f77b4\"/>\n     <use xlink:href=\"#m49ccbc8cfd\" x=\"114.015247\" y=\"64.528628\" style=\"fill: #1f77b4; stroke: #1f77b4\"/>\n     <use xlink:href=\"#m49ccbc8cfd\" x=\"112.61239\" y=\"59.724378\" style=\"fill: #1f77b4; stroke: #1f77b4\"/>\n     <use xlink:href=\"#m49ccbc8cfd\" x=\"110.793937\" y=\"61.537063\" style=\"fill: #1f77b4; stroke: #1f77b4\"/>\n     <use xlink:href=\"#m49ccbc8cfd\" x=\"132.751847\" y=\"80.117277\" style=\"fill: #1f77b4; stroke: #1f77b4\"/>\n     <use xlink:href=\"#m49ccbc8cfd\" x=\"148.934637\" y=\"93.537991\" style=\"fill: #1f77b4; stroke: #1f77b4\"/>\n     <use xlink:href=\"#m49ccbc8cfd\" x=\"146.349372\" y=\"88.722982\" style=\"fill: #1f77b4; stroke: #1f77b4\"/>\n     <use xlink:href=\"#m49ccbc8cfd\" x=\"169.478161\" y=\"83.320787\" style=\"fill: #1f77b4; stroke: #1f77b4\"/>\n     <use xlink:href=\"#m49ccbc8cfd\" x=\"141.354854\" y=\"68.968107\" style=\"fill: #1f77b4; stroke: #1f77b4\"/>\n     <use xlink:href=\"#m49ccbc8cfd\" x=\"152.113476\" y=\"84.566754\" style=\"fill: #1f77b4; stroke: #1f77b4\"/>\n     <use xlink:href=\"#m49ccbc8cfd\" x=\"154.938495\" y=\"73.397316\" style=\"fill: #1f77b4; stroke: #1f77b4\"/>\n     <use xlink:href=\"#m49ccbc8cfd\" x=\"110.61184\" y=\"45.660586\" style=\"fill: #1f77b4; stroke: #1f77b4\"/>\n     <use xlink:href=\"#m49ccbc8cfd\" x=\"111.430912\" y=\"72.968492\" style=\"fill: #1f77b4; stroke: #1f77b4\"/>\n     <use xlink:href=\"#m49ccbc8cfd\" x=\"80.962676\" y=\"45.313465\" style=\"fill: #1f77b4; stroke: #1f77b4\"/>\n     <use xlink:href=\"#m49ccbc8cfd\" x=\"175.015129\" y=\"95.825968\" style=\"fill: #1f77b4; stroke: #1f77b4\"/>\n     <use xlink:href=\"#m49ccbc8cfd\" x=\"154.6785\" y=\"92.621847\" style=\"fill: #1f77b4; stroke: #1f77b4\"/>\n     <use xlink:href=\"#m49ccbc8cfd\" x=\"105.748258\" y=\"69.185384\" style=\"fill: #1f77b4; stroke: #1f77b4\"/>\n     <use xlink:href=\"#m49ccbc8cfd\" x=\"149.790472\" y=\"85.46634\" style=\"fill: #1f77b4; stroke: #1f77b4\"/>\n     <use xlink:href=\"#m49ccbc8cfd\" x=\"180.745826\" y=\"99.761469\" style=\"fill: #1f77b4; stroke: #1f77b4\"/>\n     <use xlink:href=\"#m49ccbc8cfd\" x=\"137.775118\" y=\"75.756342\" style=\"fill: #1f77b4; stroke: #1f77b4\"/>\n     <use xlink:href=\"#m49ccbc8cfd\" x=\"144.053567\" y=\"95.183618\" style=\"fill: #1f77b4; stroke: #1f77b4\"/>\n     <use xlink:href=\"#m49ccbc8cfd\" x=\"154.794136\" y=\"92.135358\" style=\"fill: #1f77b4; stroke: #1f77b4\"/>\n     <use xlink:href=\"#m49ccbc8cfd\" x=\"171.470036\" y=\"93.430355\" style=\"fill: #1f77b4; stroke: #1f77b4\"/>\n     <use xlink:href=\"#m49ccbc8cfd\" x=\"108.881452\" y=\"44.26387\" style=\"fill: #1f77b4; stroke: #1f77b4\"/>\n     <use xlink:href=\"#m49ccbc8cfd\" x=\"127.129255\" y=\"95.530319\" style=\"fill: #1f77b4; stroke: #1f77b4\"/>\n     <use xlink:href=\"#m49ccbc8cfd\" x=\"128.204106\" y=\"65.046007\" style=\"fill: #1f77b4; stroke: #1f77b4\"/>\n     <use xlink:href=\"#m49ccbc8cfd\" x=\"121.16369\" y=\"76.380553\" style=\"fill: #1f77b4; stroke: #1f77b4\"/>\n     <use xlink:href=\"#m49ccbc8cfd\" x=\"124.360807\" y=\"58.259335\" style=\"fill: #1f77b4; stroke: #1f77b4\"/>\n     <use xlink:href=\"#m49ccbc8cfd\" x=\"117.454752\" y=\"57.333974\" style=\"fill: #1f77b4; stroke: #1f77b4\"/>\n     <use xlink:href=\"#m49ccbc8cfd\" x=\"130.325523\" y=\"70.544869\" style=\"fill: #1f77b4; stroke: #1f77b4\"/>\n     <use xlink:href=\"#m49ccbc8cfd\" x=\"180.483625\" y=\"106.3805\" style=\"fill: #1f77b4; stroke: #1f77b4\"/>\n     <use xlink:href=\"#m49ccbc8cfd\" x=\"142.741932\" y=\"73.925479\" style=\"fill: #1f77b4; stroke: #1f77b4\"/>\n     <use xlink:href=\"#m49ccbc8cfd\" x=\"136.936636\" y=\"78.90133\" style=\"fill: #1f77b4; stroke: #1f77b4\"/>\n     <use xlink:href=\"#m49ccbc8cfd\" x=\"133.935441\" y=\"69.239918\" style=\"fill: #1f77b4; stroke: #1f77b4\"/>\n     <use xlink:href=\"#m49ccbc8cfd\" x=\"158.041852\" y=\"88.954213\" style=\"fill: #1f77b4; stroke: #1f77b4\"/>\n     <use xlink:href=\"#m49ccbc8cfd\" x=\"76.957195\" y=\"51.967186\" style=\"fill: #1f77b4; stroke: #1f77b4\"/>\n     <use xlink:href=\"#m49ccbc8cfd\" x=\"144.813223\" y=\"77.703595\" style=\"fill: #1f77b4; stroke: #1f77b4\"/>\n     <use xlink:href=\"#m49ccbc8cfd\" x=\"126.86519\" y=\"66.302419\" style=\"fill: #1f77b4; stroke: #1f77b4\"/>\n     <use xlink:href=\"#m49ccbc8cfd\" x=\"116.945277\" y=\"64.167613\" style=\"fill: #1f77b4; stroke: #1f77b4\"/>\n     <use xlink:href=\"#m49ccbc8cfd\" x=\"122.035612\" y=\"71.289025\" style=\"fill: #1f77b4; stroke: #1f77b4\"/>\n     <use xlink:href=\"#m49ccbc8cfd\" x=\"138.023652\" y=\"78.678549\" style=\"fill: #1f77b4; stroke: #1f77b4\"/>\n     <use xlink:href=\"#m49ccbc8cfd\" x=\"108.208555\" y=\"90.974232\" style=\"fill: #1f77b4; stroke: #1f77b4\"/>\n     <use xlink:href=\"#m49ccbc8cfd\" x=\"156.003151\" y=\"105.995711\" style=\"fill: #1f77b4; stroke: #1f77b4\"/>\n     <use xlink:href=\"#m49ccbc8cfd\" x=\"108.794371\" y=\"52.279286\" style=\"fill: #1f77b4; stroke: #1f77b4\"/>\n     <use xlink:href=\"#m49ccbc8cfd\" x=\"122.824724\" y=\"86.3427\" style=\"fill: #1f77b4; stroke: #1f77b4\"/>\n     <use xlink:href=\"#m49ccbc8cfd\" x=\"121.776464\" y=\"57.655126\" style=\"fill: #1f77b4; stroke: #1f77b4\"/>\n     <use xlink:href=\"#m49ccbc8cfd\" x=\"75.430336\" y=\"48.017809\" style=\"fill: #1f77b4; stroke: #1f77b4\"/>\n     <use xlink:href=\"#m49ccbc8cfd\" x=\"187.950244\" y=\"102.436415\" style=\"fill: #1f77b4; stroke: #1f77b4\"/>\n     <use xlink:href=\"#m49ccbc8cfd\" x=\"100.755471\" y=\"45.230076\" style=\"fill: #1f77b4; stroke: #1f77b4\"/>\n     <use xlink:href=\"#m49ccbc8cfd\" x=\"91.137448\" y=\"53.781371\" style=\"fill: #1f77b4; stroke: #1f77b4\"/>\n     <use xlink:href=\"#m49ccbc8cfd\" x=\"167.213822\" y=\"97.053619\" style=\"fill: #1f77b4; stroke: #1f77b4\"/>\n     <use xlink:href=\"#m49ccbc8cfd\" x=\"130.690458\" y=\"90.96169\" style=\"fill: #1f77b4; stroke: #1f77b4\"/>\n     <use xlink:href=\"#m49ccbc8cfd\" x=\"149.798914\" y=\"81.933713\" style=\"fill: #1f77b4; stroke: #1f77b4\"/>\n     <use xlink:href=\"#m49ccbc8cfd\" x=\"110.210461\" y=\"62.12902\" style=\"fill: #1f77b4; stroke: #1f77b4\"/>\n     <use xlink:href=\"#m49ccbc8cfd\" x=\"130.419997\" y=\"73.040806\" style=\"fill: #1f77b4; stroke: #1f77b4\"/>\n     <use xlink:href=\"#m49ccbc8cfd\" x=\"144.777437\" y=\"75.374442\" style=\"fill: #1f77b4; stroke: #1f77b4\"/>\n     <use xlink:href=\"#m49ccbc8cfd\" x=\"116.09251\" y=\"67.214973\" style=\"fill: #1f77b4; stroke: #1f77b4\"/>\n     <use xlink:href=\"#m49ccbc8cfd\" x=\"82.217088\" y=\"51.535533\" style=\"fill: #1f77b4; stroke: #1f77b4\"/>\n     <use xlink:href=\"#m49ccbc8cfd\" x=\"168.284064\" y=\"101.532104\" style=\"fill: #1f77b4; stroke: #1f77b4\"/>\n     <use xlink:href=\"#m49ccbc8cfd\" x=\"153.934449\" y=\"91.010409\" style=\"fill: #1f77b4; stroke: #1f77b4\"/>\n     <use xlink:href=\"#m49ccbc8cfd\" x=\"148.730781\" y=\"91.708784\" style=\"fill: #1f77b4; stroke: #1f77b4\"/>\n     <use xlink:href=\"#m49ccbc8cfd\" x=\"100.664737\" y=\"28.473722\" style=\"fill: #1f77b4; stroke: #1f77b4\"/>\n     <use xlink:href=\"#m49ccbc8cfd\" x=\"133.349217\" y=\"78.376346\" style=\"fill: #1f77b4; stroke: #1f77b4\"/>\n     <use xlink:href=\"#m49ccbc8cfd\" x=\"180.854406\" y=\"112.919836\" style=\"fill: #1f77b4; stroke: #1f77b4\"/>\n     <use xlink:href=\"#m49ccbc8cfd\" x=\"105.806194\" y=\"73.964462\" style=\"fill: #1f77b4; stroke: #1f77b4\"/>\n     <use xlink:href=\"#m49ccbc8cfd\" x=\"125.857457\" y=\"57.451595\" style=\"fill: #1f77b4; stroke: #1f77b4\"/>\n     <use xlink:href=\"#m49ccbc8cfd\" x=\"175.223593\" y=\"108.651805\" style=\"fill: #1f77b4; stroke: #1f77b4\"/>\n     <use xlink:href=\"#m49ccbc8cfd\" x=\"187.421042\" y=\"123.008817\" style=\"fill: #1f77b4; stroke: #1f77b4\"/>\n     <use xlink:href=\"#m49ccbc8cfd\" x=\"108.443373\" y=\"47.0633\" style=\"fill: #1f77b4; stroke: #1f77b4\"/>\n     <use xlink:href=\"#m49ccbc8cfd\" x=\"116.379242\" y=\"58.376675\" style=\"fill: #1f77b4; stroke: #1f77b4\"/>\n     <use xlink:href=\"#m49ccbc8cfd\" x=\"114.510559\" y=\"71.982559\" style=\"fill: #1f77b4; stroke: #1f77b4\"/>\n     <use xlink:href=\"#m49ccbc8cfd\" x=\"166.385137\" y=\"95.938015\" style=\"fill: #1f77b4; stroke: #1f77b4\"/>\n     <use xlink:href=\"#m49ccbc8cfd\" x=\"86.719876\" y=\"38.338772\" style=\"fill: #1f77b4; stroke: #1f77b4\"/>\n     <use xlink:href=\"#m49ccbc8cfd\" x=\"126.662784\" y=\"56.318157\" style=\"fill: #1f77b4; stroke: #1f77b4\"/>\n     <use xlink:href=\"#m49ccbc8cfd\" x=\"129.046307\" y=\"49.144441\" style=\"fill: #1f77b4; stroke: #1f77b4\"/>\n     <use xlink:href=\"#m49ccbc8cfd\" x=\"152.266483\" y=\"79.606628\" style=\"fill: #1f77b4; stroke: #1f77b4\"/>\n     <use xlink:href=\"#m49ccbc8cfd\" x=\"144.628099\" y=\"94.962271\" style=\"fill: #1f77b4; stroke: #1f77b4\"/>\n     <use xlink:href=\"#m49ccbc8cfd\" x=\"182.905621\" y=\"104.442821\" style=\"fill: #1f77b4; stroke: #1f77b4\"/>\n     <use xlink:href=\"#m49ccbc8cfd\" x=\"133.029635\" y=\"78.413673\" style=\"fill: #1f77b4; stroke: #1f77b4\"/>\n     <use xlink:href=\"#m49ccbc8cfd\" x=\"142.263233\" y=\"91.316289\" style=\"fill: #1f77b4; stroke: #1f77b4\"/>\n     <use xlink:href=\"#m49ccbc8cfd\" x=\"150.403156\" y=\"84.214845\" style=\"fill: #1f77b4; stroke: #1f77b4\"/>\n     <use xlink:href=\"#m49ccbc8cfd\" x=\"63.162742\" y=\"34.895186\" style=\"fill: #1f77b4; stroke: #1f77b4\"/>\n     <use xlink:href=\"#m49ccbc8cfd\" x=\"138.252916\" y=\"87.727706\" style=\"fill: #1f77b4; stroke: #1f77b4\"/>\n     <use xlink:href=\"#m49ccbc8cfd\" x=\"138.129038\" y=\"77.092699\" style=\"fill: #1f77b4; stroke: #1f77b4\"/>\n     <use xlink:href=\"#m49ccbc8cfd\" x=\"153.323836\" y=\"92.498804\" style=\"fill: #1f77b4; stroke: #1f77b4\"/>\n     <use xlink:href=\"#m49ccbc8cfd\" x=\"147.102599\" y=\"98.666173\" style=\"fill: #1f77b4; stroke: #1f77b4\"/>\n     <use xlink:href=\"#m49ccbc8cfd\" x=\"183.968178\" y=\"121.359067\" style=\"fill: #1f77b4; stroke: #1f77b4\"/>\n     <use xlink:href=\"#m49ccbc8cfd\" x=\"103.417399\" y=\"63.594075\" style=\"fill: #1f77b4; stroke: #1f77b4\"/>\n     <use xlink:href=\"#m49ccbc8cfd\" x=\"109.346402\" y=\"52.859442\" style=\"fill: #1f77b4; stroke: #1f77b4\"/>\n     <use xlink:href=\"#m49ccbc8cfd\" x=\"158.514135\" y=\"99.885301\" style=\"fill: #1f77b4; stroke: #1f77b4\"/>\n     <use xlink:href=\"#m49ccbc8cfd\" x=\"79.632023\" y=\"32.249682\" style=\"fill: #1f77b4; stroke: #1f77b4\"/>\n     <use xlink:href=\"#m49ccbc8cfd\" x=\"77.810882\" y=\"54.148753\" style=\"fill: #1f77b4; stroke: #1f77b4\"/>\n     <use xlink:href=\"#m49ccbc8cfd\" x=\"177.943481\" y=\"103.529034\" style=\"fill: #1f77b4; stroke: #1f77b4\"/>\n     <use xlink:href=\"#m49ccbc8cfd\" x=\"99.695597\" y=\"59.493457\" style=\"fill: #1f77b4; stroke: #1f77b4\"/>\n     <use xlink:href=\"#m49ccbc8cfd\" x=\"122.261873\" y=\"77.786673\" style=\"fill: #1f77b4; stroke: #1f77b4\"/>\n     <use xlink:href=\"#m49ccbc8cfd\" x=\"198.462874\" y=\"115.617135\" style=\"fill: #1f77b4; stroke: #1f77b4\"/>\n     <use xlink:href=\"#m49ccbc8cfd\" x=\"158.689282\" y=\"88.033517\" style=\"fill: #1f77b4; stroke: #1f77b4\"/>\n     <use xlink:href=\"#m49ccbc8cfd\" x=\"102.185897\" y=\"58.098319\" style=\"fill: #1f77b4; stroke: #1f77b4\"/>\n     <use xlink:href=\"#m49ccbc8cfd\" x=\"121.996997\" y=\"50.391819\" style=\"fill: #1f77b4; stroke: #1f77b4\"/>\n     <use xlink:href=\"#m49ccbc8cfd\" x=\"165.98837\" y=\"97.769088\" style=\"fill: #1f77b4; stroke: #1f77b4\"/>\n     <use xlink:href=\"#m49ccbc8cfd\" x=\"118.055068\" y=\"80.391789\" style=\"fill: #1f77b4; stroke: #1f77b4\"/>\n     <use xlink:href=\"#m49ccbc8cfd\" x=\"76.571255\" y=\"46.263316\" style=\"fill: #1f77b4; stroke: #1f77b4\"/>\n     <use xlink:href=\"#m49ccbc8cfd\" x=\"44.18196\" y=\"27.232512\" style=\"fill: #1f77b4; stroke: #1f77b4\"/>\n     <use xlink:href=\"#m49ccbc8cfd\" x=\"164.174487\" y=\"101.619011\" style=\"fill: #1f77b4; stroke: #1f77b4\"/>\n     <use xlink:href=\"#m49ccbc8cfd\" x=\"132.484686\" y=\"83.973648\" style=\"fill: #1f77b4; stroke: #1f77b4\"/>\n     <use xlink:href=\"#m49ccbc8cfd\" x=\"153.54778\" y=\"73.932841\" style=\"fill: #1f77b4; stroke: #1f77b4\"/>\n     <use xlink:href=\"#m49ccbc8cfd\" x=\"127.456917\" y=\"63.350231\" style=\"fill: #1f77b4; stroke: #1f77b4\"/>\n     <use xlink:href=\"#m49ccbc8cfd\" x=\"177.782656\" y=\"87.154314\" style=\"fill: #1f77b4; stroke: #1f77b4\"/>\n     <use xlink:href=\"#m49ccbc8cfd\" x=\"87.819658\" y=\"59.240506\" style=\"fill: #1f77b4; stroke: #1f77b4\"/>\n     <use xlink:href=\"#m49ccbc8cfd\" x=\"149.10052\" y=\"110.089049\" style=\"fill: #1f77b4; stroke: #1f77b4\"/>\n     <use xlink:href=\"#m49ccbc8cfd\" x=\"154.262604\" y=\"97.737687\" style=\"fill: #1f77b4; stroke: #1f77b4\"/>\n     <use xlink:href=\"#m49ccbc8cfd\" x=\"124.696054\" y=\"76.285389\" style=\"fill: #1f77b4; stroke: #1f77b4\"/>\n     <use xlink:href=\"#m49ccbc8cfd\" x=\"113.934539\" y=\"68.3431\" style=\"fill: #1f77b4; stroke: #1f77b4\"/>\n     <use xlink:href=\"#m49ccbc8cfd\" x=\"160.506791\" y=\"107.399873\" style=\"fill: #1f77b4; stroke: #1f77b4\"/>\n     <use xlink:href=\"#m49ccbc8cfd\" x=\"67.92208\" y=\"32.184582\" style=\"fill: #1f77b4; stroke: #1f77b4\"/>\n     <use xlink:href=\"#m49ccbc8cfd\" x=\"177.710143\" y=\"88.907466\" style=\"fill: #1f77b4; stroke: #1f77b4\"/>\n     <use xlink:href=\"#m49ccbc8cfd\" x=\"124.72217\" y=\"61.393908\" style=\"fill: #1f77b4; stroke: #1f77b4\"/>\n     <use xlink:href=\"#m49ccbc8cfd\" x=\"147.110374\" y=\"76.943002\" style=\"fill: #1f77b4; stroke: #1f77b4\"/>\n     <use xlink:href=\"#m49ccbc8cfd\" x=\"111.544193\" y=\"61.335849\" style=\"fill: #1f77b4; stroke: #1f77b4\"/>\n     <use xlink:href=\"#m49ccbc8cfd\" x=\"132.82497\" y=\"65.948727\" style=\"fill: #1f77b4; stroke: #1f77b4\"/>\n     <use xlink:href=\"#m49ccbc8cfd\" x=\"115.988839\" y=\"71.017395\" style=\"fill: #1f77b4; stroke: #1f77b4\"/>\n     <use xlink:href=\"#m49ccbc8cfd\" x=\"142.399192\" y=\"77.420339\" style=\"fill: #1f77b4; stroke: #1f77b4\"/>\n     <use xlink:href=\"#m49ccbc8cfd\" x=\"146.909241\" y=\"72.993088\" style=\"fill: #1f77b4; stroke: #1f77b4\"/>\n     <use xlink:href=\"#m49ccbc8cfd\" x=\"181.719084\" y=\"112.056466\" style=\"fill: #1f77b4; stroke: #1f77b4\"/>\n     <use xlink:href=\"#m49ccbc8cfd\" x=\"111.656619\" y=\"65.883965\" style=\"fill: #1f77b4; stroke: #1f77b4\"/>\n     <use xlink:href=\"#m49ccbc8cfd\" x=\"125.010284\" y=\"83.532946\" style=\"fill: #1f77b4; stroke: #1f77b4\"/>\n     <use xlink:href=\"#m49ccbc8cfd\" x=\"122.234431\" y=\"78.199987\" style=\"fill: #1f77b4; stroke: #1f77b4\"/>\n     <use xlink:href=\"#m49ccbc8cfd\" x=\"125.701815\" y=\"84.754761\" style=\"fill: #1f77b4; stroke: #1f77b4\"/>\n     <use xlink:href=\"#m49ccbc8cfd\" x=\"133.734066\" y=\"84.655526\" style=\"fill: #1f77b4; stroke: #1f77b4\"/>\n     <use xlink:href=\"#m49ccbc8cfd\" x=\"133.394498\" y=\"74.807447\" style=\"fill: #1f77b4; stroke: #1f77b4\"/>\n     <use xlink:href=\"#m49ccbc8cfd\" x=\"146.558815\" y=\"83.37352\" style=\"fill: #1f77b4; stroke: #1f77b4\"/>\n     <use xlink:href=\"#m49ccbc8cfd\" x=\"171.598023\" y=\"124.740886\" style=\"fill: #1f77b4; stroke: #1f77b4\"/>\n     <use xlink:href=\"#m49ccbc8cfd\" x=\"99.170488\" y=\"52.406026\" style=\"fill: #1f77b4; stroke: #1f77b4\"/>\n     <use xlink:href=\"#m49ccbc8cfd\" x=\"70.333278\" y=\"27.355558\" style=\"fill: #1f77b4; stroke: #1f77b4\"/>\n     <use xlink:href=\"#m49ccbc8cfd\" x=\"134.711412\" y=\"78.353034\" style=\"fill: #1f77b4; stroke: #1f77b4\"/>\n     <use xlink:href=\"#m49ccbc8cfd\" x=\"96.815364\" y=\"51.987411\" style=\"fill: #1f77b4; stroke: #1f77b4\"/>\n     <use xlink:href=\"#m49ccbc8cfd\" x=\"154.713044\" y=\"93.899686\" style=\"fill: #1f77b4; stroke: #1f77b4\"/>\n     <use xlink:href=\"#m49ccbc8cfd\" x=\"139.047169\" y=\"72.337316\" style=\"fill: #1f77b4; stroke: #1f77b4\"/>\n     <use xlink:href=\"#m49ccbc8cfd\" x=\"135.0066\" y=\"70.713399\" style=\"fill: #1f77b4; stroke: #1f77b4\"/>\n     <use xlink:href=\"#m49ccbc8cfd\" x=\"117.591875\" y=\"65.300524\" style=\"fill: #1f77b4; stroke: #1f77b4\"/>\n     <use xlink:href=\"#m49ccbc8cfd\" x=\"164.198505\" y=\"90.430334\" style=\"fill: #1f77b4; stroke: #1f77b4\"/>\n     <use xlink:href=\"#m49ccbc8cfd\" x=\"118.565701\" y=\"68.708372\" style=\"fill: #1f77b4; stroke: #1f77b4\"/>\n     <use xlink:href=\"#m49ccbc8cfd\" x=\"112.307969\" y=\"54.126133\" style=\"fill: #1f77b4; stroke: #1f77b4\"/>\n     <use xlink:href=\"#m49ccbc8cfd\" x=\"155.303889\" y=\"95.240448\" style=\"fill: #1f77b4; stroke: #1f77b4\"/>\n     <use xlink:href=\"#m49ccbc8cfd\" x=\"113.276512\" y=\"60.720851\" style=\"fill: #1f77b4; stroke: #1f77b4\"/>\n     <use xlink:href=\"#m49ccbc8cfd\" x=\"142.157719\" y=\"74.543472\" style=\"fill: #1f77b4; stroke: #1f77b4\"/>\n     <use xlink:href=\"#m49ccbc8cfd\" x=\"107.393692\" y=\"59.656488\" style=\"fill: #1f77b4; stroke: #1f77b4\"/>\n     <use xlink:href=\"#m49ccbc8cfd\" x=\"131.280286\" y=\"67.54254\" style=\"fill: #1f77b4; stroke: #1f77b4\"/>\n     <use xlink:href=\"#m49ccbc8cfd\" x=\"123.983887\" y=\"58.034405\" style=\"fill: #1f77b4; stroke: #1f77b4\"/>\n     <use xlink:href=\"#m49ccbc8cfd\" x=\"125.926037\" y=\"68.677317\" style=\"fill: #1f77b4; stroke: #1f77b4\"/>\n     <use xlink:href=\"#m49ccbc8cfd\" x=\"128.42283\" y=\"87.562605\" style=\"fill: #1f77b4; stroke: #1f77b4\"/>\n     <use xlink:href=\"#m49ccbc8cfd\" x=\"183.325878\" y=\"96.537958\" style=\"fill: #1f77b4; stroke: #1f77b4\"/>\n     <use xlink:href=\"#m49ccbc8cfd\" x=\"146.218135\" y=\"78.568879\" style=\"fill: #1f77b4; stroke: #1f77b4\"/>\n     <use xlink:href=\"#m49ccbc8cfd\" x=\"123.118242\" y=\"60.785771\" style=\"fill: #1f77b4; stroke: #1f77b4\"/>\n     <use xlink:href=\"#m49ccbc8cfd\" x=\"126.882689\" y=\"84.393243\" style=\"fill: #1f77b4; stroke: #1f77b4\"/>\n     <use xlink:href=\"#m49ccbc8cfd\" x=\"168.068201\" y=\"100.17711\" style=\"fill: #1f77b4; stroke: #1f77b4\"/>\n     <use xlink:href=\"#m49ccbc8cfd\" x=\"144.226088\" y=\"81.711289\" style=\"fill: #1f77b4; stroke: #1f77b4\"/>\n     <use xlink:href=\"#m49ccbc8cfd\" x=\"124.019106\" y=\"77.889476\" style=\"fill: #1f77b4; stroke: #1f77b4\"/>\n     <use xlink:href=\"#m49ccbc8cfd\" x=\"147.45945\" y=\"104.285433\" style=\"fill: #1f77b4; stroke: #1f77b4\"/>\n     <use xlink:href=\"#m49ccbc8cfd\" x=\"140.025691\" y=\"79.718064\" style=\"fill: #1f77b4; stroke: #1f77b4\"/>\n     <use xlink:href=\"#m49ccbc8cfd\" x=\"123.956652\" y=\"68.125797\" style=\"fill: #1f77b4; stroke: #1f77b4\"/>\n     <use xlink:href=\"#m49ccbc8cfd\" x=\"145.562227\" y=\"64.414204\" style=\"fill: #1f77b4; stroke: #1f77b4\"/>\n     <use xlink:href=\"#m49ccbc8cfd\" x=\"114.774316\" y=\"69.107101\" style=\"fill: #1f77b4; stroke: #1f77b4\"/>\n     <use xlink:href=\"#m49ccbc8cfd\" x=\"176.545108\" y=\"101.831039\" style=\"fill: #1f77b4; stroke: #1f77b4\"/>\n     <use xlink:href=\"#m49ccbc8cfd\" x=\"133.360859\" y=\"82.460481\" style=\"fill: #1f77b4; stroke: #1f77b4\"/>\n     <use xlink:href=\"#m49ccbc8cfd\" x=\"150.028484\" y=\"85.073\" style=\"fill: #1f77b4; stroke: #1f77b4\"/>\n     <use xlink:href=\"#m49ccbc8cfd\" x=\"113.369679\" y=\"61.815027\" style=\"fill: #1f77b4; stroke: #1f77b4\"/>\n     <use xlink:href=\"#m49ccbc8cfd\" x=\"148.662236\" y=\"99.339329\" style=\"fill: #1f77b4; stroke: #1f77b4\"/>\n     <use xlink:href=\"#m49ccbc8cfd\" x=\"102.846848\" y=\"63.902917\" style=\"fill: #1f77b4; stroke: #1f77b4\"/>\n     <use xlink:href=\"#m49ccbc8cfd\" x=\"134.271824\" y=\"64.587302\" style=\"fill: #1f77b4; stroke: #1f77b4\"/>\n     <use xlink:href=\"#m49ccbc8cfd\" x=\"99.590875\" y=\"64.695776\" style=\"fill: #1f77b4; stroke: #1f77b4\"/>\n     <use xlink:href=\"#m49ccbc8cfd\" x=\"135.349044\" y=\"85.612502\" style=\"fill: #1f77b4; stroke: #1f77b4\"/>\n     <use xlink:href=\"#m49ccbc8cfd\" x=\"152.607991\" y=\"79.632863\" style=\"fill: #1f77b4; stroke: #1f77b4\"/>\n     <use xlink:href=\"#m49ccbc8cfd\" x=\"146.116226\" y=\"92.499281\" style=\"fill: #1f77b4; stroke: #1f77b4\"/>\n     <use xlink:href=\"#m49ccbc8cfd\" x=\"89.346484\" y=\"49.858257\" style=\"fill: #1f77b4; stroke: #1f77b4\"/>\n     <use xlink:href=\"#m49ccbc8cfd\" x=\"90.277501\" y=\"49.478271\" style=\"fill: #1f77b4; stroke: #1f77b4\"/>\n     <use xlink:href=\"#m49ccbc8cfd\" x=\"79.771725\" y=\"47.797944\" style=\"fill: #1f77b4; stroke: #1f77b4\"/>\n     <use xlink:href=\"#m49ccbc8cfd\" x=\"91.303912\" y=\"45.587087\" style=\"fill: #1f77b4; stroke: #1f77b4\"/>\n     <use xlink:href=\"#m49ccbc8cfd\" x=\"135.051543\" y=\"79.441834\" style=\"fill: #1f77b4; stroke: #1f77b4\"/>\n     <use xlink:href=\"#m49ccbc8cfd\" x=\"100.722542\" y=\"45.98241\" style=\"fill: #1f77b4; stroke: #1f77b4\"/>\n     <use xlink:href=\"#m49ccbc8cfd\" x=\"129.745182\" y=\"79.717508\" style=\"fill: #1f77b4; stroke: #1f77b4\"/>\n     <use xlink:href=\"#m49ccbc8cfd\" x=\"117.243704\" y=\"56.824411\" style=\"fill: #1f77b4; stroke: #1f77b4\"/>\n     <use xlink:href=\"#m49ccbc8cfd\" x=\"170.527872\" y=\"96.494035\" style=\"fill: #1f77b4; stroke: #1f77b4\"/>\n     <use xlink:href=\"#m49ccbc8cfd\" x=\"121.503212\" y=\"77.564515\" style=\"fill: #1f77b4; stroke: #1f77b4\"/>\n     <use xlink:href=\"#m49ccbc8cfd\" x=\"151.420584\" y=\"90.175872\" style=\"fill: #1f77b4; stroke: #1f77b4\"/>\n     <use xlink:href=\"#m49ccbc8cfd\" x=\"126.932228\" y=\"76.819752\" style=\"fill: #1f77b4; stroke: #1f77b4\"/>\n     <use xlink:href=\"#m49ccbc8cfd\" x=\"155.292961\" y=\"93.097915\" style=\"fill: #1f77b4; stroke: #1f77b4\"/>\n     <use xlink:href=\"#m49ccbc8cfd\" x=\"148.115779\" y=\"71.271284\" style=\"fill: #1f77b4; stroke: #1f77b4\"/>\n     <use xlink:href=\"#m49ccbc8cfd\" x=\"125.245031\" y=\"86.381885\" style=\"fill: #1f77b4; stroke: #1f77b4\"/>\n     <use xlink:href=\"#m49ccbc8cfd\" x=\"170.111092\" y=\"103.166338\" style=\"fill: #1f77b4; stroke: #1f77b4\"/>\n     <use xlink:href=\"#m49ccbc8cfd\" x=\"122.297792\" y=\"65.270105\" style=\"fill: #1f77b4; stroke: #1f77b4\"/>\n     <use xlink:href=\"#m49ccbc8cfd\" x=\"154.910683\" y=\"101.670978\" style=\"fill: #1f77b4; stroke: #1f77b4\"/>\n     <use xlink:href=\"#m49ccbc8cfd\" x=\"103.853366\" y=\"45.693544\" style=\"fill: #1f77b4; stroke: #1f77b4\"/>\n     <use xlink:href=\"#m49ccbc8cfd\" x=\"161.369532\" y=\"101.375444\" style=\"fill: #1f77b4; stroke: #1f77b4\"/>\n     <use xlink:href=\"#m49ccbc8cfd\" x=\"90.046185\" y=\"43.932026\" style=\"fill: #1f77b4; stroke: #1f77b4\"/>\n     <use xlink:href=\"#m49ccbc8cfd\" x=\"156.650086\" y=\"103.545779\" style=\"fill: #1f77b4; stroke: #1f77b4\"/>\n     <use xlink:href=\"#m49ccbc8cfd\" x=\"101.846846\" y=\"47.658899\" style=\"fill: #1f77b4; stroke: #1f77b4\"/>\n     <use xlink:href=\"#m49ccbc8cfd\" x=\"143.851001\" y=\"97.561149\" style=\"fill: #1f77b4; stroke: #1f77b4\"/>\n     <use xlink:href=\"#m49ccbc8cfd\" x=\"139.629065\" y=\"81.925589\" style=\"fill: #1f77b4; stroke: #1f77b4\"/>\n     <use xlink:href=\"#m49ccbc8cfd\" x=\"149.977443\" y=\"91.827722\" style=\"fill: #1f77b4; stroke: #1f77b4\"/>\n     <use xlink:href=\"#m49ccbc8cfd\" x=\"49.590382\" y=\"13.5\" style=\"fill: #1f77b4; stroke: #1f77b4\"/>\n     <use xlink:href=\"#m49ccbc8cfd\" x=\"158.03026\" y=\"89.611701\" style=\"fill: #1f77b4; stroke: #1f77b4\"/>\n     <use xlink:href=\"#m49ccbc8cfd\" x=\"153.228105\" y=\"95.607529\" style=\"fill: #1f77b4; stroke: #1f77b4\"/>\n     <use xlink:href=\"#m49ccbc8cfd\" x=\"139.015446\" y=\"66.311039\" style=\"fill: #1f77b4; stroke: #1f77b4\"/>\n     <use xlink:href=\"#m49ccbc8cfd\" x=\"151.52713\" y=\"87.302531\" style=\"fill: #1f77b4; stroke: #1f77b4\"/>\n     <use xlink:href=\"#m49ccbc8cfd\" x=\"110.293723\" y=\"53.651871\" style=\"fill: #1f77b4; stroke: #1f77b4\"/>\n     <use xlink:href=\"#m49ccbc8cfd\" x=\"72.719554\" y=\"40.171573\" style=\"fill: #1f77b4; stroke: #1f77b4\"/>\n     <use xlink:href=\"#m49ccbc8cfd\" x=\"147.157481\" y=\"74.964706\" style=\"fill: #1f77b4; stroke: #1f77b4\"/>\n     <use xlink:href=\"#m49ccbc8cfd\" x=\"192.523015\" y=\"98.238983\" style=\"fill: #1f77b4; stroke: #1f77b4\"/>\n     <use xlink:href=\"#m49ccbc8cfd\" x=\"127.849996\" y=\"58.161258\" style=\"fill: #1f77b4; stroke: #1f77b4\"/>\n     <use xlink:href=\"#m49ccbc8cfd\" x=\"166.804953\" y=\"107.057436\" style=\"fill: #1f77b4; stroke: #1f77b4\"/>\n     <use xlink:href=\"#m49ccbc8cfd\" x=\"182.623216\" y=\"104.805697\" style=\"fill: #1f77b4; stroke: #1f77b4\"/>\n     <use xlink:href=\"#m49ccbc8cfd\" x=\"159.459137\" y=\"91.567856\" style=\"fill: #1f77b4; stroke: #1f77b4\"/>\n     <use xlink:href=\"#m49ccbc8cfd\" x=\"99.406553\" y=\"48.241354\" style=\"fill: #1f77b4; stroke: #1f77b4\"/>\n     <use xlink:href=\"#m49ccbc8cfd\" x=\"138.034816\" y=\"87.871674\" style=\"fill: #1f77b4; stroke: #1f77b4\"/>\n     <use xlink:href=\"#m49ccbc8cfd\" x=\"139.578085\" y=\"77.971773\" style=\"fill: #1f77b4; stroke: #1f77b4\"/>\n     <use xlink:href=\"#m49ccbc8cfd\" x=\"66.579775\" y=\"43.753356\" style=\"fill: #1f77b4; stroke: #1f77b4\"/>\n     <use xlink:href=\"#m49ccbc8cfd\" x=\"150.638425\" y=\"81.861907\" style=\"fill: #1f77b4; stroke: #1f77b4\"/>\n     <use xlink:href=\"#m49ccbc8cfd\" x=\"147.972992\" y=\"84.976395\" style=\"fill: #1f77b4; stroke: #1f77b4\"/>\n     <use xlink:href=\"#m49ccbc8cfd\" x=\"161.886009\" y=\"99.574606\" style=\"fill: #1f77b4; stroke: #1f77b4\"/>\n     <use xlink:href=\"#m49ccbc8cfd\" x=\"99.59926\" y=\"33.842822\" style=\"fill: #1f77b4; stroke: #1f77b4\"/>\n     <use xlink:href=\"#m49ccbc8cfd\" x=\"137.423095\" y=\"69.207166\" style=\"fill: #1f77b4; stroke: #1f77b4\"/>\n     <use xlink:href=\"#m49ccbc8cfd\" x=\"122.933411\" y=\"88.716657\" style=\"fill: #1f77b4; stroke: #1f77b4\"/>\n     <use xlink:href=\"#m49ccbc8cfd\" x=\"146.797262\" y=\"85.679816\" style=\"fill: #1f77b4; stroke: #1f77b4\"/>\n     <use xlink:href=\"#m49ccbc8cfd\" x=\"180.330544\" y=\"106.503564\" style=\"fill: #1f77b4; stroke: #1f77b4\"/>\n     <use xlink:href=\"#m49ccbc8cfd\" x=\"140.088753\" y=\"74.171589\" style=\"fill: #1f77b4; stroke: #1f77b4\"/>\n     <use xlink:href=\"#m49ccbc8cfd\" x=\"161.533049\" y=\"96.903771\" style=\"fill: #1f77b4; stroke: #1f77b4\"/>\n     <use xlink:href=\"#m49ccbc8cfd\" x=\"154.821248\" y=\"103.970155\" style=\"fill: #1f77b4; stroke: #1f77b4\"/>\n     <use xlink:href=\"#m49ccbc8cfd\" x=\"149.461998\" y=\"103.843483\" style=\"fill: #1f77b4; stroke: #1f77b4\"/>\n     <use xlink:href=\"#m49ccbc8cfd\" x=\"189.383953\" y=\"98.430498\" style=\"fill: #1f77b4; stroke: #1f77b4\"/>\n     <use xlink:href=\"#m49ccbc8cfd\" x=\"142.31579\" y=\"94.49463\" style=\"fill: #1f77b4; stroke: #1f77b4\"/>\n     <use xlink:href=\"#m49ccbc8cfd\" x=\"135.954252\" y=\"61.429181\" style=\"fill: #1f77b4; stroke: #1f77b4\"/>\n     <use xlink:href=\"#m49ccbc8cfd\" x=\"146.283686\" y=\"89.751844\" style=\"fill: #1f77b4; stroke: #1f77b4\"/>\n     <use xlink:href=\"#m49ccbc8cfd\" x=\"149.269388\" y=\"79.428541\" style=\"fill: #1f77b4; stroke: #1f77b4\"/>\n     <use xlink:href=\"#m49ccbc8cfd\" x=\"110.60748\" y=\"47.360667\" style=\"fill: #1f77b4; stroke: #1f77b4\"/>\n     <use xlink:href=\"#m49ccbc8cfd\" x=\"143.547471\" y=\"55.214711\" style=\"fill: #1f77b4; stroke: #1f77b4\"/>\n     <use xlink:href=\"#m49ccbc8cfd\" x=\"159.938938\" y=\"89.927874\" style=\"fill: #1f77b4; stroke: #1f77b4\"/>\n     <use xlink:href=\"#m49ccbc8cfd\" x=\"132.051508\" y=\"74.792629\" style=\"fill: #1f77b4; stroke: #1f77b4\"/>\n     <use xlink:href=\"#m49ccbc8cfd\" x=\"112.598957\" y=\"69.281516\" style=\"fill: #1f77b4; stroke: #1f77b4\"/>\n     <use xlink:href=\"#m49ccbc8cfd\" x=\"94.813488\" y=\"64.24611\" style=\"fill: #1f77b4; stroke: #1f77b4\"/>\n     <use xlink:href=\"#m49ccbc8cfd\" x=\"137.641818\" y=\"60.847221\" style=\"fill: #1f77b4; stroke: #1f77b4\"/>\n     <use xlink:href=\"#m49ccbc8cfd\" x=\"129.414134\" y=\"86.924099\" style=\"fill: #1f77b4; stroke: #1f77b4\"/>\n     <use xlink:href=\"#m49ccbc8cfd\" x=\"141.907304\" y=\"84.348427\" style=\"fill: #1f77b4; stroke: #1f77b4\"/>\n     <use xlink:href=\"#m49ccbc8cfd\" x=\"180.386266\" y=\"107.561045\" style=\"fill: #1f77b4; stroke: #1f77b4\"/>\n     <use xlink:href=\"#m49ccbc8cfd\" x=\"148.239296\" y=\"81.770039\" style=\"fill: #1f77b4; stroke: #1f77b4\"/>\n     <use xlink:href=\"#m49ccbc8cfd\" x=\"164.301751\" y=\"88.517779\" style=\"fill: #1f77b4; stroke: #1f77b4\"/>\n     <use xlink:href=\"#m49ccbc8cfd\" x=\"73.233821\" y=\"45.619515\" style=\"fill: #1f77b4; stroke: #1f77b4\"/>\n     <use xlink:href=\"#m49ccbc8cfd\" x=\"100.235597\" y=\"59.386929\" style=\"fill: #1f77b4; stroke: #1f77b4\"/>\n     <use xlink:href=\"#m49ccbc8cfd\" x=\"138.90532\" y=\"75.165885\" style=\"fill: #1f77b4; stroke: #1f77b4\"/>\n     <use xlink:href=\"#m49ccbc8cfd\" x=\"123.765981\" y=\"73.052427\" style=\"fill: #1f77b4; stroke: #1f77b4\"/>\n     <use xlink:href=\"#m49ccbc8cfd\" x=\"56.977519\" y=\"25.830268\" style=\"fill: #1f77b4; stroke: #1f77b4\"/>\n     <use xlink:href=\"#m49ccbc8cfd\" x=\"89.160448\" y=\"49.843446\" style=\"fill: #1f77b4; stroke: #1f77b4\"/>\n     <use xlink:href=\"#m49ccbc8cfd\" x=\"135.319734\" y=\"84.712377\" style=\"fill: #1f77b4; stroke: #1f77b4\"/>\n     <use xlink:href=\"#m49ccbc8cfd\" x=\"140.003881\" y=\"93.8421\" style=\"fill: #1f77b4; stroke: #1f77b4\"/>\n     <use xlink:href=\"#m49ccbc8cfd\" x=\"122.902239\" y=\"75.846365\" style=\"fill: #1f77b4; stroke: #1f77b4\"/>\n     <use xlink:href=\"#m49ccbc8cfd\" x=\"63.804035\" y=\"24.642272\" style=\"fill: #1f77b4; stroke: #1f77b4\"/>\n     <use xlink:href=\"#m49ccbc8cfd\" x=\"163.328353\" y=\"99.174051\" style=\"fill: #1f77b4; stroke: #1f77b4\"/>\n     <use xlink:href=\"#m49ccbc8cfd\" x=\"93.410782\" y=\"55.774353\" style=\"fill: #1f77b4; stroke: #1f77b4\"/>\n     <use xlink:href=\"#m49ccbc8cfd\" x=\"106.562042\" y=\"62.251798\" style=\"fill: #1f77b4; stroke: #1f77b4\"/>\n     <use xlink:href=\"#m49ccbc8cfd\" x=\"91.297251\" y=\"39.362462\" style=\"fill: #1f77b4; stroke: #1f77b4\"/>\n     <use xlink:href=\"#m49ccbc8cfd\" x=\"175.065711\" y=\"105.259914\" style=\"fill: #1f77b4; stroke: #1f77b4\"/>\n     <use xlink:href=\"#m49ccbc8cfd\" x=\"122.236937\" y=\"73.159908\" style=\"fill: #1f77b4; stroke: #1f77b4\"/>\n     <use xlink:href=\"#m49ccbc8cfd\" x=\"109.95039\" y=\"49.276074\" style=\"fill: #1f77b4; stroke: #1f77b4\"/>\n     <use xlink:href=\"#m49ccbc8cfd\" x=\"112.887443\" y=\"68.736467\" style=\"fill: #1f77b4; stroke: #1f77b4\"/>\n     <use xlink:href=\"#m49ccbc8cfd\" x=\"167.513651\" y=\"110.520597\" style=\"fill: #1f77b4; stroke: #1f77b4\"/>\n     <use xlink:href=\"#m49ccbc8cfd\" x=\"111.365916\" y=\"62.606389\" style=\"fill: #1f77b4; stroke: #1f77b4\"/>\n     <use xlink:href=\"#m49ccbc8cfd\" x=\"135.682376\" y=\"71.400503\" style=\"fill: #1f77b4; stroke: #1f77b4\"/>\n     <use xlink:href=\"#m49ccbc8cfd\" x=\"136.647316\" y=\"65.996072\" style=\"fill: #1f77b4; stroke: #1f77b4\"/>\n     <use xlink:href=\"#m49ccbc8cfd\" x=\"123.665062\" y=\"67.708349\" style=\"fill: #1f77b4; stroke: #1f77b4\"/>\n     <use xlink:href=\"#m49ccbc8cfd\" x=\"141.055358\" y=\"104.70206\" style=\"fill: #1f77b4; stroke: #1f77b4\"/>\n     <use xlink:href=\"#m49ccbc8cfd\" x=\"129.312959\" y=\"73.417957\" style=\"fill: #1f77b4; stroke: #1f77b4\"/>\n     <use xlink:href=\"#m49ccbc8cfd\" x=\"111.336254\" y=\"68.984751\" style=\"fill: #1f77b4; stroke: #1f77b4\"/>\n     <use xlink:href=\"#m49ccbc8cfd\" x=\"138.854173\" y=\"77.364896\" style=\"fill: #1f77b4; stroke: #1f77b4\"/>\n     <use xlink:href=\"#m49ccbc8cfd\" x=\"134.301374\" y=\"73.011769\" style=\"fill: #1f77b4; stroke: #1f77b4\"/>\n     <use xlink:href=\"#m49ccbc8cfd\" x=\"118.87679\" y=\"64.710894\" style=\"fill: #1f77b4; stroke: #1f77b4\"/>\n     <use xlink:href=\"#m49ccbc8cfd\" x=\"137.314809\" y=\"52.695109\" style=\"fill: #1f77b4; stroke: #1f77b4\"/>\n     <use xlink:href=\"#m49ccbc8cfd\" x=\"150.706583\" y=\"85.745426\" style=\"fill: #1f77b4; stroke: #1f77b4\"/>\n     <use xlink:href=\"#m49ccbc8cfd\" x=\"175.584521\" y=\"91.488288\" style=\"fill: #1f77b4; stroke: #1f77b4\"/>\n     <use xlink:href=\"#m49ccbc8cfd\" x=\"100.457258\" y=\"64.225052\" style=\"fill: #1f77b4; stroke: #1f77b4\"/>\n     <use xlink:href=\"#m49ccbc8cfd\" x=\"131.055956\" y=\"67.037557\" style=\"fill: #1f77b4; stroke: #1f77b4\"/>\n     <use xlink:href=\"#m49ccbc8cfd\" x=\"125.922811\" y=\"87.649336\" style=\"fill: #1f77b4; stroke: #1f77b4\"/>\n     <use xlink:href=\"#m49ccbc8cfd\" x=\"96.798594\" y=\"49.842607\" style=\"fill: #1f77b4; stroke: #1f77b4\"/>\n     <use xlink:href=\"#m49ccbc8cfd\" x=\"134.172322\" y=\"84.043202\" style=\"fill: #1f77b4; stroke: #1f77b4\"/>\n     <use xlink:href=\"#m49ccbc8cfd\" x=\"105.608216\" y=\"57.876934\" style=\"fill: #1f77b4; stroke: #1f77b4\"/>\n     <use xlink:href=\"#m49ccbc8cfd\" x=\"87.322214\" y=\"58.186214\" style=\"fill: #1f77b4; stroke: #1f77b4\"/>\n     <use xlink:href=\"#m49ccbc8cfd\" x=\"125.128844\" y=\"72.436081\" style=\"fill: #1f77b4; stroke: #1f77b4\"/>\n     <use xlink:href=\"#m49ccbc8cfd\" x=\"112.077645\" y=\"61.278721\" style=\"fill: #1f77b4; stroke: #1f77b4\"/>\n     <use xlink:href=\"#m49ccbc8cfd\" x=\"96.580901\" y=\"73.50819\" style=\"fill: #1f77b4; stroke: #1f77b4\"/>\n     <use xlink:href=\"#m49ccbc8cfd\" x=\"118.092668\" y=\"69.89821\" style=\"fill: #1f77b4; stroke: #1f77b4\"/>\n     <use xlink:href=\"#m49ccbc8cfd\" x=\"115.751081\" y=\"68.949126\" style=\"fill: #1f77b4; stroke: #1f77b4\"/>\n     <use xlink:href=\"#m49ccbc8cfd\" x=\"71.256821\" y=\"55.573207\" style=\"fill: #1f77b4; stroke: #1f77b4\"/>\n     <use xlink:href=\"#m49ccbc8cfd\" x=\"102.066859\" y=\"55.77662\" style=\"fill: #1f77b4; stroke: #1f77b4\"/>\n     <use xlink:href=\"#m49ccbc8cfd\" x=\"128.988404\" y=\"60.144806\" style=\"fill: #1f77b4; stroke: #1f77b4\"/>\n     <use xlink:href=\"#m49ccbc8cfd\" x=\"75.745713\" y=\"41.92009\" style=\"fill: #1f77b4; stroke: #1f77b4\"/>\n     <use xlink:href=\"#m49ccbc8cfd\" x=\"160.804985\" y=\"76.340449\" style=\"fill: #1f77b4; stroke: #1f77b4\"/>\n     <use xlink:href=\"#m49ccbc8cfd\" x=\"140.237137\" y=\"72.878593\" style=\"fill: #1f77b4; stroke: #1f77b4\"/>\n     <use xlink:href=\"#m49ccbc8cfd\" x=\"171.772379\" y=\"71.571859\" style=\"fill: #1f77b4; stroke: #1f77b4\"/>\n     <use xlink:href=\"#m49ccbc8cfd\" x=\"131.320139\" y=\"72.276026\" style=\"fill: #1f77b4; stroke: #1f77b4\"/>\n     <use xlink:href=\"#m49ccbc8cfd\" x=\"166.426587\" y=\"81.461012\" style=\"fill: #1f77b4; stroke: #1f77b4\"/>\n     <use xlink:href=\"#m49ccbc8cfd\" x=\"78.184361\" y=\"56.576615\" style=\"fill: #1f77b4; stroke: #1f77b4\"/>\n     <use xlink:href=\"#m49ccbc8cfd\" x=\"141.066838\" y=\"81.588602\" style=\"fill: #1f77b4; stroke: #1f77b4\"/>\n     <use xlink:href=\"#m49ccbc8cfd\" x=\"164.129217\" y=\"94.260097\" style=\"fill: #1f77b4; stroke: #1f77b4\"/>\n     <use xlink:href=\"#m49ccbc8cfd\" x=\"107.495233\" y=\"51.067458\" style=\"fill: #1f77b4; stroke: #1f77b4\"/>\n     <use xlink:href=\"#m49ccbc8cfd\" x=\"152.508374\" y=\"64.566154\" style=\"fill: #1f77b4; stroke: #1f77b4\"/>\n     <use xlink:href=\"#m49ccbc8cfd\" x=\"100.164337\" y=\"59.728123\" style=\"fill: #1f77b4; stroke: #1f77b4\"/>\n     <use xlink:href=\"#m49ccbc8cfd\" x=\"146.890507\" y=\"77.620563\" style=\"fill: #1f77b4; stroke: #1f77b4\"/>\n     <use xlink:href=\"#m49ccbc8cfd\" x=\"100.26378\" y=\"37.814474\" style=\"fill: #1f77b4; stroke: #1f77b4\"/>\n     <use xlink:href=\"#m49ccbc8cfd\" x=\"121.166283\" y=\"84.458164\" style=\"fill: #1f77b4; stroke: #1f77b4\"/>\n     <use xlink:href=\"#m49ccbc8cfd\" x=\"144.923125\" y=\"76.665795\" style=\"fill: #1f77b4; stroke: #1f77b4\"/>\n     <use xlink:href=\"#m49ccbc8cfd\" x=\"122.602314\" y=\"70.983723\" style=\"fill: #1f77b4; stroke: #1f77b4\"/>\n     <use xlink:href=\"#m49ccbc8cfd\" x=\"87.080957\" y=\"41.199396\" style=\"fill: #1f77b4; stroke: #1f77b4\"/>\n     <use xlink:href=\"#m49ccbc8cfd\" x=\"101.101319\" y=\"52.427388\" style=\"fill: #1f77b4; stroke: #1f77b4\"/>\n     <use xlink:href=\"#m49ccbc8cfd\" x=\"171.512096\" y=\"97.030732\" style=\"fill: #1f77b4; stroke: #1f77b4\"/>\n     <use xlink:href=\"#m49ccbc8cfd\" x=\"113.486878\" y=\"77.279537\" style=\"fill: #1f77b4; stroke: #1f77b4\"/>\n     <use xlink:href=\"#m49ccbc8cfd\" x=\"117.383749\" y=\"65.48899\" style=\"fill: #1f77b4; stroke: #1f77b4\"/>\n     <use xlink:href=\"#m49ccbc8cfd\" x=\"130.86947\" y=\"76.784673\" style=\"fill: #1f77b4; stroke: #1f77b4\"/>\n     <use xlink:href=\"#m49ccbc8cfd\" x=\"143.160667\" y=\"75.468088\" style=\"fill: #1f77b4; stroke: #1f77b4\"/>\n     <use xlink:href=\"#m49ccbc8cfd\" x=\"164.577454\" y=\"91.098236\" style=\"fill: #1f77b4; stroke: #1f77b4\"/>\n     <use xlink:href=\"#m49ccbc8cfd\" x=\"123.147818\" y=\"74.543686\" style=\"fill: #1f77b4; stroke: #1f77b4\"/>\n     <use xlink:href=\"#m49ccbc8cfd\" x=\"126.166869\" y=\"73.322624\" style=\"fill: #1f77b4; stroke: #1f77b4\"/>\n     <use xlink:href=\"#m49ccbc8cfd\" x=\"106.459244\" y=\"73.247013\" style=\"fill: #1f77b4; stroke: #1f77b4\"/>\n     <use xlink:href=\"#m49ccbc8cfd\" x=\"146.759414\" y=\"88.046271\" style=\"fill: #1f77b4; stroke: #1f77b4\"/>\n     <use xlink:href=\"#m49ccbc8cfd\" x=\"127.481612\" y=\"89.783618\" style=\"fill: #1f77b4; stroke: #1f77b4\"/>\n     <use xlink:href=\"#m49ccbc8cfd\" x=\"119.357573\" y=\"54.279625\" style=\"fill: #1f77b4; stroke: #1f77b4\"/>\n     <use xlink:href=\"#m49ccbc8cfd\" x=\"136.344694\" y=\"85.38038\" style=\"fill: #1f77b4; stroke: #1f77b4\"/>\n     <use xlink:href=\"#m49ccbc8cfd\" x=\"168.03262\" y=\"94.276719\" style=\"fill: #1f77b4; stroke: #1f77b4\"/>\n     <use xlink:href=\"#m49ccbc8cfd\" x=\"111.677745\" y=\"65.865994\" style=\"fill: #1f77b4; stroke: #1f77b4\"/>\n     <use xlink:href=\"#m49ccbc8cfd\" x=\"159.644055\" y=\"92.332068\" style=\"fill: #1f77b4; stroke: #1f77b4\"/>\n     <use xlink:href=\"#m49ccbc8cfd\" x=\"149.382732\" y=\"65.473082\" style=\"fill: #1f77b4; stroke: #1f77b4\"/>\n     <use xlink:href=\"#m49ccbc8cfd\" x=\"105.124127\" y=\"59.928413\" style=\"fill: #1f77b4; stroke: #1f77b4\"/>\n     <use xlink:href=\"#m49ccbc8cfd\" x=\"164.988295\" y=\"78.304551\" style=\"fill: #1f77b4; stroke: #1f77b4\"/>\n     <use xlink:href=\"#m49ccbc8cfd\" x=\"162.357921\" y=\"81.510493\" style=\"fill: #1f77b4; stroke: #1f77b4\"/>\n     <use xlink:href=\"#m49ccbc8cfd\" x=\"156.129159\" y=\"81.198246\" style=\"fill: #1f77b4; stroke: #1f77b4\"/>\n     <use xlink:href=\"#m49ccbc8cfd\" x=\"111.991964\" y=\"71.779545\" style=\"fill: #1f77b4; stroke: #1f77b4\"/>\n     <use xlink:href=\"#m49ccbc8cfd\" x=\"114.836598\" y=\"67.41858\" style=\"fill: #1f77b4; stroke: #1f77b4\"/>\n     <use xlink:href=\"#m49ccbc8cfd\" x=\"129.982547\" y=\"92.135456\" style=\"fill: #1f77b4; stroke: #1f77b4\"/>\n     <use xlink:href=\"#m49ccbc8cfd\" x=\"172.12759\" y=\"103.934676\" style=\"fill: #1f77b4; stroke: #1f77b4\"/>\n     <use xlink:href=\"#m49ccbc8cfd\" x=\"97.483643\" y=\"57.804053\" style=\"fill: #1f77b4; stroke: #1f77b4\"/>\n     <use xlink:href=\"#m49ccbc8cfd\" x=\"114.869266\" y=\"57.024217\" style=\"fill: #1f77b4; stroke: #1f77b4\"/>\n     <use xlink:href=\"#m49ccbc8cfd\" x=\"133.979169\" y=\"73.383539\" style=\"fill: #1f77b4; stroke: #1f77b4\"/>\n     <use xlink:href=\"#m49ccbc8cfd\" x=\"63.009156\" y=\"43.115282\" style=\"fill: #1f77b4; stroke: #1f77b4\"/>\n     <use xlink:href=\"#m49ccbc8cfd\" x=\"116.357394\" y=\"73.155338\" style=\"fill: #1f77b4; stroke: #1f77b4\"/>\n     <use xlink:href=\"#m49ccbc8cfd\" x=\"145.024793\" y=\"92.576104\" style=\"fill: #1f77b4; stroke: #1f77b4\"/>\n     <use xlink:href=\"#m49ccbc8cfd\" x=\"144.11329\" y=\"89.156159\" style=\"fill: #1f77b4; stroke: #1f77b4\"/>\n     <use xlink:href=\"#m49ccbc8cfd\" x=\"132.916901\" y=\"64.698685\" style=\"fill: #1f77b4; stroke: #1f77b4\"/>\n     <use xlink:href=\"#m49ccbc8cfd\" x=\"64.014368\" y=\"19.79084\" style=\"fill: #1f77b4; stroke: #1f77b4\"/>\n     <use xlink:href=\"#m49ccbc8cfd\" x=\"127.797346\" y=\"67.408845\" style=\"fill: #1f77b4; stroke: #1f77b4\"/>\n     <use xlink:href=\"#m49ccbc8cfd\" x=\"118.204663\" y=\"70.964538\" style=\"fill: #1f77b4; stroke: #1f77b4\"/>\n     <use xlink:href=\"#m49ccbc8cfd\" x=\"164.438929\" y=\"89.726993\" style=\"fill: #1f77b4; stroke: #1f77b4\"/>\n     <use xlink:href=\"#m49ccbc8cfd\" x=\"123.888136\" y=\"74.050086\" style=\"fill: #1f77b4; stroke: #1f77b4\"/>\n     <use xlink:href=\"#m49ccbc8cfd\" x=\"141.96094\" y=\"93.040084\" style=\"fill: #1f77b4; stroke: #1f77b4\"/>\n     <use xlink:href=\"#m49ccbc8cfd\" x=\"96.930401\" y=\"48.771346\" style=\"fill: #1f77b4; stroke: #1f77b4\"/>\n     <use xlink:href=\"#m49ccbc8cfd\" x=\"143.943955\" y=\"89.832333\" style=\"fill: #1f77b4; stroke: #1f77b4\"/>\n     <use xlink:href=\"#m49ccbc8cfd\" x=\"127.69514\" y=\"61.37243\" style=\"fill: #1f77b4; stroke: #1f77b4\"/>\n     <use xlink:href=\"#m49ccbc8cfd\" x=\"104.054706\" y=\"42.197181\" style=\"fill: #1f77b4; stroke: #1f77b4\"/>\n     <use xlink:href=\"#m49ccbc8cfd\" x=\"154.186752\" y=\"92.674758\" style=\"fill: #1f77b4; stroke: #1f77b4\"/>\n     <use xlink:href=\"#m49ccbc8cfd\" x=\"122.803638\" y=\"84.188306\" style=\"fill: #1f77b4; stroke: #1f77b4\"/>\n     <use xlink:href=\"#m49ccbc8cfd\" x=\"162.502161\" y=\"90.721232\" style=\"fill: #1f77b4; stroke: #1f77b4\"/>\n     <use xlink:href=\"#m49ccbc8cfd\" x=\"157.480276\" y=\"83.203126\" style=\"fill: #1f77b4; stroke: #1f77b4\"/>\n     <use xlink:href=\"#m49ccbc8cfd\" x=\"136.379682\" y=\"82.483882\" style=\"fill: #1f77b4; stroke: #1f77b4\"/>\n     <use xlink:href=\"#m49ccbc8cfd\" x=\"147.841337\" y=\"95.673939\" style=\"fill: #1f77b4; stroke: #1f77b4\"/>\n     <use xlink:href=\"#m49ccbc8cfd\" x=\"157.367836\" y=\"79.604434\" style=\"fill: #1f77b4; stroke: #1f77b4\"/>\n     <use xlink:href=\"#m49ccbc8cfd\" x=\"165.731764\" y=\"98.644431\" style=\"fill: #1f77b4; stroke: #1f77b4\"/>\n     <use xlink:href=\"#m49ccbc8cfd\" x=\"159.029069\" y=\"91.226833\" style=\"fill: #1f77b4; stroke: #1f77b4\"/>\n     <use xlink:href=\"#m49ccbc8cfd\" x=\"112.787583\" y=\"71.827003\" style=\"fill: #1f77b4; stroke: #1f77b4\"/>\n     <use xlink:href=\"#m49ccbc8cfd\" x=\"82.159547\" y=\"59.869634\" style=\"fill: #1f77b4; stroke: #1f77b4\"/>\n     <use xlink:href=\"#m49ccbc8cfd\" x=\"132.994257\" y=\"91.750233\" style=\"fill: #1f77b4; stroke: #1f77b4\"/>\n     <use xlink:href=\"#m49ccbc8cfd\" x=\"146.55701\" y=\"88.749185\" style=\"fill: #1f77b4; stroke: #1f77b4\"/>\n     <use xlink:href=\"#m49ccbc8cfd\" x=\"103.851066\" y=\"68.297558\" style=\"fill: #1f77b4; stroke: #1f77b4\"/>\n     <use xlink:href=\"#m49ccbc8cfd\" x=\"139.569771\" y=\"96.907028\" style=\"fill: #1f77b4; stroke: #1f77b4\"/>\n     <use xlink:href=\"#m49ccbc8cfd\" x=\"111.345042\" y=\"57.748319\" style=\"fill: #1f77b4; stroke: #1f77b4\"/>\n     <use xlink:href=\"#m49ccbc8cfd\" x=\"88.829655\" y=\"59.978085\" style=\"fill: #1f77b4; stroke: #1f77b4\"/>\n     <use xlink:href=\"#m49ccbc8cfd\" x=\"221.727415\" y=\"139.5\" style=\"fill: #1f77b4; stroke: #1f77b4\"/>\n     <use xlink:href=\"#m49ccbc8cfd\" x=\"110.164441\" y=\"57.566805\" style=\"fill: #1f77b4; stroke: #1f77b4\"/>\n     <use xlink:href=\"#m49ccbc8cfd\" x=\"128.240035\" y=\"77.821352\" style=\"fill: #1f77b4; stroke: #1f77b4\"/>\n     <use xlink:href=\"#m49ccbc8cfd\" x=\"143.922098\" y=\"86.81409\" style=\"fill: #1f77b4; stroke: #1f77b4\"/>\n     <use xlink:href=\"#m49ccbc8cfd\" x=\"131.853727\" y=\"94.800709\" style=\"fill: #1f77b4; stroke: #1f77b4\"/>\n     <use xlink:href=\"#m49ccbc8cfd\" x=\"144.328705\" y=\"77.4949\" style=\"fill: #1f77b4; stroke: #1f77b4\"/>\n     <use xlink:href=\"#m49ccbc8cfd\" x=\"114.641948\" y=\"78.53134\" style=\"fill: #1f77b4; stroke: #1f77b4\"/>\n     <use xlink:href=\"#m49ccbc8cfd\" x=\"152.60585\" y=\"93.954575\" style=\"fill: #1f77b4; stroke: #1f77b4\"/>\n     <use xlink:href=\"#m49ccbc8cfd\" x=\"133.963137\" y=\"75.127954\" style=\"fill: #1f77b4; stroke: #1f77b4\"/>\n     <use xlink:href=\"#m49ccbc8cfd\" x=\"130.134151\" y=\"72.490797\" style=\"fill: #1f77b4; stroke: #1f77b4\"/>\n     <use xlink:href=\"#m49ccbc8cfd\" x=\"116.051147\" y=\"66.30839\" style=\"fill: #1f77b4; stroke: #1f77b4\"/>\n     <use xlink:href=\"#m49ccbc8cfd\" x=\"150.723997\" y=\"81.713835\" style=\"fill: #1f77b4; stroke: #1f77b4\"/>\n     <use xlink:href=\"#m49ccbc8cfd\" x=\"165.124781\" y=\"90.90285\" style=\"fill: #1f77b4; stroke: #1f77b4\"/>\n     <use xlink:href=\"#m49ccbc8cfd\" x=\"149.883649\" y=\"96.240205\" style=\"fill: #1f77b4; stroke: #1f77b4\"/>\n     <use xlink:href=\"#m49ccbc8cfd\" x=\"154.477723\" y=\"102.744524\" style=\"fill: #1f77b4; stroke: #1f77b4\"/>\n     <use xlink:href=\"#m49ccbc8cfd\" x=\"107.71619\" y=\"61.345305\" style=\"fill: #1f77b4; stroke: #1f77b4\"/>\n     <use xlink:href=\"#m49ccbc8cfd\" x=\"156.502769\" y=\"91.874174\" style=\"fill: #1f77b4; stroke: #1f77b4\"/>\n     <use xlink:href=\"#m49ccbc8cfd\" x=\"107.407847\" y=\"62.732743\" style=\"fill: #1f77b4; stroke: #1f77b4\"/>\n     <use xlink:href=\"#m49ccbc8cfd\" x=\"160.417816\" y=\"92.636593\" style=\"fill: #1f77b4; stroke: #1f77b4\"/>\n     <use xlink:href=\"#m49ccbc8cfd\" x=\"125.077679\" y=\"82.020356\" style=\"fill: #1f77b4; stroke: #1f77b4\"/>\n     <use xlink:href=\"#m49ccbc8cfd\" x=\"97.101769\" y=\"49.183023\" style=\"fill: #1f77b4; stroke: #1f77b4\"/>\n     <use xlink:href=\"#m49ccbc8cfd\" x=\"113.332587\" y=\"67.652325\" style=\"fill: #1f77b4; stroke: #1f77b4\"/>\n     <use xlink:href=\"#m49ccbc8cfd\" x=\"163.228593\" y=\"74.559637\" style=\"fill: #1f77b4; stroke: #1f77b4\"/>\n     <use xlink:href=\"#m49ccbc8cfd\" x=\"80.232328\" y=\"54.377564\" style=\"fill: #1f77b4; stroke: #1f77b4\"/>\n     <use xlink:href=\"#m49ccbc8cfd\" x=\"140.725517\" y=\"65.697317\" style=\"fill: #1f77b4; stroke: #1f77b4\"/>\n     <use xlink:href=\"#m49ccbc8cfd\" x=\"105.541197\" y=\"72.039441\" style=\"fill: #1f77b4; stroke: #1f77b4\"/>\n     <use xlink:href=\"#m49ccbc8cfd\" x=\"159.242019\" y=\"93.915063\" style=\"fill: #1f77b4; stroke: #1f77b4\"/>\n     <use xlink:href=\"#m49ccbc8cfd\" x=\"71.419043\" y=\"44.108944\" style=\"fill: #1f77b4; stroke: #1f77b4\"/>\n     <use xlink:href=\"#m49ccbc8cfd\" x=\"126.270509\" y=\"72.535339\" style=\"fill: #1f77b4; stroke: #1f77b4\"/>\n     <use xlink:href=\"#m49ccbc8cfd\" x=\"149.062438\" y=\"92.081852\" style=\"fill: #1f77b4; stroke: #1f77b4\"/>\n     <use xlink:href=\"#m49ccbc8cfd\" x=\"139.67724\" y=\"81.057801\" style=\"fill: #1f77b4; stroke: #1f77b4\"/>\n     <use xlink:href=\"#m49ccbc8cfd\" x=\"149.839069\" y=\"97.467124\" style=\"fill: #1f77b4; stroke: #1f77b4\"/>\n     <use xlink:href=\"#m49ccbc8cfd\" x=\"117.678185\" y=\"52.469859\" style=\"fill: #1f77b4; stroke: #1f77b4\"/>\n     <use xlink:href=\"#m49ccbc8cfd\" x=\"150.016813\" y=\"71.646281\" style=\"fill: #1f77b4; stroke: #1f77b4\"/>\n     <use xlink:href=\"#m49ccbc8cfd\" x=\"124.071018\" y=\"76.043857\" style=\"fill: #1f77b4; stroke: #1f77b4\"/>\n     <use xlink:href=\"#m49ccbc8cfd\" x=\"182.501981\" y=\"98.181299\" style=\"fill: #1f77b4; stroke: #1f77b4\"/>\n     <use xlink:href=\"#m49ccbc8cfd\" x=\"124.159815\" y=\"61.926334\" style=\"fill: #1f77b4; stroke: #1f77b4\"/>\n     <use xlink:href=\"#m49ccbc8cfd\" x=\"120.505055\" y=\"81.415026\" style=\"fill: #1f77b4; stroke: #1f77b4\"/>\n     <use xlink:href=\"#m49ccbc8cfd\" x=\"101.789581\" y=\"55.541626\" style=\"fill: #1f77b4; stroke: #1f77b4\"/>\n     <use xlink:href=\"#m49ccbc8cfd\" x=\"180.314038\" y=\"110.620657\" style=\"fill: #1f77b4; stroke: #1f77b4\"/>\n     <use xlink:href=\"#m49ccbc8cfd\" x=\"134.426859\" y=\"72.350017\" style=\"fill: #1f77b4; stroke: #1f77b4\"/>\n     <use xlink:href=\"#m49ccbc8cfd\" x=\"145.102862\" y=\"86.9733\" style=\"fill: #1f77b4; stroke: #1f77b4\"/>\n     <use xlink:href=\"#m49ccbc8cfd\" x=\"151.647193\" y=\"97.958849\" style=\"fill: #1f77b4; stroke: #1f77b4\"/>\n     <use xlink:href=\"#m49ccbc8cfd\" x=\"113.371127\" y=\"58.365201\" style=\"fill: #1f77b4; stroke: #1f77b4\"/>\n     <use xlink:href=\"#m49ccbc8cfd\" x=\"120.016758\" y=\"67.077874\" style=\"fill: #1f77b4; stroke: #1f77b4\"/>\n     <use xlink:href=\"#m49ccbc8cfd\" x=\"121.041721\" y=\"65.99659\" style=\"fill: #1f77b4; stroke: #1f77b4\"/>\n     <use xlink:href=\"#m49ccbc8cfd\" x=\"89.986136\" y=\"39.567571\" style=\"fill: #1f77b4; stroke: #1f77b4\"/>\n     <use xlink:href=\"#m49ccbc8cfd\" x=\"122.02073\" y=\"76.642502\" style=\"fill: #1f77b4; stroke: #1f77b4\"/>\n     <use xlink:href=\"#m49ccbc8cfd\" x=\"164.276212\" y=\"71.619982\" style=\"fill: #1f77b4; stroke: #1f77b4\"/>\n     <use xlink:href=\"#m49ccbc8cfd\" x=\"151.202453\" y=\"80.354816\" style=\"fill: #1f77b4; stroke: #1f77b4\"/>\n     <use xlink:href=\"#m49ccbc8cfd\" x=\"130.722533\" y=\"58.782068\" style=\"fill: #1f77b4; stroke: #1f77b4\"/>\n     <use xlink:href=\"#m49ccbc8cfd\" x=\"123.751713\" y=\"91.210599\" style=\"fill: #1f77b4; stroke: #1f77b4\"/>\n     <use xlink:href=\"#m49ccbc8cfd\" x=\"101.554512\" y=\"60.673075\" style=\"fill: #1f77b4; stroke: #1f77b4\"/>\n     <use xlink:href=\"#m49ccbc8cfd\" x=\"136.349059\" y=\"79.537701\" style=\"fill: #1f77b4; stroke: #1f77b4\"/>\n     <use xlink:href=\"#m49ccbc8cfd\" x=\"89.130201\" y=\"38.267406\" style=\"fill: #1f77b4; stroke: #1f77b4\"/>\n     <use xlink:href=\"#m49ccbc8cfd\" x=\"150.606091\" y=\"92.824871\" style=\"fill: #1f77b4; stroke: #1f77b4\"/>\n     <use xlink:href=\"#m49ccbc8cfd\" x=\"138.944898\" y=\"82.584497\" style=\"fill: #1f77b4; stroke: #1f77b4\"/>\n     <use xlink:href=\"#m49ccbc8cfd\" x=\"141.911976\" y=\"98.1553\" style=\"fill: #1f77b4; stroke: #1f77b4\"/>\n     <use xlink:href=\"#m49ccbc8cfd\" x=\"97.186439\" y=\"53.198542\" style=\"fill: #1f77b4; stroke: #1f77b4\"/>\n     <use xlink:href=\"#m49ccbc8cfd\" x=\"132.537176\" y=\"63.15107\" style=\"fill: #1f77b4; stroke: #1f77b4\"/>\n     <use xlink:href=\"#m49ccbc8cfd\" x=\"103.164164\" y=\"49.636803\" style=\"fill: #1f77b4; stroke: #1f77b4\"/>\n     <use xlink:href=\"#m49ccbc8cfd\" x=\"109.471008\" y=\"65.943846\" style=\"fill: #1f77b4; stroke: #1f77b4\"/>\n     <use xlink:href=\"#m49ccbc8cfd\" x=\"112.44543\" y=\"75.35123\" style=\"fill: #1f77b4; stroke: #1f77b4\"/>\n     <use xlink:href=\"#m49ccbc8cfd\" x=\"102.888083\" y=\"59.984576\" style=\"fill: #1f77b4; stroke: #1f77b4\"/>\n     <use xlink:href=\"#m49ccbc8cfd\" x=\"124.580564\" y=\"78.34558\" style=\"fill: #1f77b4; stroke: #1f77b4\"/>\n     <use xlink:href=\"#m49ccbc8cfd\" x=\"152.562586\" y=\"100.255827\" style=\"fill: #1f77b4; stroke: #1f77b4\"/>\n     <use xlink:href=\"#m49ccbc8cfd\" x=\"111.925425\" y=\"69.806528\" style=\"fill: #1f77b4; stroke: #1f77b4\"/>\n     <use xlink:href=\"#m49ccbc8cfd\" x=\"146.218388\" y=\"83.9818\" style=\"fill: #1f77b4; stroke: #1f77b4\"/>\n     <use xlink:href=\"#m49ccbc8cfd\" x=\"161.404357\" y=\"95.706144\" style=\"fill: #1f77b4; stroke: #1f77b4\"/>\n     <use xlink:href=\"#m49ccbc8cfd\" x=\"129.4169\" y=\"75.098873\" style=\"fill: #1f77b4; stroke: #1f77b4\"/>\n     <use xlink:href=\"#m49ccbc8cfd\" x=\"140.918022\" y=\"87.763476\" style=\"fill: #1f77b4; stroke: #1f77b4\"/>\n     <use xlink:href=\"#m49ccbc8cfd\" x=\"104.456011\" y=\"57.0132\" style=\"fill: #1f77b4; stroke: #1f77b4\"/>\n     <use xlink:href=\"#m49ccbc8cfd\" x=\"149.849186\" y=\"96.44608\" style=\"fill: #1f77b4; stroke: #1f77b4\"/>\n     <use xlink:href=\"#m49ccbc8cfd\" x=\"69.163602\" y=\"26.487433\" style=\"fill: #1f77b4; stroke: #1f77b4\"/>\n     <use xlink:href=\"#m49ccbc8cfd\" x=\"152.684578\" y=\"89.084407\" style=\"fill: #1f77b4; stroke: #1f77b4\"/>\n     <use xlink:href=\"#m49ccbc8cfd\" x=\"139.084958\" y=\"78.861435\" style=\"fill: #1f77b4; stroke: #1f77b4\"/>\n     <use xlink:href=\"#m49ccbc8cfd\" x=\"110.98264\" y=\"64.635011\" style=\"fill: #1f77b4; stroke: #1f77b4\"/>\n     <use xlink:href=\"#m49ccbc8cfd\" x=\"108.896225\" y=\"53.921798\" style=\"fill: #1f77b4; stroke: #1f77b4\"/>\n     <use xlink:href=\"#m49ccbc8cfd\" x=\"162.563264\" y=\"88.285764\" style=\"fill: #1f77b4; stroke: #1f77b4\"/>\n     <use xlink:href=\"#m49ccbc8cfd\" x=\"83.167042\" y=\"33.942617\" style=\"fill: #1f77b4; stroke: #1f77b4\"/>\n     <use xlink:href=\"#m49ccbc8cfd\" x=\"135.910213\" y=\"80.081788\" style=\"fill: #1f77b4; stroke: #1f77b4\"/>\n     <use xlink:href=\"#m49ccbc8cfd\" x=\"122.264919\" y=\"59.357576\" style=\"fill: #1f77b4; stroke: #1f77b4\"/>\n     <use xlink:href=\"#m49ccbc8cfd\" x=\"90.198495\" y=\"37.895685\" style=\"fill: #1f77b4; stroke: #1f77b4\"/>\n     <use xlink:href=\"#m49ccbc8cfd\" x=\"113.411927\" y=\"74.085483\" style=\"fill: #1f77b4; stroke: #1f77b4\"/>\n     <use xlink:href=\"#m49ccbc8cfd\" x=\"160.203653\" y=\"99.01522\" style=\"fill: #1f77b4; stroke: #1f77b4\"/>\n     <use xlink:href=\"#m49ccbc8cfd\" x=\"131.940195\" y=\"72.235849\" style=\"fill: #1f77b4; stroke: #1f77b4\"/>\n     <use xlink:href=\"#m49ccbc8cfd\" x=\"137.081305\" y=\"72.137045\" style=\"fill: #1f77b4; stroke: #1f77b4\"/>\n     <use xlink:href=\"#m49ccbc8cfd\" x=\"117.67282\" y=\"78.730735\" style=\"fill: #1f77b4; stroke: #1f77b4\"/>\n     <use xlink:href=\"#m49ccbc8cfd\" x=\"151.954671\" y=\"75.496207\" style=\"fill: #1f77b4; stroke: #1f77b4\"/>\n     <use xlink:href=\"#m49ccbc8cfd\" x=\"108.145684\" y=\"54.033566\" style=\"fill: #1f77b4; stroke: #1f77b4\"/>\n     <use xlink:href=\"#m49ccbc8cfd\" x=\"123.585276\" y=\"78.905137\" style=\"fill: #1f77b4; stroke: #1f77b4\"/>\n     <use xlink:href=\"#m49ccbc8cfd\" x=\"139.155787\" y=\"91.811268\" style=\"fill: #1f77b4; stroke: #1f77b4\"/>\n     <use xlink:href=\"#m49ccbc8cfd\" x=\"135.596198\" y=\"84.937439\" style=\"fill: #1f77b4; stroke: #1f77b4\"/>\n     <use xlink:href=\"#m49ccbc8cfd\" x=\"126.330407\" y=\"62.996753\" style=\"fill: #1f77b4; stroke: #1f77b4\"/>\n     <use xlink:href=\"#m49ccbc8cfd\" x=\"110.626051\" y=\"66.710529\" style=\"fill: #1f77b4; stroke: #1f77b4\"/>\n     <use xlink:href=\"#m49ccbc8cfd\" x=\"121.176524\" y=\"71.713005\" style=\"fill: #1f77b4; stroke: #1f77b4\"/>\n     <use xlink:href=\"#m49ccbc8cfd\" x=\"105.041016\" y=\"67.623435\" style=\"fill: #1f77b4; stroke: #1f77b4\"/>\n     <use xlink:href=\"#m49ccbc8cfd\" x=\"190.503993\" y=\"116.236204\" style=\"fill: #1f77b4; stroke: #1f77b4\"/>\n     <use xlink:href=\"#m49ccbc8cfd\" x=\"131.042116\" y=\"81.474465\" style=\"fill: #1f77b4; stroke: #1f77b4\"/>\n     <use xlink:href=\"#m49ccbc8cfd\" x=\"118.865834\" y=\"81.812099\" style=\"fill: #1f77b4; stroke: #1f77b4\"/>\n     <use xlink:href=\"#m49ccbc8cfd\" x=\"125.452917\" y=\"75.429828\" style=\"fill: #1f77b4; stroke: #1f77b4\"/>\n     <use xlink:href=\"#m49ccbc8cfd\" x=\"107.230088\" y=\"63.038445\" style=\"fill: #1f77b4; stroke: #1f77b4\"/>\n     <use xlink:href=\"#m49ccbc8cfd\" x=\"184.961523\" y=\"115.641641\" style=\"fill: #1f77b4; stroke: #1f77b4\"/>\n     <use xlink:href=\"#m49ccbc8cfd\" x=\"113.188872\" y=\"47.03893\" style=\"fill: #1f77b4; stroke: #1f77b4\"/>\n     <use xlink:href=\"#m49ccbc8cfd\" x=\"120.358556\" y=\"65.963031\" style=\"fill: #1f77b4; stroke: #1f77b4\"/>\n     <use xlink:href=\"#m49ccbc8cfd\" x=\"140.066506\" y=\"65.403937\" style=\"fill: #1f77b4; stroke: #1f77b4\"/>\n     <use xlink:href=\"#m49ccbc8cfd\" x=\"161.138867\" y=\"102.209859\" style=\"fill: #1f77b4; stroke: #1f77b4\"/>\n     <use xlink:href=\"#m49ccbc8cfd\" x=\"115.965704\" y=\"84.25641\" style=\"fill: #1f77b4; stroke: #1f77b4\"/>\n     <use xlink:href=\"#m49ccbc8cfd\" x=\"133.839319\" y=\"87.989434\" style=\"fill: #1f77b4; stroke: #1f77b4\"/>\n     <use xlink:href=\"#m49ccbc8cfd\" x=\"99.063089\" y=\"45.821593\" style=\"fill: #1f77b4; stroke: #1f77b4\"/>\n     <use xlink:href=\"#m49ccbc8cfd\" x=\"194.89202\" y=\"103.315293\" style=\"fill: #1f77b4; stroke: #1f77b4\"/>\n     <use xlink:href=\"#m49ccbc8cfd\" x=\"129.306976\" y=\"83.859777\" style=\"fill: #1f77b4; stroke: #1f77b4\"/>\n     <use xlink:href=\"#m49ccbc8cfd\" x=\"131.774884\" y=\"87.363367\" style=\"fill: #1f77b4; stroke: #1f77b4\"/>\n     <use xlink:href=\"#m49ccbc8cfd\" x=\"136.960019\" y=\"92.969128\" style=\"fill: #1f77b4; stroke: #1f77b4\"/>\n     <use xlink:href=\"#m49ccbc8cfd\" x=\"75.081186\" y=\"50.739995\" style=\"fill: #1f77b4; stroke: #1f77b4\"/>\n     <use xlink:href=\"#m49ccbc8cfd\" x=\"103.20005\" y=\"82.91858\" style=\"fill: #1f77b4; stroke: #1f77b4\"/>\n     <use xlink:href=\"#m49ccbc8cfd\" x=\"110.167226\" y=\"65.111337\" style=\"fill: #1f77b4; stroke: #1f77b4\"/>\n     <use xlink:href=\"#m49ccbc8cfd\" x=\"155.351509\" y=\"88.082976\" style=\"fill: #1f77b4; stroke: #1f77b4\"/>\n     <use xlink:href=\"#m49ccbc8cfd\" x=\"137.469004\" y=\"76.069651\" style=\"fill: #1f77b4; stroke: #1f77b4\"/>\n     <use xlink:href=\"#m49ccbc8cfd\" x=\"135.63032\" y=\"80.095013\" style=\"fill: #1f77b4; stroke: #1f77b4\"/>\n     <use xlink:href=\"#m49ccbc8cfd\" x=\"128.280911\" y=\"84.254704\" style=\"fill: #1f77b4; stroke: #1f77b4\"/>\n     <use xlink:href=\"#m49ccbc8cfd\" x=\"138.98138\" y=\"77.503942\" style=\"fill: #1f77b4; stroke: #1f77b4\"/>\n     <use xlink:href=\"#m49ccbc8cfd\" x=\"138.531617\" y=\"105.029403\" style=\"fill: #1f77b4; stroke: #1f77b4\"/>\n     <use xlink:href=\"#m49ccbc8cfd\" x=\"177.944576\" y=\"92.765005\" style=\"fill: #1f77b4; stroke: #1f77b4\"/>\n     <use xlink:href=\"#m49ccbc8cfd\" x=\"78.169994\" y=\"25.256685\" style=\"fill: #1f77b4; stroke: #1f77b4\"/>\n     <use xlink:href=\"#m49ccbc8cfd\" x=\"111.651416\" y=\"66.238471\" style=\"fill: #1f77b4; stroke: #1f77b4\"/>\n     <use xlink:href=\"#m49ccbc8cfd\" x=\"132.202444\" y=\"80.768389\" style=\"fill: #1f77b4; stroke: #1f77b4\"/>\n     <use xlink:href=\"#m49ccbc8cfd\" x=\"162.020915\" y=\"83.581868\" style=\"fill: #1f77b4; stroke: #1f77b4\"/>\n     <use xlink:href=\"#m49ccbc8cfd\" x=\"129.94175\" y=\"77.260324\" style=\"fill: #1f77b4; stroke: #1f77b4\"/>\n     <use xlink:href=\"#m49ccbc8cfd\" x=\"94.646584\" y=\"77.561365\" style=\"fill: #1f77b4; stroke: #1f77b4\"/>\n     <use xlink:href=\"#m49ccbc8cfd\" x=\"104.070266\" y=\"77.732715\" style=\"fill: #1f77b4; stroke: #1f77b4\"/>\n     <use xlink:href=\"#m49ccbc8cfd\" x=\"130.969396\" y=\"90.672611\" style=\"fill: #1f77b4; stroke: #1f77b4\"/>\n     <use xlink:href=\"#m49ccbc8cfd\" x=\"141.144513\" y=\"82.898241\" style=\"fill: #1f77b4; stroke: #1f77b4\"/>\n     <use xlink:href=\"#m49ccbc8cfd\" x=\"128.965706\" y=\"66.236022\" style=\"fill: #1f77b4; stroke: #1f77b4\"/>\n     <use xlink:href=\"#m49ccbc8cfd\" x=\"149.591636\" y=\"93.264586\" style=\"fill: #1f77b4; stroke: #1f77b4\"/>\n     <use xlink:href=\"#m49ccbc8cfd\" x=\"125.483449\" y=\"91.577355\" style=\"fill: #1f77b4; stroke: #1f77b4\"/>\n     <use xlink:href=\"#m49ccbc8cfd\" x=\"121.425742\" y=\"59.585634\" style=\"fill: #1f77b4; stroke: #1f77b4\"/>\n     <use xlink:href=\"#m49ccbc8cfd\" x=\"133.384604\" y=\"61.576016\" style=\"fill: #1f77b4; stroke: #1f77b4\"/>\n     <use xlink:href=\"#m49ccbc8cfd\" x=\"143.640501\" y=\"73.42832\" style=\"fill: #1f77b4; stroke: #1f77b4\"/>\n     <use xlink:href=\"#m49ccbc8cfd\" x=\"105.678259\" y=\"43.049638\" style=\"fill: #1f77b4; stroke: #1f77b4\"/>\n     <use xlink:href=\"#m49ccbc8cfd\" x=\"106.705058\" y=\"67.859702\" style=\"fill: #1f77b4; stroke: #1f77b4\"/>\n     <use xlink:href=\"#m49ccbc8cfd\" x=\"156.61411\" y=\"75.861891\" style=\"fill: #1f77b4; stroke: #1f77b4\"/>\n     <use xlink:href=\"#m49ccbc8cfd\" x=\"143.977553\" y=\"82.184285\" style=\"fill: #1f77b4; stroke: #1f77b4\"/>\n     <use xlink:href=\"#m49ccbc8cfd\" x=\"126.362722\" y=\"71.831008\" style=\"fill: #1f77b4; stroke: #1f77b4\"/>\n     <use xlink:href=\"#m49ccbc8cfd\" x=\"135.295106\" y=\"64.286708\" style=\"fill: #1f77b4; stroke: #1f77b4\"/>\n     <use xlink:href=\"#m49ccbc8cfd\" x=\"108.667646\" y=\"75.731216\" style=\"fill: #1f77b4; stroke: #1f77b4\"/>\n     <use xlink:href=\"#m49ccbc8cfd\" x=\"137.128033\" y=\"74.031493\" style=\"fill: #1f77b4; stroke: #1f77b4\"/>\n     <use xlink:href=\"#m49ccbc8cfd\" x=\"111.505846\" y=\"72.209256\" style=\"fill: #1f77b4; stroke: #1f77b4\"/>\n     <use xlink:href=\"#m49ccbc8cfd\" x=\"90.356354\" y=\"48.080536\" style=\"fill: #1f77b4; stroke: #1f77b4\"/>\n     <use xlink:href=\"#m49ccbc8cfd\" x=\"129.683756\" y=\"73.600151\" style=\"fill: #1f77b4; stroke: #1f77b4\"/>\n     <use xlink:href=\"#m49ccbc8cfd\" x=\"177.501587\" y=\"100.368624\" style=\"fill: #1f77b4; stroke: #1f77b4\"/>\n     <use xlink:href=\"#m49ccbc8cfd\" x=\"213.567756\" y=\"131.903304\" style=\"fill: #1f77b4; stroke: #1f77b4\"/>\n     <use xlink:href=\"#m49ccbc8cfd\" x=\"128.558616\" y=\"63.840862\" style=\"fill: #1f77b4; stroke: #1f77b4\"/>\n     <use xlink:href=\"#m49ccbc8cfd\" x=\"168.727374\" y=\"101.985762\" style=\"fill: #1f77b4; stroke: #1f77b4\"/>\n     <use xlink:href=\"#m49ccbc8cfd\" x=\"125.98386\" y=\"58.951285\" style=\"fill: #1f77b4; stroke: #1f77b4\"/>\n     <use xlink:href=\"#m49ccbc8cfd\" x=\"140.461099\" y=\"72.303423\" style=\"fill: #1f77b4; stroke: #1f77b4\"/>\n     <use xlink:href=\"#m49ccbc8cfd\" x=\"103.468768\" y=\"56.868456\" style=\"fill: #1f77b4; stroke: #1f77b4\"/>\n     <use xlink:href=\"#m49ccbc8cfd\" x=\"157.536915\" y=\"104.089511\" style=\"fill: #1f77b4; stroke: #1f77b4\"/>\n     <use xlink:href=\"#m49ccbc8cfd\" x=\"118.993651\" y=\"83.945875\" style=\"fill: #1f77b4; stroke: #1f77b4\"/>\n     <use xlink:href=\"#m49ccbc8cfd\" x=\"137.213673\" y=\"62.399092\" style=\"fill: #1f77b4; stroke: #1f77b4\"/>\n     <use xlink:href=\"#m49ccbc8cfd\" x=\"121.990042\" y=\"65.85567\" style=\"fill: #1f77b4; stroke: #1f77b4\"/>\n     <use xlink:href=\"#m49ccbc8cfd\" x=\"98.135882\" y=\"50.016951\" style=\"fill: #1f77b4; stroke: #1f77b4\"/>\n     <use xlink:href=\"#m49ccbc8cfd\" x=\"105.656167\" y=\"47.781456\" style=\"fill: #1f77b4; stroke: #1f77b4\"/>\n     <use xlink:href=\"#m49ccbc8cfd\" x=\"128.301981\" y=\"93.471066\" style=\"fill: #1f77b4; stroke: #1f77b4\"/>\n     <use xlink:href=\"#m49ccbc8cfd\" x=\"156.379905\" y=\"88.089795\" style=\"fill: #1f77b4; stroke: #1f77b4\"/>\n     <use xlink:href=\"#m49ccbc8cfd\" x=\"125.791912\" y=\"75.466508\" style=\"fill: #1f77b4; stroke: #1f77b4\"/>\n     <use xlink:href=\"#m49ccbc8cfd\" x=\"129.73835\" y=\"86.559224\" style=\"fill: #1f77b4; stroke: #1f77b4\"/>\n     <use xlink:href=\"#m49ccbc8cfd\" x=\"146.810339\" y=\"71.804908\" style=\"fill: #1f77b4; stroke: #1f77b4\"/>\n     <use xlink:href=\"#m49ccbc8cfd\" x=\"95.221189\" y=\"53.686607\" style=\"fill: #1f77b4; stroke: #1f77b4\"/>\n     <use xlink:href=\"#m49ccbc8cfd\" x=\"138.559788\" y=\"75.417512\" style=\"fill: #1f77b4; stroke: #1f77b4\"/>\n     <use xlink:href=\"#m49ccbc8cfd\" x=\"163.019308\" y=\"87.466615\" style=\"fill: #1f77b4; stroke: #1f77b4\"/>\n     <use xlink:href=\"#m49ccbc8cfd\" x=\"134.168966\" y=\"69.521882\" style=\"fill: #1f77b4; stroke: #1f77b4\"/>\n     <use xlink:href=\"#m49ccbc8cfd\" x=\"134.987153\" y=\"75.264093\" style=\"fill: #1f77b4; stroke: #1f77b4\"/>\n     <use xlink:href=\"#m49ccbc8cfd\" x=\"161.844701\" y=\"82.86424\" style=\"fill: #1f77b4; stroke: #1f77b4\"/>\n     <use xlink:href=\"#m49ccbc8cfd\" x=\"161.776214\" y=\"98.908545\" style=\"fill: #1f77b4; stroke: #1f77b4\"/>\n     <use xlink:href=\"#m49ccbc8cfd\" x=\"143.620478\" y=\"76.74536\" style=\"fill: #1f77b4; stroke: #1f77b4\"/>\n     <use xlink:href=\"#m49ccbc8cfd\" x=\"147.313337\" y=\"84.602563\" style=\"fill: #1f77b4; stroke: #1f77b4\"/>\n     <use xlink:href=\"#m49ccbc8cfd\" x=\"115.776902\" y=\"72.397687\" style=\"fill: #1f77b4; stroke: #1f77b4\"/>\n     <use xlink:href=\"#m49ccbc8cfd\" x=\"104.417172\" y=\"42.771994\" style=\"fill: #1f77b4; stroke: #1f77b4\"/>\n     <use xlink:href=\"#m49ccbc8cfd\" x=\"154.236562\" y=\"73.17404\" style=\"fill: #1f77b4; stroke: #1f77b4\"/>\n     <use xlink:href=\"#m49ccbc8cfd\" x=\"144.687623\" y=\"81.893587\" style=\"fill: #1f77b4; stroke: #1f77b4\"/>\n     <use xlink:href=\"#m49ccbc8cfd\" x=\"96.912768\" y=\"38.434107\" style=\"fill: #1f77b4; stroke: #1f77b4\"/>\n     <use xlink:href=\"#m49ccbc8cfd\" x=\"80.424933\" y=\"35.968585\" style=\"fill: #1f77b4; stroke: #1f77b4\"/>\n     <use xlink:href=\"#m49ccbc8cfd\" x=\"154.047688\" y=\"80.679452\" style=\"fill: #1f77b4; stroke: #1f77b4\"/>\n     <use xlink:href=\"#m49ccbc8cfd\" x=\"141.278337\" y=\"83.07566\" style=\"fill: #1f77b4; stroke: #1f77b4\"/>\n     <use xlink:href=\"#m49ccbc8cfd\" x=\"103.911584\" y=\"58.997464\" style=\"fill: #1f77b4; stroke: #1f77b4\"/>\n     <use xlink:href=\"#m49ccbc8cfd\" x=\"85.390664\" y=\"56.317125\" style=\"fill: #1f77b4; stroke: #1f77b4\"/>\n     <use xlink:href=\"#m49ccbc8cfd\" x=\"133.510149\" y=\"86.182421\" style=\"fill: #1f77b4; stroke: #1f77b4\"/>\n     <use xlink:href=\"#m49ccbc8cfd\" x=\"125.911327\" y=\"70.412504\" style=\"fill: #1f77b4; stroke: #1f77b4\"/>\n     <use xlink:href=\"#m49ccbc8cfd\" x=\"98.44529\" y=\"47.625398\" style=\"fill: #1f77b4; stroke: #1f77b4\"/>\n     <use xlink:href=\"#m49ccbc8cfd\" x=\"169.875817\" y=\"97.018349\" style=\"fill: #1f77b4; stroke: #1f77b4\"/>\n     <use xlink:href=\"#m49ccbc8cfd\" x=\"75.782547\" y=\"37.727616\" style=\"fill: #1f77b4; stroke: #1f77b4\"/>\n     <use xlink:href=\"#m49ccbc8cfd\" x=\"105.330898\" y=\"50.29466\" style=\"fill: #1f77b4; stroke: #1f77b4\"/>\n     <use xlink:href=\"#m49ccbc8cfd\" x=\"135.419414\" y=\"67.18644\" style=\"fill: #1f77b4; stroke: #1f77b4\"/>\n     <use xlink:href=\"#m49ccbc8cfd\" x=\"131.556493\" y=\"99.393229\" style=\"fill: #1f77b4; stroke: #1f77b4\"/>\n     <use xlink:href=\"#m49ccbc8cfd\" x=\"122.140763\" y=\"89.993895\" style=\"fill: #1f77b4; stroke: #1f77b4\"/>\n     <use xlink:href=\"#m49ccbc8cfd\" x=\"113.578684\" y=\"50.426698\" style=\"fill: #1f77b4; stroke: #1f77b4\"/>\n     <use xlink:href=\"#m49ccbc8cfd\" x=\"109.822871\" y=\"76.985216\" style=\"fill: #1f77b4; stroke: #1f77b4\"/>\n     <use xlink:href=\"#m49ccbc8cfd\" x=\"174.192283\" y=\"120.402389\" style=\"fill: #1f77b4; stroke: #1f77b4\"/>\n     <use xlink:href=\"#m49ccbc8cfd\" x=\"141.260278\" y=\"62.10344\" style=\"fill: #1f77b4; stroke: #1f77b4\"/>\n     <use xlink:href=\"#m49ccbc8cfd\" x=\"109.199083\" y=\"60.754746\" style=\"fill: #1f77b4; stroke: #1f77b4\"/>\n     <use xlink:href=\"#m49ccbc8cfd\" x=\"117.727517\" y=\"74.11081\" style=\"fill: #1f77b4; stroke: #1f77b4\"/>\n     <use xlink:href=\"#m49ccbc8cfd\" x=\"134.191498\" y=\"68.697764\" style=\"fill: #1f77b4; stroke: #1f77b4\"/>\n     <use xlink:href=\"#m49ccbc8cfd\" x=\"167.22341\" y=\"112.088797\" style=\"fill: #1f77b4; stroke: #1f77b4\"/>\n     <use xlink:href=\"#m49ccbc8cfd\" x=\"116.208491\" y=\"56.522583\" style=\"fill: #1f77b4; stroke: #1f77b4\"/>\n     <use xlink:href=\"#m49ccbc8cfd\" x=\"126.517776\" y=\"87.597822\" style=\"fill: #1f77b4; stroke: #1f77b4\"/>\n     <use xlink:href=\"#m49ccbc8cfd\" x=\"110.62441\" y=\"77.036137\" style=\"fill: #1f77b4; stroke: #1f77b4\"/>\n     <use xlink:href=\"#m49ccbc8cfd\" x=\"84.203889\" y=\"49.715374\" style=\"fill: #1f77b4; stroke: #1f77b4\"/>\n     <use xlink:href=\"#m49ccbc8cfd\" x=\"110.038175\" y=\"73.538206\" style=\"fill: #1f77b4; stroke: #1f77b4\"/>\n     <use xlink:href=\"#m49ccbc8cfd\" x=\"168.014997\" y=\"92.026683\" style=\"fill: #1f77b4; stroke: #1f77b4\"/>\n     <use xlink:href=\"#m49ccbc8cfd\" x=\"139.348802\" y=\"70.617578\" style=\"fill: #1f77b4; stroke: #1f77b4\"/>\n     <use xlink:href=\"#m49ccbc8cfd\" x=\"109.883382\" y=\"67.686374\" style=\"fill: #1f77b4; stroke: #1f77b4\"/>\n     <use xlink:href=\"#m49ccbc8cfd\" x=\"145.522535\" y=\"77.603101\" style=\"fill: #1f77b4; stroke: #1f77b4\"/>\n     <use xlink:href=\"#m49ccbc8cfd\" x=\"168.156134\" y=\"107.505564\" style=\"fill: #1f77b4; stroke: #1f77b4\"/>\n     <use xlink:href=\"#m49ccbc8cfd\" x=\"115.861818\" y=\"47.234359\" style=\"fill: #1f77b4; stroke: #1f77b4\"/>\n     <use xlink:href=\"#m49ccbc8cfd\" x=\"118.941215\" y=\"61.813461\" style=\"fill: #1f77b4; stroke: #1f77b4\"/>\n     <use xlink:href=\"#m49ccbc8cfd\" x=\"89.689491\" y=\"40.556272\" style=\"fill: #1f77b4; stroke: #1f77b4\"/>\n     <use xlink:href=\"#m49ccbc8cfd\" x=\"108.989799\" y=\"66.348136\" style=\"fill: #1f77b4; stroke: #1f77b4\"/>\n     <use xlink:href=\"#m49ccbc8cfd\" x=\"134.463293\" y=\"85.779089\" style=\"fill: #1f77b4; stroke: #1f77b4\"/>\n     <use xlink:href=\"#m49ccbc8cfd\" x=\"176.712848\" y=\"99.894711\" style=\"fill: #1f77b4; stroke: #1f77b4\"/>\n     <use xlink:href=\"#m49ccbc8cfd\" x=\"129.397523\" y=\"75.608822\" style=\"fill: #1f77b4; stroke: #1f77b4\"/>\n     <use xlink:href=\"#m49ccbc8cfd\" x=\"97.222667\" y=\"55.111369\" style=\"fill: #1f77b4; stroke: #1f77b4\"/>\n     <use xlink:href=\"#m49ccbc8cfd\" x=\"90.44811\" y=\"33.239387\" style=\"fill: #1f77b4; stroke: #1f77b4\"/>\n     <use xlink:href=\"#m49ccbc8cfd\" x=\"97.431972\" y=\"44.880905\" style=\"fill: #1f77b4; stroke: #1f77b4\"/>\n     <use xlink:href=\"#m49ccbc8cfd\" x=\"141.23065\" y=\"95.197704\" style=\"fill: #1f77b4; stroke: #1f77b4\"/>\n     <use xlink:href=\"#m49ccbc8cfd\" x=\"136.922124\" y=\"62.376528\" style=\"fill: #1f77b4; stroke: #1f77b4\"/>\n     <use xlink:href=\"#m49ccbc8cfd\" x=\"97.463232\" y=\"46.457926\" style=\"fill: #1f77b4; stroke: #1f77b4\"/>\n     <use xlink:href=\"#m49ccbc8cfd\" x=\"119.03941\" y=\"56.211553\" style=\"fill: #1f77b4; stroke: #1f77b4\"/>\n     <use xlink:href=\"#m49ccbc8cfd\" x=\"129.367874\" y=\"80.852432\" style=\"fill: #1f77b4; stroke: #1f77b4\"/>\n     <use xlink:href=\"#m49ccbc8cfd\" x=\"114.52056\" y=\"55.124679\" style=\"fill: #1f77b4; stroke: #1f77b4\"/>\n     <use xlink:href=\"#m49ccbc8cfd\" x=\"135.615352\" y=\"77.130502\" style=\"fill: #1f77b4; stroke: #1f77b4\"/>\n     <use xlink:href=\"#m49ccbc8cfd\" x=\"151.859489\" y=\"101.17703\" style=\"fill: #1f77b4; stroke: #1f77b4\"/>\n     <use xlink:href=\"#m49ccbc8cfd\" x=\"112.773339\" y=\"63.402847\" style=\"fill: #1f77b4; stroke: #1f77b4\"/>\n     <use xlink:href=\"#m49ccbc8cfd\" x=\"110.283455\" y=\"71.233539\" style=\"fill: #1f77b4; stroke: #1f77b4\"/>\n     <use xlink:href=\"#m49ccbc8cfd\" x=\"163.150997\" y=\"92.549695\" style=\"fill: #1f77b4; stroke: #1f77b4\"/>\n     <use xlink:href=\"#m49ccbc8cfd\" x=\"131.568995\" y=\"97.711043\" style=\"fill: #1f77b4; stroke: #1f77b4\"/>\n     <use xlink:href=\"#m49ccbc8cfd\" x=\"112.487241\" y=\"59.871165\" style=\"fill: #1f77b4; stroke: #1f77b4\"/>\n     <use xlink:href=\"#m49ccbc8cfd\" x=\"94.096777\" y=\"52.110023\" style=\"fill: #1f77b4; stroke: #1f77b4\"/>\n     <use xlink:href=\"#m49ccbc8cfd\" x=\"160.47621\" y=\"79.603903\" style=\"fill: #1f77b4; stroke: #1f77b4\"/>\n     <use xlink:href=\"#m49ccbc8cfd\" x=\"155.424676\" y=\"84.296568\" style=\"fill: #1f77b4; stroke: #1f77b4\"/>\n     <use xlink:href=\"#m49ccbc8cfd\" x=\"153.562575\" y=\"98.702872\" style=\"fill: #1f77b4; stroke: #1f77b4\"/>\n     <use xlink:href=\"#m49ccbc8cfd\" x=\"116.693783\" y=\"64.983841\" style=\"fill: #1f77b4; stroke: #1f77b4\"/>\n     <use xlink:href=\"#m49ccbc8cfd\" x=\"164.509947\" y=\"101.488336\" style=\"fill: #1f77b4; stroke: #1f77b4\"/>\n     <use xlink:href=\"#m49ccbc8cfd\" x=\"106.383484\" y=\"60.014221\" style=\"fill: #1f77b4; stroke: #1f77b4\"/>\n     <use xlink:href=\"#m49ccbc8cfd\" x=\"156.419186\" y=\"95.905098\" style=\"fill: #1f77b4; stroke: #1f77b4\"/>\n     <use xlink:href=\"#m49ccbc8cfd\" x=\"129.712085\" y=\"65.428393\" style=\"fill: #1f77b4; stroke: #1f77b4\"/>\n     <use xlink:href=\"#m49ccbc8cfd\" x=\"130.071803\" y=\"70.374294\" style=\"fill: #1f77b4; stroke: #1f77b4\"/>\n     <use xlink:href=\"#m49ccbc8cfd\" x=\"104.069995\" y=\"55.125245\" style=\"fill: #1f77b4; stroke: #1f77b4\"/>\n     <use xlink:href=\"#m49ccbc8cfd\" x=\"131.274469\" y=\"91.359187\" style=\"fill: #1f77b4; stroke: #1f77b4\"/>\n     <use xlink:href=\"#m49ccbc8cfd\" x=\"143.31104\" y=\"70.309874\" style=\"fill: #1f77b4; stroke: #1f77b4\"/>\n     <use xlink:href=\"#m49ccbc8cfd\" x=\"143.010862\" y=\"103.044348\" style=\"fill: #1f77b4; stroke: #1f77b4\"/>\n     <use xlink:href=\"#m49ccbc8cfd\" x=\"142.413486\" y=\"95.554545\" style=\"fill: #1f77b4; stroke: #1f77b4\"/>\n     <use xlink:href=\"#m49ccbc8cfd\" x=\"142.14976\" y=\"88.762082\" style=\"fill: #1f77b4; stroke: #1f77b4\"/>\n     <use xlink:href=\"#m49ccbc8cfd\" x=\"108.863084\" y=\"69.109145\" style=\"fill: #1f77b4; stroke: #1f77b4\"/>\n     <use xlink:href=\"#m49ccbc8cfd\" x=\"146.720854\" y=\"82.10529\" style=\"fill: #1f77b4; stroke: #1f77b4\"/>\n     <use xlink:href=\"#m49ccbc8cfd\" x=\"166.209673\" y=\"102.379249\" style=\"fill: #1f77b4; stroke: #1f77b4\"/>\n     <use xlink:href=\"#m49ccbc8cfd\" x=\"91.096791\" y=\"37.115593\" style=\"fill: #1f77b4; stroke: #1f77b4\"/>\n     <use xlink:href=\"#m49ccbc8cfd\" x=\"109.285231\" y=\"58.467661\" style=\"fill: #1f77b4; stroke: #1f77b4\"/>\n     <use xlink:href=\"#m49ccbc8cfd\" x=\"173.904252\" y=\"106.188279\" style=\"fill: #1f77b4; stroke: #1f77b4\"/>\n     <use xlink:href=\"#m49ccbc8cfd\" x=\"99.956887\" y=\"35.763804\" style=\"fill: #1f77b4; stroke: #1f77b4\"/>\n     <use xlink:href=\"#m49ccbc8cfd\" x=\"135.700603\" y=\"67.119414\" style=\"fill: #1f77b4; stroke: #1f77b4\"/>\n     <use xlink:href=\"#m49ccbc8cfd\" x=\"161.796475\" y=\"81.477464\" style=\"fill: #1f77b4; stroke: #1f77b4\"/>\n     <use xlink:href=\"#m49ccbc8cfd\" x=\"79.117111\" y=\"47.287762\" style=\"fill: #1f77b4; stroke: #1f77b4\"/>\n     <use xlink:href=\"#m49ccbc8cfd\" x=\"155.515243\" y=\"86.310341\" style=\"fill: #1f77b4; stroke: #1f77b4\"/>\n     <use xlink:href=\"#m49ccbc8cfd\" x=\"125.266427\" y=\"73.309676\" style=\"fill: #1f77b4; stroke: #1f77b4\"/>\n     <use xlink:href=\"#m49ccbc8cfd\" x=\"113.343509\" y=\"60.495997\" style=\"fill: #1f77b4; stroke: #1f77b4\"/>\n     <use xlink:href=\"#m49ccbc8cfd\" x=\"156.488199\" y=\"94.430193\" style=\"fill: #1f77b4; stroke: #1f77b4\"/>\n     <use xlink:href=\"#m49ccbc8cfd\" x=\"116.227641\" y=\"88.401893\" style=\"fill: #1f77b4; stroke: #1f77b4\"/>\n     <use xlink:href=\"#m49ccbc8cfd\" x=\"146.088024\" y=\"95.587615\" style=\"fill: #1f77b4; stroke: #1f77b4\"/>\n     <use xlink:href=\"#m49ccbc8cfd\" x=\"111.896187\" y=\"60.261349\" style=\"fill: #1f77b4; stroke: #1f77b4\"/>\n     <use xlink:href=\"#m49ccbc8cfd\" x=\"141.276369\" y=\"69.235668\" style=\"fill: #1f77b4; stroke: #1f77b4\"/>\n     <use xlink:href=\"#m49ccbc8cfd\" x=\"100.815241\" y=\"53.240354\" style=\"fill: #1f77b4; stroke: #1f77b4\"/>\n     <use xlink:href=\"#m49ccbc8cfd\" x=\"102.791943\" y=\"66.575537\" style=\"fill: #1f77b4; stroke: #1f77b4\"/>\n     <use xlink:href=\"#m49ccbc8cfd\" x=\"53.920798\" y=\"19.887313\" style=\"fill: #1f77b4; stroke: #1f77b4\"/>\n     <use xlink:href=\"#m49ccbc8cfd\" x=\"78.982681\" y=\"41.760194\" style=\"fill: #1f77b4; stroke: #1f77b4\"/>\n     <use xlink:href=\"#m49ccbc8cfd\" x=\"113.630931\" y=\"71.656248\" style=\"fill: #1f77b4; stroke: #1f77b4\"/>\n     <use xlink:href=\"#m49ccbc8cfd\" x=\"120.433032\" y=\"77.870366\" style=\"fill: #1f77b4; stroke: #1f77b4\"/>\n     <use xlink:href=\"#m49ccbc8cfd\" x=\"155.421161\" y=\"93.189261\" style=\"fill: #1f77b4; stroke: #1f77b4\"/>\n     <use xlink:href=\"#m49ccbc8cfd\" x=\"93.277591\" y=\"65.652233\" style=\"fill: #1f77b4; stroke: #1f77b4\"/>\n     <use xlink:href=\"#m49ccbc8cfd\" x=\"146.694749\" y=\"59.668268\" style=\"fill: #1f77b4; stroke: #1f77b4\"/>\n     <use xlink:href=\"#m49ccbc8cfd\" x=\"139.335599\" y=\"80.795084\" style=\"fill: #1f77b4; stroke: #1f77b4\"/>\n     <use xlink:href=\"#m49ccbc8cfd\" x=\"138.001473\" y=\"86.617293\" style=\"fill: #1f77b4; stroke: #1f77b4\"/>\n     <use xlink:href=\"#m49ccbc8cfd\" x=\"121.399905\" y=\"57.244096\" style=\"fill: #1f77b4; stroke: #1f77b4\"/>\n     <use xlink:href=\"#m49ccbc8cfd\" x=\"75.608623\" y=\"47.755354\" style=\"fill: #1f77b4; stroke: #1f77b4\"/>\n     <use xlink:href=\"#m49ccbc8cfd\" x=\"87.008546\" y=\"58.974759\" style=\"fill: #1f77b4; stroke: #1f77b4\"/>\n     <use xlink:href=\"#m49ccbc8cfd\" x=\"125.198687\" y=\"75.972817\" style=\"fill: #1f77b4; stroke: #1f77b4\"/>\n     <use xlink:href=\"#m49ccbc8cfd\" x=\"158.416874\" y=\"89.308627\" style=\"fill: #1f77b4; stroke: #1f77b4\"/>\n     <use xlink:href=\"#m49ccbc8cfd\" x=\"142.319924\" y=\"78.383378\" style=\"fill: #1f77b4; stroke: #1f77b4\"/>\n     <use xlink:href=\"#m49ccbc8cfd\" x=\"103.093149\" y=\"45.861779\" style=\"fill: #1f77b4; stroke: #1f77b4\"/>\n     <use xlink:href=\"#m49ccbc8cfd\" x=\"168.200849\" y=\"103.734632\" style=\"fill: #1f77b4; stroke: #1f77b4\"/>\n     <use xlink:href=\"#m49ccbc8cfd\" x=\"153.658053\" y=\"93.632601\" style=\"fill: #1f77b4; stroke: #1f77b4\"/>\n     <use xlink:href=\"#m49ccbc8cfd\" x=\"124.266685\" y=\"78.917872\" style=\"fill: #1f77b4; stroke: #1f77b4\"/>\n     <use xlink:href=\"#m49ccbc8cfd\" x=\"154.047154\" y=\"88.756106\" style=\"fill: #1f77b4; stroke: #1f77b4\"/>\n     <use xlink:href=\"#m49ccbc8cfd\" x=\"136.407803\" y=\"68.45701\" style=\"fill: #1f77b4; stroke: #1f77b4\"/>\n     <use xlink:href=\"#m49ccbc8cfd\" x=\"128.163627\" y=\"83.065835\" style=\"fill: #1f77b4; stroke: #1f77b4\"/>\n     <use xlink:href=\"#m49ccbc8cfd\" x=\"110.677928\" y=\"52.782912\" style=\"fill: #1f77b4; stroke: #1f77b4\"/>\n     <use xlink:href=\"#m49ccbc8cfd\" x=\"128.340172\" y=\"64.589011\" style=\"fill: #1f77b4; stroke: #1f77b4\"/>\n     <use xlink:href=\"#m49ccbc8cfd\" x=\"167.080335\" y=\"94.544026\" style=\"fill: #1f77b4; stroke: #1f77b4\"/>\n     <use xlink:href=\"#m49ccbc8cfd\" x=\"185.596358\" y=\"93.729574\" style=\"fill: #1f77b4; stroke: #1f77b4\"/>\n     <use xlink:href=\"#m49ccbc8cfd\" x=\"165.705977\" y=\"108.038066\" style=\"fill: #1f77b4; stroke: #1f77b4\"/>\n     <use xlink:href=\"#m49ccbc8cfd\" x=\"176.681401\" y=\"97.602593\" style=\"fill: #1f77b4; stroke: #1f77b4\"/>\n     <use xlink:href=\"#m49ccbc8cfd\" x=\"124.817621\" y=\"84.641449\" style=\"fill: #1f77b4; stroke: #1f77b4\"/>\n     <use xlink:href=\"#m49ccbc8cfd\" x=\"120.573987\" y=\"69.937581\" style=\"fill: #1f77b4; stroke: #1f77b4\"/>\n     <use xlink:href=\"#m49ccbc8cfd\" x=\"125.370147\" y=\"83.495125\" style=\"fill: #1f77b4; stroke: #1f77b4\"/>\n     <use xlink:href=\"#m49ccbc8cfd\" x=\"111.953332\" y=\"68.353064\" style=\"fill: #1f77b4; stroke: #1f77b4\"/>\n     <use xlink:href=\"#m49ccbc8cfd\" x=\"146.905608\" y=\"83.716081\" style=\"fill: #1f77b4; stroke: #1f77b4\"/>\n     <use xlink:href=\"#m49ccbc8cfd\" x=\"145.310801\" y=\"73.486409\" style=\"fill: #1f77b4; stroke: #1f77b4\"/>\n     <use xlink:href=\"#m49ccbc8cfd\" x=\"142.860345\" y=\"77.195078\" style=\"fill: #1f77b4; stroke: #1f77b4\"/>\n     <use xlink:href=\"#m49ccbc8cfd\" x=\"117.857433\" y=\"62.319953\" style=\"fill: #1f77b4; stroke: #1f77b4\"/>\n     <use xlink:href=\"#m49ccbc8cfd\" x=\"93.341488\" y=\"35.240179\" style=\"fill: #1f77b4; stroke: #1f77b4\"/>\n     <use xlink:href=\"#m49ccbc8cfd\" x=\"121.048627\" y=\"81.715503\" style=\"fill: #1f77b4; stroke: #1f77b4\"/>\n     <use xlink:href=\"#m49ccbc8cfd\" x=\"185.853038\" y=\"120.011905\" style=\"fill: #1f77b4; stroke: #1f77b4\"/>\n     <use xlink:href=\"#m49ccbc8cfd\" x=\"137.055929\" y=\"81.269509\" style=\"fill: #1f77b4; stroke: #1f77b4\"/>\n     <use xlink:href=\"#m49ccbc8cfd\" x=\"155.788523\" y=\"75.659012\" style=\"fill: #1f77b4; stroke: #1f77b4\"/>\n     <use xlink:href=\"#m49ccbc8cfd\" x=\"124.51527\" y=\"76.243545\" style=\"fill: #1f77b4; stroke: #1f77b4\"/>\n     <use xlink:href=\"#m49ccbc8cfd\" x=\"155.960274\" y=\"92.398606\" style=\"fill: #1f77b4; stroke: #1f77b4\"/>\n     <use xlink:href=\"#m49ccbc8cfd\" x=\"128.186792\" y=\"78.993821\" style=\"fill: #1f77b4; stroke: #1f77b4\"/>\n     <use xlink:href=\"#m49ccbc8cfd\" x=\"151.680312\" y=\"90.636078\" style=\"fill: #1f77b4; stroke: #1f77b4\"/>\n     <use xlink:href=\"#m49ccbc8cfd\" x=\"164.583804\" y=\"113.423904\" style=\"fill: #1f77b4; stroke: #1f77b4\"/>\n     <use xlink:href=\"#m49ccbc8cfd\" x=\"85.143979\" y=\"58.875757\" style=\"fill: #1f77b4; stroke: #1f77b4\"/>\n     <use xlink:href=\"#m49ccbc8cfd\" x=\"126.145412\" y=\"63.68788\" style=\"fill: #1f77b4; stroke: #1f77b4\"/>\n     <use xlink:href=\"#m49ccbc8cfd\" x=\"168.421157\" y=\"97.413202\" style=\"fill: #1f77b4; stroke: #1f77b4\"/>\n     <use xlink:href=\"#m49ccbc8cfd\" x=\"113.233275\" y=\"84.449297\" style=\"fill: #1f77b4; stroke: #1f77b4\"/>\n     <use xlink:href=\"#m49ccbc8cfd\" x=\"84.058141\" y=\"35.51393\" style=\"fill: #1f77b4; stroke: #1f77b4\"/>\n     <use xlink:href=\"#m49ccbc8cfd\" x=\"105.749231\" y=\"67.057099\" style=\"fill: #1f77b4; stroke: #1f77b4\"/>\n     <use xlink:href=\"#m49ccbc8cfd\" x=\"166.607909\" y=\"76.927059\" style=\"fill: #1f77b4; stroke: #1f77b4\"/>\n     <use xlink:href=\"#m49ccbc8cfd\" x=\"104.073832\" y=\"72.008217\" style=\"fill: #1f77b4; stroke: #1f77b4\"/>\n     <use xlink:href=\"#m49ccbc8cfd\" x=\"162.95543\" y=\"93.599673\" style=\"fill: #1f77b4; stroke: #1f77b4\"/>\n     <use xlink:href=\"#m49ccbc8cfd\" x=\"86.798654\" y=\"46.737753\" style=\"fill: #1f77b4; stroke: #1f77b4\"/>\n     <use xlink:href=\"#m49ccbc8cfd\" x=\"168.065137\" y=\"97.605565\" style=\"fill: #1f77b4; stroke: #1f77b4\"/>\n     <use xlink:href=\"#m49ccbc8cfd\" x=\"161.861315\" y=\"104.218272\" style=\"fill: #1f77b4; stroke: #1f77b4\"/>\n     <use xlink:href=\"#m49ccbc8cfd\" x=\"135.952459\" y=\"68.812296\" style=\"fill: #1f77b4; stroke: #1f77b4\"/>\n     <use xlink:href=\"#m49ccbc8cfd\" x=\"139.964067\" y=\"64.457866\" style=\"fill: #1f77b4; stroke: #1f77b4\"/>\n     <use xlink:href=\"#m49ccbc8cfd\" x=\"133.540301\" y=\"82.936953\" style=\"fill: #1f77b4; stroke: #1f77b4\"/>\n     <use xlink:href=\"#m49ccbc8cfd\" x=\"194.15778\" y=\"110.721525\" style=\"fill: #1f77b4; stroke: #1f77b4\"/>\n     <use xlink:href=\"#m49ccbc8cfd\" x=\"147.625804\" y=\"91.687031\" style=\"fill: #1f77b4; stroke: #1f77b4\"/>\n     <use xlink:href=\"#m49ccbc8cfd\" x=\"102.638439\" y=\"69.04342\" style=\"fill: #1f77b4; stroke: #1f77b4\"/>\n     <use xlink:href=\"#m49ccbc8cfd\" x=\"133.536085\" y=\"81.644334\" style=\"fill: #1f77b4; stroke: #1f77b4\"/>\n     <use xlink:href=\"#m49ccbc8cfd\" x=\"157.680567\" y=\"89.054855\" style=\"fill: #1f77b4; stroke: #1f77b4\"/>\n     <use xlink:href=\"#m49ccbc8cfd\" x=\"148.347663\" y=\"88.416243\" style=\"fill: #1f77b4; stroke: #1f77b4\"/>\n     <use xlink:href=\"#m49ccbc8cfd\" x=\"83.221796\" y=\"25.295669\" style=\"fill: #1f77b4; stroke: #1f77b4\"/>\n     <use xlink:href=\"#m49ccbc8cfd\" x=\"137.466083\" y=\"72.215332\" style=\"fill: #1f77b4; stroke: #1f77b4\"/>\n     <use xlink:href=\"#m49ccbc8cfd\" x=\"109.842441\" y=\"57.692826\" style=\"fill: #1f77b4; stroke: #1f77b4\"/>\n     <use xlink:href=\"#m49ccbc8cfd\" x=\"128.907468\" y=\"97.217899\" style=\"fill: #1f77b4; stroke: #1f77b4\"/>\n     <use xlink:href=\"#m49ccbc8cfd\" x=\"165.507448\" y=\"105.828842\" style=\"fill: #1f77b4; stroke: #1f77b4\"/>\n     <use xlink:href=\"#m49ccbc8cfd\" x=\"129.139596\" y=\"80.090211\" style=\"fill: #1f77b4; stroke: #1f77b4\"/>\n     <use xlink:href=\"#m49ccbc8cfd\" x=\"117.475013\" y=\"56.459872\" style=\"fill: #1f77b4; stroke: #1f77b4\"/>\n     <use xlink:href=\"#m49ccbc8cfd\" x=\"154.943286\" y=\"82.130936\" style=\"fill: #1f77b4; stroke: #1f77b4\"/>\n     <use xlink:href=\"#m49ccbc8cfd\" x=\"144.399936\" y=\"77.052072\" style=\"fill: #1f77b4; stroke: #1f77b4\"/>\n     <use xlink:href=\"#m49ccbc8cfd\" x=\"146.495543\" y=\"81.05491\" style=\"fill: #1f77b4; stroke: #1f77b4\"/>\n     <use xlink:href=\"#m49ccbc8cfd\" x=\"142.071174\" y=\"82.526437\" style=\"fill: #1f77b4; stroke: #1f77b4\"/>\n     <use xlink:href=\"#m49ccbc8cfd\" x=\"144.852424\" y=\"101.753009\" style=\"fill: #1f77b4; stroke: #1f77b4\"/>\n     <use xlink:href=\"#m49ccbc8cfd\" x=\"150.632655\" y=\"89.431443\" style=\"fill: #1f77b4; stroke: #1f77b4\"/>\n     <use xlink:href=\"#m49ccbc8cfd\" x=\"127.52007\" y=\"80.697466\" style=\"fill: #1f77b4; stroke: #1f77b4\"/>\n     <use xlink:href=\"#m49ccbc8cfd\" x=\"200.90003\" y=\"124.08103\" style=\"fill: #1f77b4; stroke: #1f77b4\"/>\n     <use xlink:href=\"#m49ccbc8cfd\" x=\"135.188922\" y=\"75.119938\" style=\"fill: #1f77b4; stroke: #1f77b4\"/>\n     <use xlink:href=\"#m49ccbc8cfd\" x=\"131.348496\" y=\"67.318746\" style=\"fill: #1f77b4; stroke: #1f77b4\"/>\n     <use xlink:href=\"#m49ccbc8cfd\" x=\"112.763646\" y=\"75.141282\" style=\"fill: #1f77b4; stroke: #1f77b4\"/>\n     <use xlink:href=\"#m49ccbc8cfd\" x=\"151.490288\" y=\"89.82244\" style=\"fill: #1f77b4; stroke: #1f77b4\"/>\n     <use xlink:href=\"#m49ccbc8cfd\" x=\"109.785243\" y=\"58.053139\" style=\"fill: #1f77b4; stroke: #1f77b4\"/>\n     <use xlink:href=\"#m49ccbc8cfd\" x=\"80.37432\" y=\"25.693862\" style=\"fill: #1f77b4; stroke: #1f77b4\"/>\n     <use xlink:href=\"#m49ccbc8cfd\" x=\"125.784764\" y=\"67.309097\" style=\"fill: #1f77b4; stroke: #1f77b4\"/>\n     <use xlink:href=\"#m49ccbc8cfd\" x=\"124.480639\" y=\"60.697153\" style=\"fill: #1f77b4; stroke: #1f77b4\"/>\n     <use xlink:href=\"#m49ccbc8cfd\" x=\"134.884644\" y=\"78.661834\" style=\"fill: #1f77b4; stroke: #1f77b4\"/>\n     <use xlink:href=\"#m49ccbc8cfd\" x=\"146.225494\" y=\"90.440047\" style=\"fill: #1f77b4; stroke: #1f77b4\"/>\n     <use xlink:href=\"#m49ccbc8cfd\" x=\"152.801619\" y=\"85.282457\" style=\"fill: #1f77b4; stroke: #1f77b4\"/>\n     <use xlink:href=\"#m49ccbc8cfd\" x=\"118.910901\" y=\"76.205406\" style=\"fill: #1f77b4; stroke: #1f77b4\"/>\n     <use xlink:href=\"#m49ccbc8cfd\" x=\"159.277802\" y=\"85.772549\" style=\"fill: #1f77b4; stroke: #1f77b4\"/>\n     <use xlink:href=\"#m49ccbc8cfd\" x=\"168.974914\" y=\"112.776217\" style=\"fill: #1f77b4; stroke: #1f77b4\"/>\n     <use xlink:href=\"#m49ccbc8cfd\" x=\"115.96716\" y=\"60.468506\" style=\"fill: #1f77b4; stroke: #1f77b4\"/>\n     <use xlink:href=\"#m49ccbc8cfd\" x=\"152.232388\" y=\"96.669295\" style=\"fill: #1f77b4; stroke: #1f77b4\"/>\n     <use xlink:href=\"#m49ccbc8cfd\" x=\"140.721188\" y=\"70.704849\" style=\"fill: #1f77b4; stroke: #1f77b4\"/>\n     <use xlink:href=\"#m49ccbc8cfd\" x=\"111.443838\" y=\"67.815172\" style=\"fill: #1f77b4; stroke: #1f77b4\"/>\n     <use xlink:href=\"#m49ccbc8cfd\" x=\"119.337453\" y=\"68.239548\" style=\"fill: #1f77b4; stroke: #1f77b4\"/>\n     <use xlink:href=\"#m49ccbc8cfd\" x=\"141.102128\" y=\"91.168479\" style=\"fill: #1f77b4; stroke: #1f77b4\"/>\n     <use xlink:href=\"#m49ccbc8cfd\" x=\"118.295568\" y=\"73.184896\" style=\"fill: #1f77b4; stroke: #1f77b4\"/>\n     <use xlink:href=\"#m49ccbc8cfd\" x=\"118.394821\" y=\"65.70888\" style=\"fill: #1f77b4; stroke: #1f77b4\"/>\n     <use xlink:href=\"#m49ccbc8cfd\" x=\"134.949172\" y=\"65.805546\" style=\"fill: #1f77b4; stroke: #1f77b4\"/>\n     <use xlink:href=\"#m49ccbc8cfd\" x=\"149.589714\" y=\"85.778963\" style=\"fill: #1f77b4; stroke: #1f77b4\"/>\n     <use xlink:href=\"#m49ccbc8cfd\" x=\"89.327496\" y=\"54.880596\" style=\"fill: #1f77b4; stroke: #1f77b4\"/>\n     <use xlink:href=\"#m49ccbc8cfd\" x=\"151.912144\" y=\"74.682469\" style=\"fill: #1f77b4; stroke: #1f77b4\"/>\n     <use xlink:href=\"#m49ccbc8cfd\" x=\"125.515218\" y=\"68.963283\" style=\"fill: #1f77b4; stroke: #1f77b4\"/>\n     <use xlink:href=\"#m49ccbc8cfd\" x=\"158.78012\" y=\"84.130648\" style=\"fill: #1f77b4; stroke: #1f77b4\"/>\n     <use xlink:href=\"#m49ccbc8cfd\" x=\"111.933023\" y=\"66.320607\" style=\"fill: #1f77b4; stroke: #1f77b4\"/>\n     <use xlink:href=\"#m49ccbc8cfd\" x=\"82.492004\" y=\"44.452117\" style=\"fill: #1f77b4; stroke: #1f77b4\"/>\n     <use xlink:href=\"#m49ccbc8cfd\" x=\"135.060168\" y=\"80.003721\" style=\"fill: #1f77b4; stroke: #1f77b4\"/>\n     <use xlink:href=\"#m49ccbc8cfd\" x=\"119.85042\" y=\"67.623317\" style=\"fill: #1f77b4; stroke: #1f77b4\"/>\n     <use xlink:href=\"#m49ccbc8cfd\" x=\"132.327476\" y=\"76.859693\" style=\"fill: #1f77b4; stroke: #1f77b4\"/>\n     <use xlink:href=\"#m49ccbc8cfd\" x=\"106.08212\" y=\"74.856888\" style=\"fill: #1f77b4; stroke: #1f77b4\"/>\n     <use xlink:href=\"#m49ccbc8cfd\" x=\"159.229748\" y=\"97.465597\" style=\"fill: #1f77b4; stroke: #1f77b4\"/>\n     <use xlink:href=\"#m49ccbc8cfd\" x=\"148.402672\" y=\"70.242601\" style=\"fill: #1f77b4; stroke: #1f77b4\"/>\n     <use xlink:href=\"#m49ccbc8cfd\" x=\"116.180739\" y=\"83.872075\" style=\"fill: #1f77b4; stroke: #1f77b4\"/>\n     <use xlink:href=\"#m49ccbc8cfd\" x=\"109.636321\" y=\"72.785763\" style=\"fill: #1f77b4; stroke: #1f77b4\"/>\n     <use xlink:href=\"#m49ccbc8cfd\" x=\"118.23448\" y=\"62.917604\" style=\"fill: #1f77b4; stroke: #1f77b4\"/>\n     <use xlink:href=\"#m49ccbc8cfd\" x=\"111.017876\" y=\"52.363629\" style=\"fill: #1f77b4; stroke: #1f77b4\"/>\n     <use xlink:href=\"#m49ccbc8cfd\" x=\"121.069159\" y=\"75.725161\" style=\"fill: #1f77b4; stroke: #1f77b4\"/>\n     <use xlink:href=\"#m49ccbc8cfd\" x=\"165.381527\" y=\"107.179449\" style=\"fill: #1f77b4; stroke: #1f77b4\"/>\n     <use xlink:href=\"#m49ccbc8cfd\" x=\"138.504222\" y=\"82.479734\" style=\"fill: #1f77b4; stroke: #1f77b4\"/>\n     <use xlink:href=\"#m49ccbc8cfd\" x=\"99.568235\" y=\"64.272955\" style=\"fill: #1f77b4; stroke: #1f77b4\"/>\n     <use xlink:href=\"#m49ccbc8cfd\" x=\"103.283923\" y=\"67.769727\" style=\"fill: #1f77b4; stroke: #1f77b4\"/>\n     <use xlink:href=\"#m49ccbc8cfd\" x=\"83.985733\" y=\"62.004873\" style=\"fill: #1f77b4; stroke: #1f77b4\"/>\n     <use xlink:href=\"#m49ccbc8cfd\" x=\"160.908697\" y=\"111.552143\" style=\"fill: #1f77b4; stroke: #1f77b4\"/>\n     <use xlink:href=\"#m49ccbc8cfd\" x=\"185.176047\" y=\"98.490921\" style=\"fill: #1f77b4; stroke: #1f77b4\"/>\n     <use xlink:href=\"#m49ccbc8cfd\" x=\"141.864099\" y=\"68.393981\" style=\"fill: #1f77b4; stroke: #1f77b4\"/>\n     <use xlink:href=\"#m49ccbc8cfd\" x=\"116.573239\" y=\"71.558768\" style=\"fill: #1f77b4; stroke: #1f77b4\"/>\n     <use xlink:href=\"#m49ccbc8cfd\" x=\"102.809579\" y=\"79.718796\" style=\"fill: #1f77b4; stroke: #1f77b4\"/>\n     <use xlink:href=\"#m49ccbc8cfd\" x=\"147.07396\" y=\"84.208517\" style=\"fill: #1f77b4; stroke: #1f77b4\"/>\n     <use xlink:href=\"#m49ccbc8cfd\" x=\"117.743497\" y=\"73.226335\" style=\"fill: #1f77b4; stroke: #1f77b4\"/>\n     <use xlink:href=\"#m49ccbc8cfd\" x=\"122.93621\" y=\"86.361205\" style=\"fill: #1f77b4; stroke: #1f77b4\"/>\n     <use xlink:href=\"#m49ccbc8cfd\" x=\"134.761977\" y=\"81.467223\" style=\"fill: #1f77b4; stroke: #1f77b4\"/>\n     <use xlink:href=\"#m49ccbc8cfd\" x=\"194.050579\" y=\"104.961936\" style=\"fill: #1f77b4; stroke: #1f77b4\"/>\n     <use xlink:href=\"#m49ccbc8cfd\" x=\"122.557034\" y=\"78.854293\" style=\"fill: #1f77b4; stroke: #1f77b4\"/>\n     <use xlink:href=\"#m49ccbc8cfd\" x=\"101.588537\" y=\"56.764595\" style=\"fill: #1f77b4; stroke: #1f77b4\"/>\n     <use xlink:href=\"#m49ccbc8cfd\" x=\"131.775981\" y=\"70.4241\" style=\"fill: #1f77b4; stroke: #1f77b4\"/>\n     <use xlink:href=\"#m49ccbc8cfd\" x=\"181.229523\" y=\"101.426778\" style=\"fill: #1f77b4; stroke: #1f77b4\"/>\n     <use xlink:href=\"#m49ccbc8cfd\" x=\"92.499285\" y=\"49.34731\" style=\"fill: #1f77b4; stroke: #1f77b4\"/>\n     <use xlink:href=\"#m49ccbc8cfd\" x=\"109.27997\" y=\"69.460681\" style=\"fill: #1f77b4; stroke: #1f77b4\"/>\n     <use xlink:href=\"#m49ccbc8cfd\" x=\"125.449122\" y=\"57.259955\" style=\"fill: #1f77b4; stroke: #1f77b4\"/>\n     <use xlink:href=\"#m49ccbc8cfd\" x=\"132.260795\" y=\"71.071507\" style=\"fill: #1f77b4; stroke: #1f77b4\"/>\n     <use xlink:href=\"#m49ccbc8cfd\" x=\"97.02857\" y=\"57.705021\" style=\"fill: #1f77b4; stroke: #1f77b4\"/>\n     <use xlink:href=\"#m49ccbc8cfd\" x=\"97.19363\" y=\"44.86355\" style=\"fill: #1f77b4; stroke: #1f77b4\"/>\n     <use xlink:href=\"#m49ccbc8cfd\" x=\"115.108196\" y=\"41.388712\" style=\"fill: #1f77b4; stroke: #1f77b4\"/>\n     <use xlink:href=\"#m49ccbc8cfd\" x=\"143.62146\" y=\"89.509621\" style=\"fill: #1f77b4; stroke: #1f77b4\"/>\n     <use xlink:href=\"#m49ccbc8cfd\" x=\"131.414738\" y=\"83.889118\" style=\"fill: #1f77b4; stroke: #1f77b4\"/>\n     <use xlink:href=\"#m49ccbc8cfd\" x=\"107.157416\" y=\"41.345734\" style=\"fill: #1f77b4; stroke: #1f77b4\"/>\n     <use xlink:href=\"#m49ccbc8cfd\" x=\"93.404617\" y=\"64.340796\" style=\"fill: #1f77b4; stroke: #1f77b4\"/>\n     <use xlink:href=\"#m49ccbc8cfd\" x=\"122.567739\" y=\"99.977891\" style=\"fill: #1f77b4; stroke: #1f77b4\"/>\n     <use xlink:href=\"#m49ccbc8cfd\" x=\"146.092292\" y=\"85.711381\" style=\"fill: #1f77b4; stroke: #1f77b4\"/>\n     <use xlink:href=\"#m49ccbc8cfd\" x=\"124.060887\" y=\"82.808802\" style=\"fill: #1f77b4; stroke: #1f77b4\"/>\n     <use xlink:href=\"#m49ccbc8cfd\" x=\"148.073634\" y=\"86.017281\" style=\"fill: #1f77b4; stroke: #1f77b4\"/>\n     <use xlink:href=\"#m49ccbc8cfd\" x=\"164.529631\" y=\"89.964463\" style=\"fill: #1f77b4; stroke: #1f77b4\"/>\n     <use xlink:href=\"#m49ccbc8cfd\" x=\"138.653274\" y=\"80.890969\" style=\"fill: #1f77b4; stroke: #1f77b4\"/>\n     <use xlink:href=\"#m49ccbc8cfd\" x=\"108.272492\" y=\"45.262379\" style=\"fill: #1f77b4; stroke: #1f77b4\"/>\n     <use xlink:href=\"#m49ccbc8cfd\" x=\"160.861716\" y=\"99.473465\" style=\"fill: #1f77b4; stroke: #1f77b4\"/>\n     <use xlink:href=\"#m49ccbc8cfd\" x=\"127.129121\" y=\"61.526377\" style=\"fill: #1f77b4; stroke: #1f77b4\"/>\n     <use xlink:href=\"#m49ccbc8cfd\" x=\"128.620196\" y=\"76.512797\" style=\"fill: #1f77b4; stroke: #1f77b4\"/>\n     <use xlink:href=\"#m49ccbc8cfd\" x=\"154.769857\" y=\"88.610952\" style=\"fill: #1f77b4; stroke: #1f77b4\"/>\n     <use xlink:href=\"#m49ccbc8cfd\" x=\"142.143356\" y=\"97.141987\" style=\"fill: #1f77b4; stroke: #1f77b4\"/>\n     <use xlink:href=\"#m49ccbc8cfd\" x=\"154.184576\" y=\"85.202748\" style=\"fill: #1f77b4; stroke: #1f77b4\"/>\n     <use xlink:href=\"#m49ccbc8cfd\" x=\"92.243808\" y=\"54.393006\" style=\"fill: #1f77b4; stroke: #1f77b4\"/>\n     <use xlink:href=\"#m49ccbc8cfd\" x=\"91.258962\" y=\"66.379829\" style=\"fill: #1f77b4; stroke: #1f77b4\"/>\n     <use xlink:href=\"#m49ccbc8cfd\" x=\"114.054396\" y=\"71.206515\" style=\"fill: #1f77b4; stroke: #1f77b4\"/>\n     <use xlink:href=\"#m49ccbc8cfd\" x=\"95.191326\" y=\"42.16298\" style=\"fill: #1f77b4; stroke: #1f77b4\"/>\n     <use xlink:href=\"#m49ccbc8cfd\" x=\"87.576839\" y=\"41.195512\" style=\"fill: #1f77b4; stroke: #1f77b4\"/>\n     <use xlink:href=\"#m49ccbc8cfd\" x=\"107.942399\" y=\"69.370229\" style=\"fill: #1f77b4; stroke: #1f77b4\"/>\n     <use xlink:href=\"#m49ccbc8cfd\" x=\"153.937263\" y=\"91.380873\" style=\"fill: #1f77b4; stroke: #1f77b4\"/>\n     <use xlink:href=\"#m49ccbc8cfd\" x=\"144.120727\" y=\"79.580802\" style=\"fill: #1f77b4; stroke: #1f77b4\"/>\n     <use xlink:href=\"#m49ccbc8cfd\" x=\"190.110287\" y=\"116.522161\" style=\"fill: #1f77b4; stroke: #1f77b4\"/>\n     <use xlink:href=\"#m49ccbc8cfd\" x=\"99.647629\" y=\"59.158468\" style=\"fill: #1f77b4; stroke: #1f77b4\"/>\n     <use xlink:href=\"#m49ccbc8cfd\" x=\"119.438521\" y=\"62.848586\" style=\"fill: #1f77b4; stroke: #1f77b4\"/>\n     <use xlink:href=\"#m49ccbc8cfd\" x=\"103.867581\" y=\"54.463376\" style=\"fill: #1f77b4; stroke: #1f77b4\"/>\n     <use xlink:href=\"#m49ccbc8cfd\" x=\"148.439102\" y=\"81.465196\" style=\"fill: #1f77b4; stroke: #1f77b4\"/>\n     <use xlink:href=\"#m49ccbc8cfd\" x=\"131.178374\" y=\"92.097695\" style=\"fill: #1f77b4; stroke: #1f77b4\"/>\n     <use xlink:href=\"#m49ccbc8cfd\" x=\"106.540898\" y=\"60.173252\" style=\"fill: #1f77b4; stroke: #1f77b4\"/>\n     <use xlink:href=\"#m49ccbc8cfd\" x=\"128.937553\" y=\"65.863849\" style=\"fill: #1f77b4; stroke: #1f77b4\"/>\n     <use xlink:href=\"#m49ccbc8cfd\" x=\"116.798138\" y=\"61.926933\" style=\"fill: #1f77b4; stroke: #1f77b4\"/>\n     <use xlink:href=\"#m49ccbc8cfd\" x=\"118.028067\" y=\"72.580307\" style=\"fill: #1f77b4; stroke: #1f77b4\"/>\n     <use xlink:href=\"#m49ccbc8cfd\" x=\"134.754199\" y=\"87.434114\" style=\"fill: #1f77b4; stroke: #1f77b4\"/>\n     <use xlink:href=\"#m49ccbc8cfd\" x=\"146.132472\" y=\"74.64364\" style=\"fill: #1f77b4; stroke: #1f77b4\"/>\n     <use xlink:href=\"#m49ccbc8cfd\" x=\"150.82747\" y=\"80.267988\" style=\"fill: #1f77b4; stroke: #1f77b4\"/>\n     <use xlink:href=\"#m49ccbc8cfd\" x=\"133.255262\" y=\"71.038006\" style=\"fill: #1f77b4; stroke: #1f77b4\"/>\n     <use xlink:href=\"#m49ccbc8cfd\" x=\"102.240501\" y=\"64.625705\" style=\"fill: #1f77b4; stroke: #1f77b4\"/>\n     <use xlink:href=\"#m49ccbc8cfd\" x=\"126.23558\" y=\"72.423274\" style=\"fill: #1f77b4; stroke: #1f77b4\"/>\n     <use xlink:href=\"#m49ccbc8cfd\" x=\"87.541748\" y=\"37.425371\" style=\"fill: #1f77b4; stroke: #1f77b4\"/>\n     <use xlink:href=\"#m49ccbc8cfd\" x=\"130.599219\" y=\"69.693514\" style=\"fill: #1f77b4; stroke: #1f77b4\"/>\n     <use xlink:href=\"#m49ccbc8cfd\" x=\"177.392734\" y=\"110.57731\" style=\"fill: #1f77b4; stroke: #1f77b4\"/>\n     <use xlink:href=\"#m49ccbc8cfd\" x=\"115.649677\" y=\"51.792728\" style=\"fill: #1f77b4; stroke: #1f77b4\"/>\n     <use xlink:href=\"#m49ccbc8cfd\" x=\"169.20222\" y=\"89.188255\" style=\"fill: #1f77b4; stroke: #1f77b4\"/>\n     <use xlink:href=\"#m49ccbc8cfd\" x=\"146.647226\" y=\"84.777955\" style=\"fill: #1f77b4; stroke: #1f77b4\"/>\n     <use xlink:href=\"#m49ccbc8cfd\" x=\"137.819981\" y=\"87.18753\" style=\"fill: #1f77b4; stroke: #1f77b4\"/>\n     <use xlink:href=\"#m49ccbc8cfd\" x=\"134.913032\" y=\"84.454826\" style=\"fill: #1f77b4; stroke: #1f77b4\"/>\n     <use xlink:href=\"#m49ccbc8cfd\" x=\"119.227018\" y=\"64.655325\" style=\"fill: #1f77b4; stroke: #1f77b4\"/>\n     <use xlink:href=\"#m49ccbc8cfd\" x=\"174.350879\" y=\"103.00647\" style=\"fill: #1f77b4; stroke: #1f77b4\"/>\n     <use xlink:href=\"#m49ccbc8cfd\" x=\"124.227088\" y=\"71.551561\" style=\"fill: #1f77b4; stroke: #1f77b4\"/>\n     <use xlink:href=\"#m49ccbc8cfd\" x=\"166.080745\" y=\"88.474049\" style=\"fill: #1f77b4; stroke: #1f77b4\"/>\n     <use xlink:href=\"#m49ccbc8cfd\" x=\"133.004238\" y=\"75.025925\" style=\"fill: #1f77b4; stroke: #1f77b4\"/>\n     <use xlink:href=\"#m49ccbc8cfd\" x=\"114.801849\" y=\"70.49209\" style=\"fill: #1f77b4; stroke: #1f77b4\"/>\n     <use xlink:href=\"#m49ccbc8cfd\" x=\"103.624383\" y=\"58.59263\" style=\"fill: #1f77b4; stroke: #1f77b4\"/>\n     <use xlink:href=\"#m49ccbc8cfd\" x=\"136.173935\" y=\"84.645717\" style=\"fill: #1f77b4; stroke: #1f77b4\"/>\n     <use xlink:href=\"#m49ccbc8cfd\" x=\"182.661669\" y=\"119.931038\" style=\"fill: #1f77b4; stroke: #1f77b4\"/>\n     <use xlink:href=\"#m49ccbc8cfd\" x=\"96.816853\" y=\"60.029703\" style=\"fill: #1f77b4; stroke: #1f77b4\"/>\n     <use xlink:href=\"#m49ccbc8cfd\" x=\"145.560585\" y=\"66.223344\" style=\"fill: #1f77b4; stroke: #1f77b4\"/>\n     <use xlink:href=\"#m49ccbc8cfd\" x=\"138.819197\" y=\"95.932468\" style=\"fill: #1f77b4; stroke: #1f77b4\"/>\n     <use xlink:href=\"#m49ccbc8cfd\" x=\"146.587603\" y=\"84.037369\" style=\"fill: #1f77b4; stroke: #1f77b4\"/>\n     <use xlink:href=\"#m49ccbc8cfd\" x=\"116.987629\" y=\"61.457066\" style=\"fill: #1f77b4; stroke: #1f77b4\"/>\n     <use xlink:href=\"#m49ccbc8cfd\" x=\"156.769592\" y=\"102.681781\" style=\"fill: #1f77b4; stroke: #1f77b4\"/>\n     <use xlink:href=\"#m49ccbc8cfd\" x=\"101.878381\" y=\"64.976081\" style=\"fill: #1f77b4; stroke: #1f77b4\"/>\n     <use xlink:href=\"#m49ccbc8cfd\" x=\"145.110901\" y=\"75.581266\" style=\"fill: #1f77b4; stroke: #1f77b4\"/>\n    </g>\n   </g>\n   <g id=\"matplotlib.axis_1\">\n    <g id=\"xtick_1\">\n     <g id=\"line2d_1\">\n      <defs>\n       <path id=\"m417c840d84\" d=\"M 0 0 \nL 0 3.5 \n\" style=\"stroke: #000000; stroke-width: 0.8\"/>\n      </defs>\n      <g>\n       <use xlink:href=\"#m417c840d84\" x=\"77.210782\" y=\"145.8\" style=\"stroke: #000000; stroke-width: 0.8\"/>\n      </g>\n     </g>\n     <g id=\"text_1\">\n      <!-- −2 -->\n      <g transform=\"translate(69.839689 160.398438)scale(0.1 -0.1)\">\n       <defs>\n        <path id=\"DejaVuSans-2212\" d=\"M 678 2272 \nL 4684 2272 \nL 4684 1741 \nL 678 1741 \nL 678 2272 \nz\n\" transform=\"scale(0.015625)\"/>\n        <path id=\"DejaVuSans-32\" d=\"M 1228 531 \nL 3431 531 \nL 3431 0 \nL 469 0 \nL 469 531 \nQ 828 903 1448 1529 \nQ 2069 2156 2228 2338 \nQ 2531 2678 2651 2914 \nQ 2772 3150 2772 3378 \nQ 2772 3750 2511 3984 \nQ 2250 4219 1831 4219 \nQ 1534 4219 1204 4116 \nQ 875 4013 500 3803 \nL 500 4441 \nQ 881 4594 1212 4672 \nQ 1544 4750 1819 4750 \nQ 2544 4750 2975 4387 \nQ 3406 4025 3406 3419 \nQ 3406 3131 3298 2873 \nQ 3191 2616 2906 2266 \nQ 2828 2175 2409 1742 \nQ 1991 1309 1228 531 \nz\n\" transform=\"scale(0.015625)\"/>\n       </defs>\n       <use xlink:href=\"#DejaVuSans-2212\"/>\n       <use xlink:href=\"#DejaVuSans-32\" x=\"83.789062\"/>\n      </g>\n     </g>\n    </g>\n    <g id=\"xtick_2\">\n     <g id=\"line2d_2\">\n      <g>\n       <use xlink:href=\"#m417c840d84\" x=\"130.475814\" y=\"145.8\" style=\"stroke: #000000; stroke-width: 0.8\"/>\n      </g>\n     </g>\n     <g id=\"text_2\">\n      <!-- 0 -->\n      <g transform=\"translate(127.294564 160.398438)scale(0.1 -0.1)\">\n       <defs>\n        <path id=\"DejaVuSans-30\" d=\"M 2034 4250 \nQ 1547 4250 1301 3770 \nQ 1056 3291 1056 2328 \nQ 1056 1369 1301 889 \nQ 1547 409 2034 409 \nQ 2525 409 2770 889 \nQ 3016 1369 3016 2328 \nQ 3016 3291 2770 3770 \nQ 2525 4250 2034 4250 \nz\nM 2034 4750 \nQ 2819 4750 3233 4129 \nQ 3647 3509 3647 2328 \nQ 3647 1150 3233 529 \nQ 2819 -91 2034 -91 \nQ 1250 -91 836 529 \nQ 422 1150 422 2328 \nQ 422 3509 836 4129 \nQ 1250 4750 2034 4750 \nz\n\" transform=\"scale(0.015625)\"/>\n       </defs>\n       <use xlink:href=\"#DejaVuSans-30\"/>\n      </g>\n     </g>\n    </g>\n    <g id=\"xtick_3\">\n     <g id=\"line2d_3\">\n      <g>\n       <use xlink:href=\"#m417c840d84\" x=\"183.740846\" y=\"145.8\" style=\"stroke: #000000; stroke-width: 0.8\"/>\n      </g>\n     </g>\n     <g id=\"text_3\">\n      <!-- 2 -->\n      <g transform=\"translate(180.559596 160.398438)scale(0.1 -0.1)\">\n       <use xlink:href=\"#DejaVuSans-32\"/>\n      </g>\n     </g>\n    </g>\n   </g>\n   <g id=\"matplotlib.axis_2\">\n    <g id=\"ytick_1\">\n     <g id=\"line2d_4\">\n      <defs>\n       <path id=\"m87364cdd40\" d=\"M 0 0 \nL -3.5 0 \n\" style=\"stroke: #000000; stroke-width: 0.8\"/>\n      </defs>\n      <g>\n       <use xlink:href=\"#m87364cdd40\" x=\"35.304688\" y=\"143.314349\" style=\"stroke: #000000; stroke-width: 0.8\"/>\n      </g>\n     </g>\n     <g id=\"text_4\">\n      <!-- −10 -->\n      <g transform=\"translate(7.2 147.113568)scale(0.1 -0.1)\">\n       <defs>\n        <path id=\"DejaVuSans-31\" d=\"M 794 531 \nL 1825 531 \nL 1825 4091 \nL 703 3866 \nL 703 4441 \nL 1819 4666 \nL 2450 4666 \nL 2450 531 \nL 3481 531 \nL 3481 0 \nL 794 0 \nL 794 531 \nz\n\" transform=\"scale(0.015625)\"/>\n       </defs>\n       <use xlink:href=\"#DejaVuSans-2212\"/>\n       <use xlink:href=\"#DejaVuSans-31\" x=\"83.789062\"/>\n       <use xlink:href=\"#DejaVuSans-30\" x=\"147.412109\"/>\n      </g>\n     </g>\n    </g>\n    <g id=\"ytick_2\">\n     <g id=\"line2d_5\">\n      <g>\n       <use xlink:href=\"#m87364cdd40\" x=\"35.304688\" y=\"119.160914\" style=\"stroke: #000000; stroke-width: 0.8\"/>\n      </g>\n     </g>\n     <g id=\"text_5\">\n      <!-- −5 -->\n      <g transform=\"translate(13.5625 122.960133)scale(0.1 -0.1)\">\n       <defs>\n        <path id=\"DejaVuSans-35\" d=\"M 691 4666 \nL 3169 4666 \nL 3169 4134 \nL 1269 4134 \nL 1269 2991 \nQ 1406 3038 1543 3061 \nQ 1681 3084 1819 3084 \nQ 2600 3084 3056 2656 \nQ 3513 2228 3513 1497 \nQ 3513 744 3044 326 \nQ 2575 -91 1722 -91 \nQ 1428 -91 1123 -41 \nQ 819 9 494 109 \nL 494 744 \nQ 775 591 1075 516 \nQ 1375 441 1709 441 \nQ 2250 441 2565 725 \nQ 2881 1009 2881 1497 \nQ 2881 1984 2565 2268 \nQ 2250 2553 1709 2553 \nQ 1456 2553 1204 2497 \nQ 953 2441 691 2322 \nL 691 4666 \nz\n\" transform=\"scale(0.015625)\"/>\n       </defs>\n       <use xlink:href=\"#DejaVuSans-2212\"/>\n       <use xlink:href=\"#DejaVuSans-35\" x=\"83.789062\"/>\n      </g>\n     </g>\n    </g>\n    <g id=\"ytick_3\">\n     <g id=\"line2d_6\">\n      <g>\n       <use xlink:href=\"#m87364cdd40\" x=\"35.304688\" y=\"95.007479\" style=\"stroke: #000000; stroke-width: 0.8\"/>\n      </g>\n     </g>\n     <g id=\"text_6\">\n      <!-- 0 -->\n      <g transform=\"translate(21.942187 98.806697)scale(0.1 -0.1)\">\n       <use xlink:href=\"#DejaVuSans-30\"/>\n      </g>\n     </g>\n    </g>\n    <g id=\"ytick_4\">\n     <g id=\"line2d_7\">\n      <g>\n       <use xlink:href=\"#m87364cdd40\" x=\"35.304688\" y=\"70.854043\" style=\"stroke: #000000; stroke-width: 0.8\"/>\n      </g>\n     </g>\n     <g id=\"text_7\">\n      <!-- 5 -->\n      <g transform=\"translate(21.942187 74.653262)scale(0.1 -0.1)\">\n       <use xlink:href=\"#DejaVuSans-35\"/>\n      </g>\n     </g>\n    </g>\n    <g id=\"ytick_5\">\n     <g id=\"line2d_8\">\n      <g>\n       <use xlink:href=\"#m87364cdd40\" x=\"35.304688\" y=\"46.700608\" style=\"stroke: #000000; stroke-width: 0.8\"/>\n      </g>\n     </g>\n     <g id=\"text_8\">\n      <!-- 10 -->\n      <g transform=\"translate(15.579687 50.499827)scale(0.1 -0.1)\">\n       <use xlink:href=\"#DejaVuSans-31\"/>\n       <use xlink:href=\"#DejaVuSans-30\" x=\"63.623047\"/>\n      </g>\n     </g>\n    </g>\n    <g id=\"ytick_6\">\n     <g id=\"line2d_9\">\n      <g>\n       <use xlink:href=\"#m87364cdd40\" x=\"35.304688\" y=\"22.547173\" style=\"stroke: #000000; stroke-width: 0.8\"/>\n      </g>\n     </g>\n     <g id=\"text_9\">\n      <!-- 15 -->\n      <g transform=\"translate(15.579687 26.346391)scale(0.1 -0.1)\">\n       <use xlink:href=\"#DejaVuSans-31\"/>\n       <use xlink:href=\"#DejaVuSans-35\" x=\"63.623047\"/>\n      </g>\n     </g>\n    </g>\n   </g>\n   <g id=\"patch_3\">\n    <path d=\"M 35.304688 145.8 \nL 35.304688 7.2 \n\" style=\"fill: none; stroke: #000000; stroke-width: 0.8; stroke-linejoin: miter; stroke-linecap: square\"/>\n   </g>\n   <g id=\"patch_4\">\n    <path d=\"M 230.604688 145.8 \nL 230.604688 7.2 \n\" style=\"fill: none; stroke: #000000; stroke-width: 0.8; stroke-linejoin: miter; stroke-linecap: square\"/>\n   </g>\n   <g id=\"patch_5\">\n    <path d=\"M 35.304687 145.8 \nL 230.604688 145.8 \n\" style=\"fill: none; stroke: #000000; stroke-width: 0.8; stroke-linejoin: miter; stroke-linecap: square\"/>\n   </g>\n   <g id=\"patch_6\">\n    <path d=\"M 35.304687 7.2 \nL 230.604688 7.2 \n\" style=\"fill: none; stroke: #000000; stroke-width: 0.8; stroke-linejoin: miter; stroke-linecap: square\"/>\n   </g>\n  </g>\n </g>\n <defs>\n  <clipPath id=\"pf7352865e9\">\n   <rect x=\"35.304688\" y=\"7.2\" width=\"195.3\" height=\"138.6\"/>\n  </clipPath>\n </defs>\n</svg>\n"
     },
     "metadata": {},
     "output_type": "display_data"
    }
   ],
   "source": [
    "d2l.set_figsize()\n",
    "d2l.plt.scatter(features[:, 1].detach().numpy(), labels.detach().numpy(), 1);"
   ]
  },
  {
   "cell_type": "markdown",
   "id": "b032f500",
   "metadata": {
    "origin_pos": 13
   },
   "source": [
    "## 读取数据集\n",
    "\n",
    "回想一下，训练模型时要对数据集进行遍历，每次抽取一小批量样本，并使用它们来更新我们的模型。\n",
    "由于这个过程是训练机器学习算法的基础，所以有必要定义一个函数，\n",
    "该函数能打乱数据集中的样本并以小批量方式获取数据。\n",
    "\n",
    "在下面的代码中，我们[**定义一个`data_iter`函数，\n",
    "该函数接收批量大小、特征矩阵和标签向量作为输入，生成大小为`batch_size`的小批量**]。\n",
    "每个小批量包含一组特征和标签。\n"
   ]
  },
  {
   "cell_type": "code",
   "execution_count": 6,
   "id": "3da34ac6",
   "metadata": {
    "execution": {
     "iopub.execute_input": "2023-08-18T07:02:04.839342Z",
     "iopub.status.busy": "2023-08-18T07:02:04.838682Z",
     "iopub.status.idle": "2023-08-18T07:02:04.846329Z",
     "shell.execute_reply": "2023-08-18T07:02:04.845247Z"
    },
    "origin_pos": 14,
    "tab": [
     "pytorch"
    ],
    "ExecuteTime": {
     "end_time": "2024-01-20T12:44:42.664944700Z",
     "start_time": "2024-01-20T12:44:42.654429800Z"
    }
   },
   "outputs": [],
   "source": [
    "def data_iter(batch_size, features, labels):\n",
    "    num_examples = len(features)\n",
    "    indices = list(range(num_examples))\n",
    "    # 这些样本是随机读取的，没有特定的顺序\n",
    "    random.shuffle(indices)\n",
    "    for i in range(0, num_examples, batch_size):\n",
    "        batch_indices = torch.tensor(\n",
    "            indices[i: min(i + batch_size, num_examples)])\n",
    "        yield features[batch_indices], labels[batch_indices]\n",
    "        # yield关键字，类似return，但是返回的是一个生成器，每次调用生成器的时候，执行到yield的时候，返回yield后面的值，然后暂停，下次调用的时候，从暂停的地方继续执行\n",
    "        # 返回x，y，x是features[batch_indices]，y是labels[batch_indices]"
   ]
  },
  {
   "cell_type": "markdown",
   "id": "52e08a78",
   "metadata": {
    "origin_pos": 16
   },
   "source": [
    "通常，我们利用GPU并行运算的优势，处理合理大小的“小批量”。\n",
    "每个样本都可以并行地进行模型计算，且每个样本损失函数的梯度也可以被并行计算。\n",
    "GPU可以在处理几百个样本时，所花费的时间不比处理一个样本时多太多。\n",
    "\n",
    "我们直观感受一下小批量运算：读取第一个小批量数据样本并打印。\n",
    "每个批量的特征维度显示批量大小和输入特征数。\n",
    "同样的，批量的标签形状与`batch_size`相等。\n"
   ]
  },
  {
   "cell_type": "code",
   "execution_count": 7,
   "id": "1dce0726",
   "metadata": {
    "execution": {
     "iopub.execute_input": "2023-08-18T07:02:04.851066Z",
     "iopub.status.busy": "2023-08-18T07:02:04.850456Z",
     "iopub.status.idle": "2023-08-18T07:02:04.859860Z",
     "shell.execute_reply": "2023-08-18T07:02:04.858756Z"
    },
    "origin_pos": 17,
    "tab": [
     "pytorch"
    ],
    "ExecuteTime": {
     "end_time": "2024-01-20T12:45:08.044021900Z",
     "start_time": "2024-01-20T12:45:08.026260900Z"
    }
   },
   "outputs": [
    {
     "name": "stdout",
     "output_type": "stream",
     "text": [
      "tensor([[ 0.4646, -0.1761],\n",
      "        [ 0.8504,  0.1395],\n",
      "        [-0.4578,  2.2539],\n",
      "        [ 0.9135, -0.0802],\n",
      "        [ 1.5475, -0.0986],\n",
      "        [ 1.0713, -0.7306],\n",
      "        [ 1.3669,  0.8049],\n",
      "        [-0.7085, -0.3532],\n",
      "        [-0.3743,  0.4120],\n",
      "        [-1.2079, -0.6249]]) \n",
      " tensor([[ 5.7338],\n",
      "        [ 5.4464],\n",
      "        [-4.3946],\n",
      "        [ 6.2969],\n",
      "        [ 7.6275],\n",
      "        [ 8.8277],\n",
      "        [ 4.2075],\n",
      "        [ 3.9916],\n",
      "        [ 2.0454],\n",
      "        [ 3.9049]])\n"
     ]
    }
   ],
   "source": [
    "batch_size = 10\n",
    "\n",
    "for X, y in data_iter(batch_size, features, labels):\n",
    "    print(X, '\\n', y)\n",
    "    break"
   ]
  },
  {
   "cell_type": "markdown",
   "id": "d86e62d7",
   "metadata": {
    "origin_pos": 18
   },
   "source": [
    "当我们运行迭代时，我们会连续地获得不同的小批量，直至遍历完整个数据集。\n",
    "上面实现的迭代对教学来说很好，但它的执行效率很低，可能会在实际问题上陷入麻烦。\n",
    "例如，它要求我们将所有数据加载到内存中，并执行大量的随机内存访问。\n",
    "在深度学习框架中实现的内置迭代器效率要高得多，\n",
    "它可以处理存储在文件中的数据和数据流提供的数据。\n",
    "\n",
    "## 初始化模型参数\n",
    "\n",
    "[**在我们开始用小批量随机梯度下降优化我们的模型参数之前**]，\n",
    "(**我们需要先有一些参数**)。\n",
    "在下面的代码中，我们通过从均值为0、标准差为0.01的正态分布中采样随机数来初始化权重，\n",
    "并将偏置初始化为0。\n"
   ]
  },
  {
   "cell_type": "code",
   "execution_count": 8,
   "id": "12c51289",
   "metadata": {
    "execution": {
     "iopub.execute_input": "2023-08-18T07:02:04.864457Z",
     "iopub.status.busy": "2023-08-18T07:02:04.863853Z",
     "iopub.status.idle": "2023-08-18T07:02:04.869983Z",
     "shell.execute_reply": "2023-08-18T07:02:04.868859Z"
    },
    "origin_pos": 20,
    "tab": [
     "pytorch"
    ],
    "ExecuteTime": {
     "end_time": "2024-01-20T12:45:51.757692500Z",
     "start_time": "2024-01-20T12:45:51.750190100Z"
    }
   },
   "outputs": [],
   "source": [
    "# 初始化模型参数\n",
    "w = torch.normal(0, 0.01, size=(2,1), requires_grad=True)\n",
    "b = torch.zeros(1, requires_grad=True)"
   ]
  },
  {
   "cell_type": "markdown",
   "id": "c59d5d68",
   "metadata": {
    "origin_pos": 23
   },
   "source": [
    "在初始化参数之后，我们的任务是更新这些参数，直到这些参数足够拟合我们的数据。\n",
    "每次更新都需要计算损失函数关于模型参数的梯度。\n",
    "有了这个梯度，我们就可以向减小损失的方向更新每个参数。\n",
    "因为手动计算梯度很枯燥而且容易出错，所以没有人会手动计算梯度。\n",
    "我们使用 :numref:`sec_autograd`中引入的自动微分来计算梯度。\n",
    "\n",
    "## 定义模型\n",
    "\n",
    "接下来，我们必须[**定义模型，将模型的输入和参数同模型的输出关联起来。**]\n",
    "回想一下，要计算线性模型的输出，\n",
    "我们只需计算输入特征$\\mathbf{X}$和模型权重$\\mathbf{w}$的矩阵-向量乘法后加上偏置$b$。\n",
    "注意，上面的$\\mathbf{Xw}$是一个向量，而$b$是一个标量。\n",
    "回想一下 :numref:`subsec_broadcasting`中描述的广播机制：\n",
    "当我们用一个向量加一个标量时，标量会被加到向量的每个分量上。\n"
   ]
  },
  {
   "cell_type": "code",
   "execution_count": 9,
   "id": "b8b29b19",
   "metadata": {
    "execution": {
     "iopub.execute_input": "2023-08-18T07:02:04.874642Z",
     "iopub.status.busy": "2023-08-18T07:02:04.874004Z",
     "iopub.status.idle": "2023-08-18T07:02:04.879521Z",
     "shell.execute_reply": "2023-08-18T07:02:04.878471Z"
    },
    "origin_pos": 24,
    "tab": [
     "pytorch"
    ],
    "ExecuteTime": {
     "end_time": "2024-01-20T12:46:07.624161400Z",
     "start_time": "2024-01-20T12:46:07.606629800Z"
    }
   },
   "outputs": [],
   "source": [
    "# 定义模型\n",
    "def linreg(X, w, b):  #@save\n",
    "    \"\"\"线性回归模型\"\"\"\n",
    "    return torch.matmul(X, w) + b"
   ]
  },
  {
   "cell_type": "markdown",
   "id": "6b7765ef",
   "metadata": {
    "origin_pos": 25
   },
   "source": [
    "## [**定义损失函数**]\n",
    "\n",
    "因为需要计算损失函数的梯度，所以我们应该先定义损失函数。\n",
    "这里我们使用 :numref:`sec_linear_regression`中描述的平方损失函数。\n",
    "在实现中，我们需要将真实值`y`的形状转换为和预测值`y_hat`的形状相同。\n"
   ]
  },
  {
   "cell_type": "code",
   "execution_count": 10,
   "id": "3dda15c7",
   "metadata": {
    "execution": {
     "iopub.execute_input": "2023-08-18T07:02:04.884156Z",
     "iopub.status.busy": "2023-08-18T07:02:04.883559Z",
     "iopub.status.idle": "2023-08-18T07:02:04.889065Z",
     "shell.execute_reply": "2023-08-18T07:02:04.887964Z"
    },
    "origin_pos": 26,
    "tab": [
     "pytorch"
    ],
    "ExecuteTime": {
     "end_time": "2024-01-20T12:46:14.962785100Z",
     "start_time": "2024-01-20T12:46:14.948756400Z"
    }
   },
   "outputs": [],
   "source": [
    "# 定义损失函数\n",
    "def squared_loss(y_hat, y):  #@save\n",
    "    \"\"\"均方损失\"\"\"\n",
    "    return (y_hat - y.reshape(y_hat.shape)) ** 2 / 2 # 没有求均值"
   ]
  },
  {
   "cell_type": "markdown",
   "id": "56969029",
   "metadata": {
    "origin_pos": 27
   },
   "source": [
    "## (**定义优化算法**)\n",
    "\n",
    "正如我们在 :numref:`sec_linear_regression`中讨论的，线性回归有解析解。\n",
    "尽管线性回归有解析解，但本书中的其他模型却没有。\n",
    "这里我们介绍小批量随机梯度下降。\n",
    "\n",
    "在每一步中，使用从数据集中随机抽取的一个小批量，然后根据参数计算损失的梯度。\n",
    "接下来，朝着减少损失的方向更新我们的参数。\n",
    "下面的函数实现小批量随机梯度下降更新。\n",
    "该函数接受模型参数集合、学习速率和批量大小作为输入。每\n",
    "一步更新的大小由学习速率`lr`决定。\n",
    "因为我们计算的损失是一个批量样本的总和，所以我们用批量大小（`batch_size`）\n",
    "来规范化步长，这样步长大小就不会取决于我们对批量大小的选择。\n"
   ]
  },
  {
   "cell_type": "code",
   "execution_count": 11,
   "id": "8f92242d",
   "metadata": {
    "execution": {
     "iopub.execute_input": "2023-08-18T07:02:04.893665Z",
     "iopub.status.busy": "2023-08-18T07:02:04.892999Z",
     "iopub.status.idle": "2023-08-18T07:02:04.899100Z",
     "shell.execute_reply": "2023-08-18T07:02:04.898003Z"
    },
    "origin_pos": 29,
    "tab": [
     "pytorch"
    ],
    "ExecuteTime": {
     "end_time": "2024-01-20T12:46:33.940127800Z",
     "start_time": "2024-01-20T12:46:33.924910800Z"
    }
   },
   "outputs": [],
   "source": [
    "# 定义优化算法\n",
    "def sgd(params, lr, batch_size):  #@save\n",
    "    \"\"\"小批量随机梯度下降\"\"\"\n",
    "    with torch.no_grad():\n",
    "        for param in params:\n",
    "            param -= lr * param.grad / batch_size # 损失函数没有求均值，所以这里要除以batch_size\n",
    "            param.grad.zero_() # 梯度清零"
   ]
  },
  {
   "cell_type": "markdown",
   "id": "89067f86",
   "metadata": {
    "origin_pos": 32
   },
   "source": [
    "## 训练\n",
    "\n",
    "现在我们已经准备好了模型训练所有需要的要素，可以实现主要的[**训练过程**]部分了。\n",
    "理解这段代码至关重要，因为从事深度学习后，\n",
    "相同的训练过程几乎一遍又一遍地出现。\n",
    "在每次迭代中，我们读取一小批量训练样本，并通过我们的模型来获得一组预测。\n",
    "计算完损失后，我们开始反向传播，存储每个参数的梯度。\n",
    "最后，我们调用优化算法`sgd`来更新模型参数。\n",
    "\n",
    "概括一下，我们将执行以下循环：\n",
    "\n",
    "* 初始化参数\n",
    "* 重复以下训练，直到完成\n",
    "    * 计算梯度$\\mathbf{g} \\leftarrow \\partial_{(\\mathbf{w},b)} \\frac{1}{|\\mathcal{B}|} \\sum_{i \\in \\mathcal{B}} l(\\mathbf{x}^{(i)}, y^{(i)}, \\mathbf{w}, b)$\n",
    "    * 更新参数$(\\mathbf{w}, b) \\leftarrow (\\mathbf{w}, b) - \\eta \\mathbf{g}$\n",
    "\n",
    "在每个*迭代周期*（epoch）中，我们使用`data_iter`函数遍历整个数据集，\n",
    "并将训练数据集中所有样本都使用一次（假设样本数能够被批量大小整除）。\n",
    "这里的迭代周期个数`num_epochs`和学习率`lr`都是超参数，分别设为3和0.03。\n",
    "设置超参数很棘手，需要通过反复试验进行调整。\n",
    "我们现在忽略这些细节，以后会在 :numref:`chap_optimization`中详细介绍。\n"
   ]
  },
  {
   "cell_type": "code",
   "execution_count": 12,
   "id": "9163db58",
   "metadata": {
    "execution": {
     "iopub.execute_input": "2023-08-18T07:02:04.903791Z",
     "iopub.status.busy": "2023-08-18T07:02:04.903216Z",
     "iopub.status.idle": "2023-08-18T07:02:04.908499Z",
     "shell.execute_reply": "2023-08-18T07:02:04.907341Z"
    },
    "origin_pos": 33,
    "tab": [
     "pytorch"
    ],
    "ExecuteTime": {
     "end_time": "2024-01-20T12:46:55.471371Z",
     "start_time": "2024-01-20T12:46:55.462331900Z"
    }
   },
   "outputs": [],
   "source": [
    "# 设置超参数\n",
    "# 更新超参数后，需要重新初始化w和b\n",
    "lr = 0.03\n",
    "num_epochs = 3\n",
    "net = linreg\n",
    "loss = squared_loss"
   ]
  },
  {
   "cell_type": "code",
   "execution_count": 13,
   "id": "ad5c2cd1",
   "metadata": {
    "execution": {
     "iopub.execute_input": "2023-08-18T07:02:04.913061Z",
     "iopub.status.busy": "2023-08-18T07:02:04.912436Z",
     "iopub.status.idle": "2023-08-18T07:02:05.067276Z",
     "shell.execute_reply": "2023-08-18T07:02:05.066107Z"
    },
    "origin_pos": 35,
    "tab": [
     "pytorch"
    ],
    "ExecuteTime": {
     "end_time": "2024-01-20T12:48:47.634040Z",
     "start_time": "2024-01-20T12:48:47.576874300Z"
    }
   },
   "outputs": [
    {
     "name": "stdout",
     "output_type": "stream",
     "text": [
      "epoch 1, loss 0.043721\n",
      "epoch 2, loss 0.000166\n",
      "epoch 3, loss 0.000047\n"
     ]
    }
   ],
   "source": [
    "for epoch in range(num_epochs):\n",
    "    for X, y in data_iter(batch_size, features, labels):\n",
    "        l = loss(net(X, w, b), y)  # X和y的小批量损失\n",
    "        # 因为l形状是(batch_size,1)，而不是一个标量。\n",
    "        # l中的所有元素被加到一起，并以此计算关于[w,b]的梯度\n",
    "        l.sum().backward()\n",
    "        sgd([w, b], lr, batch_size)  # 使用参数的梯度更新参数\n",
    "    with torch.no_grad():\n",
    "        train_l = loss(net(features, w, b), labels)\n",
    "        print(f'epoch {epoch + 1}, loss {float(train_l.mean()):f}')"
   ]
  },
  {
   "cell_type": "markdown",
   "id": "427d8cda",
   "metadata": {
    "origin_pos": 38
   },
   "source": [
    "因为我们使用的是自己合成的数据集，所以我们知道真正的参数是什么。\n",
    "因此，我们可以通过[**比较真实参数和通过训练学到的参数来评估训练的成功程度**]。\n",
    "事实上，真实参数和通过训练学到的参数确实非常接近。\n"
   ]
  },
  {
   "cell_type": "code",
   "execution_count": 14,
   "id": "a4c3d525",
   "metadata": {
    "execution": {
     "iopub.execute_input": "2023-08-18T07:02:05.072546Z",
     "iopub.status.busy": "2023-08-18T07:02:05.071769Z",
     "iopub.status.idle": "2023-08-18T07:02:05.079203Z",
     "shell.execute_reply": "2023-08-18T07:02:05.078107Z"
    },
    "origin_pos": 39,
    "tab": [
     "pytorch"
    ],
    "ExecuteTime": {
     "end_time": "2024-01-20T12:51:31.710398800Z",
     "start_time": "2024-01-20T12:51:31.701881500Z"
    }
   },
   "outputs": [
    {
     "name": "stdout",
     "output_type": "stream",
     "text": [
      "w的估计误差: tensor([ 0.0001, -0.0005], grad_fn=<SubBackward0>)\n",
      "b的估计误差: tensor([0.0010], grad_fn=<RsubBackward1>)\n"
     ]
    }
   ],
   "source": [
    "print(f'w的估计误差: {true_w - w.reshape(true_w.shape)}')\n",
    "print(f'b的估计误差: {true_b - b}')"
   ]
  },
  {
   "cell_type": "markdown",
   "id": "9f3d71ee",
   "metadata": {
    "origin_pos": 40
   },
   "source": [
    "注意，我们不应该想当然地认为我们能够完美地求解参数。\n",
    "在机器学习中，我们通常不太关心恢复真正的参数，而更关心如何高度准确预测参数。\n",
    "幸运的是，即使是在复杂的优化问题上，随机梯度下降通常也能找到非常好的解。\n",
    "其中一个原因是，在深度网络中存在许多参数组合能够实现高度精确的预测。\n",
    "\n",
    "## 小结\n",
    "\n",
    "* 我们学习了深度网络是如何实现和优化的。在这一过程中只使用张量和自动微分，不需要定义层或复杂的优化器。\n",
    "* 这一节只触及到了表面知识。在下面的部分中，我们将基于刚刚介绍的概念描述其他模型，并学习如何更简洁地实现其他模型。\n",
    "\n",
    "## 练习\n",
    "\n",
    "1. 如果我们将权重初始化为零，会发生什么。算法仍然有效吗？\n",
    "1. 假设试图为电压和电流的关系建立一个模型。自动微分可以用来学习模型的参数吗?\n",
    "1. 能基于[普朗克定律](https://en.wikipedia.org/wiki/Planck%27s_law)使用光谱能量密度来确定物体的温度吗？\n",
    "1. 计算二阶导数时可能会遇到什么问题？这些问题可以如何解决？\n",
    "1. 为什么在`squared_loss`函数中需要使用`reshape`函数？\n",
    "1. 尝试使用不同的学习率，观察损失函数值下降的快慢。\n",
    "1. 如果样本个数不能被批量大小整除，`data_iter`函数的行为会有什么变化？\n"
   ]
  },
  {
   "cell_type": "markdown",
   "id": "193224b1",
   "metadata": {
    "origin_pos": 42,
    "tab": [
     "pytorch"
    ]
   },
   "source": [
    "[Discussions](https://discuss.d2l.ai/t/1778)\n"
   ]
  }
 ],
 "metadata": {
  "language_info": {
   "name": "python"
  },
  "required_libs": [],
  "kernelspec": {
   "name": "python3",
   "language": "python",
   "display_name": "Python 3 (ipykernel)"
  }
 },
 "nbformat": 4,
 "nbformat_minor": 5
}
