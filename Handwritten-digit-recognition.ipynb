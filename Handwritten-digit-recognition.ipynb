{
 "cells": [
  {
   "cell_type": "code",
   "execution_count": 2,
   "id": "initial_id",
   "metadata": {
    "collapsed": true,
    "ExecuteTime": {
     "end_time": "2024-04-08T06:49:51.625353Z",
     "start_time": "2024-04-08T06:49:51.584420Z"
    }
   },
   "outputs": [
    {
     "name": "stdout",
     "output_type": "stream",
     "text": [
      "CNN(\n",
      "  (conv1): Sequential(\n",
      "    (0): Conv2d(1, 16, kernel_size=(5, 5), stride=(1, 1), padding=(2, 2))\n",
      "    (1): ReLU()\n",
      "    (2): MaxPool2d(kernel_size=2, stride=2, padding=0, dilation=1, ceil_mode=False)\n",
      "  )\n",
      "  (conv2): Sequential(\n",
      "    (0): Conv2d(16, 32, kernel_size=(5, 5), stride=(1, 1), padding=(2, 2))\n",
      "    (1): ReLU()\n",
      "    (2): MaxPool2d(kernel_size=2, stride=2, padding=0, dilation=1, ceil_mode=False)\n",
      "  )\n",
      "  (out): Linear(in_features=1568, out_features=10, bias=True)\n",
      ")\n"
     ]
    },
    {
     "name": "stderr",
     "output_type": "stream",
     "text": [
      "C:\\Users\\28277\\.conda\\envs\\d2l\\lib\\site-packages\\torchvision\\datasets\\mnist.py:75: UserWarning: train_data has been renamed data\n",
      "  warnings.warn(\"train_data has been renamed data\")\n",
      "C:\\Users\\28277\\.conda\\envs\\d2l\\lib\\site-packages\\torchvision\\datasets\\mnist.py:70: UserWarning: test_labels has been renamed targets\n",
      "  warnings.warn(\"test_labels has been renamed targets\")\n"
     ]
    }
   ],
   "source": [
    "# 训练+测试\n",
    "import torch\n",
    "import torch.nn as nn\n",
    "import torch.utils.data as Data\n",
    "import torchvision\n",
    "import matplotlib.pyplot as plt\n",
    "import os\n",
    "import cv2\n",
    "\n",
    "torch.manual_seed(1)  # 使用随机化种子使神经网络的初始化每次都相同\n",
    "\n",
    "# 超参数\n",
    "EPOCH = 1  # 训练整批数据的次数\n",
    "BATCH_SIZE = 50\n",
    "LR = 0.001  # 学习率\n",
    "DOWNLOAD_MNIST = True  # 表示还没有下载数据集，如果数据集下载好了就写False\n",
    "\n",
    "# 下载mnist手写数据集\n",
    "train_data = torchvision.datasets.MNIST(\n",
    "    root='./data/',  # 保存或提取的位置  会放在当前文件夹中\n",
    "    train=True,  # true说明是用于训练的数据，false说明是用于测试的数据\n",
    "    transform=torchvision.transforms.ToTensor(),  # 转换PIL.Image or numpy.ndarray\n",
    "    download=DOWNLOAD_MNIST,  # 已经下载了就不需要下载了\n",
    ")\n",
    "\n",
    "test_data = torchvision.datasets.MNIST(\n",
    "    root='./data/',\n",
    "    train=False  # 表明是测试集\n",
    ")\n",
    "\n",
    "# 批训练 50个samples， 1  channel，28x28 (50,1,28,28)\n",
    "# Torch中的DataLoader是用来包装数据的工具，它能帮我们有效迭代数据，这样就可以进行批训练\n",
    "train_loader = Data.DataLoader(\n",
    "    dataset=train_data,\n",
    "    batch_size=BATCH_SIZE,\n",
    "    shuffle=True  # 是否打乱数据，一般都打乱\n",
    ")\n",
    "\n",
    "# 进行测试\n",
    "# 为节约时间，测试时只测试前2000个\n",
    "#\n",
    "test_x = torch.unsqueeze(test_data.train_data, dim=1).type(torch.FloatTensor)[:2000] / 255\n",
    "# torch.unsqueeze(a) 是用来对数据维度进行扩充，这样shape就从(2000,28,28)->(2000,1,28,28)\n",
    "# 图像的pixel本来是0到255之间，除以255对图像进行归一化使取值范围在(0,1)\n",
    "test_y = test_data.test_labels[:2000]\n",
    "\n",
    "\n",
    "# 用class类来建立CNN模型\n",
    "# CNN流程：卷积(Conv2d)-> 激励函数(ReLU)->池化(MaxPooling)->\n",
    "#        卷积(Conv2d)-> 激励函数(ReLU)->池化(MaxPooling)->\n",
    "#        展平多维的卷积成的特征图->接入全连接层(Linear)->输出\n",
    "\n",
    "class CNN(nn.Module):  # 我们建立的CNN继承nn.Module这个模块\n",
    "    def __init__(self):\n",
    "        super(CNN, self).__init__()\n",
    "        # 建立第一个卷积(Conv2d)-> 激励函数(ReLU)->池化(MaxPooling)\n",
    "        self.conv1 = nn.Sequential(\n",
    "            # 第一个卷积con2d\n",
    "            nn.Conv2d(  # 输入图像大小(1,28,28)\n",
    "                in_channels=1,  # 输入图片的高度，因为minist数据集是灰度图像只有一个通道\n",
    "                out_channels=16,  # n_filters 卷积核的高度\n",
    "                kernel_size=5,  # filter size 卷积核的大小 也就是长x宽=5x5\n",
    "                stride=1,  # 步长\n",
    "                padding=2,  # 想要con2d输出的图片长宽不变，就进行补零操作 padding = (kernel_size-1)/2\n",
    "            ),  # 输出图像大小(16,28,28)\n",
    "            # 激活函数\n",
    "            nn.ReLU(),\n",
    "            # 池化，下采样\n",
    "            nn.MaxPool2d(kernel_size=2),  # 在2x2空间下采样\n",
    "            # 输出图像大小(16,14,14)\n",
    "        )\n",
    "        # 建立第二个卷积(Conv2d)-> 激励函数(ReLU)->池化(MaxPooling)\n",
    "        self.conv2 = nn.Sequential(\n",
    "            # 输入图像大小(16,14,14)\n",
    "            nn.Conv2d(  # 也可以直接简化写成nn.Conv2d(16,32,5,1,2)\n",
    "                in_channels=16,\n",
    "                out_channels=32,\n",
    "                kernel_size=5,\n",
    "                stride=1,\n",
    "                padding=2\n",
    "            ),\n",
    "            # 输出图像大小 (32,14,14)\n",
    "            nn.ReLU(),\n",
    "            nn.MaxPool2d(2),\n",
    "            # 输出图像大小(32,7,7)\n",
    "        )\n",
    "        # 建立全卷积连接层\n",
    "        self.out = nn.Linear(32 * 7 * 7, 10)  # 输出是10个类\n",
    "\n",
    "    # 下面定义x的传播路线\n",
    "    def forward(self, x):\n",
    "        x = self.conv1(x)  # x先通过conv1\n",
    "        x = self.conv2(x)  # 再通过conv2\n",
    "        # 把每一个批次的每一个输入都拉成一个维度，即(batch_size,32*7*7)\n",
    "        # 因为pytorch里特征的形式是[bs,channel,h,w]，所以x.size(0)就是batchsize\n",
    "        x = x.view(x.size(0), -1)  # view就是把x弄成batchsize行个tensor\n",
    "        output = self.out(x)\n",
    "        return output\n",
    "\n",
    "\n",
    "cnn = CNN()\n",
    "print(cnn)\n",
    "\n",
    "# 训练\n",
    "# 把x和y 都放入Variable中，然后放入cnn中计算output，最后再计算误差\n",
    "\n",
    "# 优化器选择Adam\n",
    "optimizer = torch.optim.Adam(cnn.parameters(), lr=LR)\n",
    "# 损失函数\n",
    "loss_func = nn.CrossEntropyLoss()  # 目标标签是one-hotted"
   ]
  },
  {
   "cell_type": "code",
   "outputs": [
    {
     "name": "stdout",
     "output_type": "stream",
     "text": [
      "Epoch:  0 | train loss: 0.2292 | test accuracy: 0.98\n",
      "Epoch:  0 | train loss: 0.0940 | test accuracy: 0.97\n",
      "Epoch:  0 | train loss: 0.1666 | test accuracy: 0.98\n",
      "Epoch:  0 | train loss: 0.0067 | test accuracy: 0.98\n",
      "Epoch:  0 | train loss: 0.0567 | test accuracy: 0.98\n",
      "Epoch:  0 | train loss: 0.0290 | test accuracy: 0.98\n",
      "Epoch:  0 | train loss: 0.0563 | test accuracy: 0.98\n",
      "Epoch:  0 | train loss: 0.0475 | test accuracy: 0.98\n",
      "Epoch:  0 | train loss: 0.0062 | test accuracy: 0.98\n",
      "Epoch:  0 | train loss: 0.0092 | test accuracy: 0.98\n",
      "Epoch:  0 | train loss: 0.1037 | test accuracy: 0.98\n",
      "Epoch:  0 | train loss: 0.1647 | test accuracy: 0.98\n",
      "Epoch:  0 | train loss: 0.0322 | test accuracy: 0.98\n",
      "Epoch:  0 | train loss: 0.0529 | test accuracy: 0.99\n",
      "Epoch:  0 | train loss: 0.0303 | test accuracy: 0.98\n",
      "Epoch:  0 | train loss: 0.1238 | test accuracy: 0.99\n",
      "Epoch:  0 | train loss: 0.0305 | test accuracy: 0.98\n",
      "Epoch:  0 | train loss: 0.0507 | test accuracy: 0.98\n",
      "Epoch:  0 | train loss: 0.0566 | test accuracy: 0.98\n",
      "Epoch:  0 | train loss: 0.0105 | test accuracy: 0.99\n",
      "Epoch:  0 | train loss: 0.1792 | test accuracy: 0.98\n",
      "Epoch:  0 | train loss: 0.0072 | test accuracy: 0.99\n",
      "Epoch:  0 | train loss: 0.0146 | test accuracy: 0.98\n",
      "Epoch:  0 | train loss: 0.0232 | test accuracy: 0.98\n"
     ]
    }
   ],
   "source": [
    "# 开始训练\n",
    "for epoch in range(EPOCH):\n",
    "    for step, (b_x, b_y) in enumerate(train_loader):  # 分配batch data\n",
    "        output = cnn(b_x)  # 先将数据放到cnn中计算output\n",
    "        loss = loss_func(output, b_y)  # 输出和真实标签的loss，二者位置不可颠倒\n",
    "        optimizer.zero_grad()  # 清除之前学到的梯度的参数\n",
    "        loss.backward()  # 反向传播，计算梯度\n",
    "        optimizer.step()  # 应用梯度\n",
    "\n",
    "        if step % 50 == 0:\n",
    "            test_output = cnn(test_x)\n",
    "            pred_y = torch.max(test_output, 1)[1].data.numpy()\n",
    "            accuracy = float((pred_y == test_y.data.numpy()).astype(int).sum()) / float(test_y.size(0))\n",
    "            print('Epoch: ', epoch, '| train loss: %.4f' % loss.data.numpy(), '| test accuracy: %.2f' % accuracy)\n",
    "\n",
    "torch.save(cnn.state_dict(), 'cnn2.pkl')#保存模型"
   ],
   "metadata": {
    "collapsed": false,
    "ExecuteTime": {
     "end_time": "2024-04-08T06:51:38.906549Z",
     "start_time": "2024-04-08T06:51:26.605792Z"
    }
   },
   "id": "59db0a3cb7e7ec87",
   "execution_count": 4
  },
  {
   "cell_type": "code",
   "outputs": [
    {
     "name": "stdout",
     "output_type": "stream",
     "text": [
      "prediction number [0 6 9 0 1 5 9 7 3 4 9 6 6 5 4 0 7 4 0 1 3 1 3 4 7 2 7 1 2 1 1 7 4 2 3 5 1\n",
      " 2 4 4 6 3 5 5 6 0 4 1 9 5 7 8 9 3 7 4 6 4 3 0 7 0 2 9 1 7 3 2 9 7 7 6 2 7\n",
      " 8 4 7 3 6 1 3 6 9 3 1 4 1 7 6 9 6 0 5 4 9 9 2 1 9 4 8 7 3 9 7 4 4 4 9 2 5\n",
      " 4 7 6 7 9 0 5 8 5 6 6 5 7 8 1 0 1 6 4 6 7 3 1 7 1 8 2 0 2 9 9 5 5 1 5 6 0\n",
      " 3 4 4 6 5 4 6 5 4 5 1 4 4 7 2 3 2 7 1 8 1 8 1 8 5 0 8 9 2 5 0 1 1 1 0 9 0\n",
      " 3 1 6 4 2 3 6 1 1 1 3 9 5 2 9 4 5 9 3 9 0 3 6 5 5 7 2 2 7 1 2 8 4 1 7 3 3\n",
      " 8 8 7 9 2 2 4 1 5 9 8 7 2 3 0 2 4 2 4 1 9 5 7 7 2 8 2 0 8 5 7 7 9 1 0 1 8\n",
      " 0 3 0 1 9 9 4 1 8 2 1 2 9 7 5 9 2 6 4 1 5 8 2 9 2 0 4 0 0 2 8 4 7 1 2 4 0\n",
      " 2 7 4 3 3 0 0 3 1 9 6 5 2 5]\n"
     ]
    }
   ],
   "source": [
    "# 加载模型，调用时需将前面训练及保存模型的代码注释掉，否则会再训练一遍\n",
    "cnn.load_state_dict(torch.load('cnn2.pkl'))\n",
    "cnn.eval()\n",
    "# print 10 predictions from test data\n",
    "inputs = test_x[10:320]  # 测试32个数据\n",
    "test_output = cnn(inputs)\n",
    "pred_y = torch.max(test_output, 1)[1].data.numpy()\n",
    "print('prediction number', pred_y)  # 打印识别后的数字\n",
    "# print(test_y[:10].numpy(), 'real number')\n",
    "\n",
    "img = torchvision.utils.make_grid(inputs)\n",
    "img = img.numpy().transpose(1, 2, 0)\n",
    "\n",
    "# 下面三行为改变图片的亮度\n",
    "# std = [0.5, 0.5, 0.5]\n",
    "# mean = [0.5, 0.5, 0.5]\n",
    "# img = img * std + mean\n",
    "cv2.imshow('win', img)  # opencv显示需要识别的数据图片\n",
    "key_pressed = cv2.waitKey(0)"
   ],
   "metadata": {
    "collapsed": false,
    "ExecuteTime": {
     "end_time": "2024-04-08T06:50:42.888466Z",
     "start_time": "2024-04-08T06:50:28.420373Z"
    }
   },
   "id": "d738a69b3e6902f5",
   "execution_count": 3
  },
  {
   "cell_type": "code",
   "outputs": [],
   "source": [],
   "metadata": {
    "collapsed": false
   },
   "id": "653715c0f5f115df"
  },
  {
   "cell_type": "code",
   "outputs": [],
   "source": [],
   "metadata": {
    "collapsed": false
   },
   "id": "2aa28307dca6169a"
  }
 ],
 "metadata": {
  "kernelspec": {
   "display_name": "Python 3",
   "language": "python",
   "name": "python3"
  },
  "language_info": {
   "codemirror_mode": {
    "name": "ipython",
    "version": 2
   },
   "file_extension": ".py",
   "mimetype": "text/x-python",
   "name": "python",
   "nbconvert_exporter": "python",
   "pygments_lexer": "ipython2",
   "version": "2.7.6"
  }
 },
 "nbformat": 4,
 "nbformat_minor": 5
}
