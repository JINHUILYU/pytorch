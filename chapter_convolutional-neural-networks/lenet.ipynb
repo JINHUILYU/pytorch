{
 "cells": [
  {
   "cell_type": "markdown",
   "id": "493c2d92",
   "metadata": {
    "origin_pos": 0
   },
   "source": [
    "# 卷积神经网络（LeNet）\n",
    ":label:`sec_lenet`\n",
    "\n",
    "通过之前几节，我们学习了构建一个完整卷积神经网络的所需组件。\n",
    "回想一下，之前我们将softmax回归模型（ :numref:`sec_softmax_scratch`）和多层感知机模型（ :numref:`sec_mlp_scratch`）应用于Fashion-MNIST数据集中的服装图片。\n",
    "为了能够应用softmax回归和多层感知机，我们首先将每个大小为$28\\times28$的图像展平为一个784维的固定长度的一维向量，然后用全连接层对其进行处理。\n",
    "而现在，我们已经掌握了卷积层的处理方法，我们可以在图像中保留空间结构。\n",
    "同时，用卷积层代替全连接层的另一个好处是：模型更简洁、所需的参数更少。\n",
    "\n",
    "本节将介绍LeNet，它是最早发布的卷积神经网络之一，因其在计算机视觉任务中的高效性能而受到广泛关注。\n",
    "这个模型是由AT&T贝尔实验室的研究员Yann LeCun在1989年提出的（并以其命名），目的是识别图像 :cite:`LeCun.Bottou.Bengio.ea.1998`中的手写数字。\n",
    "当时，Yann LeCun发表了第一篇通过反向传播成功训练卷积神经网络的研究，这项工作代表了十多年来神经网络研究开发的成果。\n",
    "\n",
    "当时，LeNet取得了与支持向量机（support vector machines）性能相媲美的成果，成为监督学习的主流方法。\n",
    "LeNet被广泛用于自动取款机（ATM）机中，帮助识别处理支票的数字。\n",
    "时至今日，一些自动取款机仍在运行Yann LeCun和他的同事Leon Bottou在上世纪90年代写的代码呢！\n",
    "\n",
    "## LeNet\n",
    "\n",
    "总体来看，(**LeNet（LeNet-5）由两个部分组成：**)(~~卷积编码器和全连接层密集块~~)\n",
    "\n",
    "* 卷积编码器：由两个卷积层组成;\n",
    "* 全连接层密集块：由三个全连接层组成。\n",
    "\n",
    "该架构如 :numref:`img_lenet`所示。\n",
    "\n",
    "![LeNet中的数据流。输入是手写数字，输出为10种可能结果的概率。](../img/lenet.svg)\n",
    ":label:`img_lenet`\n",
    "\n",
    "每个卷积块中的基本单元是一个卷积层、一个sigmoid激活函数和平均汇聚层。请注意，虽然ReLU和最大汇聚层更有效，但它们在20世纪90年代还没有出现。每个卷积层使用$5\\times 5$卷积核和一个sigmoid激活函数。这些层将输入映射到多个二维特征输出，通常同时增加通道的数量。第一卷积层有6个输出通道，而第二个卷积层有16个输出通道。每个$2\\times2$池操作（步幅2）通过空间下采样将维数减少4倍。卷积的输出形状由批量大小、通道数、高度、宽度决定。\n",
    "\n",
    "为了将卷积块的输出传递给稠密块，我们必须在小批量中展平每个样本。换言之，我们将这个四维输入转换成全连接层所期望的二维输入。这里的二维表示的第一个维度索引小批量中的样本，第二个维度给出每个样本的平面向量表示。LeNet的稠密块有三个全连接层，分别有120、84和10个输出。因为我们在执行分类任务，所以输出层的10维对应于最后输出结果的数量。\n",
    "\n",
    "通过下面的LeNet代码，可以看出用深度学习框架实现此类模型非常简单。我们只需要实例化一个`Sequential`块并将需要的层连接在一起。\n"
   ]
  },
  {
   "cell_type": "code",
   "execution_count": 1,
   "id": "589980bb",
   "metadata": {
    "execution": {
     "iopub.execute_input": "2023-08-18T07:16:58.345112Z",
     "iopub.status.busy": "2023-08-18T07:16:58.344514Z",
     "iopub.status.idle": "2023-08-18T07:17:01.351069Z",
     "shell.execute_reply": "2023-08-18T07:17:01.349827Z"
    },
    "origin_pos": 2,
    "tab": [
     "pytorch"
    ],
    "ExecuteTime": {
     "end_time": "2024-04-19T08:11:12.428106700Z",
     "start_time": "2024-04-19T08:11:04.591794900Z"
    }
   },
   "outputs": [],
   "source": [
    "import torch\n",
    "from torch import nn\n",
    "from d2l import torch as d2l\n",
    "\n",
    "net = nn.Sequential(\n",
    "    nn.Conv2d(1, 6, kernel_size=5, padding=2), nn.Sigmoid(),\n",
    "    nn.AvgPool2d(kernel_size=2, stride=2),\n",
    "    nn.Conv2d(6, 16, kernel_size=5), nn.Sigmoid(),\n",
    "    nn.AvgPool2d(kernel_size=2, stride=2),\n",
    "    nn.Flatten(),\n",
    "    nn.Linear(16 * 5 * 5, 120), nn.Sigmoid(),\n",
    "    nn.Linear(120, 84), nn.Sigmoid(),\n",
    "    nn.Linear(84, 10))"
   ]
  },
  {
   "cell_type": "markdown",
   "id": "b9b37131",
   "metadata": {
    "origin_pos": 5
   },
   "source": [
    "我们对原始模型做了一点小改动，去掉了最后一层的高斯激活。除此之外，这个网络与最初的LeNet-5一致。\n",
    "\n",
    "下面，我们将一个大小为$28 \\times 28$的单通道（黑白）图像通过LeNet。通过在每一层打印输出的形状，我们可以[**检查模型**]，以确保其操作与我们期望的 :numref:`img_lenet_vert`一致。\n",
    "\n",
    "![LeNet 的简化版。](../img/lenet-vert.svg)\n",
    ":label:`img_lenet_vert`\n"
   ]
  },
  {
   "cell_type": "code",
   "execution_count": 2,
   "id": "8d4dfb21",
   "metadata": {
    "execution": {
     "iopub.execute_input": "2023-08-18T07:17:01.355505Z",
     "iopub.status.busy": "2023-08-18T07:17:01.354784Z",
     "iopub.status.idle": "2023-08-18T07:17:01.371233Z",
     "shell.execute_reply": "2023-08-18T07:17:01.370166Z"
    },
    "origin_pos": 7,
    "tab": [
     "pytorch"
    ],
    "ExecuteTime": {
     "end_time": "2024-04-19T08:11:28.449837800Z",
     "start_time": "2024-04-19T08:11:28.393205300Z"
    }
   },
   "outputs": [
    {
     "name": "stdout",
     "output_type": "stream",
     "text": [
      "Conv2d output shape: \t torch.Size([1, 6, 28, 28])\n",
      "Sigmoid output shape: \t torch.Size([1, 6, 28, 28])\n",
      "AvgPool2d output shape: \t torch.Size([1, 6, 14, 14])\n",
      "Conv2d output shape: \t torch.Size([1, 16, 10, 10])\n",
      "Sigmoid output shape: \t torch.Size([1, 16, 10, 10])\n",
      "AvgPool2d output shape: \t torch.Size([1, 16, 5, 5])\n",
      "Flatten output shape: \t torch.Size([1, 400])\n",
      "Linear output shape: \t torch.Size([1, 120])\n",
      "Sigmoid output shape: \t torch.Size([1, 120])\n",
      "Linear output shape: \t torch.Size([1, 84])\n",
      "Sigmoid output shape: \t torch.Size([1, 84])\n",
      "Linear output shape: \t torch.Size([1, 10])\n"
     ]
    }
   ],
   "source": [
    "X = torch.rand(size=(1, 1, 28, 28), dtype=torch.float32)\n",
    "for layer in net:\n",
    "    X = layer(X)\n",
    "    print(layer.__class__.__name__,'output shape: \\t',X.shape)"
   ]
  },
  {
   "cell_type": "markdown",
   "id": "81704149",
   "metadata": {
    "origin_pos": 10
   },
   "source": [
    "请注意，在整个卷积块中，与上一层相比，每一层特征的高度和宽度都减小了。\n",
    "第一个卷积层使用2个像素的填充，来补偿$5 \\times 5$卷积核导致的特征减少。\n",
    "相反，第二个卷积层没有填充，因此高度和宽度都减少了4个像素。\n",
    "随着层叠的上升，通道的数量从输入时的1个，增加到第一个卷积层之后的6个，再到第二个卷积层之后的16个。\n",
    "同时，每个汇聚层的高度和宽度都减半。最后，每个全连接层减少维数，最终输出一个维数与结果分类数相匹配的输出。\n",
    "\n",
    "## 模型训练\n",
    "\n",
    "现在我们已经实现了LeNet，让我们看看[**LeNet在Fashion-MNIST数据集上的表现**]。\n"
   ]
  },
  {
   "cell_type": "code",
   "execution_count": 3,
   "id": "d13d15dc",
   "metadata": {
    "execution": {
     "iopub.execute_input": "2023-08-18T07:17:01.375937Z",
     "iopub.status.busy": "2023-08-18T07:17:01.374923Z",
     "iopub.status.idle": "2023-08-18T07:17:01.483390Z",
     "shell.execute_reply": "2023-08-18T07:17:01.481932Z"
    },
    "origin_pos": 11,
    "tab": [
     "pytorch"
    ],
    "ExecuteTime": {
     "end_time": "2024-04-19T08:29:44.931527300Z",
     "start_time": "2024-04-19T08:11:49.678079900Z"
    }
   },
   "outputs": [
    {
     "name": "stdout",
     "output_type": "stream",
     "text": [
      "Downloading http://fashion-mnist.s3-website.eu-central-1.amazonaws.com/train-images-idx3-ubyte.gz\n",
      "Downloading http://fashion-mnist.s3-website.eu-central-1.amazonaws.com/train-images-idx3-ubyte.gz to ../data\\FashionMNIST\\raw\\train-images-idx3-ubyte.gz\n"
     ]
    },
    {
     "name": "stderr",
     "output_type": "stream",
     "text": [
      "100%|██████████| 26421880/26421880 [17:49<00:00, 24693.53it/s]\n"
     ]
    },
    {
     "name": "stdout",
     "output_type": "stream",
     "text": [
      "Extracting ../data\\FashionMNIST\\raw\\train-images-idx3-ubyte.gz to ../data\\FashionMNIST\\raw\n",
      "\n",
      "Downloading http://fashion-mnist.s3-website.eu-central-1.amazonaws.com/train-labels-idx1-ubyte.gz\n",
      "Downloading http://fashion-mnist.s3-website.eu-central-1.amazonaws.com/train-labels-idx1-ubyte.gz to ../data\\FashionMNIST\\raw\\train-labels-idx1-ubyte.gz\n"
     ]
    },
    {
     "name": "stderr",
     "output_type": "stream",
     "text": [
      "100%|██████████| 29515/29515 [00:00<00:00, 176562.54it/s]\n"
     ]
    },
    {
     "name": "stdout",
     "output_type": "stream",
     "text": [
      "Extracting ../data\\FashionMNIST\\raw\\train-labels-idx1-ubyte.gz to ../data\\FashionMNIST\\raw\n",
      "\n",
      "Downloading http://fashion-mnist.s3-website.eu-central-1.amazonaws.com/t10k-images-idx3-ubyte.gz\n",
      "Downloading http://fashion-mnist.s3-website.eu-central-1.amazonaws.com/t10k-images-idx3-ubyte.gz to ../data\\FashionMNIST\\raw\\t10k-images-idx3-ubyte.gz\n"
     ]
    },
    {
     "name": "stderr",
     "output_type": "stream",
     "text": [
      "100%|██████████| 4422102/4422102 [00:01<00:00, 3376815.77it/s]\n"
     ]
    },
    {
     "name": "stdout",
     "output_type": "stream",
     "text": [
      "Extracting ../data\\FashionMNIST\\raw\\t10k-images-idx3-ubyte.gz to ../data\\FashionMNIST\\raw\n",
      "\n",
      "Downloading http://fashion-mnist.s3-website.eu-central-1.amazonaws.com/t10k-labels-idx1-ubyte.gz\n",
      "Downloading http://fashion-mnist.s3-website.eu-central-1.amazonaws.com/t10k-labels-idx1-ubyte.gz to ../data\\FashionMNIST\\raw\\t10k-labels-idx1-ubyte.gz\n"
     ]
    },
    {
     "name": "stderr",
     "output_type": "stream",
     "text": [
      "100%|██████████| 5148/5148 [00:00<00:00, 5117866.08it/s]"
     ]
    },
    {
     "name": "stdout",
     "output_type": "stream",
     "text": [
      "Extracting ../data\\FashionMNIST\\raw\\t10k-labels-idx1-ubyte.gz to ../data\\FashionMNIST\\raw\n"
     ]
    },
    {
     "name": "stderr",
     "output_type": "stream",
     "text": [
      "\n"
     ]
    }
   ],
   "source": [
    "batch_size = 256\n",
    "train_iter, test_iter = d2l.load_data_fashion_mnist(batch_size=batch_size)"
   ]
  },
  {
   "cell_type": "markdown",
   "id": "2f18ba4f",
   "metadata": {
    "origin_pos": 12
   },
   "source": [
    "虽然卷积神经网络的参数较少，但与深度的多层感知机相比，它们的计算成本仍然很高，因为每个参数都参与更多的乘法。\n",
    "通过使用GPU，可以用它加快训练。\n"
   ]
  },
  {
   "cell_type": "markdown",
   "id": "cf6cad2b",
   "metadata": {
    "origin_pos": 13,
    "tab": [
     "pytorch"
    ]
   },
   "source": [
    "为了进行评估，我们需要[**对**] :numref:`sec_softmax_scratch`中描述的(**`evaluate_accuracy`函数进行轻微的修改**)。\n",
    "由于完整的数据集位于内存中，因此在模型使用GPU计算数据集之前，我们需要将其复制到显存中。\n"
   ]
  },
  {
   "cell_type": "code",
   "execution_count": 4,
   "id": "c868f5c5",
   "metadata": {
    "execution": {
     "iopub.execute_input": "2023-08-18T07:17:01.489623Z",
     "iopub.status.busy": "2023-08-18T07:17:01.488809Z",
     "iopub.status.idle": "2023-08-18T07:17:01.498984Z",
     "shell.execute_reply": "2023-08-18T07:17:01.498112Z"
    },
    "origin_pos": 15,
    "tab": [
     "pytorch"
    ],
    "ExecuteTime": {
     "end_time": "2024-04-19T09:11:11.388098800Z",
     "start_time": "2024-04-19T09:11:11.384854900Z"
    }
   },
   "outputs": [],
   "source": [
    "def evaluate_accuracy_gpu(net, data_iter, device=None): #@save\n",
    "    \"\"\"使用GPU计算模型在数据集上的精度\"\"\"\n",
    "    if isinstance(net, nn.Module):\n",
    "        net.eval()  # 设置为评估模式\n",
    "        if not device:\n",
    "            device = next(iter(net.parameters())).device\n",
    "    # 正确预测的数量，总预测的数量\n",
    "    metric = d2l.Accumulator(2)\n",
    "    with torch.no_grad():\n",
    "        for X, y in data_iter:\n",
    "            if isinstance(X, list):\n",
    "                # BERT微调所需的（之后将介绍）\n",
    "                X = [x.to(device) for x in X]\n",
    "            else:\n",
    "                X = X.to(device)\n",
    "            y = y.to(device)\n",
    "            metric.add(d2l.accuracy(net(X), y), y.numel())\n",
    "    return metric[0] / metric[1]"
   ]
  },
  {
   "cell_type": "markdown",
   "id": "d2872a69",
   "metadata": {
    "origin_pos": 17
   },
   "source": [
    "[**为了使用GPU，我们还需要一点小改动**]。\n",
    "与 :numref:`sec_softmax_scratch`中定义的`train_epoch_ch3`不同，在进行正向和反向传播之前，我们需要将每一小批量数据移动到我们指定的设备（例如GPU）上。\n",
    "\n",
    "如下所示，训练函数`train_ch6`也类似于 :numref:`sec_softmax_scratch`中定义的`train_ch3`。\n",
    "由于我们将实现多层神经网络，因此我们将主要使用高级API。\n",
    "以下训练函数假定从高级API创建的模型作为输入，并进行相应的优化。\n",
    "我们使用在 :numref:`subsec_xavier`中介绍的Xavier随机初始化模型参数。\n",
    "与全连接层一样，我们使用交叉熵损失函数和小批量随机梯度下降。\n"
   ]
  },
  {
   "cell_type": "code",
   "execution_count": 5,
   "id": "8cb06c53",
   "metadata": {
    "execution": {
     "iopub.execute_input": "2023-08-18T07:17:01.504092Z",
     "iopub.status.busy": "2023-08-18T07:17:01.503194Z",
     "iopub.status.idle": "2023-08-18T07:17:01.520331Z",
     "shell.execute_reply": "2023-08-18T07:17:01.519209Z"
    },
    "origin_pos": 19,
    "tab": [
     "pytorch"
    ],
    "ExecuteTime": {
     "end_time": "2024-04-19T11:13:42.761883700Z",
     "start_time": "2024-04-19T11:13:42.736410900Z"
    }
   },
   "outputs": [],
   "source": [
    "#@save\n",
    "def train_ch6(net, train_iter, test_iter, num_epochs, lr, device):\n",
    "    \"\"\"用GPU训练模型(在第六章定义)\"\"\"\n",
    "    def init_weights(m):\n",
    "        if type(m) == nn.Linear or type(m) == nn.Conv2d:\n",
    "            nn.init.xavier_uniform_(m.weight)\n",
    "    net.apply(init_weights)\n",
    "    print('training on', device)\n",
    "    net.to(device)\n",
    "    optimizer = torch.optim.SGD(net.parameters(), lr=lr)\n",
    "    loss = nn.CrossEntropyLoss()\n",
    "    animator = d2l.Animator(xlabel='epoch', xlim=[1, num_epochs],\n",
    "                            legend=['train loss', 'train acc', 'test acc'])\n",
    "    timer, num_batches = d2l.Timer(), len(train_iter)\n",
    "    for epoch in range(num_epochs):\n",
    "        # 训练损失之和，训练准确率之和，样本数\n",
    "        metric = d2l.Accumulator(3)\n",
    "        net.train()\n",
    "        for i, (X, y) in enumerate(train_iter):\n",
    "            timer.start()\n",
    "            optimizer.zero_grad()\n",
    "            X, y = X.to(device), y.to(device)\n",
    "            y_hat = net(X)\n",
    "            l = loss(y_hat, y)\n",
    "            l.backward()\n",
    "            optimizer.step()\n",
    "            with torch.no_grad():\n",
    "                metric.add(l * X.shape[0], d2l.accuracy(y_hat, y), X.shape[0])\n",
    "            timer.stop()\n",
    "            train_l = metric[0] / metric[2]\n",
    "            train_acc = metric[1] / metric[2]\n",
    "            if (i + 1) % (num_batches // 5) == 0 or i == num_batches - 1:\n",
    "                animator.add(epoch + (i + 1) / num_batches,\n",
    "                             (train_l, train_acc, None))\n",
    "        test_acc = evaluate_accuracy_gpu(net, test_iter)\n",
    "        animator.add(epoch + 1, (None, None, test_acc))\n",
    "    print(f'loss {train_l:.3f}, train acc {train_acc:.3f}, '\n",
    "          f'test acc {test_acc:.3f}')\n",
    "    print(f'{metric[2] * num_epochs / timer.sum():.1f} examples/sec '\n",
    "          f'on {str(device)}')"
   ]
  },
  {
   "cell_type": "markdown",
   "id": "1d212797",
   "metadata": {
    "origin_pos": 22
   },
   "source": [
    "现在，我们[**训练和评估LeNet-5模型**]。\n"
   ]
  },
  {
   "cell_type": "code",
   "execution_count": 7,
   "id": "4b5d7b0c",
   "metadata": {
    "execution": {
     "iopub.execute_input": "2023-08-18T07:17:01.525559Z",
     "iopub.status.busy": "2023-08-18T07:17:01.524508Z",
     "iopub.status.idle": "2023-08-18T07:17:54.484626Z",
     "shell.execute_reply": "2023-08-18T07:17:54.483337Z"
    },
    "origin_pos": 23,
    "tab": [
     "pytorch"
    ]
   },
   "outputs": [
    {
     "name": "stdout",
     "output_type": "stream",
     "text": [
      "loss 0.183, train acc 0.933, test acc 0.899\n",
      "58769.4 examples/sec on cuda:0\n"
     ]
    },
    {
     "data": {
      "text/plain": "<Figure size 350x250 with 1 Axes>",
      "image/svg+xml": "<?xml version=\"1.0\" encoding=\"utf-8\" standalone=\"no\"?>\n<!DOCTYPE svg PUBLIC \"-//W3C//DTD SVG 1.1//EN\"\n  \"http://www.w3.org/Graphics/SVG/1.1/DTD/svg11.dtd\">\n<svg xmlns:xlink=\"http://www.w3.org/1999/xlink\" width=\"242.146875pt\" height=\"183.35625pt\" viewBox=\"0 0 242.146875 183.35625\" xmlns=\"http://www.w3.org/2000/svg\" version=\"1.1\">\n <metadata>\n  <rdf:RDF xmlns:dc=\"http://purl.org/dc/elements/1.1/\" xmlns:cc=\"http://creativecommons.org/ns#\" xmlns:rdf=\"http://www.w3.org/1999/02/22-rdf-syntax-ns#\">\n   <cc:Work>\n    <dc:type rdf:resource=\"http://purl.org/dc/dcmitype/StillImage\"/>\n    <dc:date>2024-04-19T19:36:49.322510</dc:date>\n    <dc:format>image/svg+xml</dc:format>\n    <dc:creator>\n     <cc:Agent>\n      <dc:title>Matplotlib v3.5.1, https://matplotlib.org/</dc:title>\n     </cc:Agent>\n    </dc:creator>\n   </cc:Work>\n  </rdf:RDF>\n </metadata>\n <defs>\n  <style type=\"text/css\">*{stroke-linejoin: round; stroke-linecap: butt}</style>\n </defs>\n <g id=\"figure_1\">\n  <g id=\"patch_1\">\n   <path d=\"M 0 183.35625 \nL 242.146875 183.35625 \nL 242.146875 0 \nL 0 0 \nz\n\" style=\"fill: #ffffff\"/>\n  </g>\n  <g id=\"axes_1\">\n   <g id=\"patch_2\">\n    <path d=\"M 30.103125 145.8 \nL 225.403125 145.8 \nL 225.403125 7.2 \nL 30.103125 7.2 \nz\n\" style=\"fill: #ffffff\"/>\n   </g>\n   <g id=\"matplotlib.axis_1\">\n    <g id=\"xtick_1\">\n     <g id=\"line2d_1\">\n      <path d=\"M 67.584943 145.8 \nL 67.584943 7.2 \n\" clip-path=\"url(#pb78f3290f2)\" style=\"fill: none; stroke: #b0b0b0; stroke-width: 0.8; stroke-linecap: square\"/>\n     </g>\n     <g id=\"line2d_2\">\n      <defs>\n       <path id=\"mb9294830ed\" d=\"M 0 0 \nL 0 3.5 \n\" style=\"stroke: #000000; stroke-width: 0.8\"/>\n      </defs>\n      <g>\n       <use xlink:href=\"#mb9294830ed\" x=\"67.584943\" y=\"145.8\" style=\"stroke: #000000; stroke-width: 0.8\"/>\n      </g>\n     </g>\n     <g id=\"text_1\">\n      <!-- 20 -->\n      <g transform=\"translate(61.222443 160.398438)scale(0.1 -0.1)\">\n       <defs>\n        <path id=\"DejaVuSans-32\" d=\"M 1228 531 \nL 3431 531 \nL 3431 0 \nL 469 0 \nL 469 531 \nQ 828 903 1448 1529 \nQ 2069 2156 2228 2338 \nQ 2531 2678 2651 2914 \nQ 2772 3150 2772 3378 \nQ 2772 3750 2511 3984 \nQ 2250 4219 1831 4219 \nQ 1534 4219 1204 4116 \nQ 875 4013 500 3803 \nL 500 4441 \nQ 881 4594 1212 4672 \nQ 1544 4750 1819 4750 \nQ 2544 4750 2975 4387 \nQ 3406 4025 3406 3419 \nQ 3406 3131 3298 2873 \nQ 3191 2616 2906 2266 \nQ 2828 2175 2409 1742 \nQ 1991 1309 1228 531 \nz\n\" transform=\"scale(0.015625)\"/>\n        <path id=\"DejaVuSans-30\" d=\"M 2034 4250 \nQ 1547 4250 1301 3770 \nQ 1056 3291 1056 2328 \nQ 1056 1369 1301 889 \nQ 1547 409 2034 409 \nQ 2525 409 2770 889 \nQ 3016 1369 3016 2328 \nQ 3016 3291 2770 3770 \nQ 2525 4250 2034 4250 \nz\nM 2034 4750 \nQ 2819 4750 3233 4129 \nQ 3647 3509 3647 2328 \nQ 3647 1150 3233 529 \nQ 2819 -91 2034 -91 \nQ 1250 -91 836 529 \nQ 422 1150 422 2328 \nQ 422 3509 836 4129 \nQ 1250 4750 2034 4750 \nz\n\" transform=\"scale(0.015625)\"/>\n       </defs>\n       <use xlink:href=\"#DejaVuSans-32\"/>\n       <use xlink:href=\"#DejaVuSans-30\" x=\"63.623047\"/>\n      </g>\n     </g>\n    </g>\n    <g id=\"xtick_2\">\n     <g id=\"line2d_3\">\n      <path d=\"M 107.039489 145.8 \nL 107.039489 7.2 \n\" clip-path=\"url(#pb78f3290f2)\" style=\"fill: none; stroke: #b0b0b0; stroke-width: 0.8; stroke-linecap: square\"/>\n     </g>\n     <g id=\"line2d_4\">\n      <g>\n       <use xlink:href=\"#mb9294830ed\" x=\"107.039489\" y=\"145.8\" style=\"stroke: #000000; stroke-width: 0.8\"/>\n      </g>\n     </g>\n     <g id=\"text_2\">\n      <!-- 40 -->\n      <g transform=\"translate(100.676989 160.398438)scale(0.1 -0.1)\">\n       <defs>\n        <path id=\"DejaVuSans-34\" d=\"M 2419 4116 \nL 825 1625 \nL 2419 1625 \nL 2419 4116 \nz\nM 2253 4666 \nL 3047 4666 \nL 3047 1625 \nL 3713 1625 \nL 3713 1100 \nL 3047 1100 \nL 3047 0 \nL 2419 0 \nL 2419 1100 \nL 313 1100 \nL 313 1709 \nL 2253 4666 \nz\n\" transform=\"scale(0.015625)\"/>\n       </defs>\n       <use xlink:href=\"#DejaVuSans-34\"/>\n       <use xlink:href=\"#DejaVuSans-30\" x=\"63.623047\"/>\n      </g>\n     </g>\n    </g>\n    <g id=\"xtick_3\">\n     <g id=\"line2d_5\">\n      <path d=\"M 146.494034 145.8 \nL 146.494034 7.2 \n\" clip-path=\"url(#pb78f3290f2)\" style=\"fill: none; stroke: #b0b0b0; stroke-width: 0.8; stroke-linecap: square\"/>\n     </g>\n     <g id=\"line2d_6\">\n      <g>\n       <use xlink:href=\"#mb9294830ed\" x=\"146.494034\" y=\"145.8\" style=\"stroke: #000000; stroke-width: 0.8\"/>\n      </g>\n     </g>\n     <g id=\"text_3\">\n      <!-- 60 -->\n      <g transform=\"translate(140.131534 160.398438)scale(0.1 -0.1)\">\n       <defs>\n        <path id=\"DejaVuSans-36\" d=\"M 2113 2584 \nQ 1688 2584 1439 2293 \nQ 1191 2003 1191 1497 \nQ 1191 994 1439 701 \nQ 1688 409 2113 409 \nQ 2538 409 2786 701 \nQ 3034 994 3034 1497 \nQ 3034 2003 2786 2293 \nQ 2538 2584 2113 2584 \nz\nM 3366 4563 \nL 3366 3988 \nQ 3128 4100 2886 4159 \nQ 2644 4219 2406 4219 \nQ 1781 4219 1451 3797 \nQ 1122 3375 1075 2522 \nQ 1259 2794 1537 2939 \nQ 1816 3084 2150 3084 \nQ 2853 3084 3261 2657 \nQ 3669 2231 3669 1497 \nQ 3669 778 3244 343 \nQ 2819 -91 2113 -91 \nQ 1303 -91 875 529 \nQ 447 1150 447 2328 \nQ 447 3434 972 4092 \nQ 1497 4750 2381 4750 \nQ 2619 4750 2861 4703 \nQ 3103 4656 3366 4563 \nz\n\" transform=\"scale(0.015625)\"/>\n       </defs>\n       <use xlink:href=\"#DejaVuSans-36\"/>\n       <use xlink:href=\"#DejaVuSans-30\" x=\"63.623047\"/>\n      </g>\n     </g>\n    </g>\n    <g id=\"xtick_4\">\n     <g id=\"line2d_7\">\n      <path d=\"M 185.94858 145.8 \nL 185.94858 7.2 \n\" clip-path=\"url(#pb78f3290f2)\" style=\"fill: none; stroke: #b0b0b0; stroke-width: 0.8; stroke-linecap: square\"/>\n     </g>\n     <g id=\"line2d_8\">\n      <g>\n       <use xlink:href=\"#mb9294830ed\" x=\"185.94858\" y=\"145.8\" style=\"stroke: #000000; stroke-width: 0.8\"/>\n      </g>\n     </g>\n     <g id=\"text_4\">\n      <!-- 80 -->\n      <g transform=\"translate(179.58608 160.398438)scale(0.1 -0.1)\">\n       <defs>\n        <path id=\"DejaVuSans-38\" d=\"M 2034 2216 \nQ 1584 2216 1326 1975 \nQ 1069 1734 1069 1313 \nQ 1069 891 1326 650 \nQ 1584 409 2034 409 \nQ 2484 409 2743 651 \nQ 3003 894 3003 1313 \nQ 3003 1734 2745 1975 \nQ 2488 2216 2034 2216 \nz\nM 1403 2484 \nQ 997 2584 770 2862 \nQ 544 3141 544 3541 \nQ 544 4100 942 4425 \nQ 1341 4750 2034 4750 \nQ 2731 4750 3128 4425 \nQ 3525 4100 3525 3541 \nQ 3525 3141 3298 2862 \nQ 3072 2584 2669 2484 \nQ 3125 2378 3379 2068 \nQ 3634 1759 3634 1313 \nQ 3634 634 3220 271 \nQ 2806 -91 2034 -91 \nQ 1263 -91 848 271 \nQ 434 634 434 1313 \nQ 434 1759 690 2068 \nQ 947 2378 1403 2484 \nz\nM 1172 3481 \nQ 1172 3119 1398 2916 \nQ 1625 2713 2034 2713 \nQ 2441 2713 2670 2916 \nQ 2900 3119 2900 3481 \nQ 2900 3844 2670 4047 \nQ 2441 4250 2034 4250 \nQ 1625 4250 1398 4047 \nQ 1172 3844 1172 3481 \nz\n\" transform=\"scale(0.015625)\"/>\n       </defs>\n       <use xlink:href=\"#DejaVuSans-38\"/>\n       <use xlink:href=\"#DejaVuSans-30\" x=\"63.623047\"/>\n      </g>\n     </g>\n    </g>\n    <g id=\"xtick_5\">\n     <g id=\"line2d_9\">\n      <path d=\"M 225.403125 145.8 \nL 225.403125 7.2 \n\" clip-path=\"url(#pb78f3290f2)\" style=\"fill: none; stroke: #b0b0b0; stroke-width: 0.8; stroke-linecap: square\"/>\n     </g>\n     <g id=\"line2d_10\">\n      <g>\n       <use xlink:href=\"#mb9294830ed\" x=\"225.403125\" y=\"145.8\" style=\"stroke: #000000; stroke-width: 0.8\"/>\n      </g>\n     </g>\n     <g id=\"text_5\">\n      <!-- 100 -->\n      <g transform=\"translate(215.859375 160.398438)scale(0.1 -0.1)\">\n       <defs>\n        <path id=\"DejaVuSans-31\" d=\"M 794 531 \nL 1825 531 \nL 1825 4091 \nL 703 3866 \nL 703 4441 \nL 1819 4666 \nL 2450 4666 \nL 2450 531 \nL 3481 531 \nL 3481 0 \nL 794 0 \nL 794 531 \nz\n\" transform=\"scale(0.015625)\"/>\n       </defs>\n       <use xlink:href=\"#DejaVuSans-31\"/>\n       <use xlink:href=\"#DejaVuSans-30\" x=\"63.623047\"/>\n       <use xlink:href=\"#DejaVuSans-30\" x=\"127.246094\"/>\n      </g>\n     </g>\n    </g>\n    <g id=\"text_6\">\n     <!-- epoch -->\n     <g transform=\"translate(112.525 174.076563)scale(0.1 -0.1)\">\n      <defs>\n       <path id=\"DejaVuSans-65\" d=\"M 3597 1894 \nL 3597 1613 \nL 953 1613 \nQ 991 1019 1311 708 \nQ 1631 397 2203 397 \nQ 2534 397 2845 478 \nQ 3156 559 3463 722 \nL 3463 178 \nQ 3153 47 2828 -22 \nQ 2503 -91 2169 -91 \nQ 1331 -91 842 396 \nQ 353 884 353 1716 \nQ 353 2575 817 3079 \nQ 1281 3584 2069 3584 \nQ 2775 3584 3186 3129 \nQ 3597 2675 3597 1894 \nz\nM 3022 2063 \nQ 3016 2534 2758 2815 \nQ 2500 3097 2075 3097 \nQ 1594 3097 1305 2825 \nQ 1016 2553 972 2059 \nL 3022 2063 \nz\n\" transform=\"scale(0.015625)\"/>\n       <path id=\"DejaVuSans-70\" d=\"M 1159 525 \nL 1159 -1331 \nL 581 -1331 \nL 581 3500 \nL 1159 3500 \nL 1159 2969 \nQ 1341 3281 1617 3432 \nQ 1894 3584 2278 3584 \nQ 2916 3584 3314 3078 \nQ 3713 2572 3713 1747 \nQ 3713 922 3314 415 \nQ 2916 -91 2278 -91 \nQ 1894 -91 1617 61 \nQ 1341 213 1159 525 \nz\nM 3116 1747 \nQ 3116 2381 2855 2742 \nQ 2594 3103 2138 3103 \nQ 1681 3103 1420 2742 \nQ 1159 2381 1159 1747 \nQ 1159 1113 1420 752 \nQ 1681 391 2138 391 \nQ 2594 391 2855 752 \nQ 3116 1113 3116 1747 \nz\n\" transform=\"scale(0.015625)\"/>\n       <path id=\"DejaVuSans-6f\" d=\"M 1959 3097 \nQ 1497 3097 1228 2736 \nQ 959 2375 959 1747 \nQ 959 1119 1226 758 \nQ 1494 397 1959 397 \nQ 2419 397 2687 759 \nQ 2956 1122 2956 1747 \nQ 2956 2369 2687 2733 \nQ 2419 3097 1959 3097 \nz\nM 1959 3584 \nQ 2709 3584 3137 3096 \nQ 3566 2609 3566 1747 \nQ 3566 888 3137 398 \nQ 2709 -91 1959 -91 \nQ 1206 -91 779 398 \nQ 353 888 353 1747 \nQ 353 2609 779 3096 \nQ 1206 3584 1959 3584 \nz\n\" transform=\"scale(0.015625)\"/>\n       <path id=\"DejaVuSans-63\" d=\"M 3122 3366 \nL 3122 2828 \nQ 2878 2963 2633 3030 \nQ 2388 3097 2138 3097 \nQ 1578 3097 1268 2742 \nQ 959 2388 959 1747 \nQ 959 1106 1268 751 \nQ 1578 397 2138 397 \nQ 2388 397 2633 464 \nQ 2878 531 3122 666 \nL 3122 134 \nQ 2881 22 2623 -34 \nQ 2366 -91 2075 -91 \nQ 1284 -91 818 406 \nQ 353 903 353 1747 \nQ 353 2603 823 3093 \nQ 1294 3584 2113 3584 \nQ 2378 3584 2631 3529 \nQ 2884 3475 3122 3366 \nz\n\" transform=\"scale(0.015625)\"/>\n       <path id=\"DejaVuSans-68\" d=\"M 3513 2113 \nL 3513 0 \nL 2938 0 \nL 2938 2094 \nQ 2938 2591 2744 2837 \nQ 2550 3084 2163 3084 \nQ 1697 3084 1428 2787 \nQ 1159 2491 1159 1978 \nL 1159 0 \nL 581 0 \nL 581 4863 \nL 1159 4863 \nL 1159 2956 \nQ 1366 3272 1645 3428 \nQ 1925 3584 2291 3584 \nQ 2894 3584 3203 3211 \nQ 3513 2838 3513 2113 \nz\n\" transform=\"scale(0.015625)\"/>\n      </defs>\n      <use xlink:href=\"#DejaVuSans-65\"/>\n      <use xlink:href=\"#DejaVuSans-70\" x=\"61.523438\"/>\n      <use xlink:href=\"#DejaVuSans-6f\" x=\"125\"/>\n      <use xlink:href=\"#DejaVuSans-63\" x=\"186.181641\"/>\n      <use xlink:href=\"#DejaVuSans-68\" x=\"241.162109\"/>\n     </g>\n    </g>\n   </g>\n   <g id=\"matplotlib.axis_2\">\n    <g id=\"ytick_1\">\n     <g id=\"line2d_11\">\n      <path d=\"M 30.103125 144.815199 \nL 225.403125 144.815199 \n\" clip-path=\"url(#pb78f3290f2)\" style=\"fill: none; stroke: #b0b0b0; stroke-width: 0.8; stroke-linecap: square\"/>\n     </g>\n     <g id=\"line2d_12\">\n      <defs>\n       <path id=\"ma49bf537ac\" d=\"M 0 0 \nL -3.5 0 \n\" style=\"stroke: #000000; stroke-width: 0.8\"/>\n      </defs>\n      <g>\n       <use xlink:href=\"#ma49bf537ac\" x=\"30.103125\" y=\"144.815199\" style=\"stroke: #000000; stroke-width: 0.8\"/>\n      </g>\n     </g>\n     <g id=\"text_7\">\n      <!-- 0.0 -->\n      <g transform=\"translate(7.2 148.614418)scale(0.1 -0.1)\">\n       <defs>\n        <path id=\"DejaVuSans-2e\" d=\"M 684 794 \nL 1344 794 \nL 1344 0 \nL 684 0 \nL 684 794 \nz\n\" transform=\"scale(0.015625)\"/>\n       </defs>\n       <use xlink:href=\"#DejaVuSans-30\"/>\n       <use xlink:href=\"#DejaVuSans-2e\" x=\"63.623047\"/>\n       <use xlink:href=\"#DejaVuSans-30\" x=\"95.410156\"/>\n      </g>\n     </g>\n    </g>\n    <g id=\"ytick_2\">\n     <g id=\"line2d_13\">\n      <path d=\"M 30.103125 117.106153 \nL 225.403125 117.106153 \n\" clip-path=\"url(#pb78f3290f2)\" style=\"fill: none; stroke: #b0b0b0; stroke-width: 0.8; stroke-linecap: square\"/>\n     </g>\n     <g id=\"line2d_14\">\n      <g>\n       <use xlink:href=\"#ma49bf537ac\" x=\"30.103125\" y=\"117.106153\" style=\"stroke: #000000; stroke-width: 0.8\"/>\n      </g>\n     </g>\n     <g id=\"text_8\">\n      <!-- 0.5 -->\n      <g transform=\"translate(7.2 120.905372)scale(0.1 -0.1)\">\n       <defs>\n        <path id=\"DejaVuSans-35\" d=\"M 691 4666 \nL 3169 4666 \nL 3169 4134 \nL 1269 4134 \nL 1269 2991 \nQ 1406 3038 1543 3061 \nQ 1681 3084 1819 3084 \nQ 2600 3084 3056 2656 \nQ 3513 2228 3513 1497 \nQ 3513 744 3044 326 \nQ 2575 -91 1722 -91 \nQ 1428 -91 1123 -41 \nQ 819 9 494 109 \nL 494 744 \nQ 775 591 1075 516 \nQ 1375 441 1709 441 \nQ 2250 441 2565 725 \nQ 2881 1009 2881 1497 \nQ 2881 1984 2565 2268 \nQ 2250 2553 1709 2553 \nQ 1456 2553 1204 2497 \nQ 953 2441 691 2322 \nL 691 4666 \nz\n\" transform=\"scale(0.015625)\"/>\n       </defs>\n       <use xlink:href=\"#DejaVuSans-30\"/>\n       <use xlink:href=\"#DejaVuSans-2e\" x=\"63.623047\"/>\n       <use xlink:href=\"#DejaVuSans-35\" x=\"95.410156\"/>\n      </g>\n     </g>\n    </g>\n    <g id=\"ytick_3\">\n     <g id=\"line2d_15\">\n      <path d=\"M 30.103125 89.397106 \nL 225.403125 89.397106 \n\" clip-path=\"url(#pb78f3290f2)\" style=\"fill: none; stroke: #b0b0b0; stroke-width: 0.8; stroke-linecap: square\"/>\n     </g>\n     <g id=\"line2d_16\">\n      <g>\n       <use xlink:href=\"#ma49bf537ac\" x=\"30.103125\" y=\"89.397106\" style=\"stroke: #000000; stroke-width: 0.8\"/>\n      </g>\n     </g>\n     <g id=\"text_9\">\n      <!-- 1.0 -->\n      <g transform=\"translate(7.2 93.196325)scale(0.1 -0.1)\">\n       <use xlink:href=\"#DejaVuSans-31\"/>\n       <use xlink:href=\"#DejaVuSans-2e\" x=\"63.623047\"/>\n       <use xlink:href=\"#DejaVuSans-30\" x=\"95.410156\"/>\n      </g>\n     </g>\n    </g>\n    <g id=\"ytick_4\">\n     <g id=\"line2d_17\">\n      <path d=\"M 30.103125 61.68806 \nL 225.403125 61.68806 \n\" clip-path=\"url(#pb78f3290f2)\" style=\"fill: none; stroke: #b0b0b0; stroke-width: 0.8; stroke-linecap: square\"/>\n     </g>\n     <g id=\"line2d_18\">\n      <g>\n       <use xlink:href=\"#ma49bf537ac\" x=\"30.103125\" y=\"61.68806\" style=\"stroke: #000000; stroke-width: 0.8\"/>\n      </g>\n     </g>\n     <g id=\"text_10\">\n      <!-- 1.5 -->\n      <g transform=\"translate(7.2 65.487279)scale(0.1 -0.1)\">\n       <use xlink:href=\"#DejaVuSans-31\"/>\n       <use xlink:href=\"#DejaVuSans-2e\" x=\"63.623047\"/>\n       <use xlink:href=\"#DejaVuSans-35\" x=\"95.410156\"/>\n      </g>\n     </g>\n    </g>\n    <g id=\"ytick_5\">\n     <g id=\"line2d_19\">\n      <path d=\"M 30.103125 33.979014 \nL 225.403125 33.979014 \n\" clip-path=\"url(#pb78f3290f2)\" style=\"fill: none; stroke: #b0b0b0; stroke-width: 0.8; stroke-linecap: square\"/>\n     </g>\n     <g id=\"line2d_20\">\n      <g>\n       <use xlink:href=\"#ma49bf537ac\" x=\"30.103125\" y=\"33.979014\" style=\"stroke: #000000; stroke-width: 0.8\"/>\n      </g>\n     </g>\n     <g id=\"text_11\">\n      <!-- 2.0 -->\n      <g transform=\"translate(7.2 37.778232)scale(0.1 -0.1)\">\n       <use xlink:href=\"#DejaVuSans-32\"/>\n       <use xlink:href=\"#DejaVuSans-2e\" x=\"63.623047\"/>\n       <use xlink:href=\"#DejaVuSans-30\" x=\"95.410156\"/>\n      </g>\n     </g>\n    </g>\n   </g>\n   <g id=\"line2d_21\">\n    <path d=\"M 28.524943 13.5 \nL 28.919489 15.054919 \nL 29.314034 15.676124 \nL 30.103125 16.492377 \nL 30.49767 42.97719 \nL 30.892216 57.755382 \nL 31.286761 66.0209 \nL 31.681307 71.867818 \nL 32.075852 75.75599 \nL 32.470398 93.74429 \nL 33.259489 96.5921 \nL 34.04858 98.586095 \nL 34.443125 104.511644 \nL 34.83767 104.56915 \nL 36.021307 105.903508 \nL 36.415852 108.61652 \nL 36.810398 108.280787 \nL 37.599489 109.551396 \nL 37.994034 109.604782 \nL 38.38858 112.558758 \nL 38.783125 112.204878 \nL 39.17767 112.21845 \nL 39.966761 112.660179 \nL 40.361307 114.206352 \nL 41.150398 114.195385 \nL 42.334034 115.531945 \nL 42.72858 115.684917 \nL 43.123125 116.333998 \nL 43.912216 116.683875 \nL 44.306761 117.751659 \nL 44.701307 118.095369 \nL 45.490398 117.982753 \nL 45.884943 118.190943 \nL 46.279489 119.100857 \nL 47.85767 119.325556 \nL 48.252216 118.895485 \nL 48.646761 119.437872 \nL 49.830398 120.064687 \nL 50.224943 121.321234 \nL 50.619489 120.910452 \nL 51.40858 121.025448 \nL 51.803125 121.066364 \nL 52.19767 121.851569 \nL 52.986761 121.706508 \nL 53.381307 121.572219 \nL 53.775852 121.702188 \nL 54.564943 121.602095 \nL 54.959489 121.78088 \nL 55.354034 122.238697 \nL 55.74858 122.431647 \nL 56.143125 122.946868 \nL 57.326761 123.092923 \nL 57.721307 122.962862 \nL 58.510398 123.084117 \nL 58.904943 123.51335 \nL 59.299489 123.553158 \nL 59.694034 123.457552 \nL 60.483125 124.142531 \nL 60.87767 124.049012 \nL 61.272216 124.140804 \nL 61.666761 123.990857 \nL 62.061307 124.930747 \nL 62.455852 124.269188 \nL 62.850398 124.517822 \nL 63.244943 124.549939 \nL 63.639489 124.462853 \nL 64.42858 124.864414 \nL 65.21767 124.957099 \nL 66.401307 124.825551 \nL 66.795852 125.050542 \nL 67.584943 125.122761 \nL 67.979489 125.014926 \nL 68.76858 125.404951 \nL 69.55767 125.480774 \nL 69.952216 125.814902 \nL 70.346761 125.506072 \nL 70.741307 125.555839 \nL 71.135852 125.828693 \nL 71.530398 125.911927 \nL 72.319489 126.371444 \nL 73.503125 126.146414 \nL 73.89767 127.072007 \nL 74.292216 126.709787 \nL 75.081307 126.547634 \nL 75.870398 126.519707 \nL 76.264943 126.2636 \nL 77.054034 126.480851 \nL 77.44858 126.581263 \nL 77.843125 127.562472 \nL 78.23767 127.131255 \nL 78.632216 126.974945 \nL 79.421307 127.075963 \nL 79.815852 126.697479 \nL 80.210398 127.206369 \nL 80.999489 127.073341 \nL 81.78858 127.054561 \nL 82.183125 127.705369 \nL 82.57767 127.487446 \nL 83.366761 127.435333 \nL 83.761307 127.939949 \nL 84.155852 127.955505 \nL 84.550398 127.765743 \nL 84.944943 127.767434 \nL 85.339489 127.647392 \nL 86.523125 127.742314 \nL 86.91767 127.657956 \nL 87.312216 127.748568 \nL 87.706761 127.373653 \nL 88.101307 127.951929 \nL 89.679489 127.94715 \nL 90.074034 128.022643 \nL 90.46858 128.27255 \nL 90.863125 128.107842 \nL 91.25767 128.182293 \nL 91.652216 128.782035 \nL 92.046761 128.364659 \nL 92.441307 128.449515 \nL 93.230398 128.368808 \nL 93.624943 128.745961 \nL 94.414034 128.68112 \nL 94.80858 128.678125 \nL 95.203125 128.543353 \nL 95.59767 128.538867 \nL 96.386761 128.673512 \nL 97.175852 128.743829 \nL 97.570398 128.338771 \nL 97.964943 128.543119 \nL 98.754034 128.532595 \nL 99.14858 128.732594 \nL 99.543125 128.648661 \nL 99.93767 128.752006 \nL 100.332216 129.020468 \nL 101.121307 128.972124 \nL 101.515852 129.191929 \nL 101.910398 128.950107 \nL 102.699489 128.979551 \nL 103.094034 129.123667 \nL 103.48858 129.438663 \nL 103.883125 129.396334 \nL 104.672216 129.445612 \nL 105.066761 129.27441 \nL 105.855852 129.549087 \nL 106.250398 129.441854 \nL 106.644943 129.609377 \nL 107.434034 129.276774 \nL 107.82858 129.534008 \nL 108.223125 129.596953 \nL 108.61767 129.469482 \nL 109.012216 129.531502 \nL 109.406761 129.787855 \nL 109.801307 129.471805 \nL 110.590398 129.528588 \nL 110.984943 129.673966 \nL 111.774034 129.64231 \nL 112.16858 129.52991 \nL 113.352216 129.84821 \nL 113.746761 129.645275 \nL 114.141307 129.656085 \nL 114.535852 129.843388 \nL 114.930398 129.894003 \nL 115.324943 130.080811 \nL 115.719489 129.610199 \nL 116.114034 129.880303 \nL 116.903125 130.091978 \nL 117.29767 130.713571 \nL 117.692216 130.001476 \nL 118.481307 130.000319 \nL 120.059489 130.526256 \nL 120.454034 130.575481 \nL 120.84858 130.395923 \nL 121.243125 130.564354 \nL 122.032216 130.62806 \nL 122.821307 130.501331 \nL 123.215852 129.813621 \nL 123.610398 130.209042 \nL 124.004943 130.373612 \nL 124.794034 130.469898 \nL 125.18858 130.742271 \nL 125.583125 130.454498 \nL 125.97767 130.372846 \nL 126.372216 130.549435 \nL 128.344943 130.470987 \nL 129.134034 131.05519 \nL 129.52858 130.623244 \nL 130.31767 130.853434 \nL 131.106761 130.650161 \nL 131.895852 130.837761 \nL 132.684943 130.888309 \nL 133.079489 131.649789 \nL 133.474034 131.315327 \nL 134.263125 130.983428 \nL 134.65767 130.917133 \nL 135.052216 131.242569 \nL 136.630398 131.213569 \nL 137.024943 131.351361 \nL 138.20858 131.231668 \nL 138.603125 131.266345 \nL 138.99767 131.818895 \nL 139.392216 131.543006 \nL 139.786761 131.607218 \nL 140.181307 131.540341 \nL 140.575852 131.340749 \nL 140.970398 130.723827 \nL 141.364943 131.260539 \nL 141.759489 131.438372 \nL 142.54858 131.391445 \nL 146.099489 131.685261 \nL 146.494034 131.661797 \nL 146.88858 132.036545 \nL 148.072216 131.730823 \nL 148.861307 131.79365 \nL 149.255852 131.663474 \nL 151.22858 132.065521 \nL 152.412216 131.864425 \nL 152.806761 132.330744 \nL 153.595852 131.903328 \nL 154.384943 131.889002 \nL 155.174034 132.270785 \nL 156.35767 132.135379 \nL 156.752216 131.692982 \nL 157.935852 132.151944 \nL 158.330398 132.201825 \nL 158.724943 132.769642 \nL 159.119489 132.309527 \nL 159.90858 132.192237 \nL 161.881307 132.388432 \nL 162.275852 132.424476 \nL 162.670398 132.178491 \nL 163.064943 132.524023 \nL 163.459489 132.704311 \nL 163.854034 132.47776 \nL 164.24858 132.449438 \nL 164.643125 132.613868 \nL 166.221307 132.41246 \nL 166.615852 132.958646 \nL 167.010398 132.641085 \nL 167.404943 132.479705 \nL 168.58858 132.702523 \nL 168.983125 132.591776 \nL 170.166761 132.718815 \nL 170.561307 132.741839 \nL 170.955852 132.951369 \nL 171.350398 132.819674 \nL 171.744943 132.82755 \nL 172.139489 132.715313 \nL 172.534034 132.916658 \nL 173.71767 132.661936 \nL 174.112216 132.821167 \nL 174.506761 133.118354 \nL 174.901307 133.184658 \nL 176.084943 132.940745 \nL 176.479489 132.951367 \nL 176.874034 132.697699 \nL 177.663125 132.968435 \nL 178.05767 132.948282 \nL 178.452216 133.427389 \nL 179.241307 133.147954 \nL 180.030398 133.086231 \nL 180.424943 133.276951 \nL 180.819489 133.070028 \nL 181.214034 133.077127 \nL 181.60858 133.240649 \nL 183.975852 133.151495 \nL 184.370398 132.902487 \nL 185.554034 133.200149 \nL 185.94858 133.244618 \nL 186.343125 133.851355 \nL 188.315852 133.119271 \nL 189.104943 133.553541 \nL 189.499489 133.585168 \nL 190.28858 133.432291 \nL 190.683125 133.512115 \nL 191.07767 133.32139 \nL 191.866761 133.531628 \nL 192.655852 133.3012 \nL 193.050398 133.492807 \nL 193.444943 133.428766 \nL 193.839489 133.532641 \nL 194.234034 133.127395 \nL 194.62858 133.513263 \nL 195.41767 133.519053 \nL 195.812216 133.566526 \nL 196.206761 133.73941 \nL 197.784943 133.700474 \nL 198.179489 134.079714 \nL 198.574034 134.019845 \nL 198.96858 133.667945 \nL 199.363125 133.612907 \nL 199.75767 133.710269 \nL 200.152216 134.283538 \nL 200.941307 134.111 \nL 201.335852 133.883176 \nL 201.730398 133.885202 \nL 202.124943 133.531044 \nL 202.519489 133.891521 \nL 203.703125 133.997342 \nL 204.09767 133.730816 \nL 204.492216 134.000463 \nL 205.281307 134.15997 \nL 205.675852 134.068858 \nL 206.070398 134.144664 \nL 206.464943 133.940801 \nL 206.859489 134.090791 \nL 207.64858 134.059349 \nL 208.043125 133.60029 \nL 208.43767 133.662309 \nL 208.832216 134.00667 \nL 209.226761 134.129563 \nL 209.621307 134.126223 \nL 210.015852 133.997968 \nL 210.410398 134.247769 \nL 211.199489 134.237826 \nL 211.594034 134.193688 \nL 211.98858 134.343932 \nL 213.566761 134.266172 \nL 213.961307 134.422114 \nL 214.355852 134.306467 \nL 214.750398 134.466538 \nL 215.539489 134.376821 \nL 215.934034 134.537228 \nL 216.723125 134.330671 \nL 217.11767 134.487708 \nL 217.512216 134.412938 \nL 217.906761 135.19629 \nL 218.695852 134.445558 \nL 219.484943 134.426989 \nL 219.879489 134.74339 \nL 220.274034 134.466786 \nL 221.063125 134.374951 \nL 221.45767 134.472645 \nL 221.852216 134.44142 \nL 222.246761 134.742682 \nL 222.641307 134.655157 \nL 223.035852 134.718776 \nL 223.430398 134.632817 \nL 223.824943 134.680316 \nL 224.219489 134.510416 \nL 224.614034 134.706222 \nL 225.403125 134.695206 \nL 225.403125 134.695206 \n\" clip-path=\"url(#pb78f3290f2)\" style=\"fill: none; stroke: #1f77b4; stroke-width: 1.5; stroke-linecap: square\"/>\n   </g>\n   <g id=\"line2d_22\">\n    <path d=\"M 28.524943 139.5 \nL 29.314034 139.251282 \nL 29.70858 139.20292 \nL 30.103125 138.883616 \nL 30.49767 128.639307 \nL 30.892216 123.637308 \nL 31.681307 118.577735 \nL 32.075852 117.061818 \nL 32.470398 109.916355 \nL 32.864943 108.850091 \nL 33.259489 108.278193 \nL 34.04858 107.541914 \nL 34.443125 104.826845 \nL 34.83767 104.976536 \nL 35.626761 104.851026 \nL 36.021307 104.627846 \nL 36.415852 103.670766 \nL 36.810398 103.797428 \nL 37.599489 103.25969 \nL 37.994034 103.199906 \nL 38.38858 102.183063 \nL 38.783125 102.242939 \nL 39.17767 102.158498 \nL 39.966761 101.842163 \nL 40.361307 101.21122 \nL 41.150398 101.203543 \nL 42.334034 100.391371 \nL 42.72858 100.446641 \nL 43.123125 100.158006 \nL 43.912216 100.026297 \nL 44.306761 99.576128 \nL 44.701307 99.458678 \nL 45.095852 99.531604 \nL 45.884943 99.380676 \nL 46.279489 98.793126 \nL 47.463125 98.973907 \nL 47.85767 98.946568 \nL 48.252216 99.14778 \nL 49.041307 98.750138 \nL 49.830398 98.652852 \nL 50.224943 98.070001 \nL 51.40858 98.273812 \nL 51.803125 98.237216 \nL 52.19767 97.931824 \nL 54.959489 97.982489 \nL 55.354034 97.768315 \nL 57.326761 97.425176 \nL 58.115852 97.503476 \nL 59.299489 97.285848 \nL 59.694034 97.34129 \nL 60.08858 97.047493 \nL 61.666761 97.109458 \nL 62.061307 96.554663 \nL 62.455852 96.895499 \nL 63.244943 96.805684 \nL 66.401307 96.801078 \nL 67.190398 96.721626 \nL 67.979489 96.674416 \nL 68.76858 96.540845 \nL 69.55767 96.575597 \nL 69.952216 96.471757 \nL 70.741307 96.476363 \nL 71.530398 96.379786 \nL 72.319489 96.365821 \nL 73.503125 96.328063 \nL 73.89767 95.937473 \nL 74.292216 96.144738 \nL 75.475852 96.182128 \nL 75.870398 96.029591 \nL 76.264943 96.204615 \nL 77.44858 96.153496 \nL 77.843125 95.730208 \nL 78.632216 95.946685 \nL 79.815852 96.024985 \nL 80.210398 95.81772 \nL 81.394034 95.908732 \nL 81.78858 95.928261 \nL 82.183125 95.767055 \nL 82.972216 95.855719 \nL 85.339489 95.731394 \nL 87.312216 95.736936 \nL 87.706761 95.91905 \nL 88.101307 95.67724 \nL 91.25767 95.545744 \nL 91.652216 95.241983 \nL 92.441307 95.395513 \nL 93.230398 95.454304 \nL 94.019489 95.373251 \nL 97.175852 95.387802 \nL 97.570398 95.550578 \nL 98.359489 95.440037 \nL 98.754034 95.461915 \nL 99.14858 95.355475 \nL 99.543125 95.476884 \nL 101.121307 95.285279 \nL 102.304943 95.337172 \nL 103.094034 95.240944 \nL 103.48858 95.053142 \nL 105.066761 95.179061 \nL 106.644943 95.027809 \nL 107.82858 95.136048 \nL 109.012216 95.091316 \nL 109.406761 94.9426 \nL 109.801307 95.094595 \nL 111.774034 95.103807 \nL 112.16858 95.156007 \nL 113.352216 94.997871 \nL 114.141307 95.020901 \nL 115.324943 94.832059 \nL 115.719489 95.025507 \nL 116.114034 94.888865 \nL 116.903125 94.857636 \nL 117.29767 94.560311 \nL 117.692216 94.859694 \nL 118.481307 94.894239 \nL 120.454034 94.711154 \nL 120.84858 94.773585 \nL 121.243125 94.541888 \nL 122.821307 94.729251 \nL 123.215852 95.089989 \nL 123.610398 94.866603 \nL 125.18858 94.670853 \nL 125.583125 94.783697 \nL 128.344943 94.712306 \nL 129.134034 94.564917 \nL 129.52858 94.700791 \nL 130.31767 94.554554 \nL 131.501307 94.564917 \nL 132.684943 94.60456 \nL 133.079489 94.27014 \nL 134.65767 94.598094 \nL 135.052216 94.403711 \nL 138.20858 94.538433 \nL 138.603125 94.502036 \nL 138.99767 94.339229 \nL 140.575852 94.436458 \nL 140.970398 94.790606 \nL 141.364943 94.541888 \nL 141.759489 94.432882 \nL 142.943125 94.477405 \nL 143.33767 94.302381 \nL 144.915852 94.325411 \nL 145.704943 94.231758 \nL 146.494034 94.284982 \nL 147.283125 94.161902 \nL 151.22858 94.131963 \nL 152.01767 94.187234 \nL 152.412216 94.216633 \nL 152.806761 94.11354 \nL 154.384943 94.238801 \nL 155.56858 94.093581 \nL 156.35767 94.12427 \nL 156.752216 94.288564 \nL 157.935852 94.085905 \nL 158.330398 94.105797 \nL 158.724943 93.952334 \nL 159.119489 94.067481 \nL 162.275852 93.957092 \nL 162.670398 94.122752 \nL 163.459489 93.887851 \nL 164.24858 94.001426 \nL 165.03767 94.065178 \nL 166.221307 94.035601 \nL 166.615852 93.809551 \nL 167.010398 93.993787 \nL 168.194034 93.965405 \nL 168.58858 93.731251 \nL 168.983125 93.871731 \nL 170.561307 93.841792 \nL 171.744943 93.84755 \nL 172.139489 93.876736 \nL 172.534034 93.772704 \nL 173.71767 93.899366 \nL 174.901307 93.726645 \nL 176.084943 93.806539 \nL 176.874034 93.977666 \nL 177.663125 93.84755 \nL 178.05767 93.863805 \nL 178.452216 93.560833 \nL 179.241307 93.714363 \nL 180.030398 93.742809 \nL 180.424943 93.685192 \nL 181.214034 93.774239 \nL 182.003125 93.742809 \nL 182.39767 93.864822 \nL 183.186761 93.811086 \nL 183.975852 93.777907 \nL 184.370398 93.952334 \nL 185.554034 93.762341 \nL 185.94858 93.744656 \nL 186.343125 93.464109 \nL 187.921307 93.619042 \nL 188.315852 93.878639 \nL 189.104943 93.631457 \nL 191.866761 93.566394 \nL 192.261307 93.860216 \nL 193.050398 93.692868 \nL 193.839489 93.635667 \nL 194.234034 93.818763 \nL 194.62858 93.639133 \nL 196.206761 93.505562 \nL 197.784943 93.525754 \nL 198.179489 93.390415 \nL 199.75767 93.571936 \nL 200.152216 93.371991 \nL 201.730398 93.488809 \nL 202.124943 93.652951 \nL 202.914034 93.465644 \nL 206.070398 93.404233 \nL 206.464943 93.500956 \nL 206.859489 93.368921 \nL 207.64858 93.401064 \nL 208.043125 93.606892 \nL 208.43767 93.581559 \nL 208.832216 93.405768 \nL 209.621307 93.358576 \nL 210.015852 93.505562 \nL 210.410398 93.328235 \nL 214.355852 93.337447 \nL 215.144943 93.26951 \nL 217.512216 93.305929 \nL 217.906761 93.031155 \nL 218.695852 93.249167 \nL 221.45767 93.232038 \nL 221.852216 93.399627 \nL 222.246761 93.146303 \nL 223.430398 93.169231 \nL 224.219489 93.259147 \nL 225.00858 93.130182 \nL 225.403125 93.136904 \nL 225.403125 93.136904 \n\" clip-path=\"url(#pb78f3290f2)\" style=\"fill: none; stroke-dasharray: 5.55,2.4; stroke-dashoffset: 0; stroke: #bf00bf; stroke-width: 1.5\"/>\n   </g>\n   <g id=\"line2d_23\">\n    <path d=\"M 30.103125 139.184721 \nL 32.075852 112.428866 \nL 34.04858 105.994825 \nL 36.021307 103.933272 \nL 37.994034 104.958507 \nL 39.966761 103.351382 \nL 41.939489 110.167808 \nL 43.912216 102.154351 \nL 45.884943 99.876668 \nL 47.85767 100.109424 \nL 49.830398 99.355738 \nL 51.803125 98.945644 \nL 53.775852 98.241834 \nL 55.74858 98.518925 \nL 57.721307 99.183942 \nL 59.694034 99.433323 \nL 61.666761 98.009078 \nL 63.639489 97.909326 \nL 65.612216 97.804031 \nL 67.584943 98.574343 \nL 69.55767 98.119914 \nL 71.530398 96.956134 \nL 73.503125 96.795422 \nL 75.475852 96.967218 \nL 77.44858 97.743071 \nL 79.421307 97.587901 \nL 81.394034 97.604526 \nL 83.366761 96.573749 \nL 85.339489 97.648861 \nL 87.312216 97.222141 \nL 89.284943 96.573749 \nL 91.25767 95.941983 \nL 93.230398 96.191365 \nL 95.203125 96.429662 \nL 97.175852 96.224616 \nL 99.14858 96.54604 \nL 101.121307 96.296659 \nL 103.094034 97.24985 \nL 105.066761 96.124863 \nL 107.039489 96.401953 \nL 109.012216 96.074987 \nL 110.984943 97.621151 \nL 112.95767 97.161181 \nL 114.930398 96.424121 \nL 116.903125 96.14703 \nL 118.875852 95.858856 \nL 120.84858 96.407495 \nL 122.821307 95.465388 \nL 124.794034 95.648267 \nL 126.766761 95.725853 \nL 128.739489 95.670435 \nL 130.712216 95.271424 \nL 132.684943 96.352077 \nL 134.65767 95.171672 \nL 136.630398 95.265883 \nL 138.603125 96.202448 \nL 140.575852 95.86994 \nL 142.54858 95.271424 \nL 144.521307 95.415511 \nL 146.494034 96.817589 \nL 148.466761 95.947525 \nL 150.439489 96.108238 \nL 152.412216 95.86994 \nL 154.384943 95.40997 \nL 156.35767 95.243715 \nL 158.330398 95.360093 \nL 160.303125 95.825605 \nL 162.275852 95.088545 \nL 164.24858 96.158114 \nL 166.221307 94.92229 \nL 168.194034 96.141488 \nL 170.166761 95.365635 \nL 172.139489 95.127337 \nL 174.112216 95.171672 \nL 176.084943 94.739411 \nL 178.05767 95.016501 \nL 180.030398 94.833621 \nL 182.003125 95.099628 \nL 183.975852 94.889039 \nL 185.94858 95.376719 \nL 187.921307 94.822538 \nL 189.894034 95.448762 \nL 191.866761 95.354551 \nL 193.839489 95.40997 \nL 195.812216 95.243715 \nL 197.784943 94.811454 \nL 199.75767 94.855789 \nL 201.730398 94.994334 \nL 203.703125 96.257866 \nL 205.675852 95.060836 \nL 207.64858 94.883498 \nL 209.621307 95.714769 \nL 211.594034 95.282508 \nL 213.566761 95.34901 \nL 215.539489 94.872414 \nL 217.512216 94.667367 \nL 219.484943 95.947525 \nL 221.45767 94.839163 \nL 223.430398 95.498638 \nL 225.403125 94.98325 \n\" clip-path=\"url(#pb78f3290f2)\" style=\"fill: none; stroke-dasharray: 9.6,2.4,1.5,2.4; stroke-dashoffset: 0; stroke: #008000; stroke-width: 1.5\"/>\n   </g>\n   <g id=\"patch_3\">\n    <path d=\"M 30.103125 145.8 \nL 30.103125 7.2 \n\" style=\"fill: none; stroke: #000000; stroke-width: 0.8; stroke-linejoin: miter; stroke-linecap: square\"/>\n   </g>\n   <g id=\"patch_4\">\n    <path d=\"M 225.403125 145.8 \nL 225.403125 7.2 \n\" style=\"fill: none; stroke: #000000; stroke-width: 0.8; stroke-linejoin: miter; stroke-linecap: square\"/>\n   </g>\n   <g id=\"patch_5\">\n    <path d=\"M 30.103125 145.8 \nL 225.403125 145.8 \n\" style=\"fill: none; stroke: #000000; stroke-width: 0.8; stroke-linejoin: miter; stroke-linecap: square\"/>\n   </g>\n   <g id=\"patch_6\">\n    <path d=\"M 30.103125 7.2 \nL 225.403125 7.2 \n\" style=\"fill: none; stroke: #000000; stroke-width: 0.8; stroke-linejoin: miter; stroke-linecap: square\"/>\n   </g>\n   <g id=\"legend_1\">\n    <g id=\"patch_7\">\n     <path d=\"M 140.634375 59.234375 \nL 218.403125 59.234375 \nQ 220.403125 59.234375 220.403125 57.234375 \nL 220.403125 14.2 \nQ 220.403125 12.2 218.403125 12.2 \nL 140.634375 12.2 \nQ 138.634375 12.2 138.634375 14.2 \nL 138.634375 57.234375 \nQ 138.634375 59.234375 140.634375 59.234375 \nz\n\" style=\"fill: #ffffff; opacity: 0.8; stroke: #cccccc; stroke-linejoin: miter\"/>\n    </g>\n    <g id=\"line2d_24\">\n     <path d=\"M 142.634375 20.298438 \nL 152.634375 20.298438 \nL 162.634375 20.298438 \n\" style=\"fill: none; stroke: #1f77b4; stroke-width: 1.5; stroke-linecap: square\"/>\n    </g>\n    <g id=\"text_12\">\n     <!-- train loss -->\n     <g transform=\"translate(170.634375 23.798438)scale(0.1 -0.1)\">\n      <defs>\n       <path id=\"DejaVuSans-74\" d=\"M 1172 4494 \nL 1172 3500 \nL 2356 3500 \nL 2356 3053 \nL 1172 3053 \nL 1172 1153 \nQ 1172 725 1289 603 \nQ 1406 481 1766 481 \nL 2356 481 \nL 2356 0 \nL 1766 0 \nQ 1100 0 847 248 \nQ 594 497 594 1153 \nL 594 3053 \nL 172 3053 \nL 172 3500 \nL 594 3500 \nL 594 4494 \nL 1172 4494 \nz\n\" transform=\"scale(0.015625)\"/>\n       <path id=\"DejaVuSans-72\" d=\"M 2631 2963 \nQ 2534 3019 2420 3045 \nQ 2306 3072 2169 3072 \nQ 1681 3072 1420 2755 \nQ 1159 2438 1159 1844 \nL 1159 0 \nL 581 0 \nL 581 3500 \nL 1159 3500 \nL 1159 2956 \nQ 1341 3275 1631 3429 \nQ 1922 3584 2338 3584 \nQ 2397 3584 2469 3576 \nQ 2541 3569 2628 3553 \nL 2631 2963 \nz\n\" transform=\"scale(0.015625)\"/>\n       <path id=\"DejaVuSans-61\" d=\"M 2194 1759 \nQ 1497 1759 1228 1600 \nQ 959 1441 959 1056 \nQ 959 750 1161 570 \nQ 1363 391 1709 391 \nQ 2188 391 2477 730 \nQ 2766 1069 2766 1631 \nL 2766 1759 \nL 2194 1759 \nz\nM 3341 1997 \nL 3341 0 \nL 2766 0 \nL 2766 531 \nQ 2569 213 2275 61 \nQ 1981 -91 1556 -91 \nQ 1019 -91 701 211 \nQ 384 513 384 1019 \nQ 384 1609 779 1909 \nQ 1175 2209 1959 2209 \nL 2766 2209 \nL 2766 2266 \nQ 2766 2663 2505 2880 \nQ 2244 3097 1772 3097 \nQ 1472 3097 1187 3025 \nQ 903 2953 641 2809 \nL 641 3341 \nQ 956 3463 1253 3523 \nQ 1550 3584 1831 3584 \nQ 2591 3584 2966 3190 \nQ 3341 2797 3341 1997 \nz\n\" transform=\"scale(0.015625)\"/>\n       <path id=\"DejaVuSans-69\" d=\"M 603 3500 \nL 1178 3500 \nL 1178 0 \nL 603 0 \nL 603 3500 \nz\nM 603 4863 \nL 1178 4863 \nL 1178 4134 \nL 603 4134 \nL 603 4863 \nz\n\" transform=\"scale(0.015625)\"/>\n       <path id=\"DejaVuSans-6e\" d=\"M 3513 2113 \nL 3513 0 \nL 2938 0 \nL 2938 2094 \nQ 2938 2591 2744 2837 \nQ 2550 3084 2163 3084 \nQ 1697 3084 1428 2787 \nQ 1159 2491 1159 1978 \nL 1159 0 \nL 581 0 \nL 581 3500 \nL 1159 3500 \nL 1159 2956 \nQ 1366 3272 1645 3428 \nQ 1925 3584 2291 3584 \nQ 2894 3584 3203 3211 \nQ 3513 2838 3513 2113 \nz\n\" transform=\"scale(0.015625)\"/>\n       <path id=\"DejaVuSans-20\" transform=\"scale(0.015625)\"/>\n       <path id=\"DejaVuSans-6c\" d=\"M 603 4863 \nL 1178 4863 \nL 1178 0 \nL 603 0 \nL 603 4863 \nz\n\" transform=\"scale(0.015625)\"/>\n       <path id=\"DejaVuSans-73\" d=\"M 2834 3397 \nL 2834 2853 \nQ 2591 2978 2328 3040 \nQ 2066 3103 1784 3103 \nQ 1356 3103 1142 2972 \nQ 928 2841 928 2578 \nQ 928 2378 1081 2264 \nQ 1234 2150 1697 2047 \nL 1894 2003 \nQ 2506 1872 2764 1633 \nQ 3022 1394 3022 966 \nQ 3022 478 2636 193 \nQ 2250 -91 1575 -91 \nQ 1294 -91 989 -36 \nQ 684 19 347 128 \nL 347 722 \nQ 666 556 975 473 \nQ 1284 391 1588 391 \nQ 1994 391 2212 530 \nQ 2431 669 2431 922 \nQ 2431 1156 2273 1281 \nQ 2116 1406 1581 1522 \nL 1381 1569 \nQ 847 1681 609 1914 \nQ 372 2147 372 2553 \nQ 372 3047 722 3315 \nQ 1072 3584 1716 3584 \nQ 2034 3584 2315 3537 \nQ 2597 3491 2834 3397 \nz\n\" transform=\"scale(0.015625)\"/>\n      </defs>\n      <use xlink:href=\"#DejaVuSans-74\"/>\n      <use xlink:href=\"#DejaVuSans-72\" x=\"39.208984\"/>\n      <use xlink:href=\"#DejaVuSans-61\" x=\"80.322266\"/>\n      <use xlink:href=\"#DejaVuSans-69\" x=\"141.601562\"/>\n      <use xlink:href=\"#DejaVuSans-6e\" x=\"169.384766\"/>\n      <use xlink:href=\"#DejaVuSans-20\" x=\"232.763672\"/>\n      <use xlink:href=\"#DejaVuSans-6c\" x=\"264.550781\"/>\n      <use xlink:href=\"#DejaVuSans-6f\" x=\"292.333984\"/>\n      <use xlink:href=\"#DejaVuSans-73\" x=\"353.515625\"/>\n      <use xlink:href=\"#DejaVuSans-73\" x=\"405.615234\"/>\n     </g>\n    </g>\n    <g id=\"line2d_25\">\n     <path d=\"M 142.634375 34.976563 \nL 152.634375 34.976563 \nL 162.634375 34.976563 \n\" style=\"fill: none; stroke-dasharray: 5.55,2.4; stroke-dashoffset: 0; stroke: #bf00bf; stroke-width: 1.5\"/>\n    </g>\n    <g id=\"text_13\">\n     <!-- train acc -->\n     <g transform=\"translate(170.634375 38.476563)scale(0.1 -0.1)\">\n      <use xlink:href=\"#DejaVuSans-74\"/>\n      <use xlink:href=\"#DejaVuSans-72\" x=\"39.208984\"/>\n      <use xlink:href=\"#DejaVuSans-61\" x=\"80.322266\"/>\n      <use xlink:href=\"#DejaVuSans-69\" x=\"141.601562\"/>\n      <use xlink:href=\"#DejaVuSans-6e\" x=\"169.384766\"/>\n      <use xlink:href=\"#DejaVuSans-20\" x=\"232.763672\"/>\n      <use xlink:href=\"#DejaVuSans-61\" x=\"264.550781\"/>\n      <use xlink:href=\"#DejaVuSans-63\" x=\"325.830078\"/>\n      <use xlink:href=\"#DejaVuSans-63\" x=\"380.810547\"/>\n     </g>\n    </g>\n    <g id=\"line2d_26\">\n     <path d=\"M 142.634375 49.654688 \nL 152.634375 49.654688 \nL 162.634375 49.654688 \n\" style=\"fill: none; stroke-dasharray: 9.6,2.4,1.5,2.4; stroke-dashoffset: 0; stroke: #008000; stroke-width: 1.5\"/>\n    </g>\n    <g id=\"text_14\">\n     <!-- test acc -->\n     <g transform=\"translate(170.634375 53.154688)scale(0.1 -0.1)\">\n      <use xlink:href=\"#DejaVuSans-74\"/>\n      <use xlink:href=\"#DejaVuSans-65\" x=\"39.208984\"/>\n      <use xlink:href=\"#DejaVuSans-73\" x=\"100.732422\"/>\n      <use xlink:href=\"#DejaVuSans-74\" x=\"152.832031\"/>\n      <use xlink:href=\"#DejaVuSans-20\" x=\"192.041016\"/>\n      <use xlink:href=\"#DejaVuSans-61\" x=\"223.828125\"/>\n      <use xlink:href=\"#DejaVuSans-63\" x=\"285.107422\"/>\n      <use xlink:href=\"#DejaVuSans-63\" x=\"340.087891\"/>\n     </g>\n    </g>\n   </g>\n  </g>\n </g>\n <defs>\n  <clipPath id=\"pb78f3290f2\">\n   <rect x=\"30.103125\" y=\"7.2\" width=\"195.3\" height=\"138.6\"/>\n  </clipPath>\n </defs>\n</svg>\n"
     },
     "metadata": {},
     "output_type": "display_data"
    }
   ],
   "source": [
    "lr, num_epochs = 0.9, 100\n",
    "train_ch6(net, train_iter, test_iter, num_epochs, lr, d2l.try_gpu())"
   ]
  },
  {
   "cell_type": "markdown",
   "id": "d4db919b",
   "metadata": {
    "origin_pos": 24
   },
   "source": [
    "## 小结\n",
    "\n",
    "* 卷积神经网络（CNN）是一类使用卷积层的网络。\n",
    "* 在卷积神经网络中，我们组合使用卷积层、非线性激活函数和汇聚层。\n",
    "* 为了构造高性能的卷积神经网络，我们通常对卷积层进行排列，逐渐降低其表示的空间分辨率，同时增加通道数。\n",
    "* 在传统的卷积神经网络中，卷积块编码得到的表征在输出之前需由一个或多个全连接层进行处理。\n",
    "* LeNet是最早发布的卷积神经网络之一。\n",
    "\n",
    "## 练习\n",
    "\n",
    "1. 将平均汇聚层替换为最大汇聚层，会发生什么？\n",
    "1. 尝试构建一个基于LeNet的更复杂的网络，以提高其准确性。\n",
    "    1. 调整卷积窗口大小。\n",
    "    1. 调整输出通道的数量。\n",
    "    1. 调整激活函数（如ReLU）。\n",
    "    1. 调整卷积层的数量。\n",
    "    1. 调整全连接层的数量。\n",
    "    1. 调整学习率和其他训练细节（例如，初始化和轮数）。\n",
    "1. 在MNIST数据集上尝试以上改进的网络。\n",
    "1. 显示不同输入（例如毛衣和外套）时，LeNet第一层和第二层的激活值。\n"
   ]
  },
  {
   "cell_type": "markdown",
   "id": "cbdd0db1",
   "metadata": {
    "origin_pos": 26,
    "tab": [
     "pytorch"
    ]
   },
   "source": [
    "[Discussions](https://discuss.d2l.ai/t/1860)\n"
   ]
  }
 ],
 "metadata": {
  "language_info": {
   "name": "python"
  },
  "required_libs": [],
  "kernelspec": {
   "name": "python3",
   "language": "python",
   "display_name": "Python 3 (ipykernel)"
  }
 },
 "nbformat": 4,
 "nbformat_minor": 5
}
